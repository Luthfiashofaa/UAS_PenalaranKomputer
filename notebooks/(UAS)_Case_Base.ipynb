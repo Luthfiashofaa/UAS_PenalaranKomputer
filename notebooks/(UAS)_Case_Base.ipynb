{
  "nbformat": 4,
  "nbformat_minor": 0,
  "metadata": {
    "colab": {
      "provenance": [],
      "include_colab_link": true
    },
    "kernelspec": {
      "name": "python3",
      "display_name": "Python 3"
    },
    "language_info": {
      "name": "python"
    }
  },
  "cells": [
    {
      "cell_type": "markdown",
      "metadata": {
        "id": "view-in-github",
        "colab_type": "text"
      },
      "source": [
        "<a href=\"https://colab.research.google.com/github/Luthfiashofaa/UAS_PenalaranKomputer/blob/main/(UAS)_Case_Base.ipynb\" target=\"_parent\"><img src=\"https://colab.research.google.com/assets/colab-badge.svg\" alt=\"Open In Colab\"/></a>"
      ]
    },
    {
      "cell_type": "markdown",
      "source": [
        "#Tahap 1 – Membangun Case Base"
      ],
      "metadata": {
        "id": "Cz1rb_JGEMwh"
      }
    },
    {
      "cell_type": "markdown",
      "source": [
        "## Seleksi & Unduh"
      ],
      "metadata": {
        "id": "X7pX-MKd-_36"
      }
    },
    {
      "cell_type": "code",
      "source": [
        "from google.colab import drive\n",
        "drive.mount('/content/drive')"
      ],
      "metadata": {
        "colab": {
          "base_uri": "https://localhost:8080/"
        },
        "id": "86_RHFjWUJGB",
        "outputId": "3aaeab23-5519-4ab9-a476-ef2b41e03f6e"
      },
      "execution_count": null,
      "outputs": [
        {
          "output_type": "stream",
          "name": "stdout",
          "text": [
            "Mounted at /content/drive\n"
          ]
        }
      ]
    },
    {
      "cell_type": "code",
      "source": [
        "!pip install pandas requests beautifulsoup4 pdfminer.six lxml > /dev/null 2>&1"
      ],
      "metadata": {
        "id": "zIXzBRA6UI4G"
      },
      "execution_count": null,
      "outputs": []
    },
    {
      "cell_type": "code",
      "source": [
        "import argparse\n",
        "import io\n",
        "import os\n",
        "import re\n",
        "import time\n",
        "import urllib\n",
        "from concurrent.futures import ThreadPoolExecutor, wait\n",
        "from datetime import date\n",
        "import pandas as pd\n",
        "import requests\n",
        "from bs4 import BeautifulSoup\n",
        "from pdfminer.high_level import extract_text\n",
        "\n",
        "# Global set untuk tracking PDF yang sudah didownload\n",
        "downloaded_pdfs = set()\n",
        "\n",
        "def create_path(folder_name):\n",
        "    if not os.path.exists(folder_name):\n",
        "        os.makedirs(folder_name)\n",
        "        print(f\"Folder dibuat: {folder_name}\")\n",
        "    return folder_name\n",
        "\n",
        "def load_existing_pdfs(path_pdf):\n",
        "    \"\"\"Load daftar PDF yang sudah ada untuk mencegah duplikasi\"\"\"\n",
        "    global downloaded_pdfs\n",
        "    if os.path.exists(path_pdf):\n",
        "        existing_files = [f for f in os.listdir(path_pdf) if f.endswith('.pdf')]\n",
        "        downloaded_pdfs.update(existing_files)\n",
        "        print(f\"Ditemukan {len(existing_files)} PDF yang sudah ada\")\n",
        "\n",
        "def sanitize_filename(filename):\n",
        "    \"\"\"Bersihkan nama file dari karakter tidak valid\"\"\"\n",
        "    # Hapus karakter yang tidak valid untuk nama file\n",
        "    invalid_chars = '<>:\"/\\\\|?*'\n",
        "    for char in invalid_chars:\n",
        "        filename = filename.replace(char, '_')\n",
        "\n",
        "    # Hapus spasi berlebih dan ganti dengan underscore\n",
        "    filename = re.sub(r'\\s+', '_', filename.strip())\n",
        "\n",
        "    # Batasi panjang nama file (max 200 karakter)\n",
        "    if len(filename) > 200:\n",
        "        name_part = filename[:190]\n",
        "        ext_part = filename[-10:] if '.' in filename[-10:] else '.pdf'\n",
        "        filename = name_part + ext_part\n",
        "\n",
        "    return filename\n",
        "\n",
        "def generate_pdf_filename(nomor, tahun, tingkat_proses, original_url):\n",
        "    \"\"\"Generate nama file PDF yang rapi dan konsisten\"\"\"\n",
        "    # Ambil nomor putusan dan bersihkan\n",
        "    clean_nomor = re.sub(r'[^\\w\\-]', '_', str(nomor)) if nomor else \"no_number\"\n",
        "\n",
        "    # Ambil tahun\n",
        "    clean_tahun = str(tahun) if tahun else \"unknown_year\"\n",
        "\n",
        "    # Singkat tingkat proses\n",
        "    tingkat_map = {\n",
        "        'Tingkat Pertama': 'TK1',\n",
        "        'Tingkat Banding': 'TK2',\n",
        "        'Tingkat Kasasi': 'TK3',\n",
        "        'Peninjauan Kembali': 'PK'\n",
        "    }\n",
        "    clean_tingkat = tingkat_map.get(tingkat_proses, 'TK1')\n",
        "\n",
        "    # Format: TAHUN_TINGKAT_NOMOR.pdf\n",
        "    # Contoh: 2024_TK1_123_Pid_Sus_2024_PN_Jakarta.pdf\n",
        "    filename = f\"{clean_tahun}_{clean_tingkat}_{clean_nomor}.pdf\"\n",
        "\n",
        "    # Sanitize final filename\n",
        "    filename = sanitize_filename(filename)\n",
        "\n",
        "    return filename\n",
        "\n",
        "def open_page(link):\n",
        "    count = 0\n",
        "    while count < 3:\n",
        "        try:\n",
        "            response = requests.get(link, timeout=30)\n",
        "            return BeautifulSoup(response.text, \"lxml\")\n",
        "        except Exception as e:\n",
        "            count += 1\n",
        "            print(f\"Error membuka halaman (percobaan {count}): {e}\")\n",
        "            time.sleep(5)\n",
        "    return None\n",
        "\n",
        "def get_detail(soup, keyword):\n",
        "    try:\n",
        "        text = (\n",
        "            soup.find(lambda tag: tag.name == \"td\" and keyword in tag.text)\n",
        "            .find_next()\n",
        "            .get_text()\n",
        "            .strip()\n",
        "        )\n",
        "        return text\n",
        "    except:\n",
        "        return \"\"\n",
        "\n",
        "def get_pdf(url, path_pdf, nomor, tahun, tingkat_proses):\n",
        "    \"\"\"Download PDF dengan nama file yang rapi dan deteksi duplikasi\"\"\"\n",
        "    global downloaded_pdfs\n",
        "\n",
        "    try:\n",
        "        # Generate nama file yang rapi\n",
        "        clean_filename = generate_pdf_filename(nomor, tahun, tingkat_proses, url)\n",
        "\n",
        "        # Cek apakah PDF sudah pernah didownload\n",
        "        if clean_filename in downloaded_pdfs:\n",
        "            print(f\"PDF sudah ada, skip: {clean_filename}\")\n",
        "            return None, clean_filename, \"exists\"\n",
        "\n",
        "        # Download PDF\n",
        "        full_url = f\"https://putusan3.mahkamahagung.go.id{url}\" if url.startswith('/') else url\n",
        "        file = urllib.request.urlopen(full_url)\n",
        "        file_content = file.read()\n",
        "\n",
        "        # Simpan dengan nama yang rapi\n",
        "        file_path = os.path.join(path_pdf, clean_filename)\n",
        "        with open(file_path, \"wb\") as out_file:\n",
        "            out_file.write(file_content)\n",
        "\n",
        "        # Tambahkan ke tracking set\n",
        "        downloaded_pdfs.add(clean_filename)\n",
        "\n",
        "        print(f\"PDF disimpan: {clean_filename}\")\n",
        "        return io.BytesIO(file_content), clean_filename, \"downloaded\"\n",
        "\n",
        "    except Exception as e:\n",
        "        print(f\"Error download PDF: {e}\")\n",
        "        return None, None, \"error\"\n",
        "\n",
        "def clean_text(text):\n",
        "    \"\"\"Bersihkan teks hasil ekstraksi PDF\"\"\"\n",
        "    if not isinstance(text, str):\n",
        "        return \"\"\n",
        "\n",
        "    text = text.replace(\"M a h ka m a h A g u n g R e p u blik In d o n esia\\n\", \"\")\n",
        "    text = text.replace(\"Disclaimer\\n\", \"\")\n",
        "    text = text.replace(\n",
        "        \"Kepaniteraan Mahkamah Agung Republik Indonesia berusaha untuk selalu mencantumkan informasi paling kini dan akurat sebagai bentuk komitmen Mahkamah Agung untuk pelayanan publik, transparansi dan akuntabilitas\\n\",\n",
        "        \"\",\n",
        "    )\n",
        "    text = text.replace(\n",
        "        \"pelaksanaan fungsi peradilan. Namun dalam hal-hal tertentu masih dimungkinkan terjadi permasalahan teknis terkait dengan akurasi dan keterkinian informasi yang kami sajikan, hal mana akan terus kami perbaiki dari waktu kewaktu.\\n\",\n",
        "        \"\",\n",
        "    )\n",
        "    text = text.replace(\n",
        "        \"Dalam hal Anda menemukan inakurasi informasi yang termuat pada situs ini atau informasi yang seharusnya ada, namun belum tersedia, maka harap segera hubungi Kepaniteraan Mahkamah Agung RI melalui :\\n\",\n",
        "        \"\",\n",
        "    )\n",
        "    text = text.replace(\n",
        "        \"Email : kepaniteraan@mahkamahagung.go.id    Telp : 021-384 3348 (ext.318)\\n\",\n",
        "        \"\",\n",
        "    )\n",
        "    return text.strip()\n",
        "\n",
        "def extract_data(link, keyword_url, path_output, path_pdf, today):\n",
        "    try:\n",
        "        full_link = f\"https://putusan3.mahkamahagung.go.id{link}\" if link.startswith('/') else link\n",
        "        print(f\"Mengekstrak data dari: {link}\")\n",
        "\n",
        "        soup = open_page(full_link)\n",
        "        if not soup:\n",
        "            print(f\"Gagal membuka link: {link}\")\n",
        "            return\n",
        "\n",
        "        table = soup.find(\"table\", {\"class\": \"table\"})\n",
        "        if not table:\n",
        "            print(f\"Tidak ditemukan table di: {link}\")\n",
        "            return\n",
        "\n",
        "        judul = table.find(\"h2\").text if table.find(\"h2\") else \"\"\n",
        "\n",
        "        # Extract semua detail\n",
        "        nomor = get_detail(table, \"Nomor\")\n",
        "        tingkat_proses = get_detail(table, \"Tingkat Proses\")\n",
        "        klasifikasi = get_detail(table, \"Klasifikasi\")\n",
        "        kata_kunci = get_detail(table, \"Kata Kunci\")\n",
        "        tahun = get_detail(table, \"Tahun\")\n",
        "        tanggal_register = get_detail(table, \"Tanggal Register\")\n",
        "        lembaga_peradilan = get_detail(table, \"Lembaga Peradilan\")\n",
        "        jenis_lembaga_peradilan = get_detail(table, \"Jenis Lembaga Peradilan\")\n",
        "        hakim_ketua = get_detail(table, \"Hakim Ketua\")\n",
        "        hakim_anggota = get_detail(table, \"Hakim Anggota\")\n",
        "        panitera = get_detail(table, \"Panitera\")\n",
        "        amar = get_detail(table, \"Amar\")\n",
        "        amar_lainnya = get_detail(table, \"Amar Lainnya\")\n",
        "        catatan_amar = get_detail(table, \"Catatan Amar\")\n",
        "        tanggal_musyawarah = get_detail(table, \"Tanggal Musyawarah\")\n",
        "        tanggal_dibacakan = get_detail(table, \"Tanggal Dibacakan\")\n",
        "        kaidah = get_detail(table, \"Kaidah\")\n",
        "        status = get_detail(table, \"Status\")\n",
        "        abstrak = get_detail(table, \"Abstrak\")\n",
        "\n",
        "        # Download PDF dengan nama yang rapi\n",
        "        text_pdf = \"\"\n",
        "        link_pdf = \"\"\n",
        "        file_name_pdf = \"\"\n",
        "        pdf_status = \"\"\n",
        "\n",
        "        try:\n",
        "            pdf_element = soup.find(\"a\", href=re.compile(r\"/pdf/\"))\n",
        "            if pdf_element:\n",
        "                link_pdf = pdf_element[\"href\"]\n",
        "                file_pdf, file_name_pdf, pdf_status = get_pdf(\n",
        "                    link_pdf, path_pdf, nomor, tahun, tingkat_proses\n",
        "                )\n",
        "\n",
        "                if file_pdf and pdf_status == \"downloaded\":\n",
        "                    # Extract text dari PDF yang baru didownload\n",
        "                    text_pdf = extract_text(file_pdf)\n",
        "                    text_pdf = clean_text(text_pdf)\n",
        "                elif pdf_status == \"exists\":\n",
        "                    # Load text dari PDF yang sudah ada\n",
        "                    existing_pdf_path = os.path.join(path_pdf, file_name_pdf)\n",
        "                    if os.path.exists(existing_pdf_path):\n",
        "                        try:\n",
        "                            text_pdf = extract_text(existing_pdf_path)\n",
        "                            text_pdf = clean_text(text_pdf)\n",
        "                        except Exception as e:\n",
        "                            print(f\"Error extracting existing PDF {file_name_pdf}: {e}\")\n",
        "                            text_pdf = \"\"\n",
        "            else:\n",
        "                print(f\"Tidak ada PDF untuk: {nomor}\")\n",
        "\n",
        "        except Exception as e:\n",
        "            print(f\"Error PDF: {e}\")\n",
        "\n",
        "        # Prepare data dengan nama PDF yang sudah rapi\n",
        "        data = [\n",
        "            judul, nomor, tingkat_proses, klasifikasi, kata_kunci, tahun,\n",
        "            tanggal_register, lembaga_peradilan, jenis_lembaga_peradilan,\n",
        "            hakim_ketua, hakim_anggota, panitera, amar, amar_lainnya,\n",
        "            catatan_amar, tanggal_musyawarah, tanggal_dibacakan, kaidah,\n",
        "            status, abstrak, full_link, link_pdf, file_name_pdf, text_pdf, pdf_status\n",
        "        ]\n",
        "\n",
        "        result = pd.DataFrame([data], columns=[\n",
        "            \"judul\", \"nomor\", \"tingkat_proses\", \"klasifikasi\", \"kata_kunci\", \"tahun\",\n",
        "            \"tanggal_register\", \"lembaga_peradilan\", \"jenis_lembaga_peradilan\",\n",
        "            \"hakim_ketua\", \"hakim_anggota\", \"panitera\", \"amar\", \"amar_lainnya\",\n",
        "            \"catatan_amar\", \"tanggal_musyawarah\", \"tanggal_dibacakan\", \"kaidah\",\n",
        "            \"status\", \"abstrak\", \"link\", \"link_pdf\", \"file_name_pdf\", \"text_pdf\", \"pdf_status\"\n",
        "        ])\n",
        "\n",
        "        # Simpan ke CSV\n",
        "        keyword_clean = \"korupsi_2024\"\n",
        "        destination = f\"{path_output}/putusan_ma_{keyword_clean}_{today}.csv\"\n",
        "\n",
        "        if not os.path.isfile(destination):\n",
        "            result.to_csv(destination, header=True, index=False)\n",
        "            print(f\"File CSV dibuat: {destination}\")\n",
        "        else:\n",
        "            result.to_csv(destination, mode=\"a\", header=False, index=False)\n",
        "            print(f\"Data ditambahkan ke: {destination}\")\n",
        "\n",
        "    except Exception as e:\n",
        "        print(f\"Error extract_data: {e}\")\n",
        "\n",
        "def run_process(keyword_url, page, sort_date, path_output, path_pdf, today):\n",
        "    try:\n",
        "        if keyword_url.startswith(\"https\"):\n",
        "            link = f\"{keyword_url}&page={page}\"\n",
        "        else:\n",
        "            link = f\"https://putusan3.mahkamahagung.go.id/search.html?q={keyword_url}&page={page}\"\n",
        "\n",
        "        if sort_date:\n",
        "            link = f\"{link}&obf=TANGGAL_PUTUS&obm=desc\"\n",
        "\n",
        "        print(f\"\\nScraping halaman {page}: {link}\")\n",
        "        soup = open_page(link)\n",
        "\n",
        "        if not soup:\n",
        "            print(f\"Gagal membuka halaman {page}\")\n",
        "            return\n",
        "\n",
        "        links = soup.find_all(\"a\", {\"href\": re.compile(\"/direktori/putusan\")})\n",
        "        print(f\"Ditemukan {len(links)} putusan di halaman {page}\")\n",
        "\n",
        "        for i, link_element in enumerate(links, 1):\n",
        "            print(f\"  [{i}/{len(links)}] Processing...\")\n",
        "            extract_data(link_element[\"href\"], keyword_url, path_output, path_pdf, today)\n",
        "            time.sleep(1)  # Delay untuk menghindari overload server\n",
        "\n",
        "    except Exception as e:\n",
        "        print(f\"Error run_process halaman {page}: {e}\")\n",
        "\n",
        "def run_scraper(keyword=None, url=None, sort_date=True, download_pdf=True):\n",
        "    if not keyword and not url:\n",
        "        print(\"Please provide a keyword or URL\")\n",
        "        return\n",
        "\n",
        "    # Buat path dan folder\n",
        "    path_output = '/content/drive/MyDrive/korupsi/CSV'\n",
        "    path_pdf = '/content/drive/MyDrive/korupsi/PDF'\n",
        "\n",
        "    create_path(path_output)\n",
        "    create_path(path_pdf)\n",
        "\n",
        "    # Load PDF yang sudah ada\n",
        "    load_existing_pdfs(path_pdf)\n",
        "\n",
        "    today = date.today().strftime(\"%Y-%m-%d\")\n",
        "\n",
        "    link = f\"https://putusan3.mahkamahagung.go.id/search.html?q={keyword}&page=1\"\n",
        "    if url:\n",
        "        link = url\n",
        "\n",
        "    print(f\"Mengakses URL: {link}\")\n",
        "    soup = open_page(link)\n",
        "\n",
        "    if not soup:\n",
        "        print(\"Gagal membuka halaman pertama\")\n",
        "        return\n",
        "\n",
        "    # Deteksi pagination dengan aman\n",
        "    pagination_links = soup.find_all(\"a\", {\"class\": \"page-link\"})\n",
        "\n",
        "    if not pagination_links:\n",
        "        print(\"Tidak ada pagination, kemungkinan hanya 1 halaman\")\n",
        "        last_page = 1\n",
        "    else:\n",
        "        try:\n",
        "            page_numbers = []\n",
        "            for link_elem in pagination_links:\n",
        "                page_num = link_elem.get(\"data-ci-pagination-page\")\n",
        "                if page_num and page_num.isdigit():\n",
        "                    page_numbers.append(int(page_num))\n",
        "            last_page = max(page_numbers) if page_numbers else 1\n",
        "        except Exception as e:\n",
        "            print(f\"Error deteksi pagination: {e}\")\n",
        "            last_page = 1\n",
        "\n",
        "    # Cek hasil pencarian\n",
        "    no_results = soup.find(\"div\", class_=\"alert alert-info\")\n",
        "    if no_results and \"tidak ditemukan\" in no_results.text.lower():\n",
        "        print(\"Tidak ada hasil ditemukan untuk pencarian ini\")\n",
        "        return\n",
        "\n",
        "    print(f\"Total halaman yang akan di-scrape: {last_page}\")\n",
        "    print(f\"Estimasi data: {20 * last_page}\")\n",
        "\n",
        "    keyword_url = url if url else keyword\n",
        "\n",
        "    # Mulai scraping\n",
        "    for page in range(1, last_page + 1):\n",
        "        run_process(keyword_url, page, sort_date, path_output, path_pdf, today)\n",
        "        time.sleep(2)  # Delay antar halaman\n",
        "\n",
        "    print(\"\\n=== SCRAPING SELESAI ===\")\n",
        "    print(f\"File CSV disimpan di: {path_output}\")\n",
        "    print(f\"File PDF disimpan di: {path_pdf}\")\n",
        "\n",
        "    # Cek file yang tersimpan\n",
        "    try:\n",
        "        csv_files = [f for f in os.listdir(path_output) if f.endswith('.csv')]\n",
        "        pdf_files = [f for f in os.listdir(path_pdf) if f.endswith('.pdf')]\n",
        "        print(f\"Jumlah file CSV: {len(csv_files)}\")\n",
        "        print(f\"Jumlah file PDF: {len(pdf_files)}\")\n",
        "\n",
        "        # Tampilkan beberapa contoh nama PDF\n",
        "        if pdf_files:\n",
        "            print(f\"\\nContoh nama PDF yang rapi:\")\n",
        "            for pdf in sorted(pdf_files)[:5]:\n",
        "                print(f\"  - {pdf}\")\n",
        "            if len(pdf_files) > 5:\n",
        "                print(f\"  ... dan {len(pdf_files)-5} file lainnya\")\n",
        "\n",
        "    except Exception as e:\n",
        "        print(f\"Tidak dapat mengecek file hasil: {e}\")\n",
        "\n",
        "# Jalankan scraper\n",
        "if __name__ == \"__main__\":\n",
        "    run_scraper(url=\"https://putusan3.mahkamahagung.go.id/search.html?q=&jenis_doc=putusan&cat=bfa5809fc342e6a6ef5d3d9de5ec7075&tp=0&court=098111PN340&t_put=2024&t_reg=&t_upl=&t_pr=\")"
      ],
      "metadata": {
        "colab": {
          "base_uri": "https://localhost:8080/"
        },
        "id": "Ya4fb8BTssoG",
        "outputId": "d659cc0f-193f-4575-a605-f6a756bae580"
      },
      "execution_count": null,
      "outputs": [
        {
          "output_type": "stream",
          "name": "stdout",
          "text": [
            "Folder dibuat: /content/drive/MyDrive/korupsi/CSV\n",
            "Folder dibuat: /content/drive/MyDrive/korupsi/PDF\n",
            "Ditemukan 0 PDF yang sudah ada\n",
            "Mengakses URL: https://putusan3.mahkamahagung.go.id/search.html?q=Pidana+Perlindungan+Konsumen+&jenis_doc=putusan&cat=adb58a7c42c83d5889227fbae64f462e&jd=&tp=0&court=&t_put=2024&t_reg=&t_upl=&t_pr=\n",
            "Total halaman yang akan di-scrape: 2\n",
            "Estimasi data: 40\n",
            "\n",
            "Scraping halaman 1: https://putusan3.mahkamahagung.go.id/search.html?q=Pidana+Perlindungan+Konsumen+&jenis_doc=putusan&cat=adb58a7c42c83d5889227fbae64f462e&jd=&tp=0&court=&t_put=2024&t_reg=&t_upl=&t_pr=&page=1&obf=TANGGAL_PUTUS&obm=desc\n",
            "Ditemukan 23 putusan di halaman 1\n",
            "  [1/23] Processing...\n",
            "Mengekstrak data dari: https://putusan3.mahkamahagung.go.id/direktori/putusan/zaefc715c8620adeb082303832333034.html\n",
            "PDF disimpan: 2024_TK1_Putusan_PN_PADANG_Nomor_170_Pdt_Sus-BPSK_2024_PN_Pdg_Tanggal_30_Desember_2024__Penggugat_PT_Mandiri_Tunas_FinanceTergugat_Ali_Muhammadsyah.pdf\n",
            "File CSV dibuat: /content/drive/MyDrive/korupsi/CSV/putusan_ma_korupsi_2024_2025-06-12.csv\n",
            "  [2/23] Processing...\n",
            "Mengekstrak data dari: https://putusan3.mahkamahagung.go.id/direktori/putusan/zaefc8ce287fe3f09fda313235353234.html\n",
            "PDF disimpan: 2024_TK1_Putusan_PN_INDRAMAYU_Nomor_62_Pdt_Sus-BPSK_2024_PN_Idm_Tanggal_16_Desember_2024__Penggugat_PT_MANDIRI_TUNAS_FINANCETergugat_SYAFIÃ_Â_Â_I.pdf\n",
            "Data ditambahkan ke: /content/drive/MyDrive/korupsi/CSV/putusan_ma_korupsi_2024_2025-06-12.csv\n",
            "  [3/23] Processing...\n",
            "Mengekstrak data dari: https://putusan3.mahkamahagung.go.id/direktori/putusan/zaefb922f970c06caada313432323133.html\n",
            "PDF disimpan: 2024_TK1_Putusan_PN_MEDAN_Nomor_979_Pdt_Sus-BPSK_2024_PN_Mdn_Tanggal_11_Desember_2024__Penggugat_melawan_Tergugat.pdf\n",
            "Data ditambahkan ke: /content/drive/MyDrive/korupsi/CSV/putusan_ma_korupsi_2024_2025-06-12.csv\n",
            "  [4/23] Processing...\n",
            "Mengekstrak data dari: https://putusan3.mahkamahagung.go.id/direktori/putusan/zaefbe9b65795daa9d4c313332363530.html\n",
            "Tidak ada PDF untuk: Putusan PN BALE BANDUNG Nomor 246/Pdt.Sus-BPSK/2024/PN Blb Tanggal 3 Desember 2024 —Penggugat:PT. ADIRA DINAMIKA MULTI FINANCE, TbkTergugat:Ujang Saepudin\n",
            "Data ditambahkan ke: /content/drive/MyDrive/korupsi/CSV/putusan_ma_korupsi_2024_2025-06-12.csv\n",
            "  [5/23] Processing...\n",
            "Mengekstrak data dari: https://putusan3.mahkamahagung.go.id/direktori/putusan/zaefab942fcc94e89108303831373231.html\n",
            "PDF disimpan: 2024_TK1_Putusan_PN_CIBADAK_Nomor_33_Pdt_Sus-BPSK_2024_PN_Cbd_Tanggal_25_Nopember_2024__Penggugat_PT__ADIRA_DINAMIKA_MULTI_FINANCE__Tbk_Tergugat_SUHANDI.pdf\n",
            "Data ditambahkan ke: /content/drive/MyDrive/korupsi/CSV/putusan_ma_korupsi_2024_2025-06-12.csv\n",
            "  [6/23] Processing...\n",
            "Mengekstrak data dari: https://putusan3.mahkamahagung.go.id/direktori/putusan/zaefa7ddbf3a7e6690c5313435333530.html\n",
            "PDF disimpan: 2024_TK1_Putusan_PN_BINJAI_Nomor_57_Pdt_Sus-BPSK_2024_PN_Bnj_Tanggal_21_Nopember_2024__Penggugat_PT_Mandiri_Utama_Finance_Cq__Cabang_MedanTergugat_Zulfan_Effendi_Harahap.pdf\n",
            "Data ditambahkan ke: /content/drive/MyDrive/korupsi/CSV/putusan_ma_korupsi_2024_2025-06-12.csv\n",
            "  [7/23] Processing...\n",
            "Mengekstrak data dari: https://putusan3.mahkamahagung.go.id/direktori/putusan/zaef9830669b0d00af89313630353131.html\n",
            "PDF disimpan: 2024_TK1_Putusan_PN_MEDAN_Nomor_744_Pdt_Sus-BPSK_2024_PN_Mdn_Tanggal_31_Oktober_2024__Penggugat_PT_PRUDENTIAL_SHARIA_LIFE_ASSURANCETergugat_PIUS_PERHATIAN_LAROSA.pdf\n",
            "Data ditambahkan ke: /content/drive/MyDrive/korupsi/CSV/putusan_ma_korupsi_2024_2025-06-12.csv\n",
            "  [8/23] Processing...\n",
            "Mengekstrak data dari: https://putusan3.mahkamahagung.go.id/direktori/putusan/zaef981c8638a492aae5313334323535.html\n",
            "PDF disimpan: 2024_TK1_Putusan_PN_BALE_BANDUNG_Nomor_242_Pdt_Sus-BPSK_2024_PN_Blb_Tanggal_29_Oktober_2024__Penggugat_PT_Maybank_Indonesia_FinanceTergugat_Andri_Perdiansyah.pdf\n",
            "Data ditambahkan ke: /content/drive/MyDrive/korupsi/CSV/putusan_ma_korupsi_2024_2025-06-12.csv\n",
            "  [9/23] Processing...\n",
            "Mengekstrak data dari: https://putusan3.mahkamahagung.go.id/direktori/putusan/zaef94ec85532e36ae04313232313434.html\n",
            "PDF disimpan: 2024_TK1_Putusan_PN_INDRAMAYU_Nomor_50_Pdt_Sus-BPSK_2024_PN_Idm_Tanggal_24_Oktober_2024__Penggugat_PT_TokopediaTergugat_Deden_GumilarTurut_Tergugat_1_Badan_Penyelesaian_Sengketa_Konsumen_IndPT_J_T.pdf\n",
            "Data ditambahkan ke: /content/drive/MyDrive/korupsi/CSV/putusan_ma_korupsi_2024_2025-06-12.csv\n",
            "  [10/23] Processing...\n",
            "Mengekstrak data dari: https://putusan3.mahkamahagung.go.id/direktori/putusan/zaef861fc3ff77f6c002313632303436.html\n",
            "PDF disimpan: 2024_TK1_Putusan_PN_MEDAN_Nomor_800_Pdt_Sus-BPSK_2024_PN_Mdn_Tanggal_8_Oktober_2024__Penggugat_PT_TOYOTA_ASTRA_FINANCETergugat_IYAL_MANTHONY.pdf\n",
            "Data ditambahkan ke: /content/drive/MyDrive/korupsi/CSV/putusan_ma_korupsi_2024_2025-06-12.csv\n",
            "  [11/23] Processing...\n",
            "Mengekstrak data dari: https://putusan3.mahkamahagung.go.id/direktori/putusan/zaef7fb2a27949b89958313230343237.html\n",
            "PDF disimpan: 2024_TK1_Putusan_PN_MEDAN_Nomor_764_Pdt_Sus-BPSK_2024_PN_Mdn_Tanggal_30_September_2024__Penggugat_PT_BFI_Finance_Indonesia_TbkTergugat_M__Andri_Siregar.pdf\n",
            "Data ditambahkan ke: /content/drive/MyDrive/korupsi/CSV/putusan_ma_korupsi_2024_2025-06-12.csv\n",
            "  [12/23] Processing...\n",
            "Mengekstrak data dari: https://putusan3.mahkamahagung.go.id/direktori/putusan/zaef846dc49a5068ba9c313233343035.html\n",
            "Tidak ada PDF untuk: Putusan PN INDRAMAYU Nomor 40/Pdt.Sus-BPSK/2024/PN Idm Tanggal 11 September 2024 —Penggugat:PT BANK TABUNGAN NEGARA (Persero) Tbk, KANTOR CABANG CIREBON CQ. BANK BTN KCP INDRAMAYUTergugat:Silvy Ima Khumaeroh\n",
            "Data ditambahkan ke: /content/drive/MyDrive/korupsi/CSV/putusan_ma_korupsi_2024_2025-06-12.csv\n",
            "  [13/23] Processing...\n",
            "Mengekstrak data dari: https://putusan3.mahkamahagung.go.id/direktori/putusan/zaef6f659d5b5e7e8692313831323439.html\n",
            "PDF disimpan: 2024_TK1_Putusan_PN_MEDAN_Nomor_586_Pdt_Sus-BPSK_2024_PN_Mdn_Tanggal_10_September_2024__Penggugat_PT_MANDIRI_TUNAS_FINANCETergugat_ANDREAS_HENFRI_SITUNGKIRTurut_Tergugat_1_PT_DELTAMAS_SURYA__MOTOR.pdf\n",
            "Data ditambahkan ke: /content/drive/MyDrive/korupsi/CSV/putusan_ma_korupsi_2024_2025-06-12.csv\n",
            "  [14/23] Processing...\n",
            "Mengekstrak data dari: https://putusan3.mahkamahagung.go.id/direktori/putusan/zaef6f65958c8f9c91cf313831323336.html\n",
            "PDF disimpan: 2024_TK1_Putusan_PN_MEDAN_Nomor_590_Pdt_Sus-BPSK_2024_PN_Mdn_Tanggal_10_September_2024__Penggugat_PT_Toyota-Astra_MotorTergugat_ANDREAS_HENFRI_SITUNGKIRTurut_Tergugat_1_PT_MANDIRI_TUNAS_FINA_MULIA.pdf\n",
            "Data ditambahkan ke: /content/drive/MyDrive/korupsi/CSV/putusan_ma_korupsi_2024_2025-06-12.csv\n",
            "  [15/23] Processing...\n",
            "Mengekstrak data dari: https://putusan3.mahkamahagung.go.id/direktori/putusan/zaef70c09823b24c8b6b313133363336.html\n",
            "PDF disimpan: 2024_TK1_Putusan_PN_MEDAN_Nomor_685_Pdt_Sus-BPSK_2024_PN_Mdn_Tanggal_9_September_2024__Penggugat_PT__Astra_Sedaya_FinanceTergugat_Amiruddin.pdf\n",
            "Data ditambahkan ke: /content/drive/MyDrive/korupsi/CSV/putusan_ma_korupsi_2024_2025-06-12.csv\n",
            "  [16/23] Processing...\n",
            "Mengekstrak data dari: https://putusan3.mahkamahagung.go.id/direktori/putusan/zaef6e540d8f922288e4303933343335.html\n",
            "PDF disimpan: 2024_TK1_Putusan_PN_MEDAN_Nomor_585_Pdt_Sus-BPSK_2024_PN_Mdn_Tanggal_4_September_2024__Penggugat_PT__Deltamas_Surya_Indah_MulyaTergugat_Andreas_Henfri_Situngkir.pdf\n",
            "Data ditambahkan ke: /content/drive/MyDrive/korupsi/CSV/putusan_ma_korupsi_2024_2025-06-12.csv\n",
            "  [17/23] Processing...\n",
            "Mengekstrak data dari: https://putusan3.mahkamahagung.go.id/direktori/putusan/zaef55322d86268aae6e303935393037.html\n",
            "PDF disimpan: 2024_TK1_Putusan_PN_MEDAN_Nomor_514_Pdt_Sus-BPSK_2024_PN_Mdn_Tanggal_7_Agustus_2024__Penggugat_PT__EKSPRES_MANDIRI_GADAITergugat_SUTIMAN.pdf\n",
            "Data ditambahkan ke: /content/drive/MyDrive/korupsi/CSV/putusan_ma_korupsi_2024_2025-06-12.csv\n",
            "  [18/23] Processing...\n",
            "Mengekstrak data dari: https://putusan3.mahkamahagung.go.id/direktori/putusan/zaef68efa62c947298ee313235333136.html\n",
            "Tidak ada PDF untuk: Putusan PN KAB KEDIRI Nomor 63/Pdt.Sus-BPSK/2024/PN Gpr Tanggal 30 Juli 2024 —Penggugat:PT Mega Auto FinanceTergugat:Satiti Eka Zenurina\n",
            "Data ditambahkan ke: /content/drive/MyDrive/korupsi/CSV/putusan_ma_korupsi_2024_2025-06-12.csv\n",
            "  [19/23] Processing...\n",
            "Mengekstrak data dari: https://putusan3.mahkamahagung.go.id/direktori/putusan/zaef4b2c0e9066e292fd313535303036.html\n",
            "Tidak ada PDF untuk: Putusan PN BINJAI Nomor 22/Pdt.Sus-BPSK/2024/PN Bnj Tanggal 25 Juli 2024 —Penggugat:PT. Astra Sedaya FinanceTergugat:SURI NANDA RANGKUTY\n",
            "Data ditambahkan ke: /content/drive/MyDrive/korupsi/CSV/putusan_ma_korupsi_2024_2025-06-12.csv\n",
            "  [20/23] Processing...\n",
            "Mengekstrak data dari: https://putusan3.mahkamahagung.go.id/direktori/putusan/zaef488f03d4f514bde1303830303535.html\n",
            "Tidak ada PDF untuk: Putusan PN BATAM Nomor 226/Pdt.Sus-BPSK/2024/PN Btm Tanggal 22 Juli 2024 —Penggugat:PT. WIJAYA NUSA NERACA INTERNASIONALTergugat:RASMIANTI MALAU\n",
            "Data ditambahkan ke: /content/drive/MyDrive/korupsi/CSV/putusan_ma_korupsi_2024_2025-06-12.csv\n",
            "  [21/23] Processing...\n",
            "Mengekstrak data dari: https://putusan3.mahkamahagung.go.id/direktori/putusan/zaf0477ebb51ef96ae52313831363438.html\n",
            "PDF disimpan: 2025_TK1_Putusan_PA_Siak_Sri_Indrapura_Nomor_208_Pdt_G_2025_PA_Sak_Tanggal_12_Juni_2025__Penggugat_melawan_Tergugat.pdf\n",
            "Data ditambahkan ke: /content/drive/MyDrive/korupsi/CSV/putusan_ma_korupsi_2024_2025-06-12.csv\n",
            "  [22/23] Processing...\n",
            "Mengekstrak data dari: https://putusan3.mahkamahagung.go.id/direktori/putusan/zaf0477db5b481da8099313830393239.html\n",
            "PDF disimpan: 2025_TK1_Putusan_PA_BALIGE_Nomor_1_Pdt_P_2025_PA_Blg_Tanggal_12_Juni_2025__Pemohon_melawan_Termohon.pdf\n",
            "Data ditambahkan ke: /content/drive/MyDrive/korupsi/CSV/putusan_ma_korupsi_2024_2025-06-12.csv\n",
            "  [23/23] Processing...\n",
            "Mengekstrak data dari: https://putusan3.mahkamahagung.go.id/direktori/putusan/zaf0477da3190a1e8b13313830383538.html\n",
            "PDF sudah ada, skip: 2025_TK1_Putusan_PA_BALIGE_Nomor_1_Pdt_P_2025_PA_Blg_Tanggal_12_Juni_2025__Pemohon_melawan_Termohon.pdf\n",
            "Data ditambahkan ke: /content/drive/MyDrive/korupsi/CSV/putusan_ma_korupsi_2024_2025-06-12.csv\n",
            "\n",
            "Scraping halaman 2: https://putusan3.mahkamahagung.go.id/search.html?q=Pidana+Perlindungan+Konsumen+&jenis_doc=putusan&cat=adb58a7c42c83d5889227fbae64f462e&jd=&tp=0&court=&t_put=2024&t_reg=&t_upl=&t_pr=&page=2&obf=TANGGAL_PUTUS&obm=desc\n",
            "Ditemukan 17 putusan di halaman 2\n",
            "  [1/17] Processing...\n",
            "Mengekstrak data dari: https://putusan3.mahkamahagung.go.id/direktori/putusan/zaef3dc77cbf8674b0ff313434373237.html\n",
            "PDF disimpan: 2024_TK1_Putusan_PN_LUBUK_PAKAM_Nomor_124_Pdt_Sus-BPSK_2024_PN_Lbp_Tanggal_9_Juli_2024__Penggugat_PT_PLN_PERSEROTergugat_ARMANSYAH.pdf\n",
            "Data ditambahkan ke: /content/drive/MyDrive/korupsi/CSV/putusan_ma_korupsi_2024_2025-06-12.csv\n",
            "  [2/17] Processing...\n",
            "Mengekstrak data dari: https://putusan3.mahkamahagung.go.id/direktori/putusan/zaef3f25d715ab088325303833353232.html\n",
            "PDF disimpan: 2024_TK1_Putusan_PN_LUBUK_LINGAU_Nomor_16_Pdt_Sus-BPSK_2024_PN_Llg_Tanggal_27_Juni_2024__Penggugat_PT__Bank_Rakyat_Indonesia__Persero__Tbk_Kantor_Cabang_LubuklinggauTergugat_Ummul_Hoiriah_Bi_Hutni.pdf\n",
            "Data ditambahkan ke: /content/drive/MyDrive/korupsi/CSV/putusan_ma_korupsi_2024_2025-06-12.csv\n",
            "  [3/17] Processing...\n",
            "Mengekstrak data dari: https://putusan3.mahkamahagung.go.id/direktori/putusan/zaef2797369613ca8d99303930363238.html\n",
            "Tidak ada PDF untuk: Putusan PN LHOK SEUMAWE Nomor 2/Pdt.Sus-BPSK/2024/PN Lsm Tanggal 10 Juni 2024 —Penggugat:PT.Capella MultidanaTergugat:Dahlan Rusli\n",
            "Data ditambahkan ke: /content/drive/MyDrive/korupsi/CSV/putusan_ma_korupsi_2024_2025-06-12.csv\n",
            "  [4/17] Processing...\n",
            "Mengekstrak data dari: https://putusan3.mahkamahagung.go.id/direktori/putusan/zaef1ca23b9f3fae9fbf313032373338.html\n",
            "PDF disimpan: 2024_TK1_Putusan_PN_MEDAN_Nomor_270_Pdt_Sus-BPSK_2024_PN_Mdn_Tanggal_27_Mei_2024__Penggugat_PT_TOYOTA_ASTRA_FINANCETergugat_NENGSI_JULIANA_SIMANJUNTAK.pdf\n",
            "Data ditambahkan ke: /content/drive/MyDrive/korupsi/CSV/putusan_ma_korupsi_2024_2025-06-12.csv\n",
            "  [5/17] Processing...\n",
            "Mengekstrak data dari: https://putusan3.mahkamahagung.go.id/direktori/putusan/zaef28042e4ce2768503323230363239.html\n",
            "Tidak ada PDF untuk: Putusan PN Cikarang Nomor 74/Pdt.Sus-BPSK/2024/PN Ckr Tanggal 13 Mei 2024 —Penggugat:PT INDOFOOD CBP SUKSES MAKMUR Tbk.Tergugat:NOVVI LUISANNI, S.E.\n",
            "Data ditambahkan ke: /content/drive/MyDrive/korupsi/CSV/putusan_ma_korupsi_2024_2025-06-12.csv\n",
            "  [6/17] Processing...\n",
            "Mengekstrak data dari: https://putusan3.mahkamahagung.go.id/direktori/putusan/zaef1bc30f9f53e29fb3303735303036.html\n",
            "PDF disimpan: 2024_TK1_Putusan_PN_Pulau_Punjung_Nomor_4_Pdt_Sus-BPSK_2024_PN_Plj_Tanggal_8_Mei_2024__Penggugat_PT_MAYBANK_INDONESIA_FINANCETergugat_AMRIZAL.pdf\n",
            "Data ditambahkan ke: /content/drive/MyDrive/korupsi/CSV/putusan_ma_korupsi_2024_2025-06-12.csv\n",
            "  [7/17] Processing...\n",
            "Mengekstrak data dari: https://putusan3.mahkamahagung.go.id/direktori/putusan/zaef086cfe61eb22a63b313730383539.html\n",
            "PDF disimpan: 2024_TK1_Putusan_PN_MEDAN_Nomor_213_Pdt_Sus-BPSK_2024_PN_Mdn_Tanggal_30_April_2024__Penggugat_melawan_Tergugat.pdf\n",
            "Data ditambahkan ke: /content/drive/MyDrive/korupsi/CSV/putusan_ma_korupsi_2024_2025-06-12.csv\n",
            "  [8/17] Processing...\n",
            "Mengekstrak data dari: https://putusan3.mahkamahagung.go.id/direktori/putusan/zaeefca3a2f853a8840c313731373033.html\n",
            "PDF disimpan: 2024_TK1_Putusan_PN_BATAM_Nomor_25_Pdt_Sus-BPSK_2024_PN_Btm_Tanggal_17_April_2024__Penggugat_PT_Artha_Perintis_PropertindoTergugat_Sastra_Banjarnahor.pdf\n",
            "Data ditambahkan ke: /content/drive/MyDrive/korupsi/CSV/putusan_ma_korupsi_2024_2025-06-12.csv\n",
            "  [9/17] Processing...\n",
            "Mengekstrak data dari: https://putusan3.mahkamahagung.go.id/direktori/putusan/zaef13f3d7f9312892bd303931393039.html\n",
            "Tidak ada PDF untuk: Putusan PN LUBUK BASUNG Nomor 5/Pdt.Sus-BPSK/2024/PN Lbb Tanggal 21 Maret 2024 —Penggugat:PT. Clipan Finance Indonesia Tbk, Cq PadangTergugat:RICE MARTA ARIF\n",
            "Data ditambahkan ke: /content/drive/MyDrive/korupsi/CSV/putusan_ma_korupsi_2024_2025-06-12.csv\n",
            "  [10/17] Processing...\n",
            "Mengekstrak data dari: https://putusan3.mahkamahagung.go.id/direktori/putusan/zaeef2477cae541aaf1d313235323134.html\n",
            "PDF disimpan: 2024_TK1_Putusan_PN_MUARO_Nomor_4_Pdt_Sus-BPSK_2024_PN_Mrj_Tanggal_4_Maret_2024__Penggugat_PT_Bank_Tabungan_Negara__Persero_TbkTergugat_Yuli_Firda_Yesih.pdf\n",
            "Data ditambahkan ke: /content/drive/MyDrive/korupsi/CSV/putusan_ma_korupsi_2024_2025-06-12.csv\n",
            "  [11/17] Processing...\n",
            "Mengekstrak data dari: https://putusan3.mahkamahagung.go.id/direktori/putusan/zaeed5517d26dbc88a57313632303436.html\n",
            "PDF disimpan: 2024_TK1_Putusan_PN_LUBUK_PAKAM_Nomor_9_Pdt_Sus-BPSK_2024_PN_Lbp_Tanggal_26_Februari_2024__Penggugat_PT_CLIPAN_FINANCE_INDONESIA__Tbk_Cabang_MedanTergugat_ZEFANYA.pdf\n",
            "Data ditambahkan ke: /content/drive/MyDrive/korupsi/CSV/putusan_ma_korupsi_2024_2025-06-12.csv\n",
            "  [12/17] Processing...\n",
            "Mengekstrak data dari: https://putusan3.mahkamahagung.go.id/direktori/putusan/zaeec0981fff538aa72a303732333239.html\n",
            "PDF disimpan: 2024_TK1_Putusan_PN_TANJUNG_PINANG_Nomor_74_Pdt_Sus-BPSK_2023_PN_Tpg_Tanggal_31_Januari_2024__Penggugat_PT__PINANG_MAS_PROPERTINDOTergugat_ADELIA_SILVIA_DEWI.pdf\n",
            "Data ditambahkan ke: /content/drive/MyDrive/korupsi/CSV/putusan_ma_korupsi_2024_2025-06-12.csv\n",
            "  [13/17] Processing...\n",
            "Mengekstrak data dari: https://putusan3.mahkamahagung.go.id/direktori/putusan/zaef10d203c4722496fd303933393236.html\n",
            "PDF disimpan: 2024_TK1_Putusan_PN_MEDAN_Nomor_1052_Pdt_Sus-BPSK_2023_PN_Mdn_Tanggal_10_Januari_2024__Penggugat_PT_Dipo_Star_Finance_Cabang_MedanTergugat_H__Solihin_L.pdf\n",
            "Data ditambahkan ke: /content/drive/MyDrive/korupsi/CSV/putusan_ma_korupsi_2024_2025-06-12.csv\n",
            "  [14/17] Processing...\n",
            "Mengekstrak data dari: https://putusan3.mahkamahagung.go.id/direktori/putusan/zaeea966760145acaf0b313930303032.html\n",
            "PDF disimpan: 2024_TK1_Putusan_PN_LUBUK_LINGAU_Nomor_42_Pdt_Sus-BPSK_2023_PN_Llg_Tanggal_2_Januari_2024__Penggugat_PT_BCA_FinanceTergugat_Marlina.pdf\n",
            "Data ditambahkan ke: /content/drive/MyDrive/korupsi/CSV/putusan_ma_korupsi_2024_2025-06-12.csv\n",
            "  [15/17] Processing...\n",
            "Mengekstrak data dari: https://putusan3.mahkamahagung.go.id/direktori/putusan/zaf0477fec44235c9845313832353139.html\n",
            "PDF disimpan: 2025_TK1_Putusan_PA_SLAWI_Nomor_1782_Pdt_G_2025_PA_Slw_Tanggal_12_Juni_2025__Penggugat_melawan_Tergugat.pdf\n",
            "Data ditambahkan ke: /content/drive/MyDrive/korupsi/CSV/putusan_ma_korupsi_2024_2025-06-12.csv\n",
            "  [16/17] Processing...\n",
            "Mengekstrak data dari: https://putusan3.mahkamahagung.go.id/direktori/putusan/zaf0477feb50b7b2bccf313832353138.html\n",
            "PDF disimpan: 2025_TK1_Putusan_PA_SLAWI_Nomor_627_Pdt_G_2025_PA_Slw_Tanggal_12_Juni_2025__Penggugat_melawan_Tergugat.pdf\n",
            "Data ditambahkan ke: /content/drive/MyDrive/korupsi/CSV/putusan_ma_korupsi_2024_2025-06-12.csv\n",
            "  [17/17] Processing...\n",
            "Mengekstrak data dari: https://putusan3.mahkamahagung.go.id/direktori/putusan/zaf0477fea655b46be43313832353136.html\n",
            "PDF disimpan: 2025_TK1_Putusan_PA_SLAWI_Nomor_1595_Pdt_G_2025_PA_Slw_Tanggal_12_Juni_2025__Penggugat_melawan_Tergugat.pdf\n",
            "Data ditambahkan ke: /content/drive/MyDrive/korupsi/CSV/putusan_ma_korupsi_2024_2025-06-12.csv\n",
            "\n",
            "=== SCRAPING SELESAI ===\n",
            "File CSV disimpan di: /content/drive/MyDrive/korupsi/CSV\n",
            "File PDF disimpan di: /content/drive/MyDrive/korupsi/PDF\n",
            "Jumlah file CSV: 1\n",
            "Jumlah file PDF: 31\n",
            "\n",
            "Contoh nama PDF yang rapi:\n",
            "  - 2024_TK1_Putusan_PN_BALE_BANDUNG_Nomor_242_Pdt_Sus-BPSK_2024_PN_Blb_Tanggal_29_Oktober_2024__Penggugat_PT_Maybank_Indonesia_FinanceTergugat_Andri_Perdiansyah.pdf\n",
            "  - 2024_TK1_Putusan_PN_BATAM_Nomor_25_Pdt_Sus-BPSK_2024_PN_Btm_Tanggal_17_April_2024__Penggugat_PT_Artha_Perintis_PropertindoTergugat_Sastra_Banjarnahor.pdf\n",
            "  - 2024_TK1_Putusan_PN_BINJAI_Nomor_57_Pdt_Sus-BPSK_2024_PN_Bnj_Tanggal_21_Nopember_2024__Penggugat_PT_Mandiri_Utama_Finance_Cq__Cabang_MedanTergugat_Zulfan_Effendi_Harahap.pdf\n",
            "  - 2024_TK1_Putusan_PN_CIBADAK_Nomor_33_Pdt_Sus-BPSK_2024_PN_Cbd_Tanggal_25_Nopember_2024__Penggugat_PT__ADIRA_DINAMIKA_MULTI_FINANCE__Tbk_Tergugat_SUHANDI.pdf\n",
            "  - 2024_TK1_Putusan_PN_INDRAMAYU_Nomor_50_Pdt_Sus-BPSK_2024_PN_Idm_Tanggal_24_Oktober_2024__Penggugat_PT_TokopediaTergugat_Deden_GumilarTurut_Tergugat_1_Badan_Penyelesaian_Sengketa_Konsumen_IndPT_J_T.pdf\n",
            "  ... dan 26 file lainnya\n"
          ]
        }
      ]
    },
    {
      "cell_type": "markdown",
      "source": [],
      "metadata": {
        "id": "PHgjOZMHIudr"
      }
    },
    {
      "cell_type": "markdown",
      "source": [
        "##Konversi & Ekstraksi Teks"
      ],
      "metadata": {
        "id": "9LNfTebyEoL5"
      }
    },
    {
      "cell_type": "code",
      "source": [
        "!pip install pandas requests beautifulsoup4 pdfminer.six lxml --quiet"
      ],
      "metadata": {
        "id": "4G_hJk8BSc8b"
      },
      "execution_count": null,
      "outputs": []
    },
    {
      "cell_type": "code",
      "source": [
        "import os\n",
        "import pandas as pd\n",
        "import re\n",
        "import io\n",
        "import subprocess\n",
        "import logging\n",
        "from pdfminer.high_level import extract_text\n",
        "from pdfminer.pdfinterp import PDFResourceManager, PDFPageInterpreter\n",
        "from pdfminer.converter import TextConverter\n",
        "from pdfminer.layout import LAParams\n",
        "from pdfminer.pdfpage import PDFPage\n",
        "from datetime import datetime"
      ],
      "metadata": {
        "id": "K_jFA90YEvXf"
      },
      "execution_count": null,
      "outputs": []
    },
    {
      "cell_type": "code",
      "source": [
        "# PDF processing imports\n",
        "try:\n",
        "    from pdfminer.high_level import extract_text\n",
        "    from pdfminer.pdfinterp import PDFResourceManager, PDFPageInterpreter\n",
        "    from pdfminer.converter import TextConverter\n",
        "    from pdfminer.layout import LAParams\n",
        "    from pdfminer.pdfpage import PDFPage\n",
        "    PDFMINER_AVAILABLE = True\n",
        "except ImportError:\n",
        "    PDFMINER_AVAILABLE = False\n",
        "    print(\"pdfminer not available - install with: pip install pdfminer.six\")\n",
        "\n",
        "# Setup logging\n",
        "logging.basicConfig(level=logging.INFO)\n",
        "logger = logging.getLogger(__name__)\n",
        "\n",
        "class TextExtractor:\n",
        "    \"\"\"Extract plain text from PDF files - NO CLEANING\"\"\"\n",
        "\n",
        "    def __init__(self, base_dir=\"/content/drive/MyDrive/korupsi\"):\n",
        "        self.base_dir = base_dir\n",
        "        self.pdf_dir = os.path.join(base_dir, \"PDF\")\n",
        "        self.raw_text_dir = os.path.join(base_dir, \"RAW_TEXT\")  # Raw text output\n",
        "        self.logs_dir = \"/logs\"\n",
        "\n",
        "        # Create directories\n",
        "        os.makedirs(self.raw_text_dir, exist_ok=True)\n",
        "        os.makedirs(self.logs_dir, exist_ok=True)\n",
        "\n",
        "        print(f\"PDF input: {self.pdf_dir}\")\n",
        "        print(f\"Raw text output: {self.raw_text_dir}\")\n",
        "\n",
        "        # Setup extraction logger\n",
        "        self.setup_extraction_logger()\n",
        "\n",
        "    def setup_extraction_logger(self):\n",
        "        \"\"\"Setup dedicated logger for extraction process\"\"\"\n",
        "        self.extraction_logger = logging.getLogger('text_extraction')\n",
        "        self.extraction_logger.setLevel(logging.INFO)\n",
        "\n",
        "        # Remove existing handlers\n",
        "        for handler in self.extraction_logger.handlers[:]:\n",
        "            self.extraction_logger.removeHandler(handler)\n",
        "\n",
        "        # Create file handler\n",
        "        log_file = os.path.join(self.logs_dir, 'extraction.log')\n",
        "        file_handler = logging.FileHandler(log_file, mode='a', encoding='utf-8')\n",
        "        file_handler.setLevel(logging.INFO)\n",
        "\n",
        "        # Create formatter\n",
        "        formatter = logging.Formatter(\n",
        "            '%(asctime)s - %(levelname)s - %(message)s',\n",
        "            datefmt='%Y-%m-%d %H:%M:%S'\n",
        "        )\n",
        "        file_handler.setFormatter(formatter)\n",
        "        self.extraction_logger.addHandler(file_handler)\n",
        "\n",
        "        self.extraction_logger.info(\"=\"*60)\n",
        "        self.extraction_logger.info(\"TEXT EXTRACTION SESSION STARTED\")\n",
        "        self.extraction_logger.info(\"=\"*60)\n",
        "\n",
        "    # =================== PDF EXTRACTION METHODS ===================\n",
        "\n",
        "    def pdf_to_text_pdfminer_basic(self, pdf_path):\n",
        "        \"\"\"Method 1: Extract using pdfminer basic\"\"\"\n",
        "        if not PDFMINER_AVAILABLE:\n",
        "            return None, \"pdfminer not available\"\n",
        "\n",
        "        try:\n",
        "            text = extract_text(pdf_path)\n",
        "            return text, \"pdfminer_basic\"\n",
        "        except Exception as e:\n",
        "            return None, f\"pdfminer_basic error: {e}\"\n",
        "\n",
        "    def pdf_to_text_pdfminer_advanced(self, pdf_path):\n",
        "        \"\"\"Method 2: Extract using pdfminer with layout analysis\"\"\"\n",
        "        if not PDFMINER_AVAILABLE:\n",
        "            return None, \"pdfminer not available\"\n",
        "\n",
        "        try:\n",
        "            resource_manager = PDFResourceManager()\n",
        "            fake_file_handle = io.StringIO()\n",
        "            converter = TextConverter(resource_manager, fake_file_handle, laparams=LAParams())\n",
        "            page_interpreter = PDFPageInterpreter(resource_manager, converter)\n",
        "\n",
        "            with open(pdf_path, 'rb') as fh:\n",
        "                for page in PDFPage.get_pages(fh, caching=True, check_extractable=True):\n",
        "                    page_interpreter.process_page(page)\n",
        "\n",
        "            text = fake_file_handle.getvalue()\n",
        "            fake_file_handle.close()\n",
        "            converter.close()\n",
        "\n",
        "            return text, \"pdfminer_advanced\"\n",
        "        except Exception as e:\n",
        "            return None, f\"pdfminer_advanced error: {e}\"\n",
        "\n",
        "    def pdf_to_text_pdftotext(self, pdf_path):\n",
        "        \"\"\"Method 3: Extract using pdftotext (poppler-utils)\"\"\"\n",
        "        try:\n",
        "            # Check if pdftotext is available\n",
        "            try:\n",
        "                subprocess.run(['pdftotext', '-v'], capture_output=True, check=True)\n",
        "            except (subprocess.CalledProcessError, FileNotFoundError):\n",
        "                # Try to install poppler-utils\n",
        "                try:\n",
        "                    self.extraction_logger.info(\"Installing poppler-utils...\")\n",
        "                    subprocess.run(['apt-get', 'update'], check=True, capture_output=True)\n",
        "                    subprocess.run(['apt-get', 'install', '-y', 'poppler-utils'], check=True, capture_output=True)\n",
        "                    self.extraction_logger.info(\"poppler-utils installed successfully\")\n",
        "                except Exception as install_error:\n",
        "                    return None, f\"Failed to install poppler-utils: {install_error}\"\n",
        "\n",
        "            # Extract text using pdftotext\n",
        "            result = subprocess.run(\n",
        "                ['pdftotext', '-layout', pdf_path, '-'],\n",
        "                capture_output=True, text=True, check=True\n",
        "            )\n",
        "\n",
        "            return result.stdout, \"pdftotext\"\n",
        "        except subprocess.CalledProcessError as e:\n",
        "            return None, f\"pdftotext error: {e}\"\n",
        "        except Exception as e:\n",
        "            return None, f\"pdftotext setup error: {e}\"\n",
        "\n",
        "    def extract_from_pdf(self, pdf_path):\n",
        "        \"\"\"Extract text from single PDF using multiple methods\"\"\"\n",
        "        filename = os.path.basename(pdf_path)\n",
        "        self.extraction_logger.info(f\"Extracting from PDF: {filename}\")\n",
        "\n",
        "        # Try extraction methods in order\n",
        "        methods = [\n",
        "            self.pdf_to_text_pdfminer_basic,\n",
        "            self.pdf_to_text_pdfminer_advanced,\n",
        "            self.pdf_to_text_pdftotext\n",
        "        ]\n",
        "\n",
        "        for method in methods:\n",
        "            text, method_info = method(pdf_path)\n",
        "\n",
        "            if text and len(text.strip()) > 50:  # Minimum threshold\n",
        "                self.extraction_logger.info(f\"Success with {method_info}: {len(text)} characters\")\n",
        "                return text, method_info\n",
        "            elif text:\n",
        "                self.extraction_logger.warning(f\"{method_info} returned short text: {len(text)} chars\")\n",
        "\n",
        "        self.extraction_logger.error(f\"All PDF extraction methods failed for {filename}\")\n",
        "        return None, \"all_methods_failed\"\n",
        "\n",
        "    # =================== MAIN PROCESSING METHODS ===================\n",
        "\n",
        "    def process_single_file(self, file_path):\n",
        "        \"\"\"Process single PDF file\"\"\"\n",
        "        filename = os.path.basename(file_path)\n",
        "        file_ext = os.path.splitext(filename)[1].lower()\n",
        "\n",
        "        # Only process PDF files\n",
        "        if file_ext != '.pdf':\n",
        "            self.extraction_logger.error(f\"Only PDF files supported: {filename}\")\n",
        "            return None\n",
        "\n",
        "        raw_text, method_used = self.extract_from_pdf(file_path)\n",
        "\n",
        "        if not raw_text or len(raw_text.strip()) < 50:\n",
        "            self.extraction_logger.error(f\"Extraction failed or insufficient text: {filename}\")\n",
        "            return None\n",
        "\n",
        "        # Save raw text (NO CLEANING)\n",
        "        base_name = os.path.splitext(filename)[0]\n",
        "        raw_text_filename = f\"raw_{base_name}.txt\"\n",
        "        raw_text_path = os.path.join(self.raw_text_dir, raw_text_filename)\n",
        "\n",
        "        try:\n",
        "            with open(raw_text_path, 'w', encoding='utf-8') as f:\n",
        "                f.write(raw_text)\n",
        "\n",
        "            self.extraction_logger.info(f\"Raw text saved: {raw_text_filename}\")\n",
        "            print(f\"SUCCESS: {filename} -> {raw_text_filename} ({len(raw_text)} chars)\")\n",
        "\n",
        "            return {\n",
        "                'source_file': filename,\n",
        "                'source_type': file_ext,\n",
        "                'raw_text_file': raw_text_filename,\n",
        "                'raw_text_path': raw_text_path,\n",
        "                'method_used': method_used,\n",
        "                'text_length': len(raw_text),\n",
        "                'status': 'success'\n",
        "            }\n",
        "\n",
        "        except Exception as e:\n",
        "            self.extraction_logger.error(f\"Error saving raw text for {filename}: {e}\")\n",
        "            return None\n",
        "\n",
        "    def process_all_pdfs(self):\n",
        "        \"\"\"Process all PDF files\"\"\"\n",
        "        if not os.path.exists(self.pdf_dir):\n",
        "            print(f\"PDF directory not found: {self.pdf_dir}\")\n",
        "            return []\n",
        "\n",
        "        pdf_files = [f for f in os.listdir(self.pdf_dir) if f.endswith('.pdf')]\n",
        "\n",
        "        if not pdf_files:\n",
        "            print(f\"No PDF files found in {self.pdf_dir}\")\n",
        "            return []\n",
        "\n",
        "        print(f\"Found {len(pdf_files)} PDF files\")\n",
        "\n",
        "        results = []\n",
        "        for i, pdf_file in enumerate(pdf_files, 1):\n",
        "            pdf_path = os.path.join(self.pdf_dir, pdf_file)\n",
        "            print(f\"[{i}/{len(pdf_files)}] Processing: {pdf_file}\")\n",
        "\n",
        "            result = self.process_single_file(pdf_path)\n",
        "            if result:\n",
        "                results.append(result)\n",
        "\n",
        "        return results\n",
        "\n",
        "    def process_all_files(self):\n",
        "        \"\"\"Process all PDF files\"\"\"\n",
        "        print(\"TEXT EXTRACTION STARTED\")\n",
        "        print(\"=\" * 50)\n",
        "        print(\"Tujuan: Konversi PDF -> Raw plain text\")\n",
        "        print(\"Output: Raw text files (BELUM dibersihkan)\")\n",
        "        print(\"=\" * 50)\n",
        "\n",
        "        # Process PDFs\n",
        "        pdf_results = self.process_all_pdfs()\n",
        "\n",
        "        if not pdf_results:\n",
        "            print(\"No files processed successfully\")\n",
        "            return None\n",
        "\n",
        "        # Create extraction report\n",
        "        df_results = pd.DataFrame(pdf_results)\n",
        "        report_path = os.path.join(self.logs_dir, 'extraction_report.csv')\n",
        "        df_results.to_csv(report_path, index=False)\n",
        "\n",
        "        # Summary\n",
        "        print(\"\\n\" + \"=\" * 60)\n",
        "        print(\"EXTRACTION SUMMARY\")\n",
        "        print(\"=\" * 60)\n",
        "        print(f\"PDF files processed: {len(pdf_results)}\")\n",
        "        print(f\"Total successful extractions: {len(pdf_results)}\")\n",
        "        print(f\"Raw text files saved to: {self.raw_text_dir}\")\n",
        "        print(f\"Extraction report: {report_path}\")\n",
        "        print(f\"Extraction log: {os.path.join(self.logs_dir, 'extraction.log')}\")\n",
        "\n",
        "        return df_results\n",
        "\n",
        "# Utility functions\n",
        "def extract_single_pdf(pdf_path, output_dir=\"/tmp\"):\n",
        "    \"\"\"Quick function to extract single PDF\"\"\"\n",
        "    extractor = TextExtractor()\n",
        "    extractor.raw_text_dir = output_dir\n",
        "    return extractor.process_single_file(pdf_path)\n",
        "\n",
        "# Main execution\n",
        "def main():\n",
        "    \"\"\"Main function for text extraction\"\"\"\n",
        "    print(\"ii. KONVERSI & EKSTRAKSI TEKS\")\n",
        "    print(\"=\" * 50)\n",
        "\n",
        "    # Check dependencies\n",
        "    print(\"Checking dependencies...\")\n",
        "    if PDFMINER_AVAILABLE:\n",
        "        print(\"SUCCESS: pdfminer.six available\")\n",
        "    else:\n",
        "        print(\"ERROR: pdfminer.six not available - install with: pip install pdfminer.six\")\n",
        "\n",
        "    # Initialize extractor\n",
        "    extractor = TextExtractor(\"/content/drive/MyDrive/korupsi\")\n",
        "\n",
        "    # Run extraction\n",
        "    results = extractor.process_all_files()\n",
        "\n",
        "    if results is not None:\n",
        "        print(f\"\\nEXTRACTION COMPLETE!\")\n",
        "        print(f\"Check raw text files in: {extractor.raw_text_dir}\")\n",
        "        print(f\"Next step: Run text cleaning on raw files\")\n",
        "    else:\n",
        "        print(f\"\\nNo files extracted. Check your PDF directory.\")\n",
        "\n",
        "if __name__ == \"__main__\":\n",
        "    main()\n"
      ],
      "metadata": {
        "colab": {
          "base_uri": "https://localhost:8080/"
        },
        "id": "HitBhPhFEx7S",
        "outputId": "1138400f-4657-4864-ace7-5219e943fe11"
      },
      "execution_count": null,
      "outputs": [
        {
          "output_type": "stream",
          "name": "stderr",
          "text": [
            "INFO:text_extraction:============================================================\n",
            "INFO:text_extraction:TEXT EXTRACTION SESSION STARTED\n",
            "INFO:text_extraction:============================================================\n",
            "INFO:text_extraction:Extracting from PDF: 2024_TK1_Putusan_PN_SURABAYA_Nomor_86_Pid_Sus-TPK_2024_PN_Sby_Tanggal_31_Desember_2024__Penuntut_Umum_Martina_Peristyanti__S_H___MBATerdakwa_SUJARWO_Bin_JIMIN.pdf\n"
          ]
        },
        {
          "output_type": "stream",
          "name": "stdout",
          "text": [
            "ii. KONVERSI & EKSTRAKSI TEKS\n",
            "==================================================\n",
            "Checking dependencies...\n",
            "SUCCESS: pdfminer.six available\n",
            "PDF input: /content/drive/MyDrive/korupsi/PDF\n",
            "Raw text output: /content/drive/MyDrive/korupsi/RAW_TEXT\n",
            "TEXT EXTRACTION STARTED\n",
            "==================================================\n",
            "Tujuan: Konversi PDF -> Raw plain text\n",
            "Output: Raw text files (BELUM dibersihkan)\n",
            "==================================================\n",
            "Found 116 PDF files\n",
            "[1/116] Processing: 2024_TK1_Putusan_PN_SURABAYA_Nomor_86_Pid_Sus-TPK_2024_PN_Sby_Tanggal_31_Desember_2024__Penuntut_Umum_Martina_Peristyanti__S_H___MBATerdakwa_SUJARWO_Bin_JIMIN.pdf\n"
          ]
        },
        {
          "output_type": "stream",
          "name": "stderr",
          "text": [
            "INFO:text_extraction:Success with pdfminer_basic: 841987 characters\n",
            "INFO:text_extraction:Raw text saved: raw_2024_TK1_Putusan_PN_SURABAYA_Nomor_86_Pid_Sus-TPK_2024_PN_Sby_Tanggal_31_Desember_2024__Penuntut_Umum_Martina_Peristyanti__S_H___MBATerdakwa_SUJARWO_Bin_JIMIN.txt\n",
            "INFO:text_extraction:Extracting from PDF: 2024_TK1_Putusan_PN_SURABAYA_Nomor_85_Pid_Sus-TPK_2024_PN_Sby_Tanggal_31_Desember_2024__Penuntut_Umum_Martina_Peristyanti__S_H___MBATerdakwa_MEGA_YUNAN_RAKHMANA.pdf\n"
          ]
        },
        {
          "output_type": "stream",
          "name": "stdout",
          "text": [
            "SUCCESS: 2024_TK1_Putusan_PN_SURABAYA_Nomor_86_Pid_Sus-TPK_2024_PN_Sby_Tanggal_31_Desember_2024__Penuntut_Umum_Martina_Peristyanti__S_H___MBATerdakwa_SUJARWO_Bin_JIMIN.pdf -> raw_2024_TK1_Putusan_PN_SURABAYA_Nomor_86_Pid_Sus-TPK_2024_PN_Sby_Tanggal_31_Desember_2024__Penuntut_Umum_Martina_Peristyanti__S_H___MBATerdakwa_SUJARWO_Bin_JIMIN.txt (841987 chars)\n",
            "[2/116] Processing: 2024_TK1_Putusan_PN_SURABAYA_Nomor_85_Pid_Sus-TPK_2024_PN_Sby_Tanggal_31_Desember_2024__Penuntut_Umum_Martina_Peristyanti__S_H___MBATerdakwa_MEGA_YUNAN_RAKHMANA.pdf\n"
          ]
        },
        {
          "output_type": "stream",
          "name": "stderr",
          "text": [
            "INFO:text_extraction:Success with pdfminer_basic: 919664 characters\n",
            "INFO:text_extraction:Raw text saved: raw_2024_TK1_Putusan_PN_SURABAYA_Nomor_85_Pid_Sus-TPK_2024_PN_Sby_Tanggal_31_Desember_2024__Penuntut_Umum_Martina_Peristyanti__S_H___MBATerdakwa_MEGA_YUNAN_RAKHMANA.txt\n",
            "INFO:text_extraction:Extracting from PDF: 2024_TK1_Putusan_PN_SURABAYA_Nomor_117_Pid_Sus-TPK_2024_PN_Sby_Tanggal_24_Desember_2024__Penuntut_Umum_DIAN_PRANATA_DEPARI__S_H__M_HTerdakwa_FAISOL__S_Pd__BIN_SUNARKI.pdf\n"
          ]
        },
        {
          "output_type": "stream",
          "name": "stdout",
          "text": [
            "SUCCESS: 2024_TK1_Putusan_PN_SURABAYA_Nomor_85_Pid_Sus-TPK_2024_PN_Sby_Tanggal_31_Desember_2024__Penuntut_Umum_Martina_Peristyanti__S_H___MBATerdakwa_MEGA_YUNAN_RAKHMANA.pdf -> raw_2024_TK1_Putusan_PN_SURABAYA_Nomor_85_Pid_Sus-TPK_2024_PN_Sby_Tanggal_31_Desember_2024__Penuntut_Umum_Martina_Peristyanti__S_H___MBATerdakwa_MEGA_YUNAN_RAKHMANA.txt (919664 chars)\n",
            "[3/116] Processing: 2024_TK1_Putusan_PN_SURABAYA_Nomor_117_Pid_Sus-TPK_2024_PN_Sby_Tanggal_24_Desember_2024__Penuntut_Umum_DIAN_PRANATA_DEPARI__S_H__M_HTerdakwa_FAISOL__S_Pd__BIN_SUNARKI.pdf\n"
          ]
        },
        {
          "output_type": "stream",
          "name": "stderr",
          "text": [
            "INFO:text_extraction:Success with pdfminer_basic: 301061 characters\n",
            "INFO:text_extraction:Raw text saved: raw_2024_TK1_Putusan_PN_SURABAYA_Nomor_117_Pid_Sus-TPK_2024_PN_Sby_Tanggal_24_Desember_2024__Penuntut_Umum_DIAN_PRANATA_DEPARI__S_H__M_HTerdakwa_FAISOL__S_Pd__BIN_SUNARKI.txt\n",
            "INFO:text_extraction:Extracting from PDF: 2024_TK1_Putusan_PN_SURABAYA_Nomor_111_Pid_Sus-TPK_2024_PN_Sby_Tanggal_24_Desember_2024__Penuntut_Umum_Moch__Taufiq_Ismail__S_HTerdakwa_ANININGSIH_BINTI_RIYADI.pdf\n"
          ]
        },
        {
          "output_type": "stream",
          "name": "stdout",
          "text": [
            "SUCCESS: 2024_TK1_Putusan_PN_SURABAYA_Nomor_117_Pid_Sus-TPK_2024_PN_Sby_Tanggal_24_Desember_2024__Penuntut_Umum_DIAN_PRANATA_DEPARI__S_H__M_HTerdakwa_FAISOL__S_Pd__BIN_SUNARKI.pdf -> raw_2024_TK1_Putusan_PN_SURABAYA_Nomor_117_Pid_Sus-TPK_2024_PN_Sby_Tanggal_24_Desember_2024__Penuntut_Umum_DIAN_PRANATA_DEPARI__S_H__M_HTerdakwa_FAISOL__S_Pd__BIN_SUNARKI.txt (301061 chars)\n",
            "[4/116] Processing: 2024_TK1_Putusan_PN_SURABAYA_Nomor_111_Pid_Sus-TPK_2024_PN_Sby_Tanggal_24_Desember_2024__Penuntut_Umum_Moch__Taufiq_Ismail__S_HTerdakwa_ANININGSIH_BINTI_RIYADI.pdf\n"
          ]
        },
        {
          "output_type": "stream",
          "name": "stderr",
          "text": [
            "INFO:text_extraction:Success with pdfminer_basic: 609109 characters\n",
            "INFO:text_extraction:Raw text saved: raw_2024_TK1_Putusan_PN_SURABAYA_Nomor_111_Pid_Sus-TPK_2024_PN_Sby_Tanggal_24_Desember_2024__Penuntut_Umum_Moch__Taufiq_Ismail__S_HTerdakwa_ANININGSIH_BINTI_RIYADI.txt\n",
            "INFO:text_extraction:Extracting from PDF: 2024_TK1_Putusan_PN_SURABAYA_Nomor_105_Pid_Sus-TPK_2024_PN_Sby_Tanggal_23_Desember_2024__Penuntut_Umum_DIAN_PRANATA_DEPARI__S_H__M_HTerdakwa_Rian_Mahendra_Bin_Achmad_Wardoyo_Alm.pdf\n"
          ]
        },
        {
          "output_type": "stream",
          "name": "stdout",
          "text": [
            "SUCCESS: 2024_TK1_Putusan_PN_SURABAYA_Nomor_111_Pid_Sus-TPK_2024_PN_Sby_Tanggal_24_Desember_2024__Penuntut_Umum_Moch__Taufiq_Ismail__S_HTerdakwa_ANININGSIH_BINTI_RIYADI.pdf -> raw_2024_TK1_Putusan_PN_SURABAYA_Nomor_111_Pid_Sus-TPK_2024_PN_Sby_Tanggal_24_Desember_2024__Penuntut_Umum_Moch__Taufiq_Ismail__S_HTerdakwa_ANININGSIH_BINTI_RIYADI.txt (609109 chars)\n",
            "[5/116] Processing: 2024_TK1_Putusan_PN_SURABAYA_Nomor_105_Pid_Sus-TPK_2024_PN_Sby_Tanggal_23_Desember_2024__Penuntut_Umum_DIAN_PRANATA_DEPARI__S_H__M_HTerdakwa_Rian_Mahendra_Bin_Achmad_Wardoyo_Alm.pdf\n"
          ]
        },
        {
          "output_type": "stream",
          "name": "stderr",
          "text": [
            "INFO:text_extraction:Success with pdfminer_basic: 741330 characters\n",
            "INFO:text_extraction:Raw text saved: raw_2024_TK1_Putusan_PN_SURABAYA_Nomor_105_Pid_Sus-TPK_2024_PN_Sby_Tanggal_23_Desember_2024__Penuntut_Umum_DIAN_PRANATA_DEPARI__S_H__M_HTerdakwa_Rian_Mahendra_Bin_Achmad_Wardoyo_Alm.txt\n",
            "INFO:text_extraction:Extracting from PDF: 2024_TK1_Putusan_PN_SURABAYA_Nomor_103_Pid_Sus-TPK_2024_PN_Sby_Tanggal_23_Desember_2024__Penuntut_Umum_DIAN_PRANATA_DEPARI__S_H__M_HTerdakwa_H__Munandar__SP___M_M_Bin_Alm__Adjib.pdf\n"
          ]
        },
        {
          "output_type": "stream",
          "name": "stdout",
          "text": [
            "SUCCESS: 2024_TK1_Putusan_PN_SURABAYA_Nomor_105_Pid_Sus-TPK_2024_PN_Sby_Tanggal_23_Desember_2024__Penuntut_Umum_DIAN_PRANATA_DEPARI__S_H__M_HTerdakwa_Rian_Mahendra_Bin_Achmad_Wardoyo_Alm.pdf -> raw_2024_TK1_Putusan_PN_SURABAYA_Nomor_105_Pid_Sus-TPK_2024_PN_Sby_Tanggal_23_Desember_2024__Penuntut_Umum_DIAN_PRANATA_DEPARI__S_H__M_HTerdakwa_Rian_Mahendra_Bin_Achmad_Wardoyo_Alm.txt (741330 chars)\n",
            "[6/116] Processing: 2024_TK1_Putusan_PN_SURABAYA_Nomor_103_Pid_Sus-TPK_2024_PN_Sby_Tanggal_23_Desember_2024__Penuntut_Umum_DIAN_PRANATA_DEPARI__S_H__M_HTerdakwa_H__Munandar__SP___M_M_Bin_Alm__Adjib.pdf\n"
          ]
        },
        {
          "output_type": "stream",
          "name": "stderr",
          "text": [
            "INFO:text_extraction:Success with pdfminer_basic: 702037 characters\n",
            "INFO:text_extraction:Raw text saved: raw_2024_TK1_Putusan_PN_SURABAYA_Nomor_103_Pid_Sus-TPK_2024_PN_Sby_Tanggal_23_Desember_2024__Penuntut_Umum_DIAN_PRANATA_DEPARI__S_H__M_HTerdakwa_H__Munandar__SP___M_M_Bin_Alm__Adjib.txt\n",
            "INFO:text_extraction:Extracting from PDF: 2024_TK1_Putusan_PN_SURABAYA_Nomor_110_Pid_Sus-TPK_2024_PN_Sby_Tanggal_23_Desember_2024__Penuntut_Umum_Gilang_GemilangTerdakwa_AHMAD_MUHDLOR.pdf\n"
          ]
        },
        {
          "output_type": "stream",
          "name": "stdout",
          "text": [
            "SUCCESS: 2024_TK1_Putusan_PN_SURABAYA_Nomor_103_Pid_Sus-TPK_2024_PN_Sby_Tanggal_23_Desember_2024__Penuntut_Umum_DIAN_PRANATA_DEPARI__S_H__M_HTerdakwa_H__Munandar__SP___M_M_Bin_Alm__Adjib.pdf -> raw_2024_TK1_Putusan_PN_SURABAYA_Nomor_103_Pid_Sus-TPK_2024_PN_Sby_Tanggal_23_Desember_2024__Penuntut_Umum_DIAN_PRANATA_DEPARI__S_H__M_HTerdakwa_H__Munandar__SP___M_M_Bin_Alm__Adjib.txt (702037 chars)\n",
            "[7/116] Processing: 2024_TK1_Putusan_PN_SURABAYA_Nomor_110_Pid_Sus-TPK_2024_PN_Sby_Tanggal_23_Desember_2024__Penuntut_Umum_Gilang_GemilangTerdakwa_AHMAD_MUHDLOR.pdf\n"
          ]
        },
        {
          "output_type": "stream",
          "name": "stderr",
          "text": [
            "INFO:text_extraction:Success with pdfminer_basic: 1559205 characters\n",
            "INFO:text_extraction:Raw text saved: raw_2024_TK1_Putusan_PN_SURABAYA_Nomor_110_Pid_Sus-TPK_2024_PN_Sby_Tanggal_23_Desember_2024__Penuntut_Umum_Gilang_GemilangTerdakwa_AHMAD_MUHDLOR.txt\n",
            "INFO:text_extraction:Extracting from PDF: 2024_TK1_Putusan_PN_SURABAYA_Nomor_104_Pid_Sus-TPK_2024_PN_Sby_Tanggal_23_Desember_2024__Penuntut_Umum_DIAN_PRANATA_DEPARI__S_H__M_HTerdakwa_Edy_Suyitno_Bin_Kuswanto.pdf\n"
          ]
        },
        {
          "output_type": "stream",
          "name": "stdout",
          "text": [
            "SUCCESS: 2024_TK1_Putusan_PN_SURABAYA_Nomor_110_Pid_Sus-TPK_2024_PN_Sby_Tanggal_23_Desember_2024__Penuntut_Umum_Gilang_GemilangTerdakwa_AHMAD_MUHDLOR.pdf -> raw_2024_TK1_Putusan_PN_SURABAYA_Nomor_110_Pid_Sus-TPK_2024_PN_Sby_Tanggal_23_Desember_2024__Penuntut_Umum_Gilang_GemilangTerdakwa_AHMAD_MUHDLOR.txt (1559205 chars)\n",
            "[8/116] Processing: 2024_TK1_Putusan_PN_SURABAYA_Nomor_104_Pid_Sus-TPK_2024_PN_Sby_Tanggal_23_Desember_2024__Penuntut_Umum_DIAN_PRANATA_DEPARI__S_H__M_HTerdakwa_Edy_Suyitno_Bin_Kuswanto.pdf\n"
          ]
        },
        {
          "output_type": "stream",
          "name": "stderr",
          "text": [
            "INFO:text_extraction:Success with pdfminer_basic: 718493 characters\n",
            "INFO:text_extraction:Raw text saved: raw_2024_TK1_Putusan_PN_SURABAYA_Nomor_104_Pid_Sus-TPK_2024_PN_Sby_Tanggal_23_Desember_2024__Penuntut_Umum_DIAN_PRANATA_DEPARI__S_H__M_HTerdakwa_Edy_Suyitno_Bin_Kuswanto.txt\n",
            "INFO:text_extraction:Extracting from PDF: 2024_TK1_Putusan_PN_SURABAYA_Nomor_83_Pid_Sus-TPK_2024_PN_Sby_Tanggal_18_Desember_2024__Penuntut_Umum_TARJONO_SHTerdakwa_1_SUHARTO__SE2_IRMAWATI_FAUZIAH.pdf\n"
          ]
        },
        {
          "output_type": "stream",
          "name": "stdout",
          "text": [
            "SUCCESS: 2024_TK1_Putusan_PN_SURABAYA_Nomor_104_Pid_Sus-TPK_2024_PN_Sby_Tanggal_23_Desember_2024__Penuntut_Umum_DIAN_PRANATA_DEPARI__S_H__M_HTerdakwa_Edy_Suyitno_Bin_Kuswanto.pdf -> raw_2024_TK1_Putusan_PN_SURABAYA_Nomor_104_Pid_Sus-TPK_2024_PN_Sby_Tanggal_23_Desember_2024__Penuntut_Umum_DIAN_PRANATA_DEPARI__S_H__M_HTerdakwa_Edy_Suyitno_Bin_Kuswanto.txt (718493 chars)\n",
            "[9/116] Processing: 2024_TK1_Putusan_PN_SURABAYA_Nomor_83_Pid_Sus-TPK_2024_PN_Sby_Tanggal_18_Desember_2024__Penuntut_Umum_TARJONO_SHTerdakwa_1_SUHARTO__SE2_IRMAWATI_FAUZIAH.pdf\n"
          ]
        },
        {
          "output_type": "stream",
          "name": "stderr",
          "text": [
            "INFO:text_extraction:Success with pdfminer_basic: 718300 characters\n",
            "INFO:text_extraction:Raw text saved: raw_2024_TK1_Putusan_PN_SURABAYA_Nomor_83_Pid_Sus-TPK_2024_PN_Sby_Tanggal_18_Desember_2024__Penuntut_Umum_TARJONO_SHTerdakwa_1_SUHARTO__SE2_IRMAWATI_FAUZIAH.txt\n",
            "INFO:text_extraction:Extracting from PDF: 2024_TK1_Putusan_PN_SURABAYA_Nomor_84_Pid_Sus-TPK_2024_PN_Sby_Tanggal_18_Desember_2024__Penuntut_Umum_TARJONO_SHTerdakwa_1_M__HERI_PURNIAWAN2_IRMAWATI_FAUZIAH.pdf\n"
          ]
        },
        {
          "output_type": "stream",
          "name": "stdout",
          "text": [
            "SUCCESS: 2024_TK1_Putusan_PN_SURABAYA_Nomor_83_Pid_Sus-TPK_2024_PN_Sby_Tanggal_18_Desember_2024__Penuntut_Umum_TARJONO_SHTerdakwa_1_SUHARTO__SE2_IRMAWATI_FAUZIAH.pdf -> raw_2024_TK1_Putusan_PN_SURABAYA_Nomor_83_Pid_Sus-TPK_2024_PN_Sby_Tanggal_18_Desember_2024__Penuntut_Umum_TARJONO_SHTerdakwa_1_SUHARTO__SE2_IRMAWATI_FAUZIAH.txt (718300 chars)\n",
            "[10/116] Processing: 2024_TK1_Putusan_PN_SURABAYA_Nomor_84_Pid_Sus-TPK_2024_PN_Sby_Tanggal_18_Desember_2024__Penuntut_Umum_TARJONO_SHTerdakwa_1_M__HERI_PURNIAWAN2_IRMAWATI_FAUZIAH.pdf\n"
          ]
        },
        {
          "output_type": "stream",
          "name": "stderr",
          "text": [
            "INFO:text_extraction:Success with pdfminer_basic: 764153 characters\n",
            "INFO:text_extraction:Raw text saved: raw_2024_TK1_Putusan_PN_SURABAYA_Nomor_84_Pid_Sus-TPK_2024_PN_Sby_Tanggal_18_Desember_2024__Penuntut_Umum_TARJONO_SHTerdakwa_1_M__HERI_PURNIAWAN2_IRMAWATI_FAUZIAH.txt\n",
            "INFO:text_extraction:Extracting from PDF: 2024_TK1_Putusan_PN_SURABAYA_Nomor_76_Pid_Sus-TPK_2024_PN_Sby_Tanggal_16_Desember_2024__Penuntut_Umum_Nur_Ngali_SH_MHTerdakwa_SUGIANTO_SE_Msi_Ak_CA.pdf\n"
          ]
        },
        {
          "output_type": "stream",
          "name": "stdout",
          "text": [
            "SUCCESS: 2024_TK1_Putusan_PN_SURABAYA_Nomor_84_Pid_Sus-TPK_2024_PN_Sby_Tanggal_18_Desember_2024__Penuntut_Umum_TARJONO_SHTerdakwa_1_M__HERI_PURNIAWAN2_IRMAWATI_FAUZIAH.pdf -> raw_2024_TK1_Putusan_PN_SURABAYA_Nomor_84_Pid_Sus-TPK_2024_PN_Sby_Tanggal_18_Desember_2024__Penuntut_Umum_TARJONO_SHTerdakwa_1_M__HERI_PURNIAWAN2_IRMAWATI_FAUZIAH.txt (764153 chars)\n",
            "[11/116] Processing: 2024_TK1_Putusan_PN_SURABAYA_Nomor_76_Pid_Sus-TPK_2024_PN_Sby_Tanggal_16_Desember_2024__Penuntut_Umum_Nur_Ngali_SH_MHTerdakwa_SUGIANTO_SE_Msi_Ak_CA.pdf\n"
          ]
        },
        {
          "output_type": "stream",
          "name": "stderr",
          "text": [
            "INFO:text_extraction:Success with pdfminer_basic: 495334 characters\n",
            "INFO:text_extraction:Raw text saved: raw_2024_TK1_Putusan_PN_SURABAYA_Nomor_76_Pid_Sus-TPK_2024_PN_Sby_Tanggal_16_Desember_2024__Penuntut_Umum_Nur_Ngali_SH_MHTerdakwa_SUGIANTO_SE_Msi_Ak_CA.txt\n",
            "INFO:text_extraction:Extracting from PDF: 2024_TK1_Putusan_PN_SURABAYA_Nomor_75_Pid_Sus-TPK_2024_PN_Sby_Tanggal_16_Desember_2024__Penuntut_Umum_ADITIA_SULAEMAN__S_HTerdakwa_MOHAMMAD_SYAIFUDIN__S_Sos_.pdf\n"
          ]
        },
        {
          "output_type": "stream",
          "name": "stdout",
          "text": [
            "SUCCESS: 2024_TK1_Putusan_PN_SURABAYA_Nomor_76_Pid_Sus-TPK_2024_PN_Sby_Tanggal_16_Desember_2024__Penuntut_Umum_Nur_Ngali_SH_MHTerdakwa_SUGIANTO_SE_Msi_Ak_CA.pdf -> raw_2024_TK1_Putusan_PN_SURABAYA_Nomor_76_Pid_Sus-TPK_2024_PN_Sby_Tanggal_16_Desember_2024__Penuntut_Umum_Nur_Ngali_SH_MHTerdakwa_SUGIANTO_SE_Msi_Ak_CA.txt (495334 chars)\n",
            "[12/116] Processing: 2024_TK1_Putusan_PN_SURABAYA_Nomor_75_Pid_Sus-TPK_2024_PN_Sby_Tanggal_16_Desember_2024__Penuntut_Umum_ADITIA_SULAEMAN__S_HTerdakwa_MOHAMMAD_SYAIFUDIN__S_Sos_.pdf\n"
          ]
        },
        {
          "output_type": "stream",
          "name": "stderr",
          "text": [
            "INFO:text_extraction:Success with pdfminer_basic: 525364 characters\n",
            "INFO:text_extraction:Raw text saved: raw_2024_TK1_Putusan_PN_SURABAYA_Nomor_75_Pid_Sus-TPK_2024_PN_Sby_Tanggal_16_Desember_2024__Penuntut_Umum_ADITIA_SULAEMAN__S_HTerdakwa_MOHAMMAD_SYAIFUDIN__S_Sos_.txt\n",
            "INFO:text_extraction:Extracting from PDF: 2024_TK1_Putusan_PN_SURABAYA_Nomor_72_Pid_Sus-TPK_2024_PN_Sby_Tanggal_16_Desember_2024__Penuntut_Umum_ADITIA_SULAEMAN__S_HTerdakwa_WASITO_BIN_WIJI.pdf\n"
          ]
        },
        {
          "output_type": "stream",
          "name": "stdout",
          "text": [
            "SUCCESS: 2024_TK1_Putusan_PN_SURABAYA_Nomor_75_Pid_Sus-TPK_2024_PN_Sby_Tanggal_16_Desember_2024__Penuntut_Umum_ADITIA_SULAEMAN__S_HTerdakwa_MOHAMMAD_SYAIFUDIN__S_Sos_.pdf -> raw_2024_TK1_Putusan_PN_SURABAYA_Nomor_75_Pid_Sus-TPK_2024_PN_Sby_Tanggal_16_Desember_2024__Penuntut_Umum_ADITIA_SULAEMAN__S_HTerdakwa_MOHAMMAD_SYAIFUDIN__S_Sos_.txt (525364 chars)\n",
            "[13/116] Processing: 2024_TK1_Putusan_PN_SURABAYA_Nomor_72_Pid_Sus-TPK_2024_PN_Sby_Tanggal_16_Desember_2024__Penuntut_Umum_ADITIA_SULAEMAN__S_HTerdakwa_WASITO_BIN_WIJI.pdf\n"
          ]
        },
        {
          "output_type": "stream",
          "name": "stderr",
          "text": [
            "INFO:text_extraction:Success with pdfminer_basic: 479534 characters\n",
            "INFO:text_extraction:Raw text saved: raw_2024_TK1_Putusan_PN_SURABAYA_Nomor_72_Pid_Sus-TPK_2024_PN_Sby_Tanggal_16_Desember_2024__Penuntut_Umum_ADITIA_SULAEMAN__S_HTerdakwa_WASITO_BIN_WIJI.txt\n",
            "INFO:text_extraction:Extracting from PDF: 2024_TK1_Putusan_PN_SURABAYA_Nomor_73_Pid_Sus-TPK_2024_PN_Sby_Tanggal_16_Desember_2024__Penuntut_Umum_ADITIA_SULAEMAN__S_HTerdakwa_SUPRIYANTO_Bin_YUSUF_Als__PRI.pdf\n"
          ]
        },
        {
          "output_type": "stream",
          "name": "stdout",
          "text": [
            "SUCCESS: 2024_TK1_Putusan_PN_SURABAYA_Nomor_72_Pid_Sus-TPK_2024_PN_Sby_Tanggal_16_Desember_2024__Penuntut_Umum_ADITIA_SULAEMAN__S_HTerdakwa_WASITO_BIN_WIJI.pdf -> raw_2024_TK1_Putusan_PN_SURABAYA_Nomor_72_Pid_Sus-TPK_2024_PN_Sby_Tanggal_16_Desember_2024__Penuntut_Umum_ADITIA_SULAEMAN__S_HTerdakwa_WASITO_BIN_WIJI.txt (479534 chars)\n",
            "[14/116] Processing: 2024_TK1_Putusan_PN_SURABAYA_Nomor_73_Pid_Sus-TPK_2024_PN_Sby_Tanggal_16_Desember_2024__Penuntut_Umum_ADITIA_SULAEMAN__S_HTerdakwa_SUPRIYANTO_Bin_YUSUF_Als__PRI.pdf\n"
          ]
        },
        {
          "output_type": "stream",
          "name": "stderr",
          "text": [
            "INFO:text_extraction:Success with pdfminer_basic: 590996 characters\n",
            "INFO:text_extraction:Raw text saved: raw_2024_TK1_Putusan_PN_SURABAYA_Nomor_73_Pid_Sus-TPK_2024_PN_Sby_Tanggal_16_Desember_2024__Penuntut_Umum_ADITIA_SULAEMAN__S_HTerdakwa_SUPRIYANTO_Bin_YUSUF_Als__PRI.txt\n",
            "INFO:text_extraction:Extracting from PDF: 2024_TK1_Putusan_PN_SURABAYA_Nomor_74_Pid_Sus-TPK_2024_PN_Sby_Tanggal_16_Desember_2024__Penuntut_Umum_ADITIA_SULAEMAN__S_HTerdakwa_SAKRI_BIN_WADI.pdf\n"
          ]
        },
        {
          "output_type": "stream",
          "name": "stdout",
          "text": [
            "SUCCESS: 2024_TK1_Putusan_PN_SURABAYA_Nomor_73_Pid_Sus-TPK_2024_PN_Sby_Tanggal_16_Desember_2024__Penuntut_Umum_ADITIA_SULAEMAN__S_HTerdakwa_SUPRIYANTO_Bin_YUSUF_Als__PRI.pdf -> raw_2024_TK1_Putusan_PN_SURABAYA_Nomor_73_Pid_Sus-TPK_2024_PN_Sby_Tanggal_16_Desember_2024__Penuntut_Umum_ADITIA_SULAEMAN__S_HTerdakwa_SUPRIYANTO_Bin_YUSUF_Als__PRI.txt (590996 chars)\n",
            "[15/116] Processing: 2024_TK1_Putusan_PN_SURABAYA_Nomor_74_Pid_Sus-TPK_2024_PN_Sby_Tanggal_16_Desember_2024__Penuntut_Umum_ADITIA_SULAEMAN__S_HTerdakwa_SAKRI_BIN_WADI.pdf\n"
          ]
        },
        {
          "output_type": "stream",
          "name": "stderr",
          "text": [
            "INFO:text_extraction:Success with pdfminer_basic: 550971 characters\n",
            "INFO:text_extraction:Raw text saved: raw_2024_TK1_Putusan_PN_SURABAYA_Nomor_74_Pid_Sus-TPK_2024_PN_Sby_Tanggal_16_Desember_2024__Penuntut_Umum_ADITIA_SULAEMAN__S_HTerdakwa_SAKRI_BIN_WADI.txt\n",
            "INFO:text_extraction:Extracting from PDF: 2024_TK1_Putusan_PN_SURABAYA_Nomor_78_Pid_Sus-TPK_2024_PN_Sby_Tanggal_16_Desember_2024__Penuntut_Umum_Nur_Ngali_SH_MHTerdakwa_ADRI_YANTO__SE.pdf\n"
          ]
        },
        {
          "output_type": "stream",
          "name": "stdout",
          "text": [
            "SUCCESS: 2024_TK1_Putusan_PN_SURABAYA_Nomor_74_Pid_Sus-TPK_2024_PN_Sby_Tanggal_16_Desember_2024__Penuntut_Umum_ADITIA_SULAEMAN__S_HTerdakwa_SAKRI_BIN_WADI.pdf -> raw_2024_TK1_Putusan_PN_SURABAYA_Nomor_74_Pid_Sus-TPK_2024_PN_Sby_Tanggal_16_Desember_2024__Penuntut_Umum_ADITIA_SULAEMAN__S_HTerdakwa_SAKRI_BIN_WADI.txt (550971 chars)\n",
            "[16/116] Processing: 2024_TK1_Putusan_PN_SURABAYA_Nomor_78_Pid_Sus-TPK_2024_PN_Sby_Tanggal_16_Desember_2024__Penuntut_Umum_Nur_Ngali_SH_MHTerdakwa_ADRI_YANTO__SE.pdf\n"
          ]
        },
        {
          "output_type": "stream",
          "name": "stderr",
          "text": [
            "INFO:text_extraction:Success with pdfminer_basic: 464084 characters\n",
            "INFO:text_extraction:Raw text saved: raw_2024_TK1_Putusan_PN_SURABAYA_Nomor_78_Pid_Sus-TPK_2024_PN_Sby_Tanggal_16_Desember_2024__Penuntut_Umum_Nur_Ngali_SH_MHTerdakwa_ADRI_YANTO__SE.txt\n",
            "INFO:text_extraction:Extracting from PDF: 2024_TK1_Putusan_PN_SURABAYA_Nomor_71_Pid_Sus-TPK_2024_PN_Sby_Tanggal_10_Desember_2024__Penuntut_Umum_I_PUTU_KISNU_GUPTA__S_H_Terdakwa_ULIS_DEWI_PURWANTI__S_Pd_.pdf\n"
          ]
        },
        {
          "output_type": "stream",
          "name": "stdout",
          "text": [
            "SUCCESS: 2024_TK1_Putusan_PN_SURABAYA_Nomor_78_Pid_Sus-TPK_2024_PN_Sby_Tanggal_16_Desember_2024__Penuntut_Umum_Nur_Ngali_SH_MHTerdakwa_ADRI_YANTO__SE.pdf -> raw_2024_TK1_Putusan_PN_SURABAYA_Nomor_78_Pid_Sus-TPK_2024_PN_Sby_Tanggal_16_Desember_2024__Penuntut_Umum_Nur_Ngali_SH_MHTerdakwa_ADRI_YANTO__SE.txt (464084 chars)\n",
            "[17/116] Processing: 2024_TK1_Putusan_PN_SURABAYA_Nomor_71_Pid_Sus-TPK_2024_PN_Sby_Tanggal_10_Desember_2024__Penuntut_Umum_I_PUTU_KISNU_GUPTA__S_H_Terdakwa_ULIS_DEWI_PURWANTI__S_Pd_.pdf\n"
          ]
        },
        {
          "output_type": "stream",
          "name": "stderr",
          "text": [
            "INFO:text_extraction:Success with pdfminer_basic: 711574 characters\n",
            "INFO:text_extraction:Raw text saved: raw_2024_TK1_Putusan_PN_SURABAYA_Nomor_71_Pid_Sus-TPK_2024_PN_Sby_Tanggal_10_Desember_2024__Penuntut_Umum_I_PUTU_KISNU_GUPTA__S_H_Terdakwa_ULIS_DEWI_PURWANTI__S_Pd_.txt\n",
            "INFO:text_extraction:Extracting from PDF: 2024_TK1_Putusan_PN_SURABAYA_Nomor_70_Pid_Sus-TPK_2024_PN_Sby_Tanggal_10_Desember_2024__Penuntut_Umum_I_PUTU_KISNU_GUPTA__S_H_Terdakwa_MUHAMMAD_ANAS__S_T.pdf\n"
          ]
        },
        {
          "output_type": "stream",
          "name": "stdout",
          "text": [
            "SUCCESS: 2024_TK1_Putusan_PN_SURABAYA_Nomor_71_Pid_Sus-TPK_2024_PN_Sby_Tanggal_10_Desember_2024__Penuntut_Umum_I_PUTU_KISNU_GUPTA__S_H_Terdakwa_ULIS_DEWI_PURWANTI__S_Pd_.pdf -> raw_2024_TK1_Putusan_PN_SURABAYA_Nomor_71_Pid_Sus-TPK_2024_PN_Sby_Tanggal_10_Desember_2024__Penuntut_Umum_I_PUTU_KISNU_GUPTA__S_H_Terdakwa_ULIS_DEWI_PURWANTI__S_Pd_.txt (711574 chars)\n",
            "[18/116] Processing: 2024_TK1_Putusan_PN_SURABAYA_Nomor_70_Pid_Sus-TPK_2024_PN_Sby_Tanggal_10_Desember_2024__Penuntut_Umum_I_PUTU_KISNU_GUPTA__S_H_Terdakwa_MUHAMMAD_ANAS__S_T.pdf\n"
          ]
        },
        {
          "output_type": "stream",
          "name": "stderr",
          "text": [
            "INFO:text_extraction:Success with pdfminer_basic: 707226 characters\n",
            "INFO:text_extraction:Raw text saved: raw_2024_TK1_Putusan_PN_SURABAYA_Nomor_70_Pid_Sus-TPK_2024_PN_Sby_Tanggal_10_Desember_2024__Penuntut_Umum_I_PUTU_KISNU_GUPTA__S_H_Terdakwa_MUHAMMAD_ANAS__S_T.txt\n",
            "INFO:text_extraction:Extracting from PDF: 2024_TK1_Putusan_PN_SURABAYA_Nomor_80_Pid_Sus-TPK_2024_PN_Sby_Tanggal_9_Desember_2024__Penuntut_Umum_ANTON_WAHYUDI__S_H___MHTerdakwa_RUDI_YUSWANTO.pdf\n"
          ]
        },
        {
          "output_type": "stream",
          "name": "stdout",
          "text": [
            "SUCCESS: 2024_TK1_Putusan_PN_SURABAYA_Nomor_70_Pid_Sus-TPK_2024_PN_Sby_Tanggal_10_Desember_2024__Penuntut_Umum_I_PUTU_KISNU_GUPTA__S_H_Terdakwa_MUHAMMAD_ANAS__S_T.pdf -> raw_2024_TK1_Putusan_PN_SURABAYA_Nomor_70_Pid_Sus-TPK_2024_PN_Sby_Tanggal_10_Desember_2024__Penuntut_Umum_I_PUTU_KISNU_GUPTA__S_H_Terdakwa_MUHAMMAD_ANAS__S_T.txt (707226 chars)\n",
            "[19/116] Processing: 2024_TK1_Putusan_PN_SURABAYA_Nomor_80_Pid_Sus-TPK_2024_PN_Sby_Tanggal_9_Desember_2024__Penuntut_Umum_ANTON_WAHYUDI__S_H___MHTerdakwa_RUDI_YUSWANTO.pdf\n"
          ]
        },
        {
          "output_type": "stream",
          "name": "stderr",
          "text": [
            "INFO:text_extraction:Success with pdfminer_basic: 903472 characters\n",
            "INFO:text_extraction:Raw text saved: raw_2024_TK1_Putusan_PN_SURABAYA_Nomor_80_Pid_Sus-TPK_2024_PN_Sby_Tanggal_9_Desember_2024__Penuntut_Umum_ANTON_WAHYUDI__S_H___MHTerdakwa_RUDI_YUSWANTO.txt\n",
            "INFO:text_extraction:Extracting from PDF: 2025_TK1_Putusan_PN_JAKARTA_UTARA_Nomor_462_Pdt_P_2025_PN_Jkt_Utr_Tanggal_11_Juni_2025__Pemohon_AMINAH.pdf\n"
          ]
        },
        {
          "output_type": "stream",
          "name": "stdout",
          "text": [
            "SUCCESS: 2024_TK1_Putusan_PN_SURABAYA_Nomor_80_Pid_Sus-TPK_2024_PN_Sby_Tanggal_9_Desember_2024__Penuntut_Umum_ANTON_WAHYUDI__S_H___MHTerdakwa_RUDI_YUSWANTO.pdf -> raw_2024_TK1_Putusan_PN_SURABAYA_Nomor_80_Pid_Sus-TPK_2024_PN_Sby_Tanggal_9_Desember_2024__Penuntut_Umum_ANTON_WAHYUDI__S_H___MHTerdakwa_RUDI_YUSWANTO.txt (903472 chars)\n",
            "[20/116] Processing: 2025_TK1_Putusan_PN_JAKARTA_UTARA_Nomor_462_Pdt_P_2025_PN_Jkt_Utr_Tanggal_11_Juni_2025__Pemohon_AMINAH.pdf\n"
          ]
        },
        {
          "output_type": "stream",
          "name": "stderr",
          "text": [
            "INFO:text_extraction:Success with pdfminer_basic: 27178 characters\n",
            "INFO:text_extraction:Raw text saved: raw_2025_TK1_Putusan_PN_JAKARTA_UTARA_Nomor_462_Pdt_P_2025_PN_Jkt_Utr_Tanggal_11_Juni_2025__Pemohon_AMINAH.txt\n",
            "INFO:text_extraction:Extracting from PDF: 2025_TK1_Putusan_PN_JAKARTA_UTARA_Nomor_451_Pdt_P_2025_PN_Jkt_Utr_Tanggal_11_Juni_2025__Pemohon_RICE_DAMAYANTI.pdf\n"
          ]
        },
        {
          "output_type": "stream",
          "name": "stdout",
          "text": [
            "SUCCESS: 2025_TK1_Putusan_PN_JAKARTA_UTARA_Nomor_462_Pdt_P_2025_PN_Jkt_Utr_Tanggal_11_Juni_2025__Pemohon_AMINAH.pdf -> raw_2025_TK1_Putusan_PN_JAKARTA_UTARA_Nomor_462_Pdt_P_2025_PN_Jkt_Utr_Tanggal_11_Juni_2025__Pemohon_AMINAH.txt (27178 chars)\n",
            "[21/116] Processing: 2025_TK1_Putusan_PN_JAKARTA_UTARA_Nomor_451_Pdt_P_2025_PN_Jkt_Utr_Tanggal_11_Juni_2025__Pemohon_RICE_DAMAYANTI.pdf\n"
          ]
        },
        {
          "output_type": "stream",
          "name": "stderr",
          "text": [
            "INFO:text_extraction:Success with pdfminer_basic: 17633 characters\n",
            "INFO:text_extraction:Raw text saved: raw_2025_TK1_Putusan_PN_JAKARTA_UTARA_Nomor_451_Pdt_P_2025_PN_Jkt_Utr_Tanggal_11_Juni_2025__Pemohon_RICE_DAMAYANTI.txt\n",
            "INFO:text_extraction:Extracting from PDF: 2025_TK1_Putusan_PN_JAKARTA_UTARA_Nomor_440_Pdt_P_2025_PN_Jkt_Utr_Tanggal_11_Juni_2025__Pemohon_MAYMUNAH.pdf\n"
          ]
        },
        {
          "output_type": "stream",
          "name": "stdout",
          "text": [
            "SUCCESS: 2025_TK1_Putusan_PN_JAKARTA_UTARA_Nomor_451_Pdt_P_2025_PN_Jkt_Utr_Tanggal_11_Juni_2025__Pemohon_RICE_DAMAYANTI.pdf -> raw_2025_TK1_Putusan_PN_JAKARTA_UTARA_Nomor_451_Pdt_P_2025_PN_Jkt_Utr_Tanggal_11_Juni_2025__Pemohon_RICE_DAMAYANTI.txt (17633 chars)\n",
            "[22/116] Processing: 2025_TK1_Putusan_PN_JAKARTA_UTARA_Nomor_440_Pdt_P_2025_PN_Jkt_Utr_Tanggal_11_Juni_2025__Pemohon_MAYMUNAH.pdf\n"
          ]
        },
        {
          "output_type": "stream",
          "name": "stderr",
          "text": [
            "INFO:text_extraction:Success with pdfminer_basic: 28707 characters\n",
            "INFO:text_extraction:Raw text saved: raw_2025_TK1_Putusan_PN_JAKARTA_UTARA_Nomor_440_Pdt_P_2025_PN_Jkt_Utr_Tanggal_11_Juni_2025__Pemohon_MAYMUNAH.txt\n",
            "INFO:text_extraction:Extracting from PDF: 2024_TK1_Putusan_PN_SURABAYA_Nomor_82_Pid_Sus-TPK_2024_PN_Sby_Tanggal_9_Desember_2024__Penuntut_Umum_ANTON_WAHYUDI__S_H___MHTerdakwa_FARID_RIZA_MAULANA.pdf\n"
          ]
        },
        {
          "output_type": "stream",
          "name": "stdout",
          "text": [
            "SUCCESS: 2025_TK1_Putusan_PN_JAKARTA_UTARA_Nomor_440_Pdt_P_2025_PN_Jkt_Utr_Tanggal_11_Juni_2025__Pemohon_MAYMUNAH.pdf -> raw_2025_TK1_Putusan_PN_JAKARTA_UTARA_Nomor_440_Pdt_P_2025_PN_Jkt_Utr_Tanggal_11_Juni_2025__Pemohon_MAYMUNAH.txt (28707 chars)\n",
            "[23/116] Processing: 2024_TK1_Putusan_PN_SURABAYA_Nomor_82_Pid_Sus-TPK_2024_PN_Sby_Tanggal_9_Desember_2024__Penuntut_Umum_ANTON_WAHYUDI__S_H___MHTerdakwa_FARID_RIZA_MAULANA.pdf\n"
          ]
        },
        {
          "output_type": "stream",
          "name": "stderr",
          "text": [
            "INFO:text_extraction:Success with pdfminer_basic: 863393 characters\n",
            "INFO:text_extraction:Raw text saved: raw_2024_TK1_Putusan_PN_SURABAYA_Nomor_82_Pid_Sus-TPK_2024_PN_Sby_Tanggal_9_Desember_2024__Penuntut_Umum_ANTON_WAHYUDI__S_H___MHTerdakwa_FARID_RIZA_MAULANA.txt\n",
            "INFO:text_extraction:Extracting from PDF: 2024_TK1_Putusan_PN_SURABAYA_Nomor_81_Pid_Sus-TPK_2024_PN_Sby_Tanggal_9_Desember_2024__Penuntut_Umum_ANTON_WAHYUDI__S_H___MHTerdakwa_Ir__HENDRO_BUDI_SUSATYO.pdf\n"
          ]
        },
        {
          "output_type": "stream",
          "name": "stdout",
          "text": [
            "SUCCESS: 2024_TK1_Putusan_PN_SURABAYA_Nomor_82_Pid_Sus-TPK_2024_PN_Sby_Tanggal_9_Desember_2024__Penuntut_Umum_ANTON_WAHYUDI__S_H___MHTerdakwa_FARID_RIZA_MAULANA.pdf -> raw_2024_TK1_Putusan_PN_SURABAYA_Nomor_82_Pid_Sus-TPK_2024_PN_Sby_Tanggal_9_Desember_2024__Penuntut_Umum_ANTON_WAHYUDI__S_H___MHTerdakwa_FARID_RIZA_MAULANA.txt (863393 chars)\n",
            "[24/116] Processing: 2024_TK1_Putusan_PN_SURABAYA_Nomor_81_Pid_Sus-TPK_2024_PN_Sby_Tanggal_9_Desember_2024__Penuntut_Umum_ANTON_WAHYUDI__S_H___MHTerdakwa_Ir__HENDRO_BUDI_SUSATYO.pdf\n"
          ]
        },
        {
          "output_type": "stream",
          "name": "stderr",
          "text": [
            "INFO:text_extraction:Success with pdfminer_basic: 878124 characters\n",
            "INFO:text_extraction:Raw text saved: raw_2024_TK1_Putusan_PN_SURABAYA_Nomor_81_Pid_Sus-TPK_2024_PN_Sby_Tanggal_9_Desember_2024__Penuntut_Umum_ANTON_WAHYUDI__S_H___MHTerdakwa_Ir__HENDRO_BUDI_SUSATYO.txt\n",
            "INFO:text_extraction:Extracting from PDF: 2024_TK1_Putusan_PN_SURABAYA_Nomor_67_Pid_Sus-TPK_2024_PN_Sby_Tanggal_6_Desember_2024__Penuntut_Umum__SLAMET_PUJIONO__SH_Terdakwa__Ir__EDWIN_FITRIANTO__MM_.pdf\n"
          ]
        },
        {
          "output_type": "stream",
          "name": "stdout",
          "text": [
            "SUCCESS: 2024_TK1_Putusan_PN_SURABAYA_Nomor_81_Pid_Sus-TPK_2024_PN_Sby_Tanggal_9_Desember_2024__Penuntut_Umum_ANTON_WAHYUDI__S_H___MHTerdakwa_Ir__HENDRO_BUDI_SUSATYO.pdf -> raw_2024_TK1_Putusan_PN_SURABAYA_Nomor_81_Pid_Sus-TPK_2024_PN_Sby_Tanggal_9_Desember_2024__Penuntut_Umum_ANTON_WAHYUDI__S_H___MHTerdakwa_Ir__HENDRO_BUDI_SUSATYO.txt (878124 chars)\n",
            "[25/116] Processing: 2024_TK1_Putusan_PN_SURABAYA_Nomor_67_Pid_Sus-TPK_2024_PN_Sby_Tanggal_6_Desember_2024__Penuntut_Umum__SLAMET_PUJIONO__SH_Terdakwa__Ir__EDWIN_FITRIANTO__MM_.pdf\n"
          ]
        },
        {
          "output_type": "stream",
          "name": "stderr",
          "text": [
            "INFO:text_extraction:Success with pdfminer_basic: 2067058 characters\n",
            "INFO:text_extraction:Raw text saved: raw_2024_TK1_Putusan_PN_SURABAYA_Nomor_67_Pid_Sus-TPK_2024_PN_Sby_Tanggal_6_Desember_2024__Penuntut_Umum__SLAMET_PUJIONO__SH_Terdakwa__Ir__EDWIN_FITRIANTO__MM_.txt\n",
            "INFO:text_extraction:Extracting from PDF: 2024_TK1_Putusan_PN_SURABAYA_Nomor_68_Pid_Sus-TPK_2024_PN_Sby_Tanggal_6_Desember_2024__Penuntut_Umum_SLAMET_PUJIONO__SHTerdakwa_SUBEKI_bin_KASTUBI.pdf\n"
          ]
        },
        {
          "output_type": "stream",
          "name": "stdout",
          "text": [
            "SUCCESS: 2024_TK1_Putusan_PN_SURABAYA_Nomor_67_Pid_Sus-TPK_2024_PN_Sby_Tanggal_6_Desember_2024__Penuntut_Umum__SLAMET_PUJIONO__SH_Terdakwa__Ir__EDWIN_FITRIANTO__MM_.pdf -> raw_2024_TK1_Putusan_PN_SURABAYA_Nomor_67_Pid_Sus-TPK_2024_PN_Sby_Tanggal_6_Desember_2024__Penuntut_Umum__SLAMET_PUJIONO__SH_Terdakwa__Ir__EDWIN_FITRIANTO__MM_.txt (2067058 chars)\n",
            "[26/116] Processing: 2024_TK1_Putusan_PN_SURABAYA_Nomor_68_Pid_Sus-TPK_2024_PN_Sby_Tanggal_6_Desember_2024__Penuntut_Umum_SLAMET_PUJIONO__SHTerdakwa_SUBEKI_bin_KASTUBI.pdf\n"
          ]
        },
        {
          "output_type": "stream",
          "name": "stderr",
          "text": [
            "INFO:text_extraction:Success with pdfminer_basic: 1859675 characters\n",
            "INFO:text_extraction:Raw text saved: raw_2024_TK1_Putusan_PN_SURABAYA_Nomor_68_Pid_Sus-TPK_2024_PN_Sby_Tanggal_6_Desember_2024__Penuntut_Umum_SLAMET_PUJIONO__SHTerdakwa_SUBEKI_bin_KASTUBI.txt\n",
            "INFO:text_extraction:Extracting from PDF: 2024_TK1_Putusan_PN_SURABAYA_Nomor_87_Pid_Sus-TPK_2024_PN_Sby_Tanggal_6_Desember_2024__Penuntut_Umum_GIGIH_BENAH_RENDRA__SH___MHTerdakwa_RIBUT_GESTARINI_BINTI_ALM_SOEMADI.pdf\n"
          ]
        },
        {
          "output_type": "stream",
          "name": "stdout",
          "text": [
            "SUCCESS: 2024_TK1_Putusan_PN_SURABAYA_Nomor_68_Pid_Sus-TPK_2024_PN_Sby_Tanggal_6_Desember_2024__Penuntut_Umum_SLAMET_PUJIONO__SHTerdakwa_SUBEKI_bin_KASTUBI.pdf -> raw_2024_TK1_Putusan_PN_SURABAYA_Nomor_68_Pid_Sus-TPK_2024_PN_Sby_Tanggal_6_Desember_2024__Penuntut_Umum_SLAMET_PUJIONO__SHTerdakwa_SUBEKI_bin_KASTUBI.txt (1859675 chars)\n",
            "[27/116] Processing: 2024_TK1_Putusan_PN_SURABAYA_Nomor_87_Pid_Sus-TPK_2024_PN_Sby_Tanggal_6_Desember_2024__Penuntut_Umum_GIGIH_BENAH_RENDRA__SH___MHTerdakwa_RIBUT_GESTARINI_BINTI_ALM_SOEMADI.pdf\n"
          ]
        },
        {
          "output_type": "stream",
          "name": "stderr",
          "text": [
            "INFO:text_extraction:Success with pdfminer_basic: 1558689 characters\n",
            "INFO:text_extraction:Raw text saved: raw_2024_TK1_Putusan_PN_SURABAYA_Nomor_87_Pid_Sus-TPK_2024_PN_Sby_Tanggal_6_Desember_2024__Penuntut_Umum_GIGIH_BENAH_RENDRA__SH___MHTerdakwa_RIBUT_GESTARINI_BINTI_ALM_SOEMADI.txt\n",
            "INFO:text_extraction:Extracting from PDF: 2024_TK1_Putusan_PN_SURABAYA_Nomor_69_Pid_Sus-TPK_2024_PN_Sby_Tanggal_6_Desember_2024__Penuntut_Umum_SLAMET_PUJIONO__SHTerdakwa_TEGUH_LAKSONO.pdf\n"
          ]
        },
        {
          "output_type": "stream",
          "name": "stdout",
          "text": [
            "SUCCESS: 2024_TK1_Putusan_PN_SURABAYA_Nomor_87_Pid_Sus-TPK_2024_PN_Sby_Tanggal_6_Desember_2024__Penuntut_Umum_GIGIH_BENAH_RENDRA__SH___MHTerdakwa_RIBUT_GESTARINI_BINTI_ALM_SOEMADI.pdf -> raw_2024_TK1_Putusan_PN_SURABAYA_Nomor_87_Pid_Sus-TPK_2024_PN_Sby_Tanggal_6_Desember_2024__Penuntut_Umum_GIGIH_BENAH_RENDRA__SH___MHTerdakwa_RIBUT_GESTARINI_BINTI_ALM_SOEMADI.txt (1558689 chars)\n",
            "[28/116] Processing: 2024_TK1_Putusan_PN_SURABAYA_Nomor_69_Pid_Sus-TPK_2024_PN_Sby_Tanggal_6_Desember_2024__Penuntut_Umum_SLAMET_PUJIONO__SHTerdakwa_TEGUH_LAKSONO.pdf\n"
          ]
        },
        {
          "output_type": "stream",
          "name": "stderr",
          "text": [
            "INFO:text_extraction:Success with pdfminer_basic: 1843688 characters\n",
            "INFO:text_extraction:Raw text saved: raw_2024_TK1_Putusan_PN_SURABAYA_Nomor_69_Pid_Sus-TPK_2024_PN_Sby_Tanggal_6_Desember_2024__Penuntut_Umum_SLAMET_PUJIONO__SHTerdakwa_TEGUH_LAKSONO.txt\n",
            "INFO:text_extraction:Extracting from PDF: 2024_TK1_Putusan_PN_SURABAYA_Nomor_66_Pid_Sus-TPK_2024_PN_Sby_Tanggal_25_Nopember_2024__Penuntut_Umum_GEO_DWI_NOVRIAN__SHTerdakwa_IKHWAN_AROFIDANA__SE_bin_H__HASAN_ANWAR_alm.pdf\n"
          ]
        },
        {
          "output_type": "stream",
          "name": "stdout",
          "text": [
            "SUCCESS: 2024_TK1_Putusan_PN_SURABAYA_Nomor_69_Pid_Sus-TPK_2024_PN_Sby_Tanggal_6_Desember_2024__Penuntut_Umum_SLAMET_PUJIONO__SHTerdakwa_TEGUH_LAKSONO.pdf -> raw_2024_TK1_Putusan_PN_SURABAYA_Nomor_69_Pid_Sus-TPK_2024_PN_Sby_Tanggal_6_Desember_2024__Penuntut_Umum_SLAMET_PUJIONO__SHTerdakwa_TEGUH_LAKSONO.txt (1843688 chars)\n",
            "[29/116] Processing: 2024_TK1_Putusan_PN_SURABAYA_Nomor_66_Pid_Sus-TPK_2024_PN_Sby_Tanggal_25_Nopember_2024__Penuntut_Umum_GEO_DWI_NOVRIAN__SHTerdakwa_IKHWAN_AROFIDANA__SE_bin_H__HASAN_ANWAR_alm.pdf\n"
          ]
        },
        {
          "output_type": "stream",
          "name": "stderr",
          "text": [
            "INFO:text_extraction:Success with pdfminer_basic: 377715 characters\n",
            "INFO:text_extraction:Raw text saved: raw_2024_TK1_Putusan_PN_SURABAYA_Nomor_66_Pid_Sus-TPK_2024_PN_Sby_Tanggal_25_Nopember_2024__Penuntut_Umum_GEO_DWI_NOVRIAN__SHTerdakwa_IKHWAN_AROFIDANA__SE_bin_H__HASAN_ANWAR_alm.txt\n",
            "INFO:text_extraction:Extracting from PDF: 2024_TK1_Putusan_PN_SURABAYA_Nomor_65_Pid_Sus-TPK_2024_PN_Sby_Tanggal_19_Nopember_2024__Penuntut_Umum_Moch__Taufiq_Ismail__S_HTerdakwa_MUSTAQIM__S_T__BIN_MUSLIMIN_HAG_ALM.pdf\n"
          ]
        },
        {
          "output_type": "stream",
          "name": "stdout",
          "text": [
            "SUCCESS: 2024_TK1_Putusan_PN_SURABAYA_Nomor_66_Pid_Sus-TPK_2024_PN_Sby_Tanggal_25_Nopember_2024__Penuntut_Umum_GEO_DWI_NOVRIAN__SHTerdakwa_IKHWAN_AROFIDANA__SE_bin_H__HASAN_ANWAR_alm.pdf -> raw_2024_TK1_Putusan_PN_SURABAYA_Nomor_66_Pid_Sus-TPK_2024_PN_Sby_Tanggal_25_Nopember_2024__Penuntut_Umum_GEO_DWI_NOVRIAN__SHTerdakwa_IKHWAN_AROFIDANA__SE_bin_H__HASAN_ANWAR_alm.txt (377715 chars)\n",
            "[30/116] Processing: 2024_TK1_Putusan_PN_SURABAYA_Nomor_65_Pid_Sus-TPK_2024_PN_Sby_Tanggal_19_Nopember_2024__Penuntut_Umum_Moch__Taufiq_Ismail__S_HTerdakwa_MUSTAQIM__S_T__BIN_MUSLIMIN_HAG_ALM.pdf\n"
          ]
        },
        {
          "output_type": "stream",
          "name": "stderr",
          "text": [
            "INFO:text_extraction:Success with pdfminer_basic: 772466 characters\n",
            "INFO:text_extraction:Raw text saved: raw_2024_TK1_Putusan_PN_SURABAYA_Nomor_65_Pid_Sus-TPK_2024_PN_Sby_Tanggal_19_Nopember_2024__Penuntut_Umum_Moch__Taufiq_Ismail__S_HTerdakwa_MUSTAQIM__S_T__BIN_MUSLIMIN_HAG_ALM.txt\n",
            "INFO:text_extraction:Extracting from PDF: 2024_TK1_Putusan_PN_SURABAYA_Nomor_94_Pid_Sus-TPK_2024_PN_Sby_Tanggal_14_Nopember_2024__Penuntut_Umum_ANDHIKA_NUGRAHA_TRIPUTRA__SE__SH__MHTerdakwa_SUDIYANTO_bin_BROTO_alm.pdf\n"
          ]
        },
        {
          "output_type": "stream",
          "name": "stdout",
          "text": [
            "SUCCESS: 2024_TK1_Putusan_PN_SURABAYA_Nomor_65_Pid_Sus-TPK_2024_PN_Sby_Tanggal_19_Nopember_2024__Penuntut_Umum_Moch__Taufiq_Ismail__S_HTerdakwa_MUSTAQIM__S_T__BIN_MUSLIMIN_HAG_ALM.pdf -> raw_2024_TK1_Putusan_PN_SURABAYA_Nomor_65_Pid_Sus-TPK_2024_PN_Sby_Tanggal_19_Nopember_2024__Penuntut_Umum_Moch__Taufiq_Ismail__S_HTerdakwa_MUSTAQIM__S_T__BIN_MUSLIMIN_HAG_ALM.txt (772466 chars)\n",
            "[31/116] Processing: 2024_TK1_Putusan_PN_SURABAYA_Nomor_94_Pid_Sus-TPK_2024_PN_Sby_Tanggal_14_Nopember_2024__Penuntut_Umum_ANDHIKA_NUGRAHA_TRIPUTRA__SE__SH__MHTerdakwa_SUDIYANTO_bin_BROTO_alm.pdf\n"
          ]
        },
        {
          "output_type": "stream",
          "name": "stderr",
          "text": [
            "INFO:text_extraction:Success with pdfminer_basic: 392529 characters\n",
            "INFO:text_extraction:Raw text saved: raw_2024_TK1_Putusan_PN_SURABAYA_Nomor_94_Pid_Sus-TPK_2024_PN_Sby_Tanggal_14_Nopember_2024__Penuntut_Umum_ANDHIKA_NUGRAHA_TRIPUTRA__SE__SH__MHTerdakwa_SUDIYANTO_bin_BROTO_alm.txt\n",
            "INFO:text_extraction:Extracting from PDF: 2024_TK1_Putusan_PN_SURABAYA_Nomor_48_Pid_Sus-TPK_2024_PN_Sby_Tanggal_22_Oktober_2024__Penuntut_Umum_DINAR_H_C_H_WOLEKA__SHTerdakwa_1_HADI_SUYANTO__S_E2_SUWARNO__S_Sos.pdf\n"
          ]
        },
        {
          "output_type": "stream",
          "name": "stdout",
          "text": [
            "SUCCESS: 2024_TK1_Putusan_PN_SURABAYA_Nomor_94_Pid_Sus-TPK_2024_PN_Sby_Tanggal_14_Nopember_2024__Penuntut_Umum_ANDHIKA_NUGRAHA_TRIPUTRA__SE__SH__MHTerdakwa_SUDIYANTO_bin_BROTO_alm.pdf -> raw_2024_TK1_Putusan_PN_SURABAYA_Nomor_94_Pid_Sus-TPK_2024_PN_Sby_Tanggal_14_Nopember_2024__Penuntut_Umum_ANDHIKA_NUGRAHA_TRIPUTRA__SE__SH__MHTerdakwa_SUDIYANTO_bin_BROTO_alm.txt (392529 chars)\n",
            "[32/116] Processing: 2024_TK1_Putusan_PN_SURABAYA_Nomor_48_Pid_Sus-TPK_2024_PN_Sby_Tanggal_22_Oktober_2024__Penuntut_Umum_DINAR_H_C_H_WOLEKA__SHTerdakwa_1_HADI_SUYANTO__S_E2_SUWARNO__S_Sos.pdf\n"
          ]
        },
        {
          "output_type": "stream",
          "name": "stderr",
          "text": [
            "INFO:text_extraction:Success with pdfminer_basic: 734734 characters\n",
            "INFO:text_extraction:Raw text saved: raw_2024_TK1_Putusan_PN_SURABAYA_Nomor_48_Pid_Sus-TPK_2024_PN_Sby_Tanggal_22_Oktober_2024__Penuntut_Umum_DINAR_H_C_H_WOLEKA__SHTerdakwa_1_HADI_SUYANTO__S_E2_SUWARNO__S_Sos.txt\n",
            "INFO:text_extraction:Extracting from PDF: 2024_TK1_Putusan_PN_SURABAYA_Nomor_60_Pid_Sus-TPK_2024_PN_Sby_Tanggal_18_Oktober_2024__Penuntut_Umum_Martina_Peristyanti__S_H___MBATerdakwa_Drs__Wonggo_Prayitno__MM_.pdf\n"
          ]
        },
        {
          "output_type": "stream",
          "name": "stdout",
          "text": [
            "SUCCESS: 2024_TK1_Putusan_PN_SURABAYA_Nomor_48_Pid_Sus-TPK_2024_PN_Sby_Tanggal_22_Oktober_2024__Penuntut_Umum_DINAR_H_C_H_WOLEKA__SHTerdakwa_1_HADI_SUYANTO__S_E2_SUWARNO__S_Sos.pdf -> raw_2024_TK1_Putusan_PN_SURABAYA_Nomor_48_Pid_Sus-TPK_2024_PN_Sby_Tanggal_22_Oktober_2024__Penuntut_Umum_DINAR_H_C_H_WOLEKA__SHTerdakwa_1_HADI_SUYANTO__S_E2_SUWARNO__S_Sos.txt (734734 chars)\n",
            "[33/116] Processing: 2024_TK1_Putusan_PN_SURABAYA_Nomor_60_Pid_Sus-TPK_2024_PN_Sby_Tanggal_18_Oktober_2024__Penuntut_Umum_Martina_Peristyanti__S_H___MBATerdakwa_Drs__Wonggo_Prayitno__MM_.pdf\n"
          ]
        },
        {
          "output_type": "stream",
          "name": "stderr",
          "text": [
            "INFO:text_extraction:Success with pdfminer_basic: 1269435 characters\n",
            "INFO:text_extraction:Raw text saved: raw_2024_TK1_Putusan_PN_SURABAYA_Nomor_60_Pid_Sus-TPK_2024_PN_Sby_Tanggal_18_Oktober_2024__Penuntut_Umum_Martina_Peristyanti__S_H___MBATerdakwa_Drs__Wonggo_Prayitno__MM_.txt\n",
            "INFO:text_extraction:Extracting from PDF: 2024_TK1_Putusan_PN_SURABAYA_Nomor_43_Pid_Sus-TPK_2024_PN_Sby_Tanggal_18_Oktober_2024__Penuntut_Umum_SRI_HANI_SUSILO__S_HTerdakwa_ANDRY_SETYO_PURWANTORO.pdf\n"
          ]
        },
        {
          "output_type": "stream",
          "name": "stdout",
          "text": [
            "SUCCESS: 2024_TK1_Putusan_PN_SURABAYA_Nomor_60_Pid_Sus-TPK_2024_PN_Sby_Tanggal_18_Oktober_2024__Penuntut_Umum_Martina_Peristyanti__S_H___MBATerdakwa_Drs__Wonggo_Prayitno__MM_.pdf -> raw_2024_TK1_Putusan_PN_SURABAYA_Nomor_60_Pid_Sus-TPK_2024_PN_Sby_Tanggal_18_Oktober_2024__Penuntut_Umum_Martina_Peristyanti__S_H___MBATerdakwa_Drs__Wonggo_Prayitno__MM_.txt (1269435 chars)\n",
            "[34/116] Processing: 2024_TK1_Putusan_PN_SURABAYA_Nomor_43_Pid_Sus-TPK_2024_PN_Sby_Tanggal_18_Oktober_2024__Penuntut_Umum_SRI_HANI_SUSILO__S_HTerdakwa_ANDRY_SETYO_PURWANTORO.pdf\n"
          ]
        },
        {
          "output_type": "stream",
          "name": "stderr",
          "text": [
            "INFO:text_extraction:Success with pdfminer_basic: 721398 characters\n",
            "INFO:text_extraction:Raw text saved: raw_2024_TK1_Putusan_PN_SURABAYA_Nomor_43_Pid_Sus-TPK_2024_PN_Sby_Tanggal_18_Oktober_2024__Penuntut_Umum_SRI_HANI_SUSILO__S_HTerdakwa_ANDRY_SETYO_PURWANTORO.txt\n",
            "INFO:text_extraction:Extracting from PDF: 2024_TK1_Putusan_PN_SURABAYA_Nomor_56_Pid_Sus-TPK_2024_PN_Sby_Tanggal_18_Oktober_2024__Penuntut_Umum_YAN_ASWARI__S_H___M_HTerdakwa_BAMBANG_PARIKENAN.pdf\n"
          ]
        },
        {
          "output_type": "stream",
          "name": "stdout",
          "text": [
            "SUCCESS: 2024_TK1_Putusan_PN_SURABAYA_Nomor_43_Pid_Sus-TPK_2024_PN_Sby_Tanggal_18_Oktober_2024__Penuntut_Umum_SRI_HANI_SUSILO__S_HTerdakwa_ANDRY_SETYO_PURWANTORO.pdf -> raw_2024_TK1_Putusan_PN_SURABAYA_Nomor_43_Pid_Sus-TPK_2024_PN_Sby_Tanggal_18_Oktober_2024__Penuntut_Umum_SRI_HANI_SUSILO__S_HTerdakwa_ANDRY_SETYO_PURWANTORO.txt (721398 chars)\n",
            "[35/116] Processing: 2024_TK1_Putusan_PN_SURABAYA_Nomor_56_Pid_Sus-TPK_2024_PN_Sby_Tanggal_18_Oktober_2024__Penuntut_Umum_YAN_ASWARI__S_H___M_HTerdakwa_BAMBANG_PARIKENAN.pdf\n"
          ]
        },
        {
          "output_type": "stream",
          "name": "stderr",
          "text": [
            "INFO:text_extraction:Success with pdfminer_basic: 570010 characters\n",
            "INFO:text_extraction:Raw text saved: raw_2024_TK1_Putusan_PN_SURABAYA_Nomor_56_Pid_Sus-TPK_2024_PN_Sby_Tanggal_18_Oktober_2024__Penuntut_Umum_YAN_ASWARI__S_H___M_HTerdakwa_BAMBANG_PARIKENAN.txt\n",
            "INFO:text_extraction:Extracting from PDF: 2024_TK1_Putusan_PN_SURABAYA_Nomor_55_Pid_Sus-TPK_2024_PN_Sby_Tanggal_18_Oktober_2024__Penuntut_Umum_Martina_Peristyanti__S_H___MBATerdakwa_Soemarno_Bin_Pakis.pdf\n"
          ]
        },
        {
          "output_type": "stream",
          "name": "stdout",
          "text": [
            "SUCCESS: 2024_TK1_Putusan_PN_SURABAYA_Nomor_56_Pid_Sus-TPK_2024_PN_Sby_Tanggal_18_Oktober_2024__Penuntut_Umum_YAN_ASWARI__S_H___M_HTerdakwa_BAMBANG_PARIKENAN.pdf -> raw_2024_TK1_Putusan_PN_SURABAYA_Nomor_56_Pid_Sus-TPK_2024_PN_Sby_Tanggal_18_Oktober_2024__Penuntut_Umum_YAN_ASWARI__S_H___M_HTerdakwa_BAMBANG_PARIKENAN.txt (570010 chars)\n",
            "[36/116] Processing: 2024_TK1_Putusan_PN_SURABAYA_Nomor_55_Pid_Sus-TPK_2024_PN_Sby_Tanggal_18_Oktober_2024__Penuntut_Umum_Martina_Peristyanti__S_H___MBATerdakwa_Soemarno_Bin_Pakis.pdf\n"
          ]
        },
        {
          "output_type": "stream",
          "name": "stderr",
          "text": [
            "INFO:text_extraction:Success with pdfminer_basic: 1190643 characters\n",
            "INFO:text_extraction:Raw text saved: raw_2024_TK1_Putusan_PN_SURABAYA_Nomor_55_Pid_Sus-TPK_2024_PN_Sby_Tanggal_18_Oktober_2024__Penuntut_Umum_Martina_Peristyanti__S_H___MBATerdakwa_Soemarno_Bin_Pakis.txt\n",
            "INFO:text_extraction:Extracting from PDF: 2024_TK1_Putusan_PN_SURABAYA_Nomor_58_Pid_Sus-TPK_2024_PN_Sby_Tanggal_18_Oktober_2024__Penuntut_Umum_I_PUTU_KISNU_GUPTA__S_H_Terdakwa_DWI_FITRIANINGSARI__A_Md.pdf\n"
          ]
        },
        {
          "output_type": "stream",
          "name": "stdout",
          "text": [
            "SUCCESS: 2024_TK1_Putusan_PN_SURABAYA_Nomor_55_Pid_Sus-TPK_2024_PN_Sby_Tanggal_18_Oktober_2024__Penuntut_Umum_Martina_Peristyanti__S_H___MBATerdakwa_Soemarno_Bin_Pakis.pdf -> raw_2024_TK1_Putusan_PN_SURABAYA_Nomor_55_Pid_Sus-TPK_2024_PN_Sby_Tanggal_18_Oktober_2024__Penuntut_Umum_Martina_Peristyanti__S_H___MBATerdakwa_Soemarno_Bin_Pakis.txt (1190643 chars)\n",
            "[37/116] Processing: 2024_TK1_Putusan_PN_SURABAYA_Nomor_58_Pid_Sus-TPK_2024_PN_Sby_Tanggal_18_Oktober_2024__Penuntut_Umum_I_PUTU_KISNU_GUPTA__S_H_Terdakwa_DWI_FITRIANINGSARI__A_Md.pdf\n"
          ]
        },
        {
          "output_type": "stream",
          "name": "stderr",
          "text": [
            "INFO:text_extraction:Success with pdfminer_basic: 548544 characters\n",
            "INFO:text_extraction:Raw text saved: raw_2024_TK1_Putusan_PN_SURABAYA_Nomor_58_Pid_Sus-TPK_2024_PN_Sby_Tanggal_18_Oktober_2024__Penuntut_Umum_I_PUTU_KISNU_GUPTA__S_H_Terdakwa_DWI_FITRIANINGSARI__A_Md.txt\n",
            "INFO:text_extraction:Extracting from PDF: 2024_TK1_Putusan_PN_SURABAYA_Nomor_61_Pid_Sus-TPK_2024_PN_Sby_Tanggal_18_Oktober_2024__Penuntut_Umum_Martina_Peristyanti__S_H___MBATerdakwa_Arya_Lelana_Bin_Imam_Soepardi.pdf\n"
          ]
        },
        {
          "output_type": "stream",
          "name": "stdout",
          "text": [
            "SUCCESS: 2024_TK1_Putusan_PN_SURABAYA_Nomor_58_Pid_Sus-TPK_2024_PN_Sby_Tanggal_18_Oktober_2024__Penuntut_Umum_I_PUTU_KISNU_GUPTA__S_H_Terdakwa_DWI_FITRIANINGSARI__A_Md.pdf -> raw_2024_TK1_Putusan_PN_SURABAYA_Nomor_58_Pid_Sus-TPK_2024_PN_Sby_Tanggal_18_Oktober_2024__Penuntut_Umum_I_PUTU_KISNU_GUPTA__S_H_Terdakwa_DWI_FITRIANINGSARI__A_Md.txt (548544 chars)\n",
            "[38/116] Processing: 2024_TK1_Putusan_PN_SURABAYA_Nomor_61_Pid_Sus-TPK_2024_PN_Sby_Tanggal_18_Oktober_2024__Penuntut_Umum_Martina_Peristyanti__S_H___MBATerdakwa_Arya_Lelana_Bin_Imam_Soepardi.pdf\n"
          ]
        },
        {
          "output_type": "stream",
          "name": "stderr",
          "text": [
            "INFO:text_extraction:Success with pdfminer_basic: 1277314 characters\n",
            "INFO:text_extraction:Raw text saved: raw_2024_TK1_Putusan_PN_SURABAYA_Nomor_61_Pid_Sus-TPK_2024_PN_Sby_Tanggal_18_Oktober_2024__Penuntut_Umum_Martina_Peristyanti__S_H___MBATerdakwa_Arya_Lelana_Bin_Imam_Soepardi.txt\n",
            "INFO:text_extraction:Extracting from PDF: 2024_TK1_Putusan_PN_SURABAYA_Nomor_64_Pid_Sus-TPK_2024_PN_Sby_Tanggal_16_Oktober_2024__Penuntut_Umum_DIAN_PRANATA_DEPARI__S_H__M_HTerdakwa_Unang_Rahardjo_S_H__Bin_Suharyono.pdf\n"
          ]
        },
        {
          "output_type": "stream",
          "name": "stdout",
          "text": [
            "SUCCESS: 2024_TK1_Putusan_PN_SURABAYA_Nomor_61_Pid_Sus-TPK_2024_PN_Sby_Tanggal_18_Oktober_2024__Penuntut_Umum_Martina_Peristyanti__S_H___MBATerdakwa_Arya_Lelana_Bin_Imam_Soepardi.pdf -> raw_2024_TK1_Putusan_PN_SURABAYA_Nomor_61_Pid_Sus-TPK_2024_PN_Sby_Tanggal_18_Oktober_2024__Penuntut_Umum_Martina_Peristyanti__S_H___MBATerdakwa_Arya_Lelana_Bin_Imam_Soepardi.txt (1277314 chars)\n",
            "[39/116] Processing: 2024_TK1_Putusan_PN_SURABAYA_Nomor_64_Pid_Sus-TPK_2024_PN_Sby_Tanggal_16_Oktober_2024__Penuntut_Umum_DIAN_PRANATA_DEPARI__S_H__M_HTerdakwa_Unang_Rahardjo_S_H__Bin_Suharyono.pdf\n"
          ]
        },
        {
          "output_type": "stream",
          "name": "stderr",
          "text": [
            "INFO:text_extraction:Success with pdfminer_basic: 303845 characters\n",
            "INFO:text_extraction:Raw text saved: raw_2024_TK1_Putusan_PN_SURABAYA_Nomor_64_Pid_Sus-TPK_2024_PN_Sby_Tanggal_16_Oktober_2024__Penuntut_Umum_DIAN_PRANATA_DEPARI__S_H__M_HTerdakwa_Unang_Rahardjo_S_H__Bin_Suharyono.txt\n",
            "INFO:text_extraction:Extracting from PDF: 2024_TK1_Putusan_PN_SURABAYA_Nomor_62_Pid_Sus-TPK_2024_PN_Sby_Tanggal_9_Oktober_2024__Penuntut_Umum_ARIF_USMAN__SH__MHTerdakwa_ARI_SURYONO.pdf\n"
          ]
        },
        {
          "output_type": "stream",
          "name": "stdout",
          "text": [
            "SUCCESS: 2024_TK1_Putusan_PN_SURABAYA_Nomor_64_Pid_Sus-TPK_2024_PN_Sby_Tanggal_16_Oktober_2024__Penuntut_Umum_DIAN_PRANATA_DEPARI__S_H__M_HTerdakwa_Unang_Rahardjo_S_H__Bin_Suharyono.pdf -> raw_2024_TK1_Putusan_PN_SURABAYA_Nomor_64_Pid_Sus-TPK_2024_PN_Sby_Tanggal_16_Oktober_2024__Penuntut_Umum_DIAN_PRANATA_DEPARI__S_H__M_HTerdakwa_Unang_Rahardjo_S_H__Bin_Suharyono.txt (303845 chars)\n",
            "[40/116] Processing: 2024_TK1_Putusan_PN_SURABAYA_Nomor_62_Pid_Sus-TPK_2024_PN_Sby_Tanggal_9_Oktober_2024__Penuntut_Umum_ARIF_USMAN__SH__MHTerdakwa_ARI_SURYONO.pdf\n"
          ]
        },
        {
          "output_type": "stream",
          "name": "stderr",
          "text": [
            "INFO:text_extraction:Success with pdfminer_basic: 1392086 characters\n",
            "INFO:text_extraction:Raw text saved: raw_2024_TK1_Putusan_PN_SURABAYA_Nomor_62_Pid_Sus-TPK_2024_PN_Sby_Tanggal_9_Oktober_2024__Penuntut_Umum_ARIF_USMAN__SH__MHTerdakwa_ARI_SURYONO.txt\n",
            "INFO:text_extraction:Extracting from PDF: 2024_TK1_Putusan_PN_SURABAYA_Nomor_45_Pid_Sus-TPK_2024_PN_Sby_Tanggal_9_Oktober_2024__Penuntut_Umum_ARIF_USMAN__SH__MHTerdakwa_SISKA_WATI.pdf\n"
          ]
        },
        {
          "output_type": "stream",
          "name": "stdout",
          "text": [
            "SUCCESS: 2024_TK1_Putusan_PN_SURABAYA_Nomor_62_Pid_Sus-TPK_2024_PN_Sby_Tanggal_9_Oktober_2024__Penuntut_Umum_ARIF_USMAN__SH__MHTerdakwa_ARI_SURYONO.pdf -> raw_2024_TK1_Putusan_PN_SURABAYA_Nomor_62_Pid_Sus-TPK_2024_PN_Sby_Tanggal_9_Oktober_2024__Penuntut_Umum_ARIF_USMAN__SH__MHTerdakwa_ARI_SURYONO.txt (1392086 chars)\n",
            "[41/116] Processing: 2024_TK1_Putusan_PN_SURABAYA_Nomor_45_Pid_Sus-TPK_2024_PN_Sby_Tanggal_9_Oktober_2024__Penuntut_Umum_ARIF_USMAN__SH__MHTerdakwa_SISKA_WATI.pdf\n"
          ]
        },
        {
          "output_type": "stream",
          "name": "stderr",
          "text": [
            "INFO:text_extraction:Success with pdfminer_basic: 866293 characters\n",
            "INFO:text_extraction:Raw text saved: raw_2024_TK1_Putusan_PN_SURABAYA_Nomor_45_Pid_Sus-TPK_2024_PN_Sby_Tanggal_9_Oktober_2024__Penuntut_Umum_ARIF_USMAN__SH__MHTerdakwa_SISKA_WATI.txt\n",
            "INFO:text_extraction:Extracting from PDF: 2024_TK1_Putusan_PN_SURABAYA_Nomor_59_Pid_Sus-TPK_2024_PN_Sby_Tanggal_3_Oktober_2024__Penuntut_Umum_I_PUTU_KISNU_GUPTA__S_H_Terdakwa_ISTAFUDIN__S_H.pdf\n"
          ]
        },
        {
          "output_type": "stream",
          "name": "stdout",
          "text": [
            "SUCCESS: 2024_TK1_Putusan_PN_SURABAYA_Nomor_45_Pid_Sus-TPK_2024_PN_Sby_Tanggal_9_Oktober_2024__Penuntut_Umum_ARIF_USMAN__SH__MHTerdakwa_SISKA_WATI.pdf -> raw_2024_TK1_Putusan_PN_SURABAYA_Nomor_45_Pid_Sus-TPK_2024_PN_Sby_Tanggal_9_Oktober_2024__Penuntut_Umum_ARIF_USMAN__SH__MHTerdakwa_SISKA_WATI.txt (866293 chars)\n",
            "[42/116] Processing: 2024_TK1_Putusan_PN_SURABAYA_Nomor_59_Pid_Sus-TPK_2024_PN_Sby_Tanggal_3_Oktober_2024__Penuntut_Umum_I_PUTU_KISNU_GUPTA__S_H_Terdakwa_ISTAFUDIN__S_H.pdf\n"
          ]
        },
        {
          "output_type": "stream",
          "name": "stderr",
          "text": [
            "INFO:text_extraction:Success with pdfminer_basic: 498214 characters\n",
            "INFO:text_extraction:Raw text saved: raw_2024_TK1_Putusan_PN_SURABAYA_Nomor_59_Pid_Sus-TPK_2024_PN_Sby_Tanggal_3_Oktober_2024__Penuntut_Umum_I_PUTU_KISNU_GUPTA__S_H_Terdakwa_ISTAFUDIN__S_H.txt\n",
            "INFO:text_extraction:Extracting from PDF: 2024_TK1_Putusan_PN_SURABAYA_Nomor_38_Pid_Sus-TPK_2024_PN_Sby_Tanggal_2_Oktober_2024__Penuntut_Umum_ALIFIN_NURAHMANA_WANDA__S_HTerdakwa_Dra__MALAHATUL_FARDAH__M_M_.pdf\n"
          ]
        },
        {
          "output_type": "stream",
          "name": "stdout",
          "text": [
            "SUCCESS: 2024_TK1_Putusan_PN_SURABAYA_Nomor_59_Pid_Sus-TPK_2024_PN_Sby_Tanggal_3_Oktober_2024__Penuntut_Umum_I_PUTU_KISNU_GUPTA__S_H_Terdakwa_ISTAFUDIN__S_H.pdf -> raw_2024_TK1_Putusan_PN_SURABAYA_Nomor_59_Pid_Sus-TPK_2024_PN_Sby_Tanggal_3_Oktober_2024__Penuntut_Umum_I_PUTU_KISNU_GUPTA__S_H_Terdakwa_ISTAFUDIN__S_H.txt (498214 chars)\n",
            "[43/116] Processing: 2024_TK1_Putusan_PN_SURABAYA_Nomor_38_Pid_Sus-TPK_2024_PN_Sby_Tanggal_2_Oktober_2024__Penuntut_Umum_ALIFIN_NURAHMANA_WANDA__S_HTerdakwa_Dra__MALAHATUL_FARDAH__M_M_.pdf\n"
          ]
        },
        {
          "output_type": "stream",
          "name": "stderr",
          "text": [
            "INFO:text_extraction:Success with pdfminer_basic: 773653 characters\n",
            "INFO:text_extraction:Raw text saved: raw_2024_TK1_Putusan_PN_SURABAYA_Nomor_38_Pid_Sus-TPK_2024_PN_Sby_Tanggal_2_Oktober_2024__Penuntut_Umum_ALIFIN_NURAHMANA_WANDA__S_HTerdakwa_Dra__MALAHATUL_FARDAH__M_M_.txt\n",
            "INFO:text_extraction:Extracting from PDF: 2024_TK1_Putusan_PN_SURABAYA_Nomor_37_Pid_Sus-TPK_2024_PN_Sby_Tanggal_2_Oktober_2024__Penuntut_Umum_ALIFIN_NURAHMANA_WANDA__S_HTerdakwa_RYAN_FIBRIANTO.pdf\n"
          ]
        },
        {
          "output_type": "stream",
          "name": "stdout",
          "text": [
            "SUCCESS: 2024_TK1_Putusan_PN_SURABAYA_Nomor_38_Pid_Sus-TPK_2024_PN_Sby_Tanggal_2_Oktober_2024__Penuntut_Umum_ALIFIN_NURAHMANA_WANDA__S_HTerdakwa_Dra__MALAHATUL_FARDAH__M_M_.pdf -> raw_2024_TK1_Putusan_PN_SURABAYA_Nomor_38_Pid_Sus-TPK_2024_PN_Sby_Tanggal_2_Oktober_2024__Penuntut_Umum_ALIFIN_NURAHMANA_WANDA__S_HTerdakwa_Dra__MALAHATUL_FARDAH__M_M_.txt (773653 chars)\n",
            "[44/116] Processing: 2024_TK1_Putusan_PN_SURABAYA_Nomor_37_Pid_Sus-TPK_2024_PN_Sby_Tanggal_2_Oktober_2024__Penuntut_Umum_ALIFIN_NURAHMANA_WANDA__S_HTerdakwa_RYAN_FIBRIANTO.pdf\n"
          ]
        },
        {
          "output_type": "stream",
          "name": "stderr",
          "text": [
            "INFO:text_extraction:Success with pdfminer_basic: 696514 characters\n",
            "INFO:text_extraction:Raw text saved: raw_2024_TK1_Putusan_PN_SURABAYA_Nomor_37_Pid_Sus-TPK_2024_PN_Sby_Tanggal_2_Oktober_2024__Penuntut_Umum_ALIFIN_NURAHMANA_WANDA__S_HTerdakwa_RYAN_FIBRIANTO.txt\n",
            "INFO:text_extraction:Extracting from PDF: 2024_TK1_Putusan_PN_SURABAYA_Nomor_41_Pid_Sus-TPK_2024_PN_Sby_Tanggal_1_Oktober_2024__Penuntut_Umum_1_SAMSUL_HADI__SH1_SAMSUL_HADI__SH_Terdakwa_AGUS_DARMANTO_Bin_Alm_MUJITO.pdf\n"
          ]
        },
        {
          "output_type": "stream",
          "name": "stdout",
          "text": [
            "SUCCESS: 2024_TK1_Putusan_PN_SURABAYA_Nomor_37_Pid_Sus-TPK_2024_PN_Sby_Tanggal_2_Oktober_2024__Penuntut_Umum_ALIFIN_NURAHMANA_WANDA__S_HTerdakwa_RYAN_FIBRIANTO.pdf -> raw_2024_TK1_Putusan_PN_SURABAYA_Nomor_37_Pid_Sus-TPK_2024_PN_Sby_Tanggal_2_Oktober_2024__Penuntut_Umum_ALIFIN_NURAHMANA_WANDA__S_HTerdakwa_RYAN_FIBRIANTO.txt (696514 chars)\n",
            "[45/116] Processing: 2024_TK1_Putusan_PN_SURABAYA_Nomor_41_Pid_Sus-TPK_2024_PN_Sby_Tanggal_1_Oktober_2024__Penuntut_Umum_1_SAMSUL_HADI__SH1_SAMSUL_HADI__SH_Terdakwa_AGUS_DARMANTO_Bin_Alm_MUJITO.pdf\n"
          ]
        },
        {
          "output_type": "stream",
          "name": "stderr",
          "text": [
            "INFO:text_extraction:Success with pdfminer_basic: 826283 characters\n",
            "INFO:text_extraction:Raw text saved: raw_2024_TK1_Putusan_PN_SURABAYA_Nomor_41_Pid_Sus-TPK_2024_PN_Sby_Tanggal_1_Oktober_2024__Penuntut_Umum_1_SAMSUL_HADI__SH1_SAMSUL_HADI__SH_Terdakwa_AGUS_DARMANTO_Bin_Alm_MUJITO.txt\n",
            "INFO:text_extraction:Extracting from PDF: 2024_TK1_Putusan_PN_SURABAYA_Nomor_63_Pid_Sus-TPK_2024_PN_Sby_Tanggal_1_Oktober_2024__Penuntut_Umum_ANDHIKA_NUGRAHA_TRIPUTRA__SE__SH__MHTerdakwa_TRAWI.pdf\n"
          ]
        },
        {
          "output_type": "stream",
          "name": "stdout",
          "text": [
            "SUCCESS: 2024_TK1_Putusan_PN_SURABAYA_Nomor_41_Pid_Sus-TPK_2024_PN_Sby_Tanggal_1_Oktober_2024__Penuntut_Umum_1_SAMSUL_HADI__SH1_SAMSUL_HADI__SH_Terdakwa_AGUS_DARMANTO_Bin_Alm_MUJITO.pdf -> raw_2024_TK1_Putusan_PN_SURABAYA_Nomor_41_Pid_Sus-TPK_2024_PN_Sby_Tanggal_1_Oktober_2024__Penuntut_Umum_1_SAMSUL_HADI__SH1_SAMSUL_HADI__SH_Terdakwa_AGUS_DARMANTO_Bin_Alm_MUJITO.txt (826283 chars)\n",
            "[46/116] Processing: 2024_TK1_Putusan_PN_SURABAYA_Nomor_63_Pid_Sus-TPK_2024_PN_Sby_Tanggal_1_Oktober_2024__Penuntut_Umum_ANDHIKA_NUGRAHA_TRIPUTRA__SE__SH__MHTerdakwa_TRAWI.pdf\n"
          ]
        },
        {
          "output_type": "stream",
          "name": "stderr",
          "text": [
            "INFO:text_extraction:Success with pdfminer_basic: 192985 characters\n",
            "INFO:text_extraction:Raw text saved: raw_2024_TK1_Putusan_PN_SURABAYA_Nomor_63_Pid_Sus-TPK_2024_PN_Sby_Tanggal_1_Oktober_2024__Penuntut_Umum_ANDHIKA_NUGRAHA_TRIPUTRA__SE__SH__MHTerdakwa_TRAWI.txt\n",
            "INFO:text_extraction:Extracting from PDF: 2024_TK1_Putusan_PN_SURABAYA_Nomor_51_Pid_Sus-TPK_2024_PN_Sby_Tanggal_20_September_2024__Penuntut_Umum_MUHAMMAD_NIZAR__S_H___M_HTerdakwa_ACH__KHOZAINI_Bin_SUTO.pdf\n"
          ]
        },
        {
          "output_type": "stream",
          "name": "stdout",
          "text": [
            "SUCCESS: 2024_TK1_Putusan_PN_SURABAYA_Nomor_63_Pid_Sus-TPK_2024_PN_Sby_Tanggal_1_Oktober_2024__Penuntut_Umum_ANDHIKA_NUGRAHA_TRIPUTRA__SE__SH__MHTerdakwa_TRAWI.pdf -> raw_2024_TK1_Putusan_PN_SURABAYA_Nomor_63_Pid_Sus-TPK_2024_PN_Sby_Tanggal_1_Oktober_2024__Penuntut_Umum_ANDHIKA_NUGRAHA_TRIPUTRA__SE__SH__MHTerdakwa_TRAWI.txt (192985 chars)\n",
            "[47/116] Processing: 2024_TK1_Putusan_PN_SURABAYA_Nomor_51_Pid_Sus-TPK_2024_PN_Sby_Tanggal_20_September_2024__Penuntut_Umum_MUHAMMAD_NIZAR__S_H___M_HTerdakwa_ACH__KHOZAINI_Bin_SUTO.pdf\n"
          ]
        },
        {
          "output_type": "stream",
          "name": "stderr",
          "text": [
            "INFO:text_extraction:Success with pdfminer_basic: 365415 characters\n",
            "INFO:text_extraction:Raw text saved: raw_2024_TK1_Putusan_PN_SURABAYA_Nomor_51_Pid_Sus-TPK_2024_PN_Sby_Tanggal_20_September_2024__Penuntut_Umum_MUHAMMAD_NIZAR__S_H___M_HTerdakwa_ACH__KHOZAINI_Bin_SUTO.txt\n",
            "INFO:text_extraction:Extracting from PDF: 2024_TK1_Putusan_PN_SURABAYA_Nomor_46_Pid_Sus-TPK_2024_PN_Sby_Tanggal_20_September_2024__Penuntut_Umum_MUHAMMAD_FAKHRY__S_H___M_HTerdakwa_FARID_BIN_MOH__FUDOLI.pdf\n"
          ]
        },
        {
          "output_type": "stream",
          "name": "stdout",
          "text": [
            "SUCCESS: 2024_TK1_Putusan_PN_SURABAYA_Nomor_51_Pid_Sus-TPK_2024_PN_Sby_Tanggal_20_September_2024__Penuntut_Umum_MUHAMMAD_NIZAR__S_H___M_HTerdakwa_ACH__KHOZAINI_Bin_SUTO.pdf -> raw_2024_TK1_Putusan_PN_SURABAYA_Nomor_51_Pid_Sus-TPK_2024_PN_Sby_Tanggal_20_September_2024__Penuntut_Umum_MUHAMMAD_NIZAR__S_H___M_HTerdakwa_ACH__KHOZAINI_Bin_SUTO.txt (365415 chars)\n",
            "[48/116] Processing: 2024_TK1_Putusan_PN_SURABAYA_Nomor_46_Pid_Sus-TPK_2024_PN_Sby_Tanggal_20_September_2024__Penuntut_Umum_MUHAMMAD_FAKHRY__S_H___M_HTerdakwa_FARID_BIN_MOH__FUDOLI.pdf\n"
          ]
        },
        {
          "output_type": "stream",
          "name": "stderr",
          "text": [
            "INFO:text_extraction:Success with pdfminer_basic: 802988 characters\n",
            "INFO:text_extraction:Raw text saved: raw_2024_TK1_Putusan_PN_SURABAYA_Nomor_46_Pid_Sus-TPK_2024_PN_Sby_Tanggal_20_September_2024__Penuntut_Umum_MUHAMMAD_FAKHRY__S_H___M_HTerdakwa_FARID_BIN_MOH__FUDOLI.txt\n",
            "INFO:text_extraction:Extracting from PDF: 2024_TK1_Putusan_PN_SURABAYA_Nomor_34_Pid_Sus-TPK_2024_PN_Sby_Tanggal_20_September_2024__Penuntut_Umum_ARIO_WIBOWO__S_H___M_H_Terdakwa_HENY_WULANDARI__S_T_.pdf\n"
          ]
        },
        {
          "output_type": "stream",
          "name": "stdout",
          "text": [
            "SUCCESS: 2024_TK1_Putusan_PN_SURABAYA_Nomor_46_Pid_Sus-TPK_2024_PN_Sby_Tanggal_20_September_2024__Penuntut_Umum_MUHAMMAD_FAKHRY__S_H___M_HTerdakwa_FARID_BIN_MOH__FUDOLI.pdf -> raw_2024_TK1_Putusan_PN_SURABAYA_Nomor_46_Pid_Sus-TPK_2024_PN_Sby_Tanggal_20_September_2024__Penuntut_Umum_MUHAMMAD_FAKHRY__S_H___M_HTerdakwa_FARID_BIN_MOH__FUDOLI.txt (802988 chars)\n",
            "[49/116] Processing: 2024_TK1_Putusan_PN_SURABAYA_Nomor_34_Pid_Sus-TPK_2024_PN_Sby_Tanggal_20_September_2024__Penuntut_Umum_ARIO_WIBOWO__S_H___M_H_Terdakwa_HENY_WULANDARI__S_T_.pdf\n"
          ]
        },
        {
          "output_type": "stream",
          "name": "stderr",
          "text": [
            "INFO:text_extraction:Success with pdfminer_basic: 817669 characters\n",
            "INFO:text_extraction:Raw text saved: raw_2024_TK1_Putusan_PN_SURABAYA_Nomor_34_Pid_Sus-TPK_2024_PN_Sby_Tanggal_20_September_2024__Penuntut_Umum_ARIO_WIBOWO__S_H___M_H_Terdakwa_HENY_WULANDARI__S_T_.txt\n",
            "INFO:text_extraction:Extracting from PDF: 2024_TK1_Putusan_PN_SURABAYA_Nomor_47_Pid_Sus-TPK_2024_PN_Sby_Tanggal_20_September_2024__Penuntut_Umum_MUHAMMAD_FAKHRY__S_H___M_HTerdakwa_SITI_AMINA_binti_H__JONI.pdf\n"
          ]
        },
        {
          "output_type": "stream",
          "name": "stdout",
          "text": [
            "SUCCESS: 2024_TK1_Putusan_PN_SURABAYA_Nomor_34_Pid_Sus-TPK_2024_PN_Sby_Tanggal_20_September_2024__Penuntut_Umum_ARIO_WIBOWO__S_H___M_H_Terdakwa_HENY_WULANDARI__S_T_.pdf -> raw_2024_TK1_Putusan_PN_SURABAYA_Nomor_34_Pid_Sus-TPK_2024_PN_Sby_Tanggal_20_September_2024__Penuntut_Umum_ARIO_WIBOWO__S_H___M_H_Terdakwa_HENY_WULANDARI__S_T_.txt (817669 chars)\n",
            "[50/116] Processing: 2024_TK1_Putusan_PN_SURABAYA_Nomor_47_Pid_Sus-TPK_2024_PN_Sby_Tanggal_20_September_2024__Penuntut_Umum_MUHAMMAD_FAKHRY__S_H___M_HTerdakwa_SITI_AMINA_binti_H__JONI.pdf\n"
          ]
        },
        {
          "output_type": "stream",
          "name": "stderr",
          "text": [
            "INFO:text_extraction:Success with pdfminer_basic: 795882 characters\n",
            "INFO:text_extraction:Raw text saved: raw_2024_TK1_Putusan_PN_SURABAYA_Nomor_47_Pid_Sus-TPK_2024_PN_Sby_Tanggal_20_September_2024__Penuntut_Umum_MUHAMMAD_FAKHRY__S_H___M_HTerdakwa_SITI_AMINA_binti_H__JONI.txt\n",
            "INFO:text_extraction:Extracting from PDF: 2024_TK1_Putusan_PN_SURABAYA_Nomor_33_Pid_Sus-TPK_2024_PN_Sby_Tanggal_20_September_2024__Penuntut_Umum_ARIO_WIBOWO__S_H___M_H_Terdakwa_DENI_KADARISMAN_ALIAS_DEDEN.pdf\n"
          ]
        },
        {
          "output_type": "stream",
          "name": "stdout",
          "text": [
            "SUCCESS: 2024_TK1_Putusan_PN_SURABAYA_Nomor_47_Pid_Sus-TPK_2024_PN_Sby_Tanggal_20_September_2024__Penuntut_Umum_MUHAMMAD_FAKHRY__S_H___M_HTerdakwa_SITI_AMINA_binti_H__JONI.pdf -> raw_2024_TK1_Putusan_PN_SURABAYA_Nomor_47_Pid_Sus-TPK_2024_PN_Sby_Tanggal_20_September_2024__Penuntut_Umum_MUHAMMAD_FAKHRY__S_H___M_HTerdakwa_SITI_AMINA_binti_H__JONI.txt (795882 chars)\n",
            "[51/116] Processing: 2024_TK1_Putusan_PN_SURABAYA_Nomor_33_Pid_Sus-TPK_2024_PN_Sby_Tanggal_20_September_2024__Penuntut_Umum_ARIO_WIBOWO__S_H___M_H_Terdakwa_DENI_KADARISMAN_ALIAS_DEDEN.pdf\n"
          ]
        },
        {
          "output_type": "stream",
          "name": "stderr",
          "text": [
            "INFO:text_extraction:Success with pdfminer_basic: 792662 characters\n",
            "INFO:text_extraction:Raw text saved: raw_2024_TK1_Putusan_PN_SURABAYA_Nomor_33_Pid_Sus-TPK_2024_PN_Sby_Tanggal_20_September_2024__Penuntut_Umum_ARIO_WIBOWO__S_H___M_H_Terdakwa_DENI_KADARISMAN_ALIAS_DEDEN.txt\n",
            "INFO:text_extraction:Extracting from PDF: 2024_TK1_Putusan_PN_SURABAYA_Nomor_52_Pid_Sus-TPK_2024_PN_Sby_Tanggal_19_September_2024__Penuntut_Umum_FERRY_HARY_ARDIANTO__S_H_Terdakwa_AKHMAT.pdf\n"
          ]
        },
        {
          "output_type": "stream",
          "name": "stdout",
          "text": [
            "SUCCESS: 2024_TK1_Putusan_PN_SURABAYA_Nomor_33_Pid_Sus-TPK_2024_PN_Sby_Tanggal_20_September_2024__Penuntut_Umum_ARIO_WIBOWO__S_H___M_H_Terdakwa_DENI_KADARISMAN_ALIAS_DEDEN.pdf -> raw_2024_TK1_Putusan_PN_SURABAYA_Nomor_33_Pid_Sus-TPK_2024_PN_Sby_Tanggal_20_September_2024__Penuntut_Umum_ARIO_WIBOWO__S_H___M_H_Terdakwa_DENI_KADARISMAN_ALIAS_DEDEN.txt (792662 chars)\n",
            "[52/116] Processing: 2024_TK1_Putusan_PN_SURABAYA_Nomor_52_Pid_Sus-TPK_2024_PN_Sby_Tanggal_19_September_2024__Penuntut_Umum_FERRY_HARY_ARDIANTO__S_H_Terdakwa_AKHMAT.pdf\n"
          ]
        },
        {
          "output_type": "stream",
          "name": "stderr",
          "text": [
            "INFO:text_extraction:Success with pdfminer_basic: 270104 characters\n",
            "INFO:text_extraction:Raw text saved: raw_2024_TK1_Putusan_PN_SURABAYA_Nomor_52_Pid_Sus-TPK_2024_PN_Sby_Tanggal_19_September_2024__Penuntut_Umum_FERRY_HARY_ARDIANTO__S_H_Terdakwa_AKHMAT.txt\n",
            "INFO:text_extraction:Extracting from PDF: 2024_TK1_Putusan_PN_SURABAYA_Nomor_40_Pid_Sus-TPK_2024_PN_Sby_Tanggal_13_September_2024__Penuntut_Umum_DIAN_PRANATA_DEPARI__S_H__M_HTerdakwa_SAMSUL_ARIFIN_BIN_UWI.pdf\n"
          ]
        },
        {
          "output_type": "stream",
          "name": "stdout",
          "text": [
            "SUCCESS: 2024_TK1_Putusan_PN_SURABAYA_Nomor_52_Pid_Sus-TPK_2024_PN_Sby_Tanggal_19_September_2024__Penuntut_Umum_FERRY_HARY_ARDIANTO__S_H_Terdakwa_AKHMAT.pdf -> raw_2024_TK1_Putusan_PN_SURABAYA_Nomor_52_Pid_Sus-TPK_2024_PN_Sby_Tanggal_19_September_2024__Penuntut_Umum_FERRY_HARY_ARDIANTO__S_H_Terdakwa_AKHMAT.txt (270104 chars)\n",
            "[53/116] Processing: 2024_TK1_Putusan_PN_SURABAYA_Nomor_40_Pid_Sus-TPK_2024_PN_Sby_Tanggal_13_September_2024__Penuntut_Umum_DIAN_PRANATA_DEPARI__S_H__M_HTerdakwa_SAMSUL_ARIFIN_BIN_UWI.pdf\n"
          ]
        },
        {
          "output_type": "stream",
          "name": "stderr",
          "text": [
            "INFO:text_extraction:Success with pdfminer_basic: 230460 characters\n",
            "INFO:text_extraction:Raw text saved: raw_2024_TK1_Putusan_PN_SURABAYA_Nomor_40_Pid_Sus-TPK_2024_PN_Sby_Tanggal_13_September_2024__Penuntut_Umum_DIAN_PRANATA_DEPARI__S_H__M_HTerdakwa_SAMSUL_ARIFIN_BIN_UWI.txt\n",
            "INFO:text_extraction:Extracting from PDF: 2024_TK1_Putusan_PN_SURABAYA_Nomor_44_Pid_Sus-TPK_2024_PN_Sby_Tanggal_10_September_2024__Penuntut_Umum_HABI_BURROHIM_S_H___MHTerdakwa_Drs__AKHMAD_KHASANI__M_Si.pdf\n"
          ]
        },
        {
          "output_type": "stream",
          "name": "stdout",
          "text": [
            "SUCCESS: 2024_TK1_Putusan_PN_SURABAYA_Nomor_40_Pid_Sus-TPK_2024_PN_Sby_Tanggal_13_September_2024__Penuntut_Umum_DIAN_PRANATA_DEPARI__S_H__M_HTerdakwa_SAMSUL_ARIFIN_BIN_UWI.pdf -> raw_2024_TK1_Putusan_PN_SURABAYA_Nomor_40_Pid_Sus-TPK_2024_PN_Sby_Tanggal_13_September_2024__Penuntut_Umum_DIAN_PRANATA_DEPARI__S_H__M_HTerdakwa_SAMSUL_ARIFIN_BIN_UWI.txt (230460 chars)\n",
            "[54/116] Processing: 2024_TK1_Putusan_PN_SURABAYA_Nomor_44_Pid_Sus-TPK_2024_PN_Sby_Tanggal_10_September_2024__Penuntut_Umum_HABI_BURROHIM_S_H___MHTerdakwa_Drs__AKHMAD_KHASANI__M_Si.pdf\n"
          ]
        },
        {
          "output_type": "stream",
          "name": "stderr",
          "text": [
            "INFO:text_extraction:Success with pdfminer_basic: 1299941 characters\n",
            "INFO:text_extraction:Raw text saved: raw_2024_TK1_Putusan_PN_SURABAYA_Nomor_44_Pid_Sus-TPK_2024_PN_Sby_Tanggal_10_September_2024__Penuntut_Umum_HABI_BURROHIM_S_H___MHTerdakwa_Drs__AKHMAD_KHASANI__M_Si.txt\n",
            "INFO:text_extraction:Extracting from PDF: 2024_TK1_Putusan_PN_SURABAYA_Nomor_32_Pid_Sus-TPK_2024_PN_Sby_Tanggal_6_September_2024__Penuntut_Umum_ANDHIKA_NUGRAHA_TRIPUTRA__SE__SH__MHTerdakwa_DEDDY_BUDIAWAN.pdf\n"
          ]
        },
        {
          "output_type": "stream",
          "name": "stdout",
          "text": [
            "SUCCESS: 2024_TK1_Putusan_PN_SURABAYA_Nomor_44_Pid_Sus-TPK_2024_PN_Sby_Tanggal_10_September_2024__Penuntut_Umum_HABI_BURROHIM_S_H___MHTerdakwa_Drs__AKHMAD_KHASANI__M_Si.pdf -> raw_2024_TK1_Putusan_PN_SURABAYA_Nomor_44_Pid_Sus-TPK_2024_PN_Sby_Tanggal_10_September_2024__Penuntut_Umum_HABI_BURROHIM_S_H___MHTerdakwa_Drs__AKHMAD_KHASANI__M_Si.txt (1299941 chars)\n",
            "[55/116] Processing: 2024_TK1_Putusan_PN_SURABAYA_Nomor_32_Pid_Sus-TPK_2024_PN_Sby_Tanggal_6_September_2024__Penuntut_Umum_ANDHIKA_NUGRAHA_TRIPUTRA__SE__SH__MHTerdakwa_DEDDY_BUDIAWAN.pdf\n"
          ]
        },
        {
          "output_type": "stream",
          "name": "stderr",
          "text": [
            "INFO:text_extraction:Success with pdfminer_basic: 434674 characters\n",
            "INFO:text_extraction:Raw text saved: raw_2024_TK1_Putusan_PN_SURABAYA_Nomor_32_Pid_Sus-TPK_2024_PN_Sby_Tanggal_6_September_2024__Penuntut_Umum_ANDHIKA_NUGRAHA_TRIPUTRA__SE__SH__MHTerdakwa_DEDDY_BUDIAWAN.txt\n",
            "INFO:text_extraction:Extracting from PDF: 2024_TK1_Putusan_PN_SURABAYA_Nomor_49_Pid_Sus-TPK_2024_PN_Sby_Tanggal_5_September_2024__Penuntut_Umum_GIGIH_BENAH_RENDRA__SH___MHTerdakwa_JAELANI_Bin__Alm__JARKASI.pdf\n"
          ]
        },
        {
          "output_type": "stream",
          "name": "stdout",
          "text": [
            "SUCCESS: 2024_TK1_Putusan_PN_SURABAYA_Nomor_32_Pid_Sus-TPK_2024_PN_Sby_Tanggal_6_September_2024__Penuntut_Umum_ANDHIKA_NUGRAHA_TRIPUTRA__SE__SH__MHTerdakwa_DEDDY_BUDIAWAN.pdf -> raw_2024_TK1_Putusan_PN_SURABAYA_Nomor_32_Pid_Sus-TPK_2024_PN_Sby_Tanggal_6_September_2024__Penuntut_Umum_ANDHIKA_NUGRAHA_TRIPUTRA__SE__SH__MHTerdakwa_DEDDY_BUDIAWAN.txt (434674 chars)\n",
            "[56/116] Processing: 2024_TK1_Putusan_PN_SURABAYA_Nomor_49_Pid_Sus-TPK_2024_PN_Sby_Tanggal_5_September_2024__Penuntut_Umum_GIGIH_BENAH_RENDRA__SH___MHTerdakwa_JAELANI_Bin__Alm__JARKASI.pdf\n"
          ]
        },
        {
          "output_type": "stream",
          "name": "stderr",
          "text": [
            "INFO:text_extraction:Success with pdfminer_basic: 1132243 characters\n",
            "INFO:text_extraction:Raw text saved: raw_2024_TK1_Putusan_PN_SURABAYA_Nomor_49_Pid_Sus-TPK_2024_PN_Sby_Tanggal_5_September_2024__Penuntut_Umum_GIGIH_BENAH_RENDRA__SH___MHTerdakwa_JAELANI_Bin__Alm__JARKASI.txt\n",
            "INFO:text_extraction:Extracting from PDF: 2024_TK1_Putusan_PN_SURABAYA_Nomor_50_Pid_Sus-TPK_2024_PN_Sby_Tanggal_5_September_2024__Penuntut_Umum_GIGIH_BENAH_RENDRA__SH___MHTerdakwa_QOMARUDDIN_Bin__Alm__QORIB.pdf\n"
          ]
        },
        {
          "output_type": "stream",
          "name": "stdout",
          "text": [
            "SUCCESS: 2024_TK1_Putusan_PN_SURABAYA_Nomor_49_Pid_Sus-TPK_2024_PN_Sby_Tanggal_5_September_2024__Penuntut_Umum_GIGIH_BENAH_RENDRA__SH___MHTerdakwa_JAELANI_Bin__Alm__JARKASI.pdf -> raw_2024_TK1_Putusan_PN_SURABAYA_Nomor_49_Pid_Sus-TPK_2024_PN_Sby_Tanggal_5_September_2024__Penuntut_Umum_GIGIH_BENAH_RENDRA__SH___MHTerdakwa_JAELANI_Bin__Alm__JARKASI.txt (1132243 chars)\n",
            "[57/116] Processing: 2024_TK1_Putusan_PN_SURABAYA_Nomor_50_Pid_Sus-TPK_2024_PN_Sby_Tanggal_5_September_2024__Penuntut_Umum_GIGIH_BENAH_RENDRA__SH___MHTerdakwa_QOMARUDDIN_Bin__Alm__QORIB.pdf\n"
          ]
        },
        {
          "output_type": "stream",
          "name": "stderr",
          "text": [
            "INFO:text_extraction:Success with pdfminer_basic: 1171857 characters\n",
            "INFO:text_extraction:Raw text saved: raw_2024_TK1_Putusan_PN_SURABAYA_Nomor_50_Pid_Sus-TPK_2024_PN_Sby_Tanggal_5_September_2024__Penuntut_Umum_GIGIH_BENAH_RENDRA__SH___MHTerdakwa_QOMARUDDIN_Bin__Alm__QORIB.txt\n",
            "INFO:text_extraction:Extracting from PDF: 2024_TK1_Putusan_PN_SURABAYA_Nomor_36_Pid_Sus-TPK_2024_PN_Sby_Tanggal_22_Agustus_2024__Penuntut_Umum_SAMSUL_HADI__SH_Terdakwa_EVI_SULISTIA_WATININGSIH.pdf\n"
          ]
        },
        {
          "output_type": "stream",
          "name": "stdout",
          "text": [
            "SUCCESS: 2024_TK1_Putusan_PN_SURABAYA_Nomor_50_Pid_Sus-TPK_2024_PN_Sby_Tanggal_5_September_2024__Penuntut_Umum_GIGIH_BENAH_RENDRA__SH___MHTerdakwa_QOMARUDDIN_Bin__Alm__QORIB.pdf -> raw_2024_TK1_Putusan_PN_SURABAYA_Nomor_50_Pid_Sus-TPK_2024_PN_Sby_Tanggal_5_September_2024__Penuntut_Umum_GIGIH_BENAH_RENDRA__SH___MHTerdakwa_QOMARUDDIN_Bin__Alm__QORIB.txt (1171857 chars)\n",
            "[58/116] Processing: 2024_TK1_Putusan_PN_SURABAYA_Nomor_36_Pid_Sus-TPK_2024_PN_Sby_Tanggal_22_Agustus_2024__Penuntut_Umum_SAMSUL_HADI__SH_Terdakwa_EVI_SULISTIA_WATININGSIH.pdf\n"
          ]
        },
        {
          "output_type": "stream",
          "name": "stderr",
          "text": [
            "INFO:text_extraction:Success with pdfminer_basic: 1376168 characters\n",
            "INFO:text_extraction:Raw text saved: raw_2024_TK1_Putusan_PN_SURABAYA_Nomor_36_Pid_Sus-TPK_2024_PN_Sby_Tanggal_22_Agustus_2024__Penuntut_Umum_SAMSUL_HADI__SH_Terdakwa_EVI_SULISTIA_WATININGSIH.txt\n",
            "INFO:text_extraction:Extracting from PDF: 2024_TK1_Putusan_PN_SURABAYA_Nomor_27_Pid_Sus-TPK_2024_PN_Sby_Tanggal_6_Agustus_2024__Penuntut_Umum_Silfana_Chairini__S_H___M_HTerdakwa_Angga_Dwi_Prastya.pdf\n"
          ]
        },
        {
          "output_type": "stream",
          "name": "stdout",
          "text": [
            "SUCCESS: 2024_TK1_Putusan_PN_SURABAYA_Nomor_36_Pid_Sus-TPK_2024_PN_Sby_Tanggal_22_Agustus_2024__Penuntut_Umum_SAMSUL_HADI__SH_Terdakwa_EVI_SULISTIA_WATININGSIH.pdf -> raw_2024_TK1_Putusan_PN_SURABAYA_Nomor_36_Pid_Sus-TPK_2024_PN_Sby_Tanggal_22_Agustus_2024__Penuntut_Umum_SAMSUL_HADI__SH_Terdakwa_EVI_SULISTIA_WATININGSIH.txt (1376168 chars)\n",
            "[59/116] Processing: 2024_TK1_Putusan_PN_SURABAYA_Nomor_27_Pid_Sus-TPK_2024_PN_Sby_Tanggal_6_Agustus_2024__Penuntut_Umum_Silfana_Chairini__S_H___M_HTerdakwa_Angga_Dwi_Prastya.pdf\n"
          ]
        },
        {
          "output_type": "stream",
          "name": "stderr",
          "text": [
            "INFO:text_extraction:Success with pdfminer_basic: 34361 characters\n",
            "INFO:text_extraction:Raw text saved: raw_2024_TK1_Putusan_PN_SURABAYA_Nomor_27_Pid_Sus-TPK_2024_PN_Sby_Tanggal_6_Agustus_2024__Penuntut_Umum_Silfana_Chairini__S_H___M_HTerdakwa_Angga_Dwi_Prastya.txt\n",
            "INFO:text_extraction:Extracting from PDF: 2024_TK1_Putusan_PN_SURABAYA_Nomor_28_Pid_Sus-TPK_2024_PN_Sby_Tanggal_6_Agustus_2024__Penuntut_Umum_Silfana_Chairini__S_H___M_HTerdakwa_Diah_Aryanti.pdf\n"
          ]
        },
        {
          "output_type": "stream",
          "name": "stdout",
          "text": [
            "SUCCESS: 2024_TK1_Putusan_PN_SURABAYA_Nomor_27_Pid_Sus-TPK_2024_PN_Sby_Tanggal_6_Agustus_2024__Penuntut_Umum_Silfana_Chairini__S_H___M_HTerdakwa_Angga_Dwi_Prastya.pdf -> raw_2024_TK1_Putusan_PN_SURABAYA_Nomor_27_Pid_Sus-TPK_2024_PN_Sby_Tanggal_6_Agustus_2024__Penuntut_Umum_Silfana_Chairini__S_H___M_HTerdakwa_Angga_Dwi_Prastya.txt (34361 chars)\n",
            "[60/116] Processing: 2024_TK1_Putusan_PN_SURABAYA_Nomor_28_Pid_Sus-TPK_2024_PN_Sby_Tanggal_6_Agustus_2024__Penuntut_Umum_Silfana_Chairini__S_H___M_HTerdakwa_Diah_Aryanti.pdf\n"
          ]
        },
        {
          "output_type": "stream",
          "name": "stderr",
          "text": [
            "INFO:text_extraction:Success with pdfminer_basic: 897594 characters\n",
            "INFO:text_extraction:Raw text saved: raw_2024_TK1_Putusan_PN_SURABAYA_Nomor_28_Pid_Sus-TPK_2024_PN_Sby_Tanggal_6_Agustus_2024__Penuntut_Umum_Silfana_Chairini__S_H___M_HTerdakwa_Diah_Aryanti.txt\n",
            "INFO:text_extraction:Extracting from PDF: 2024_TK1_Putusan_PN_SURABAYA_Nomor_30_Pid_Sus-TPK_2024_PN_Sby_Tanggal_29_Juli_2024__Penuntut_Umum_MUHAMMAD_NIZAR__S_H___M_HTerdakwa_1_M__ZURKONI2_WAKINI__S_T_.pdf\n"
          ]
        },
        {
          "output_type": "stream",
          "name": "stdout",
          "text": [
            "SUCCESS: 2024_TK1_Putusan_PN_SURABAYA_Nomor_28_Pid_Sus-TPK_2024_PN_Sby_Tanggal_6_Agustus_2024__Penuntut_Umum_Silfana_Chairini__S_H___M_HTerdakwa_Diah_Aryanti.pdf -> raw_2024_TK1_Putusan_PN_SURABAYA_Nomor_28_Pid_Sus-TPK_2024_PN_Sby_Tanggal_6_Agustus_2024__Penuntut_Umum_Silfana_Chairini__S_H___M_HTerdakwa_Diah_Aryanti.txt (897594 chars)\n",
            "[61/116] Processing: 2024_TK1_Putusan_PN_SURABAYA_Nomor_30_Pid_Sus-TPK_2024_PN_Sby_Tanggal_29_Juli_2024__Penuntut_Umum_MUHAMMAD_NIZAR__S_H___M_HTerdakwa_1_M__ZURKONI2_WAKINI__S_T_.pdf\n"
          ]
        },
        {
          "output_type": "stream",
          "name": "stderr",
          "text": [
            "INFO:text_extraction:Success with pdfminer_basic: 3965015 characters\n",
            "INFO:text_extraction:Raw text saved: raw_2024_TK1_Putusan_PN_SURABAYA_Nomor_30_Pid_Sus-TPK_2024_PN_Sby_Tanggal_29_Juli_2024__Penuntut_Umum_MUHAMMAD_NIZAR__S_H___M_HTerdakwa_1_M__ZURKONI2_WAKINI__S_T_.txt\n",
            "INFO:text_extraction:Extracting from PDF: 2024_TK1_Putusan_PN_SURABAYA_Nomor_29_Pid_Sus-TPK_2024_PN_Sby_Tanggal_29_Juli_2024__Penuntut_Umum_MUHAMMAD_NIZAR__S_H___M_HTerdakwa_Ir__DONNY_ANANTO_NILANTOKO__MP.pdf\n"
          ]
        },
        {
          "output_type": "stream",
          "name": "stdout",
          "text": [
            "SUCCESS: 2024_TK1_Putusan_PN_SURABAYA_Nomor_30_Pid_Sus-TPK_2024_PN_Sby_Tanggal_29_Juli_2024__Penuntut_Umum_MUHAMMAD_NIZAR__S_H___M_HTerdakwa_1_M__ZURKONI2_WAKINI__S_T_.pdf -> raw_2024_TK1_Putusan_PN_SURABAYA_Nomor_30_Pid_Sus-TPK_2024_PN_Sby_Tanggal_29_Juli_2024__Penuntut_Umum_MUHAMMAD_NIZAR__S_H___M_HTerdakwa_1_M__ZURKONI2_WAKINI__S_T_.txt (3965015 chars)\n",
            "[62/116] Processing: 2024_TK1_Putusan_PN_SURABAYA_Nomor_29_Pid_Sus-TPK_2024_PN_Sby_Tanggal_29_Juli_2024__Penuntut_Umum_MUHAMMAD_NIZAR__S_H___M_HTerdakwa_Ir__DONNY_ANANTO_NILANTOKO__MP.pdf\n"
          ]
        },
        {
          "output_type": "stream",
          "name": "stderr",
          "text": [
            "INFO:text_extraction:Success with pdfminer_basic: 3915930 characters\n",
            "INFO:text_extraction:Raw text saved: raw_2024_TK1_Putusan_PN_SURABAYA_Nomor_29_Pid_Sus-TPK_2024_PN_Sby_Tanggal_29_Juli_2024__Penuntut_Umum_MUHAMMAD_NIZAR__S_H___M_HTerdakwa_Ir__DONNY_ANANTO_NILANTOKO__MP.txt\n",
            "INFO:text_extraction:Extracting from PDF: 2024_TK1_Putusan_PN_SURABAYA_Nomor_26_Pid_Sus-TPK_2024_PN_Sby_Tanggal_25_Juli_2024__Penuntut_Umum_I_PUTU_KISNU_GUPTA__S_H_Terdakwa_Samsul_Hadi.pdf\n"
          ]
        },
        {
          "output_type": "stream",
          "name": "stdout",
          "text": [
            "SUCCESS: 2024_TK1_Putusan_PN_SURABAYA_Nomor_29_Pid_Sus-TPK_2024_PN_Sby_Tanggal_29_Juli_2024__Penuntut_Umum_MUHAMMAD_NIZAR__S_H___M_HTerdakwa_Ir__DONNY_ANANTO_NILANTOKO__MP.pdf -> raw_2024_TK1_Putusan_PN_SURABAYA_Nomor_29_Pid_Sus-TPK_2024_PN_Sby_Tanggal_29_Juli_2024__Penuntut_Umum_MUHAMMAD_NIZAR__S_H___M_HTerdakwa_Ir__DONNY_ANANTO_NILANTOKO__MP.txt (3915930 chars)\n",
            "[63/116] Processing: 2024_TK1_Putusan_PN_SURABAYA_Nomor_26_Pid_Sus-TPK_2024_PN_Sby_Tanggal_25_Juli_2024__Penuntut_Umum_I_PUTU_KISNU_GUPTA__S_H_Terdakwa_Samsul_Hadi.pdf\n"
          ]
        },
        {
          "output_type": "stream",
          "name": "stderr",
          "text": [
            "INFO:text_extraction:Success with pdfminer_basic: 770016 characters\n",
            "INFO:text_extraction:Raw text saved: raw_2024_TK1_Putusan_PN_SURABAYA_Nomor_26_Pid_Sus-TPK_2024_PN_Sby_Tanggal_25_Juli_2024__Penuntut_Umum_I_PUTU_KISNU_GUPTA__S_H_Terdakwa_Samsul_Hadi.txt\n",
            "INFO:text_extraction:Extracting from PDF: 2024_TK1_Putusan_PN_SURABAYA_Nomor_24_Pid_Sus-TPK_2024_PN_Sby_Tanggal_25_Juli_2024__Penuntut_Umum_I_PUTU_KISNU_GUPTA__S_H_Terdakwa_SLAMET_SETIAWAN__S_H___M_M_.pdf\n"
          ]
        },
        {
          "output_type": "stream",
          "name": "stdout",
          "text": [
            "SUCCESS: 2024_TK1_Putusan_PN_SURABAYA_Nomor_26_Pid_Sus-TPK_2024_PN_Sby_Tanggal_25_Juli_2024__Penuntut_Umum_I_PUTU_KISNU_GUPTA__S_H_Terdakwa_Samsul_Hadi.pdf -> raw_2024_TK1_Putusan_PN_SURABAYA_Nomor_26_Pid_Sus-TPK_2024_PN_Sby_Tanggal_25_Juli_2024__Penuntut_Umum_I_PUTU_KISNU_GUPTA__S_H_Terdakwa_Samsul_Hadi.txt (770016 chars)\n",
            "[64/116] Processing: 2024_TK1_Putusan_PN_SURABAYA_Nomor_24_Pid_Sus-TPK_2024_PN_Sby_Tanggal_25_Juli_2024__Penuntut_Umum_I_PUTU_KISNU_GUPTA__S_H_Terdakwa_SLAMET_SETIAWAN__S_H___M_M_.pdf\n"
          ]
        },
        {
          "output_type": "stream",
          "name": "stderr",
          "text": [
            "INFO:text_extraction:Success with pdfminer_basic: 772429 characters\n",
            "INFO:text_extraction:Raw text saved: raw_2024_TK1_Putusan_PN_SURABAYA_Nomor_24_Pid_Sus-TPK_2024_PN_Sby_Tanggal_25_Juli_2024__Penuntut_Umum_I_PUTU_KISNU_GUPTA__S_H_Terdakwa_SLAMET_SETIAWAN__S_H___M_M_.txt\n",
            "INFO:text_extraction:Extracting from PDF: 2024_TK1_Putusan_PN_SURABAYA_Nomor_25_Pid_Sus-TPK_2024_PN_Sby_Tanggal_25_Juli_2024__Penuntut_Umum_I_PUTU_KISNU_GUPTA__S_H_Terdakwa_JURIYAH__S_E.pdf\n"
          ]
        },
        {
          "output_type": "stream",
          "name": "stdout",
          "text": [
            "SUCCESS: 2024_TK1_Putusan_PN_SURABAYA_Nomor_24_Pid_Sus-TPK_2024_PN_Sby_Tanggal_25_Juli_2024__Penuntut_Umum_I_PUTU_KISNU_GUPTA__S_H_Terdakwa_SLAMET_SETIAWAN__S_H___M_M_.pdf -> raw_2024_TK1_Putusan_PN_SURABAYA_Nomor_24_Pid_Sus-TPK_2024_PN_Sby_Tanggal_25_Juli_2024__Penuntut_Umum_I_PUTU_KISNU_GUPTA__S_H_Terdakwa_SLAMET_SETIAWAN__S_H___M_M_.txt (772429 chars)\n",
            "[65/116] Processing: 2024_TK1_Putusan_PN_SURABAYA_Nomor_25_Pid_Sus-TPK_2024_PN_Sby_Tanggal_25_Juli_2024__Penuntut_Umum_I_PUTU_KISNU_GUPTA__S_H_Terdakwa_JURIYAH__S_E.pdf\n"
          ]
        },
        {
          "output_type": "stream",
          "name": "stderr",
          "text": [
            "INFO:text_extraction:Success with pdfminer_basic: 770269 characters\n",
            "INFO:text_extraction:Raw text saved: raw_2024_TK1_Putusan_PN_SURABAYA_Nomor_25_Pid_Sus-TPK_2024_PN_Sby_Tanggal_25_Juli_2024__Penuntut_Umum_I_PUTU_KISNU_GUPTA__S_H_Terdakwa_JURIYAH__S_E.txt\n",
            "INFO:text_extraction:Extracting from PDF: 2024_TK1_Putusan_PN_SURABAYA_Nomor_19_Pid_Sus-TPK_2024_PN_Sby_Tanggal_10_Juli_2024__Penuntut_Umum_Nur_Ngali_SH_MHTerdakwa_AGUSTIN_WULANDARI.pdf\n"
          ]
        },
        {
          "output_type": "stream",
          "name": "stdout",
          "text": [
            "SUCCESS: 2024_TK1_Putusan_PN_SURABAYA_Nomor_25_Pid_Sus-TPK_2024_PN_Sby_Tanggal_25_Juli_2024__Penuntut_Umum_I_PUTU_KISNU_GUPTA__S_H_Terdakwa_JURIYAH__S_E.pdf -> raw_2024_TK1_Putusan_PN_SURABAYA_Nomor_25_Pid_Sus-TPK_2024_PN_Sby_Tanggal_25_Juli_2024__Penuntut_Umum_I_PUTU_KISNU_GUPTA__S_H_Terdakwa_JURIYAH__S_E.txt (770269 chars)\n",
            "[66/116] Processing: 2024_TK1_Putusan_PN_SURABAYA_Nomor_19_Pid_Sus-TPK_2024_PN_Sby_Tanggal_10_Juli_2024__Penuntut_Umum_Nur_Ngali_SH_MHTerdakwa_AGUSTIN_WULANDARI.pdf\n"
          ]
        },
        {
          "output_type": "stream",
          "name": "stderr",
          "text": [
            "INFO:text_extraction:Success with pdfminer_basic: 429395 characters\n",
            "INFO:text_extraction:Raw text saved: raw_2024_TK1_Putusan_PN_SURABAYA_Nomor_19_Pid_Sus-TPK_2024_PN_Sby_Tanggal_10_Juli_2024__Penuntut_Umum_Nur_Ngali_SH_MHTerdakwa_AGUSTIN_WULANDARI.txt\n",
            "INFO:text_extraction:Extracting from PDF: 2024_TK1_Putusan_PN_SURABAYA_Nomor_18_Pid_Sus-TPK_2024_PN_Sby_Tanggal_10_Juli_2024__Penuntut_Umum_Nur_Ngali_SH_MHTerdakwa_AMBYAH.pdf\n"
          ]
        },
        {
          "output_type": "stream",
          "name": "stdout",
          "text": [
            "SUCCESS: 2024_TK1_Putusan_PN_SURABAYA_Nomor_19_Pid_Sus-TPK_2024_PN_Sby_Tanggal_10_Juli_2024__Penuntut_Umum_Nur_Ngali_SH_MHTerdakwa_AGUSTIN_WULANDARI.pdf -> raw_2024_TK1_Putusan_PN_SURABAYA_Nomor_19_Pid_Sus-TPK_2024_PN_Sby_Tanggal_10_Juli_2024__Penuntut_Umum_Nur_Ngali_SH_MHTerdakwa_AGUSTIN_WULANDARI.txt (429395 chars)\n",
            "[67/116] Processing: 2024_TK1_Putusan_PN_SURABAYA_Nomor_18_Pid_Sus-TPK_2024_PN_Sby_Tanggal_10_Juli_2024__Penuntut_Umum_Nur_Ngali_SH_MHTerdakwa_AMBYAH.pdf\n"
          ]
        },
        {
          "output_type": "stream",
          "name": "stderr",
          "text": [
            "INFO:text_extraction:Success with pdfminer_basic: 403596 characters\n",
            "INFO:text_extraction:Raw text saved: raw_2024_TK1_Putusan_PN_SURABAYA_Nomor_18_Pid_Sus-TPK_2024_PN_Sby_Tanggal_10_Juli_2024__Penuntut_Umum_Nur_Ngali_SH_MHTerdakwa_AMBYAH.txt\n",
            "INFO:text_extraction:Extracting from PDF: 2024_TK1_Putusan_PN_SURABAYA_Nomor_1_Pid_Sus-TPK_2024_PN_Sby_Tanggal_17_Mei_2024__Penuntut_Umum_Adisti_Pratama_Ferevaldy__S_HTerdakwa_H__HARI_BIN_AMIN.pdf\n"
          ]
        },
        {
          "output_type": "stream",
          "name": "stdout",
          "text": [
            "SUCCESS: 2024_TK1_Putusan_PN_SURABAYA_Nomor_18_Pid_Sus-TPK_2024_PN_Sby_Tanggal_10_Juli_2024__Penuntut_Umum_Nur_Ngali_SH_MHTerdakwa_AMBYAH.pdf -> raw_2024_TK1_Putusan_PN_SURABAYA_Nomor_18_Pid_Sus-TPK_2024_PN_Sby_Tanggal_10_Juli_2024__Penuntut_Umum_Nur_Ngali_SH_MHTerdakwa_AMBYAH.txt (403596 chars)\n",
            "[68/116] Processing: 2024_TK1_Putusan_PN_SURABAYA_Nomor_1_Pid_Sus-TPK_2024_PN_Sby_Tanggal_17_Mei_2024__Penuntut_Umum_Adisti_Pratama_Ferevaldy__S_HTerdakwa_H__HARI_BIN_AMIN.pdf\n"
          ]
        },
        {
          "output_type": "stream",
          "name": "stderr",
          "text": [
            "INFO:text_extraction:Success with pdfminer_basic: 1994097 characters\n",
            "INFO:text_extraction:Raw text saved: raw_2024_TK1_Putusan_PN_SURABAYA_Nomor_1_Pid_Sus-TPK_2024_PN_Sby_Tanggal_17_Mei_2024__Penuntut_Umum_Adisti_Pratama_Ferevaldy__S_HTerdakwa_H__HARI_BIN_AMIN.txt\n",
            "INFO:text_extraction:Extracting from PDF: 2024_TK1_Putusan_PN_SURABAYA_Nomor_4_Pid_Sus-TPK_2024_PN_Sby_Tanggal_2_Mei_2024__Penuntut_Umum_AGUNG_SIH_WARASTINI___SHTerdakwa_Ratemi.pdf\n"
          ]
        },
        {
          "output_type": "stream",
          "name": "stdout",
          "text": [
            "SUCCESS: 2024_TK1_Putusan_PN_SURABAYA_Nomor_1_Pid_Sus-TPK_2024_PN_Sby_Tanggal_17_Mei_2024__Penuntut_Umum_Adisti_Pratama_Ferevaldy__S_HTerdakwa_H__HARI_BIN_AMIN.pdf -> raw_2024_TK1_Putusan_PN_SURABAYA_Nomor_1_Pid_Sus-TPK_2024_PN_Sby_Tanggal_17_Mei_2024__Penuntut_Umum_Adisti_Pratama_Ferevaldy__S_HTerdakwa_H__HARI_BIN_AMIN.txt (1994097 chars)\n",
            "[69/116] Processing: 2024_TK1_Putusan_PN_SURABAYA_Nomor_4_Pid_Sus-TPK_2024_PN_Sby_Tanggal_2_Mei_2024__Penuntut_Umum_AGUNG_SIH_WARASTINI___SHTerdakwa_Ratemi.pdf\n"
          ]
        },
        {
          "output_type": "stream",
          "name": "stderr",
          "text": [
            "INFO:text_extraction:Success with pdfminer_basic: 607271 characters\n",
            "INFO:text_extraction:Raw text saved: raw_2024_TK1_Putusan_PN_SURABAYA_Nomor_4_Pid_Sus-TPK_2024_PN_Sby_Tanggal_2_Mei_2024__Penuntut_Umum_AGUNG_SIH_WARASTINI___SHTerdakwa_Ratemi.txt\n",
            "INFO:text_extraction:Extracting from PDF: 2024_TK1_Putusan_PN_SURABAYA_Nomor_5_Pid_Sus-TPK_2024_PN_Sby_Tanggal_2_Mei_2024__Penuntut_Umum_ALIFIN_NURAHMANA_WANDA__S_HTerdakwa_HARTO_NOERCAHYO__S_E_.pdf\n"
          ]
        },
        {
          "output_type": "stream",
          "name": "stdout",
          "text": [
            "SUCCESS: 2024_TK1_Putusan_PN_SURABAYA_Nomor_4_Pid_Sus-TPK_2024_PN_Sby_Tanggal_2_Mei_2024__Penuntut_Umum_AGUNG_SIH_WARASTINI___SHTerdakwa_Ratemi.pdf -> raw_2024_TK1_Putusan_PN_SURABAYA_Nomor_4_Pid_Sus-TPK_2024_PN_Sby_Tanggal_2_Mei_2024__Penuntut_Umum_AGUNG_SIH_WARASTINI___SHTerdakwa_Ratemi.txt (607271 chars)\n",
            "[70/116] Processing: 2024_TK1_Putusan_PN_SURABAYA_Nomor_5_Pid_Sus-TPK_2024_PN_Sby_Tanggal_2_Mei_2024__Penuntut_Umum_ALIFIN_NURAHMANA_WANDA__S_HTerdakwa_HARTO_NOERCAHYO__S_E_.pdf\n"
          ]
        },
        {
          "output_type": "stream",
          "name": "stderr",
          "text": [
            "INFO:text_extraction:Success with pdfminer_basic: 639033 characters\n",
            "INFO:text_extraction:Raw text saved: raw_2024_TK1_Putusan_PN_SURABAYA_Nomor_5_Pid_Sus-TPK_2024_PN_Sby_Tanggal_2_Mei_2024__Penuntut_Umum_ALIFIN_NURAHMANA_WANDA__S_HTerdakwa_HARTO_NOERCAHYO__S_E_.txt\n",
            "INFO:text_extraction:Extracting from PDF: 2024_TK1_Putusan_PN_SURABAYA_Nomor_13_Pid_Sus-TPK_2024_PN_Sby_Tanggal_2_Mei_2024__Penuntut_Umum_Muslimin__S_H___M_H_Terdakwa_SUTOYO__S_M_.pdf\n"
          ]
        },
        {
          "output_type": "stream",
          "name": "stdout",
          "text": [
            "SUCCESS: 2024_TK1_Putusan_PN_SURABAYA_Nomor_5_Pid_Sus-TPK_2024_PN_Sby_Tanggal_2_Mei_2024__Penuntut_Umum_ALIFIN_NURAHMANA_WANDA__S_HTerdakwa_HARTO_NOERCAHYO__S_E_.pdf -> raw_2024_TK1_Putusan_PN_SURABAYA_Nomor_5_Pid_Sus-TPK_2024_PN_Sby_Tanggal_2_Mei_2024__Penuntut_Umum_ALIFIN_NURAHMANA_WANDA__S_HTerdakwa_HARTO_NOERCAHYO__S_E_.txt (639033 chars)\n",
            "[71/116] Processing: 2024_TK1_Putusan_PN_SURABAYA_Nomor_13_Pid_Sus-TPK_2024_PN_Sby_Tanggal_2_Mei_2024__Penuntut_Umum_Muslimin__S_H___M_H_Terdakwa_SUTOYO__S_M_.pdf\n"
          ]
        },
        {
          "output_type": "stream",
          "name": "stderr",
          "text": [
            "INFO:text_extraction:Success with pdfminer_basic: 906159 characters\n",
            "INFO:text_extraction:Raw text saved: raw_2024_TK1_Putusan_PN_SURABAYA_Nomor_13_Pid_Sus-TPK_2024_PN_Sby_Tanggal_2_Mei_2024__Penuntut_Umum_Muslimin__S_H___M_H_Terdakwa_SUTOYO__S_M_.txt\n",
            "INFO:text_extraction:Extracting from PDF: 2024_TK1_Putusan_PN_SURABAYA_Nomor_140_Pid_Sus-TPK_2023_PN_Sby_Tanggal_25_April_2024__Penuntut_Umum_ANIK_PARTINI__SH_Terdakwa_HERI_PURNOMO__S_Pd_.pdf\n"
          ]
        },
        {
          "output_type": "stream",
          "name": "stdout",
          "text": [
            "SUCCESS: 2024_TK1_Putusan_PN_SURABAYA_Nomor_13_Pid_Sus-TPK_2024_PN_Sby_Tanggal_2_Mei_2024__Penuntut_Umum_Muslimin__S_H___M_H_Terdakwa_SUTOYO__S_M_.pdf -> raw_2024_TK1_Putusan_PN_SURABAYA_Nomor_13_Pid_Sus-TPK_2024_PN_Sby_Tanggal_2_Mei_2024__Penuntut_Umum_Muslimin__S_H___M_H_Terdakwa_SUTOYO__S_M_.txt (906159 chars)\n",
            "[72/116] Processing: 2024_TK1_Putusan_PN_SURABAYA_Nomor_140_Pid_Sus-TPK_2023_PN_Sby_Tanggal_25_April_2024__Penuntut_Umum_ANIK_PARTINI__SH_Terdakwa_HERI_PURNOMO__S_Pd_.pdf\n"
          ]
        },
        {
          "output_type": "stream",
          "name": "stderr",
          "text": [
            "INFO:text_extraction:Success with pdfminer_basic: 1095016 characters\n",
            "INFO:text_extraction:Raw text saved: raw_2024_TK1_Putusan_PN_SURABAYA_Nomor_140_Pid_Sus-TPK_2023_PN_Sby_Tanggal_25_April_2024__Penuntut_Umum_ANIK_PARTINI__SH_Terdakwa_HERI_PURNOMO__S_Pd_.txt\n",
            "INFO:text_extraction:Extracting from PDF: 2024_TK1_Putusan_PN_SURABAYA_Nomor_141_Pid_Sus-TPK_2023_PN_Sby_Tanggal_25_April_2024__Penuntut_Umum_ANIK_PARTINI__SH_Terdakwa_Drs__ZUL_KORNEN_AHMAD.pdf\n"
          ]
        },
        {
          "output_type": "stream",
          "name": "stdout",
          "text": [
            "SUCCESS: 2024_TK1_Putusan_PN_SURABAYA_Nomor_140_Pid_Sus-TPK_2023_PN_Sby_Tanggal_25_April_2024__Penuntut_Umum_ANIK_PARTINI__SH_Terdakwa_HERI_PURNOMO__S_Pd_.pdf -> raw_2024_TK1_Putusan_PN_SURABAYA_Nomor_140_Pid_Sus-TPK_2023_PN_Sby_Tanggal_25_April_2024__Penuntut_Umum_ANIK_PARTINI__SH_Terdakwa_HERI_PURNOMO__S_Pd_.txt (1095016 chars)\n",
            "[73/116] Processing: 2024_TK1_Putusan_PN_SURABAYA_Nomor_141_Pid_Sus-TPK_2023_PN_Sby_Tanggal_25_April_2024__Penuntut_Umum_ANIK_PARTINI__SH_Terdakwa_Drs__ZUL_KORNEN_AHMAD.pdf\n"
          ]
        },
        {
          "output_type": "stream",
          "name": "stderr",
          "text": [
            "INFO:text_extraction:Success with pdfminer_basic: 1081414 characters\n",
            "INFO:text_extraction:Raw text saved: raw_2024_TK1_Putusan_PN_SURABAYA_Nomor_141_Pid_Sus-TPK_2023_PN_Sby_Tanggal_25_April_2024__Penuntut_Umum_ANIK_PARTINI__SH_Terdakwa_Drs__ZUL_KORNEN_AHMAD.txt\n",
            "INFO:text_extraction:Extracting from PDF: 2024_TK1_Putusan_PN_SURABAYA_Nomor_6_Pid_Sus-TPK_2024_PN_Sby_Tanggal_22_April_2024__Penuntut_Umum_Sandy_Septi_Murhanta_HidayatTerdakwa_1_ANDHIKA_IMAM_WIJAYA2_YOSSY_SANDRA_SETIAWAN.pdf\n",
            "INFO:text_extraction:Installing poppler-utils...\n"
          ]
        },
        {
          "output_type": "stream",
          "name": "stdout",
          "text": [
            "SUCCESS: 2024_TK1_Putusan_PN_SURABAYA_Nomor_141_Pid_Sus-TPK_2023_PN_Sby_Tanggal_25_April_2024__Penuntut_Umum_ANIK_PARTINI__SH_Terdakwa_Drs__ZUL_KORNEN_AHMAD.pdf -> raw_2024_TK1_Putusan_PN_SURABAYA_Nomor_141_Pid_Sus-TPK_2023_PN_Sby_Tanggal_25_April_2024__Penuntut_Umum_ANIK_PARTINI__SH_Terdakwa_Drs__ZUL_KORNEN_AHMAD.txt (1081414 chars)\n",
            "[74/116] Processing: 2024_TK1_Putusan_PN_SURABAYA_Nomor_6_Pid_Sus-TPK_2024_PN_Sby_Tanggal_22_April_2024__Penuntut_Umum_Sandy_Septi_Murhanta_HidayatTerdakwa_1_ANDHIKA_IMAM_WIJAYA2_YOSSY_SANDRA_SETIAWAN.pdf\n"
          ]
        },
        {
          "output_type": "stream",
          "name": "stderr",
          "text": [
            "INFO:text_extraction:poppler-utils installed successfully\n",
            "ERROR:text_extraction:All PDF extraction methods failed for 2024_TK1_Putusan_PN_SURABAYA_Nomor_6_Pid_Sus-TPK_2024_PN_Sby_Tanggal_22_April_2024__Penuntut_Umum_Sandy_Septi_Murhanta_HidayatTerdakwa_1_ANDHIKA_IMAM_WIJAYA2_YOSSY_SANDRA_SETIAWAN.pdf\n",
            "ERROR:text_extraction:Extraction failed or insufficient text: 2024_TK1_Putusan_PN_SURABAYA_Nomor_6_Pid_Sus-TPK_2024_PN_Sby_Tanggal_22_April_2024__Penuntut_Umum_Sandy_Septi_Murhanta_HidayatTerdakwa_1_ANDHIKA_IMAM_WIJAYA2_YOSSY_SANDRA_SETIAWAN.pdf\n",
            "INFO:text_extraction:Extracting from PDF: 2024_TK1_Putusan_PN_SURABAYA_Nomor_7_Pid_Sus-TPK_2024_PN_Sby_Tanggal_22_April_2024__Penuntut_Umum_Sandy_Septi_Murhanta_HidayatTerdakwa_ALEXANDER_KRISTIAN_DILIYANTO_SILAEN.pdf\n"
          ]
        },
        {
          "output_type": "stream",
          "name": "stdout",
          "text": [
            "[75/116] Processing: 2024_TK1_Putusan_PN_SURABAYA_Nomor_7_Pid_Sus-TPK_2024_PN_Sby_Tanggal_22_April_2024__Penuntut_Umum_Sandy_Septi_Murhanta_HidayatTerdakwa_ALEXANDER_KRISTIAN_DILIYANTO_SILAEN.pdf\n"
          ]
        },
        {
          "output_type": "stream",
          "name": "stderr",
          "text": [
            "INFO:text_extraction:Success with pdfminer_basic: 1243845 characters\n",
            "INFO:text_extraction:Raw text saved: raw_2024_TK1_Putusan_PN_SURABAYA_Nomor_7_Pid_Sus-TPK_2024_PN_Sby_Tanggal_22_April_2024__Penuntut_Umum_Sandy_Septi_Murhanta_HidayatTerdakwa_ALEXANDER_KRISTIAN_DILIYANTO_SILAEN.txt\n",
            "INFO:text_extraction:Extracting from PDF: 2024_TK1_Putusan_PN_SURABAYA_Nomor_137_Pid_Sus-TPK_2023_PN_Sby_Tanggal_17_April_2024__Penuntut_Umum_PUTU_EKA_WISNIATI__S_H_Terdakwa_BRAM_KUSNOHARDJO.pdf\n"
          ]
        },
        {
          "output_type": "stream",
          "name": "stdout",
          "text": [
            "SUCCESS: 2024_TK1_Putusan_PN_SURABAYA_Nomor_7_Pid_Sus-TPK_2024_PN_Sby_Tanggal_22_April_2024__Penuntut_Umum_Sandy_Septi_Murhanta_HidayatTerdakwa_ALEXANDER_KRISTIAN_DILIYANTO_SILAEN.pdf -> raw_2024_TK1_Putusan_PN_SURABAYA_Nomor_7_Pid_Sus-TPK_2024_PN_Sby_Tanggal_22_April_2024__Penuntut_Umum_Sandy_Septi_Murhanta_HidayatTerdakwa_ALEXANDER_KRISTIAN_DILIYANTO_SILAEN.txt (1243845 chars)\n",
            "[76/116] Processing: 2024_TK1_Putusan_PN_SURABAYA_Nomor_137_Pid_Sus-TPK_2023_PN_Sby_Tanggal_17_April_2024__Penuntut_Umum_PUTU_EKA_WISNIATI__S_H_Terdakwa_BRAM_KUSNOHARDJO.pdf\n"
          ]
        },
        {
          "output_type": "stream",
          "name": "stderr",
          "text": [
            "INFO:text_extraction:Success with pdfminer_basic: 601053 characters\n",
            "INFO:text_extraction:Raw text saved: raw_2024_TK1_Putusan_PN_SURABAYA_Nomor_137_Pid_Sus-TPK_2023_PN_Sby_Tanggal_17_April_2024__Penuntut_Umum_PUTU_EKA_WISNIATI__S_H_Terdakwa_BRAM_KUSNOHARDJO.txt\n",
            "INFO:text_extraction:Extracting from PDF: 2024_TK1_Putusan_PN_SURABAYA_Nomor_138_Pid_Sus-TPK_2023_PN_Sby_Tanggal_17_April_2024__Penuntut_Umum_PUTU_EKA_WISNIATI__S_H_Terdakwa_HENRY_KUSNOHARDJO.pdf\n"
          ]
        },
        {
          "output_type": "stream",
          "name": "stdout",
          "text": [
            "SUCCESS: 2024_TK1_Putusan_PN_SURABAYA_Nomor_137_Pid_Sus-TPK_2023_PN_Sby_Tanggal_17_April_2024__Penuntut_Umum_PUTU_EKA_WISNIATI__S_H_Terdakwa_BRAM_KUSNOHARDJO.pdf -> raw_2024_TK1_Putusan_PN_SURABAYA_Nomor_137_Pid_Sus-TPK_2023_PN_Sby_Tanggal_17_April_2024__Penuntut_Umum_PUTU_EKA_WISNIATI__S_H_Terdakwa_BRAM_KUSNOHARDJO.txt (601053 chars)\n",
            "[77/116] Processing: 2024_TK1_Putusan_PN_SURABAYA_Nomor_138_Pid_Sus-TPK_2023_PN_Sby_Tanggal_17_April_2024__Penuntut_Umum_PUTU_EKA_WISNIATI__S_H_Terdakwa_HENRY_KUSNOHARDJO.pdf\n"
          ]
        },
        {
          "output_type": "stream",
          "name": "stderr",
          "text": [
            "INFO:text_extraction:Success with pdfminer_basic: 597358 characters\n",
            "INFO:text_extraction:Raw text saved: raw_2024_TK1_Putusan_PN_SURABAYA_Nomor_138_Pid_Sus-TPK_2023_PN_Sby_Tanggal_17_April_2024__Penuntut_Umum_PUTU_EKA_WISNIATI__S_H_Terdakwa_HENRY_KUSNOHARDJO.txt\n",
            "INFO:text_extraction:Extracting from PDF: 2024_TK1_Putusan_PN_SURABAYA_Nomor_144_Pid_Sus-TPK_2023_PN_Sby_Tanggal_16_April_2024__Penuntut_Umum_ETY_BOEDI_HARTININGSIH__SHTerdakwa_1_ANDI_WIBOWO_KUSUMO_Bin_MARGONO2_WAHYUDI_Bin_PURWADI.pdf\n"
          ]
        },
        {
          "output_type": "stream",
          "name": "stdout",
          "text": [
            "SUCCESS: 2024_TK1_Putusan_PN_SURABAYA_Nomor_138_Pid_Sus-TPK_2023_PN_Sby_Tanggal_17_April_2024__Penuntut_Umum_PUTU_EKA_WISNIATI__S_H_Terdakwa_HENRY_KUSNOHARDJO.pdf -> raw_2024_TK1_Putusan_PN_SURABAYA_Nomor_138_Pid_Sus-TPK_2023_PN_Sby_Tanggal_17_April_2024__Penuntut_Umum_PUTU_EKA_WISNIATI__S_H_Terdakwa_HENRY_KUSNOHARDJO.txt (597358 chars)\n",
            "[78/116] Processing: 2024_TK1_Putusan_PN_SURABAYA_Nomor_144_Pid_Sus-TPK_2023_PN_Sby_Tanggal_16_April_2024__Penuntut_Umum_ETY_BOEDI_HARTININGSIH__SHTerdakwa_1_ANDI_WIBOWO_KUSUMO_Bin_MARGONO2_WAHYUDI_Bin_PURWADI.pdf\n"
          ]
        },
        {
          "output_type": "stream",
          "name": "stderr",
          "text": [
            "INFO:text_extraction:Success with pdfminer_basic: 731275 characters\n",
            "INFO:text_extraction:Raw text saved: raw_2024_TK1_Putusan_PN_SURABAYA_Nomor_144_Pid_Sus-TPK_2023_PN_Sby_Tanggal_16_April_2024__Penuntut_Umum_ETY_BOEDI_HARTININGSIH__SHTerdakwa_1_ANDI_WIBOWO_KUSUMO_Bin_MARGONO2_WAHYUDI_Bin_PURWADI.txt\n",
            "INFO:text_extraction:Extracting from PDF: 2024_TK1_Putusan_PN_SURABAYA_Nomor_148_Pid_Sus-TPK_2023_PN_Sby_Tanggal_16_April_2024__Penuntut_Umum_ANTON_WAHYUDI__S_H___MHTerdakwa_BAGUS_CAHYO_KURNIAWAN__S_P.pdf\n"
          ]
        },
        {
          "output_type": "stream",
          "name": "stdout",
          "text": [
            "SUCCESS: 2024_TK1_Putusan_PN_SURABAYA_Nomor_144_Pid_Sus-TPK_2023_PN_Sby_Tanggal_16_April_2024__Penuntut_Umum_ETY_BOEDI_HARTININGSIH__SHTerdakwa_1_ANDI_WIBOWO_KUSUMO_Bin_MARGONO2_WAHYUDI_Bin_PURWADI.pdf -> raw_2024_TK1_Putusan_PN_SURABAYA_Nomor_144_Pid_Sus-TPK_2023_PN_Sby_Tanggal_16_April_2024__Penuntut_Umum_ETY_BOEDI_HARTININGSIH__SHTerdakwa_1_ANDI_WIBOWO_KUSUMO_Bin_MARGONO2_WAHYUDI_Bin_PURWADI.txt (731275 chars)\n",
            "[79/116] Processing: 2024_TK1_Putusan_PN_SURABAYA_Nomor_148_Pid_Sus-TPK_2023_PN_Sby_Tanggal_16_April_2024__Penuntut_Umum_ANTON_WAHYUDI__S_H___MHTerdakwa_BAGUS_CAHYO_KURNIAWAN__S_P.pdf\n"
          ]
        },
        {
          "output_type": "stream",
          "name": "stderr",
          "text": [
            "INFO:text_extraction:Success with pdfminer_basic: 436186 characters\n",
            "INFO:text_extraction:Raw text saved: raw_2024_TK1_Putusan_PN_SURABAYA_Nomor_148_Pid_Sus-TPK_2023_PN_Sby_Tanggal_16_April_2024__Penuntut_Umum_ANTON_WAHYUDI__S_H___MHTerdakwa_BAGUS_CAHYO_KURNIAWAN__S_P.txt\n",
            "INFO:text_extraction:Extracting from PDF: 2024_TK1_Putusan_PN_SURABAYA_Nomor_149_Pid_Sus-TPK_2023_PN_Sby_Tanggal_16_April_2024__Penuntut_Umum_ANTON_WAHYUDI__S_H___MHTerdakwa_YAYUK_SUSILOWATI.pdf\n"
          ]
        },
        {
          "output_type": "stream",
          "name": "stdout",
          "text": [
            "SUCCESS: 2024_TK1_Putusan_PN_SURABAYA_Nomor_148_Pid_Sus-TPK_2023_PN_Sby_Tanggal_16_April_2024__Penuntut_Umum_ANTON_WAHYUDI__S_H___MHTerdakwa_BAGUS_CAHYO_KURNIAWAN__S_P.pdf -> raw_2024_TK1_Putusan_PN_SURABAYA_Nomor_148_Pid_Sus-TPK_2023_PN_Sby_Tanggal_16_April_2024__Penuntut_Umum_ANTON_WAHYUDI__S_H___MHTerdakwa_BAGUS_CAHYO_KURNIAWAN__S_P.txt (436186 chars)\n",
            "[80/116] Processing: 2024_TK1_Putusan_PN_SURABAYA_Nomor_149_Pid_Sus-TPK_2023_PN_Sby_Tanggal_16_April_2024__Penuntut_Umum_ANTON_WAHYUDI__S_H___MHTerdakwa_YAYUK_SUSILOWATI.pdf\n"
          ]
        },
        {
          "output_type": "stream",
          "name": "stderr",
          "text": [
            "INFO:text_extraction:Success with pdfminer_basic: 442589 characters\n",
            "INFO:text_extraction:Raw text saved: raw_2024_TK1_Putusan_PN_SURABAYA_Nomor_149_Pid_Sus-TPK_2023_PN_Sby_Tanggal_16_April_2024__Penuntut_Umum_ANTON_WAHYUDI__S_H___MHTerdakwa_YAYUK_SUSILOWATI.txt\n",
            "INFO:text_extraction:Extracting from PDF: 2024_TK1_Putusan_PN_SURABAYA_Nomor_131_Pid_Sus-TPK_2023_PN_Sby_Tanggal_5_April_2024__Penuntut_Umum_Moch__Taufiq_Ismail__S_HTerdakwa_Drs__HERI_EKO_WAHYUDI_ARIEPRADIPTO_anak_dari_EDUARDUS_RUSDRUJITO.pdf\n"
          ]
        },
        {
          "output_type": "stream",
          "name": "stdout",
          "text": [
            "SUCCESS: 2024_TK1_Putusan_PN_SURABAYA_Nomor_149_Pid_Sus-TPK_2023_PN_Sby_Tanggal_16_April_2024__Penuntut_Umum_ANTON_WAHYUDI__S_H___MHTerdakwa_YAYUK_SUSILOWATI.pdf -> raw_2024_TK1_Putusan_PN_SURABAYA_Nomor_149_Pid_Sus-TPK_2023_PN_Sby_Tanggal_16_April_2024__Penuntut_Umum_ANTON_WAHYUDI__S_H___MHTerdakwa_YAYUK_SUSILOWATI.txt (442589 chars)\n",
            "[81/116] Processing: 2024_TK1_Putusan_PN_SURABAYA_Nomor_131_Pid_Sus-TPK_2023_PN_Sby_Tanggal_5_April_2024__Penuntut_Umum_Moch__Taufiq_Ismail__S_HTerdakwa_Drs__HERI_EKO_WAHYUDI_ARIEPRADIPTO_anak_dari_EDUARDUS_RUSDRUJITO.pdf\n"
          ]
        },
        {
          "output_type": "stream",
          "name": "stderr",
          "text": [
            "INFO:text_extraction:Success with pdfminer_basic: 1543703 characters\n",
            "INFO:text_extraction:Raw text saved: raw_2024_TK1_Putusan_PN_SURABAYA_Nomor_131_Pid_Sus-TPK_2023_PN_Sby_Tanggal_5_April_2024__Penuntut_Umum_Moch__Taufiq_Ismail__S_HTerdakwa_Drs__HERI_EKO_WAHYUDI_ARIEPRADIPTO_anak_dari_EDUARDUS_RUSDRUJITO.txt\n",
            "INFO:text_extraction:Extracting from PDF: 2024_TK1_Putusan_PN_SURABAYA_Nomor_146_Pid_Sus-TPK_2023_PN_Sby_Tanggal_2_April_2024__Penuntut_Umum_ANDRI_TRI_WIBOWO__SH_M_HumTerdakwa_KAREN_AGUNG_WIBOWO.pdf\n"
          ]
        },
        {
          "output_type": "stream",
          "name": "stdout",
          "text": [
            "SUCCESS: 2024_TK1_Putusan_PN_SURABAYA_Nomor_131_Pid_Sus-TPK_2023_PN_Sby_Tanggal_5_April_2024__Penuntut_Umum_Moch__Taufiq_Ismail__S_HTerdakwa_Drs__HERI_EKO_WAHYUDI_ARIEPRADIPTO_anak_dari_EDUARDUS_RUSDRUJITO.pdf -> raw_2024_TK1_Putusan_PN_SURABAYA_Nomor_131_Pid_Sus-TPK_2023_PN_Sby_Tanggal_5_April_2024__Penuntut_Umum_Moch__Taufiq_Ismail__S_HTerdakwa_Drs__HERI_EKO_WAHYUDI_ARIEPRADIPTO_anak_dari_EDUARDUS_RUSDRUJITO.txt (1543703 chars)\n",
            "[82/116] Processing: 2024_TK1_Putusan_PN_SURABAYA_Nomor_146_Pid_Sus-TPK_2023_PN_Sby_Tanggal_2_April_2024__Penuntut_Umum_ANDRI_TRI_WIBOWO__SH_M_HumTerdakwa_KAREN_AGUNG_WIBOWO.pdf\n"
          ]
        },
        {
          "output_type": "stream",
          "name": "stderr",
          "text": [
            "INFO:text_extraction:Success with pdfminer_basic: 512090 characters\n",
            "INFO:text_extraction:Raw text saved: raw_2024_TK1_Putusan_PN_SURABAYA_Nomor_146_Pid_Sus-TPK_2023_PN_Sby_Tanggal_2_April_2024__Penuntut_Umum_ANDRI_TRI_WIBOWO__SH_M_HumTerdakwa_KAREN_AGUNG_WIBOWO.txt\n",
            "INFO:text_extraction:Extracting from PDF: 2024_TK1_Putusan_PN_SURABAYA_Nomor_145_Pid_Sus-TPK_2023_PN_Sby_Tanggal_2_April_2024__Penuntut_Umum_ANDRI_TRI_WIBOWO__SH_M_HumTerdakwa_MOCHAMAD_IFAN.pdf\n"
          ]
        },
        {
          "output_type": "stream",
          "name": "stdout",
          "text": [
            "SUCCESS: 2024_TK1_Putusan_PN_SURABAYA_Nomor_146_Pid_Sus-TPK_2023_PN_Sby_Tanggal_2_April_2024__Penuntut_Umum_ANDRI_TRI_WIBOWO__SH_M_HumTerdakwa_KAREN_AGUNG_WIBOWO.pdf -> raw_2024_TK1_Putusan_PN_SURABAYA_Nomor_146_Pid_Sus-TPK_2023_PN_Sby_Tanggal_2_April_2024__Penuntut_Umum_ANDRI_TRI_WIBOWO__SH_M_HumTerdakwa_KAREN_AGUNG_WIBOWO.txt (512090 chars)\n",
            "[83/116] Processing: 2024_TK1_Putusan_PN_SURABAYA_Nomor_145_Pid_Sus-TPK_2023_PN_Sby_Tanggal_2_April_2024__Penuntut_Umum_ANDRI_TRI_WIBOWO__SH_M_HumTerdakwa_MOCHAMAD_IFAN.pdf\n"
          ]
        },
        {
          "output_type": "stream",
          "name": "stderr",
          "text": [
            "INFO:text_extraction:Success with pdfminer_basic: 498000 characters\n",
            "INFO:text_extraction:Raw text saved: raw_2024_TK1_Putusan_PN_SURABAYA_Nomor_145_Pid_Sus-TPK_2023_PN_Sby_Tanggal_2_April_2024__Penuntut_Umum_ANDRI_TRI_WIBOWO__SH_M_HumTerdakwa_MOCHAMAD_IFAN.txt\n",
            "INFO:text_extraction:Extracting from PDF: 2024_TK1_Putusan_PN_SURABAYA_Nomor_147_Pid_Sus-TPK_2023_PN_Sby_Tanggal_2_April_2024__Penuntut_Umum_ANDRI_TRI_WIBOWO__SH_M_HumTerdakwa_SANUSI.pdf\n"
          ]
        },
        {
          "output_type": "stream",
          "name": "stdout",
          "text": [
            "SUCCESS: 2024_TK1_Putusan_PN_SURABAYA_Nomor_145_Pid_Sus-TPK_2023_PN_Sby_Tanggal_2_April_2024__Penuntut_Umum_ANDRI_TRI_WIBOWO__SH_M_HumTerdakwa_MOCHAMAD_IFAN.pdf -> raw_2024_TK1_Putusan_PN_SURABAYA_Nomor_145_Pid_Sus-TPK_2023_PN_Sby_Tanggal_2_April_2024__Penuntut_Umum_ANDRI_TRI_WIBOWO__SH_M_HumTerdakwa_MOCHAMAD_IFAN.txt (498000 chars)\n",
            "[84/116] Processing: 2024_TK1_Putusan_PN_SURABAYA_Nomor_147_Pid_Sus-TPK_2023_PN_Sby_Tanggal_2_April_2024__Penuntut_Umum_ANDRI_TRI_WIBOWO__SH_M_HumTerdakwa_SANUSI.pdf\n"
          ]
        },
        {
          "output_type": "stream",
          "name": "stderr",
          "text": [
            "INFO:text_extraction:Success with pdfminer_basic: 461130 characters\n",
            "INFO:text_extraction:Raw text saved: raw_2024_TK1_Putusan_PN_SURABAYA_Nomor_147_Pid_Sus-TPK_2023_PN_Sby_Tanggal_2_April_2024__Penuntut_Umum_ANDRI_TRI_WIBOWO__SH_M_HumTerdakwa_SANUSI.txt\n",
            "INFO:text_extraction:Extracting from PDF: 2024_TK1_Putusan_PN_SURABAYA_Nomor_128_Pid_Sus-TPK_2023_PN_Sby_Tanggal_1_April_2024__Penuntut_Umum_NUR_RACHMANSYAH__S_H___M_H_Terdakwa_DULALI_alias_DOELALI.pdf\n",
            "ERROR:text_extraction:All PDF extraction methods failed for 2024_TK1_Putusan_PN_SURABAYA_Nomor_128_Pid_Sus-TPK_2023_PN_Sby_Tanggal_1_April_2024__Penuntut_Umum_NUR_RACHMANSYAH__S_H___M_H_Terdakwa_DULALI_alias_DOELALI.pdf\n",
            "ERROR:text_extraction:Extraction failed or insufficient text: 2024_TK1_Putusan_PN_SURABAYA_Nomor_128_Pid_Sus-TPK_2023_PN_Sby_Tanggal_1_April_2024__Penuntut_Umum_NUR_RACHMANSYAH__S_H___M_H_Terdakwa_DULALI_alias_DOELALI.pdf\n",
            "INFO:text_extraction:Extracting from PDF: 2024_TK1_Putusan_PN_SURABAYA_Nomor_132_Pid_Sus-TPK_2023_PN_Sby_Tanggal_26_Maret_2024__Penuntut_Umum_JOHN_FRANKY_YANAFIA_ARIANDI__S_H___M_H_Terdakwa_SYA_RONY_ALIEM.pdf\n"
          ]
        },
        {
          "output_type": "stream",
          "name": "stdout",
          "text": [
            "SUCCESS: 2024_TK1_Putusan_PN_SURABAYA_Nomor_147_Pid_Sus-TPK_2023_PN_Sby_Tanggal_2_April_2024__Penuntut_Umum_ANDRI_TRI_WIBOWO__SH_M_HumTerdakwa_SANUSI.pdf -> raw_2024_TK1_Putusan_PN_SURABAYA_Nomor_147_Pid_Sus-TPK_2023_PN_Sby_Tanggal_2_April_2024__Penuntut_Umum_ANDRI_TRI_WIBOWO__SH_M_HumTerdakwa_SANUSI.txt (461130 chars)\n",
            "[85/116] Processing: 2024_TK1_Putusan_PN_SURABAYA_Nomor_128_Pid_Sus-TPK_2023_PN_Sby_Tanggal_1_April_2024__Penuntut_Umum_NUR_RACHMANSYAH__S_H___M_H_Terdakwa_DULALI_alias_DOELALI.pdf\n",
            "[86/116] Processing: 2024_TK1_Putusan_PN_SURABAYA_Nomor_132_Pid_Sus-TPK_2023_PN_Sby_Tanggal_26_Maret_2024__Penuntut_Umum_JOHN_FRANKY_YANAFIA_ARIANDI__S_H___M_H_Terdakwa_SYA_RONY_ALIEM.pdf\n"
          ]
        },
        {
          "output_type": "stream",
          "name": "stderr",
          "text": [
            "INFO:text_extraction:Success with pdfminer_basic: 600225 characters\n",
            "INFO:text_extraction:Raw text saved: raw_2024_TK1_Putusan_PN_SURABAYA_Nomor_132_Pid_Sus-TPK_2023_PN_Sby_Tanggal_26_Maret_2024__Penuntut_Umum_JOHN_FRANKY_YANAFIA_ARIANDI__S_H___M_H_Terdakwa_SYA_RONY_ALIEM.txt\n",
            "INFO:text_extraction:Extracting from PDF: 2024_TK1_Putusan_PN_SURABAYA_Nomor_121_Pid_Sus-TPK_2023_PN_Sby_Tanggal_19_Maret_2024__Penuntut_Umum_SETYO_ADHI_WICAKSONO__SH_MH_Terdakwa_RIKA_SURTIKA.pdf\n"
          ]
        },
        {
          "output_type": "stream",
          "name": "stdout",
          "text": [
            "SUCCESS: 2024_TK1_Putusan_PN_SURABAYA_Nomor_132_Pid_Sus-TPK_2023_PN_Sby_Tanggal_26_Maret_2024__Penuntut_Umum_JOHN_FRANKY_YANAFIA_ARIANDI__S_H___M_H_Terdakwa_SYA_RONY_ALIEM.pdf -> raw_2024_TK1_Putusan_PN_SURABAYA_Nomor_132_Pid_Sus-TPK_2023_PN_Sby_Tanggal_26_Maret_2024__Penuntut_Umum_JOHN_FRANKY_YANAFIA_ARIANDI__S_H___M_H_Terdakwa_SYA_RONY_ALIEM.txt (600225 chars)\n",
            "[87/116] Processing: 2024_TK1_Putusan_PN_SURABAYA_Nomor_121_Pid_Sus-TPK_2023_PN_Sby_Tanggal_19_Maret_2024__Penuntut_Umum_SETYO_ADHI_WICAKSONO__SH_MH_Terdakwa_RIKA_SURTIKA.pdf\n"
          ]
        },
        {
          "output_type": "stream",
          "name": "stderr",
          "text": [
            "INFO:text_extraction:Success with pdfminer_basic: 3269424 characters\n",
            "INFO:text_extraction:Raw text saved: raw_2024_TK1_Putusan_PN_SURABAYA_Nomor_121_Pid_Sus-TPK_2023_PN_Sby_Tanggal_19_Maret_2024__Penuntut_Umum_SETYO_ADHI_WICAKSONO__SH_MH_Terdakwa_RIKA_SURTIKA.txt\n",
            "INFO:text_extraction:Extracting from PDF: 2024_TK1_Putusan_PN_SURABAYA_Nomor_122_Pid_Sus-TPK_2023_PN_Sby_Tanggal_19_Maret_2024__Penuntut_Umum_SETYO_ADHI_WICAKSONO__SH_MH_Terdakwa_PANTJA_PRASTAWAN_HERU_KRISMANTO.pdf\n"
          ]
        },
        {
          "output_type": "stream",
          "name": "stdout",
          "text": [
            "SUCCESS: 2024_TK1_Putusan_PN_SURABAYA_Nomor_121_Pid_Sus-TPK_2023_PN_Sby_Tanggal_19_Maret_2024__Penuntut_Umum_SETYO_ADHI_WICAKSONO__SH_MH_Terdakwa_RIKA_SURTIKA.pdf -> raw_2024_TK1_Putusan_PN_SURABAYA_Nomor_121_Pid_Sus-TPK_2023_PN_Sby_Tanggal_19_Maret_2024__Penuntut_Umum_SETYO_ADHI_WICAKSONO__SH_MH_Terdakwa_RIKA_SURTIKA.txt (3269424 chars)\n",
            "[88/116] Processing: 2024_TK1_Putusan_PN_SURABAYA_Nomor_122_Pid_Sus-TPK_2023_PN_Sby_Tanggal_19_Maret_2024__Penuntut_Umum_SETYO_ADHI_WICAKSONO__SH_MH_Terdakwa_PANTJA_PRASTAWAN_HERU_KRISMANTO.pdf\n"
          ]
        },
        {
          "output_type": "stream",
          "name": "stderr",
          "text": [
            "INFO:text_extraction:Success with pdfminer_basic: 3366138 characters\n",
            "INFO:text_extraction:Raw text saved: raw_2024_TK1_Putusan_PN_SURABAYA_Nomor_122_Pid_Sus-TPK_2023_PN_Sby_Tanggal_19_Maret_2024__Penuntut_Umum_SETYO_ADHI_WICAKSONO__SH_MH_Terdakwa_PANTJA_PRASTAWAN_HERU_KRISMANTO.txt\n",
            "INFO:text_extraction:Extracting from PDF: 2024_TK1_Putusan_PN_SURABAYA_Nomor_130_Pid_Sus-TPK_2023_PN_Sby_Tanggal_15_Maret_2024__Penuntut_Umum_COK_GEDE_PUTRA_GAUTAMA_SHTerdakwa_Wahyudi_Sofyan_S_sos_bin__alm__Adi_Sukoso.pdf\n"
          ]
        },
        {
          "output_type": "stream",
          "name": "stdout",
          "text": [
            "SUCCESS: 2024_TK1_Putusan_PN_SURABAYA_Nomor_122_Pid_Sus-TPK_2023_PN_Sby_Tanggal_19_Maret_2024__Penuntut_Umum_SETYO_ADHI_WICAKSONO__SH_MH_Terdakwa_PANTJA_PRASTAWAN_HERU_KRISMANTO.pdf -> raw_2024_TK1_Putusan_PN_SURABAYA_Nomor_122_Pid_Sus-TPK_2023_PN_Sby_Tanggal_19_Maret_2024__Penuntut_Umum_SETYO_ADHI_WICAKSONO__SH_MH_Terdakwa_PANTJA_PRASTAWAN_HERU_KRISMANTO.txt (3366138 chars)\n",
            "[89/116] Processing: 2024_TK1_Putusan_PN_SURABAYA_Nomor_130_Pid_Sus-TPK_2023_PN_Sby_Tanggal_15_Maret_2024__Penuntut_Umum_COK_GEDE_PUTRA_GAUTAMA_SHTerdakwa_Wahyudi_Sofyan_S_sos_bin__alm__Adi_Sukoso.pdf\n"
          ]
        },
        {
          "output_type": "stream",
          "name": "stderr",
          "text": [
            "INFO:text_extraction:Success with pdfminer_basic: 173529 characters\n",
            "INFO:text_extraction:Raw text saved: raw_2024_TK1_Putusan_PN_SURABAYA_Nomor_130_Pid_Sus-TPK_2023_PN_Sby_Tanggal_15_Maret_2024__Penuntut_Umum_COK_GEDE_PUTRA_GAUTAMA_SHTerdakwa_Wahyudi_Sofyan_S_sos_bin__alm__Adi_Sukoso.txt\n",
            "INFO:text_extraction:Extracting from PDF: 2024_TK1_Putusan_PN_SURABAYA_Nomor_125_Pid_Sus-TPK_2023_PN_Sby_Tanggal_15_Maret_2024__Penuntut_Umum_YUSUFI_FITROHANSYAH__S_H_Terdakwa_JOKO_PURNOMO_BIN_Alm__SUDARMO.pdf\n"
          ]
        },
        {
          "output_type": "stream",
          "name": "stdout",
          "text": [
            "SUCCESS: 2024_TK1_Putusan_PN_SURABAYA_Nomor_130_Pid_Sus-TPK_2023_PN_Sby_Tanggal_15_Maret_2024__Penuntut_Umum_COK_GEDE_PUTRA_GAUTAMA_SHTerdakwa_Wahyudi_Sofyan_S_sos_bin__alm__Adi_Sukoso.pdf -> raw_2024_TK1_Putusan_PN_SURABAYA_Nomor_130_Pid_Sus-TPK_2023_PN_Sby_Tanggal_15_Maret_2024__Penuntut_Umum_COK_GEDE_PUTRA_GAUTAMA_SHTerdakwa_Wahyudi_Sofyan_S_sos_bin__alm__Adi_Sukoso.txt (173529 chars)\n",
            "[90/116] Processing: 2024_TK1_Putusan_PN_SURABAYA_Nomor_125_Pid_Sus-TPK_2023_PN_Sby_Tanggal_15_Maret_2024__Penuntut_Umum_YUSUFI_FITROHANSYAH__S_H_Terdakwa_JOKO_PURNOMO_BIN_Alm__SUDARMO.pdf\n"
          ]
        },
        {
          "output_type": "stream",
          "name": "stderr",
          "text": [
            "INFO:text_extraction:Success with pdfminer_basic: 291908 characters\n",
            "INFO:text_extraction:Raw text saved: raw_2024_TK1_Putusan_PN_SURABAYA_Nomor_125_Pid_Sus-TPK_2023_PN_Sby_Tanggal_15_Maret_2024__Penuntut_Umum_YUSUFI_FITROHANSYAH__S_H_Terdakwa_JOKO_PURNOMO_BIN_Alm__SUDARMO.txt\n",
            "INFO:text_extraction:Extracting from PDF: 2024_TK1_Putusan_PN_SURABAYA_Nomor_114_Pid_Sus-TPK_2023_PN_Sby_Tanggal_14_Maret_2024__Penuntut_Umum_UMU_LATHIEFAH__SHTerdakwa_Hj__NGATMISIH__SH__M__Hum__Binti__Alm__Wakiran.pdf\n"
          ]
        },
        {
          "output_type": "stream",
          "name": "stdout",
          "text": [
            "SUCCESS: 2024_TK1_Putusan_PN_SURABAYA_Nomor_125_Pid_Sus-TPK_2023_PN_Sby_Tanggal_15_Maret_2024__Penuntut_Umum_YUSUFI_FITROHANSYAH__S_H_Terdakwa_JOKO_PURNOMO_BIN_Alm__SUDARMO.pdf -> raw_2024_TK1_Putusan_PN_SURABAYA_Nomor_125_Pid_Sus-TPK_2023_PN_Sby_Tanggal_15_Maret_2024__Penuntut_Umum_YUSUFI_FITROHANSYAH__S_H_Terdakwa_JOKO_PURNOMO_BIN_Alm__SUDARMO.txt (291908 chars)\n",
            "[91/116] Processing: 2024_TK1_Putusan_PN_SURABAYA_Nomor_114_Pid_Sus-TPK_2023_PN_Sby_Tanggal_14_Maret_2024__Penuntut_Umum_UMU_LATHIEFAH__SHTerdakwa_Hj__NGATMISIH__SH__M__Hum__Binti__Alm__Wakiran.pdf\n"
          ]
        },
        {
          "output_type": "stream",
          "name": "stderr",
          "text": [
            "INFO:text_extraction:Success with pdfminer_basic: 1316720 characters\n",
            "INFO:text_extraction:Raw text saved: raw_2024_TK1_Putusan_PN_SURABAYA_Nomor_114_Pid_Sus-TPK_2023_PN_Sby_Tanggal_14_Maret_2024__Penuntut_Umum_UMU_LATHIEFAH__SHTerdakwa_Hj__NGATMISIH__SH__M__Hum__Binti__Alm__Wakiran.txt\n",
            "INFO:text_extraction:Extracting from PDF: 2024_TK1_Putusan_PN_SURABAYA_Nomor_135_Pid_Sus-TPK_2023_PN_Sby_Tanggal_8_Maret_2024__Penuntut_Umum_AGUS_KURNIAWAN__SH___MHTerdakwa_BAMBANG_RISDIANTO.pdf\n"
          ]
        },
        {
          "output_type": "stream",
          "name": "stdout",
          "text": [
            "SUCCESS: 2024_TK1_Putusan_PN_SURABAYA_Nomor_114_Pid_Sus-TPK_2023_PN_Sby_Tanggal_14_Maret_2024__Penuntut_Umum_UMU_LATHIEFAH__SHTerdakwa_Hj__NGATMISIH__SH__M__Hum__Binti__Alm__Wakiran.pdf -> raw_2024_TK1_Putusan_PN_SURABAYA_Nomor_114_Pid_Sus-TPK_2023_PN_Sby_Tanggal_14_Maret_2024__Penuntut_Umum_UMU_LATHIEFAH__SHTerdakwa_Hj__NGATMISIH__SH__M__Hum__Binti__Alm__Wakiran.txt (1316720 chars)\n",
            "[92/116] Processing: 2024_TK1_Putusan_PN_SURABAYA_Nomor_135_Pid_Sus-TPK_2023_PN_Sby_Tanggal_8_Maret_2024__Penuntut_Umum_AGUS_KURNIAWAN__SH___MHTerdakwa_BAMBANG_RISDIANTO.pdf\n"
          ]
        },
        {
          "output_type": "stream",
          "name": "stderr",
          "text": [
            "INFO:text_extraction:Success with pdfminer_basic: 1205525 characters\n",
            "INFO:text_extraction:Raw text saved: raw_2024_TK1_Putusan_PN_SURABAYA_Nomor_135_Pid_Sus-TPK_2023_PN_Sby_Tanggal_8_Maret_2024__Penuntut_Umum_AGUS_KURNIAWAN__SH___MHTerdakwa_BAMBANG_RISDIANTO.txt\n",
            "INFO:text_extraction:Extracting from PDF: 2024_TK1_Putusan_PN_SURABAYA_Nomor_2_Pid_Sus-TPK_2024_PN_Sby_Tanggal_6_Maret_2024__Penuntut_Umum_GARUDA_CAKTI_VIRA_TAMA__SH_Terdakwa_KAMDI_BIN_SUGITO_PONIJAN.pdf\n"
          ]
        },
        {
          "output_type": "stream",
          "name": "stdout",
          "text": [
            "SUCCESS: 2024_TK1_Putusan_PN_SURABAYA_Nomor_135_Pid_Sus-TPK_2023_PN_Sby_Tanggal_8_Maret_2024__Penuntut_Umum_AGUS_KURNIAWAN__SH___MHTerdakwa_BAMBANG_RISDIANTO.pdf -> raw_2024_TK1_Putusan_PN_SURABAYA_Nomor_135_Pid_Sus-TPK_2023_PN_Sby_Tanggal_8_Maret_2024__Penuntut_Umum_AGUS_KURNIAWAN__SH___MHTerdakwa_BAMBANG_RISDIANTO.txt (1205525 chars)\n",
            "[93/116] Processing: 2024_TK1_Putusan_PN_SURABAYA_Nomor_2_Pid_Sus-TPK_2024_PN_Sby_Tanggal_6_Maret_2024__Penuntut_Umum_GARUDA_CAKTI_VIRA_TAMA__SH_Terdakwa_KAMDI_BIN_SUGITO_PONIJAN.pdf\n"
          ]
        },
        {
          "output_type": "stream",
          "name": "stderr",
          "text": [
            "INFO:text_extraction:Success with pdfminer_basic: 637163 characters\n",
            "INFO:text_extraction:Raw text saved: raw_2024_TK1_Putusan_PN_SURABAYA_Nomor_2_Pid_Sus-TPK_2024_PN_Sby_Tanggal_6_Maret_2024__Penuntut_Umum_GARUDA_CAKTI_VIRA_TAMA__SH_Terdakwa_KAMDI_BIN_SUGITO_PONIJAN.txt\n",
            "INFO:text_extraction:Extracting from PDF: 2024_TK1_Putusan_PN_SURABAYA_Nomor_119_Pid_Sus-TPK_2023_PN_Sby_Tanggal_5_Maret_2024__Penuntut_Umum_NUR_RACHMANSYAH__S_H__M_H_Terdakwa_Drs__Wonggo_Prayitno__MM_.pdf\n"
          ]
        },
        {
          "output_type": "stream",
          "name": "stdout",
          "text": [
            "SUCCESS: 2024_TK1_Putusan_PN_SURABAYA_Nomor_2_Pid_Sus-TPK_2024_PN_Sby_Tanggal_6_Maret_2024__Penuntut_Umum_GARUDA_CAKTI_VIRA_TAMA__SH_Terdakwa_KAMDI_BIN_SUGITO_PONIJAN.pdf -> raw_2024_TK1_Putusan_PN_SURABAYA_Nomor_2_Pid_Sus-TPK_2024_PN_Sby_Tanggal_6_Maret_2024__Penuntut_Umum_GARUDA_CAKTI_VIRA_TAMA__SH_Terdakwa_KAMDI_BIN_SUGITO_PONIJAN.txt (637163 chars)\n",
            "[94/116] Processing: 2024_TK1_Putusan_PN_SURABAYA_Nomor_119_Pid_Sus-TPK_2023_PN_Sby_Tanggal_5_Maret_2024__Penuntut_Umum_NUR_RACHMANSYAH__S_H__M_H_Terdakwa_Drs__Wonggo_Prayitno__MM_.pdf\n"
          ]
        },
        {
          "output_type": "stream",
          "name": "stderr",
          "text": [
            "INFO:text_extraction:Success with pdfminer_basic: 661283 characters\n",
            "INFO:text_extraction:Raw text saved: raw_2024_TK1_Putusan_PN_SURABAYA_Nomor_119_Pid_Sus-TPK_2023_PN_Sby_Tanggal_5_Maret_2024__Penuntut_Umum_NUR_RACHMANSYAH__S_H__M_H_Terdakwa_Drs__Wonggo_Prayitno__MM_.txt\n",
            "INFO:text_extraction:Extracting from PDF: 2024_TK1_Putusan_PN_SURABAYA_Nomor_113_Pid_Sus-TPK_2023_PN_Sby_Tanggal_5_Maret_2024__Penuntut_Umum_NUR_RACHMANSYAH__S_H___M_H_Terdakwa_SUMITRO_SITORUS__SE_.pdf\n"
          ]
        },
        {
          "output_type": "stream",
          "name": "stdout",
          "text": [
            "SUCCESS: 2024_TK1_Putusan_PN_SURABAYA_Nomor_119_Pid_Sus-TPK_2023_PN_Sby_Tanggal_5_Maret_2024__Penuntut_Umum_NUR_RACHMANSYAH__S_H__M_H_Terdakwa_Drs__Wonggo_Prayitno__MM_.pdf -> raw_2024_TK1_Putusan_PN_SURABAYA_Nomor_119_Pid_Sus-TPK_2023_PN_Sby_Tanggal_5_Maret_2024__Penuntut_Umum_NUR_RACHMANSYAH__S_H__M_H_Terdakwa_Drs__Wonggo_Prayitno__MM_.txt (661283 chars)\n",
            "[95/116] Processing: 2024_TK1_Putusan_PN_SURABAYA_Nomor_113_Pid_Sus-TPK_2023_PN_Sby_Tanggal_5_Maret_2024__Penuntut_Umum_NUR_RACHMANSYAH__S_H___M_H_Terdakwa_SUMITRO_SITORUS__SE_.pdf\n"
          ]
        },
        {
          "output_type": "stream",
          "name": "stderr",
          "text": [
            "INFO:text_extraction:Success with pdfminer_basic: 1129722 characters\n",
            "INFO:text_extraction:Raw text saved: raw_2024_TK1_Putusan_PN_SURABAYA_Nomor_113_Pid_Sus-TPK_2023_PN_Sby_Tanggal_5_Maret_2024__Penuntut_Umum_NUR_RACHMANSYAH__S_H___M_H_Terdakwa_SUMITRO_SITORUS__SE_.txt\n",
            "INFO:text_extraction:Extracting from PDF: 2024_TK1_Putusan_PN_SURABAYA_Nomor_143_Pid_Sus-TPK_2023_PN_Sby_Tanggal_5_Maret_2024__Penuntut_Umum_NUR_RACHMANSYAH__S_H__M_H_Terdakwa_LIAUW_INGGARWATI.pdf\n"
          ]
        },
        {
          "output_type": "stream",
          "name": "stdout",
          "text": [
            "SUCCESS: 2024_TK1_Putusan_PN_SURABAYA_Nomor_113_Pid_Sus-TPK_2023_PN_Sby_Tanggal_5_Maret_2024__Penuntut_Umum_NUR_RACHMANSYAH__S_H___M_H_Terdakwa_SUMITRO_SITORUS__SE_.pdf -> raw_2024_TK1_Putusan_PN_SURABAYA_Nomor_113_Pid_Sus-TPK_2023_PN_Sby_Tanggal_5_Maret_2024__Penuntut_Umum_NUR_RACHMANSYAH__S_H___M_H_Terdakwa_SUMITRO_SITORUS__SE_.txt (1129722 chars)\n",
            "[96/116] Processing: 2024_TK1_Putusan_PN_SURABAYA_Nomor_143_Pid_Sus-TPK_2023_PN_Sby_Tanggal_5_Maret_2024__Penuntut_Umum_NUR_RACHMANSYAH__S_H__M_H_Terdakwa_LIAUW_INGGARWATI.pdf\n"
          ]
        },
        {
          "output_type": "stream",
          "name": "stderr",
          "text": [
            "INFO:text_extraction:Success with pdfminer_basic: 691180 characters\n",
            "INFO:text_extraction:Raw text saved: raw_2024_TK1_Putusan_PN_SURABAYA_Nomor_143_Pid_Sus-TPK_2023_PN_Sby_Tanggal_5_Maret_2024__Penuntut_Umum_NUR_RACHMANSYAH__S_H__M_H_Terdakwa_LIAUW_INGGARWATI.txt\n",
            "INFO:text_extraction:Extracting from PDF: 2024_TK1_Putusan_PN_SURABAYA_Nomor_120_Pid_Sus-TPK_2023_PN_Sby_Tanggal_5_Maret_2024__Penuntut_Umum_NUR_RACHMANSYAH__S_H__M_H_Terdakwa_ARYA_LELANA_BIN_IMAM_SOEPARDI.pdf\n"
          ]
        },
        {
          "output_type": "stream",
          "name": "stdout",
          "text": [
            "SUCCESS: 2024_TK1_Putusan_PN_SURABAYA_Nomor_143_Pid_Sus-TPK_2023_PN_Sby_Tanggal_5_Maret_2024__Penuntut_Umum_NUR_RACHMANSYAH__S_H__M_H_Terdakwa_LIAUW_INGGARWATI.pdf -> raw_2024_TK1_Putusan_PN_SURABAYA_Nomor_143_Pid_Sus-TPK_2023_PN_Sby_Tanggal_5_Maret_2024__Penuntut_Umum_NUR_RACHMANSYAH__S_H__M_H_Terdakwa_LIAUW_INGGARWATI.txt (691180 chars)\n",
            "[97/116] Processing: 2024_TK1_Putusan_PN_SURABAYA_Nomor_120_Pid_Sus-TPK_2023_PN_Sby_Tanggal_5_Maret_2024__Penuntut_Umum_NUR_RACHMANSYAH__S_H__M_H_Terdakwa_ARYA_LELANA_BIN_IMAM_SOEPARDI.pdf\n"
          ]
        },
        {
          "output_type": "stream",
          "name": "stderr",
          "text": [
            "INFO:text_extraction:Success with pdfminer_basic: 661042 characters\n",
            "INFO:text_extraction:Raw text saved: raw_2024_TK1_Putusan_PN_SURABAYA_Nomor_120_Pid_Sus-TPK_2023_PN_Sby_Tanggal_5_Maret_2024__Penuntut_Umum_NUR_RACHMANSYAH__S_H__M_H_Terdakwa_ARYA_LELANA_BIN_IMAM_SOEPARDI.txt\n",
            "INFO:text_extraction:Extracting from PDF: 2024_TK1_Putusan_PN_SURABAYA_Nomor_142_Pid_Sus-TPK_2023_PN_Sby_Tanggal_5_Maret_2024__Penuntut_Umum_NUR_RACHMANSYAH__S_H___M_H_Terdakwa_LIEM_SUSILOWATI.pdf\n"
          ]
        },
        {
          "output_type": "stream",
          "name": "stdout",
          "text": [
            "SUCCESS: 2024_TK1_Putusan_PN_SURABAYA_Nomor_120_Pid_Sus-TPK_2023_PN_Sby_Tanggal_5_Maret_2024__Penuntut_Umum_NUR_RACHMANSYAH__S_H__M_H_Terdakwa_ARYA_LELANA_BIN_IMAM_SOEPARDI.pdf -> raw_2024_TK1_Putusan_PN_SURABAYA_Nomor_120_Pid_Sus-TPK_2023_PN_Sby_Tanggal_5_Maret_2024__Penuntut_Umum_NUR_RACHMANSYAH__S_H__M_H_Terdakwa_ARYA_LELANA_BIN_IMAM_SOEPARDI.txt (661042 chars)\n",
            "[98/116] Processing: 2024_TK1_Putusan_PN_SURABAYA_Nomor_142_Pid_Sus-TPK_2023_PN_Sby_Tanggal_5_Maret_2024__Penuntut_Umum_NUR_RACHMANSYAH__S_H___M_H_Terdakwa_LIEM_SUSILOWATI.pdf\n"
          ]
        },
        {
          "output_type": "stream",
          "name": "stderr",
          "text": [
            "INFO:text_extraction:Success with pdfminer_basic: 693291 characters\n",
            "INFO:text_extraction:Raw text saved: raw_2024_TK1_Putusan_PN_SURABAYA_Nomor_142_Pid_Sus-TPK_2023_PN_Sby_Tanggal_5_Maret_2024__Penuntut_Umum_NUR_RACHMANSYAH__S_H___M_H_Terdakwa_LIEM_SUSILOWATI.txt\n",
            "INFO:text_extraction:Extracting from PDF: 2024_TK1_Putusan_PN_SURABAYA_Nomor_134_Pid_Sus-TPK_2023_PN_Sby_Tanggal_27_Februari_2024__Penuntut_Umum_AGUS_KURNIAWAN__SH___MHTerdakwa_CATUR_SETYA_YUANA__SE.pdf\n"
          ]
        },
        {
          "output_type": "stream",
          "name": "stdout",
          "text": [
            "SUCCESS: 2024_TK1_Putusan_PN_SURABAYA_Nomor_142_Pid_Sus-TPK_2023_PN_Sby_Tanggal_5_Maret_2024__Penuntut_Umum_NUR_RACHMANSYAH__S_H___M_H_Terdakwa_LIEM_SUSILOWATI.pdf -> raw_2024_TK1_Putusan_PN_SURABAYA_Nomor_142_Pid_Sus-TPK_2023_PN_Sby_Tanggal_5_Maret_2024__Penuntut_Umum_NUR_RACHMANSYAH__S_H___M_H_Terdakwa_LIEM_SUSILOWATI.txt (693291 chars)\n",
            "[99/116] Processing: 2024_TK1_Putusan_PN_SURABAYA_Nomor_134_Pid_Sus-TPK_2023_PN_Sby_Tanggal_27_Februari_2024__Penuntut_Umum_AGUS_KURNIAWAN__SH___MHTerdakwa_CATUR_SETYA_YUANA__SE.pdf\n"
          ]
        },
        {
          "output_type": "stream",
          "name": "stderr",
          "text": [
            "INFO:text_extraction:Success with pdfminer_basic: 447458 characters\n",
            "INFO:text_extraction:Raw text saved: raw_2024_TK1_Putusan_PN_SURABAYA_Nomor_134_Pid_Sus-TPK_2023_PN_Sby_Tanggal_27_Februari_2024__Penuntut_Umum_AGUS_KURNIAWAN__SH___MHTerdakwa_CATUR_SETYA_YUANA__SE.txt\n",
            "INFO:text_extraction:Extracting from PDF: 2024_TK1_Putusan_PN_SURABAYA_Nomor_107_Pid_Sus-TPK_2023_PN_Sby_Tanggal_23_Februari_2024__Penuntut_Umum_SLAMET_PUJIONO__SHTerdakwa_H__AKHMAD_ZAINAL__S_Sos_.pdf\n"
          ]
        },
        {
          "output_type": "stream",
          "name": "stdout",
          "text": [
            "SUCCESS: 2024_TK1_Putusan_PN_SURABAYA_Nomor_134_Pid_Sus-TPK_2023_PN_Sby_Tanggal_27_Februari_2024__Penuntut_Umum_AGUS_KURNIAWAN__SH___MHTerdakwa_CATUR_SETYA_YUANA__SE.pdf -> raw_2024_TK1_Putusan_PN_SURABAYA_Nomor_134_Pid_Sus-TPK_2023_PN_Sby_Tanggal_27_Februari_2024__Penuntut_Umum_AGUS_KURNIAWAN__SH___MHTerdakwa_CATUR_SETYA_YUANA__SE.txt (447458 chars)\n",
            "[100/116] Processing: 2024_TK1_Putusan_PN_SURABAYA_Nomor_107_Pid_Sus-TPK_2023_PN_Sby_Tanggal_23_Februari_2024__Penuntut_Umum_SLAMET_PUJIONO__SHTerdakwa_H__AKHMAD_ZAINAL__S_Sos_.pdf\n"
          ]
        },
        {
          "output_type": "stream",
          "name": "stderr",
          "text": [
            "INFO:text_extraction:Success with pdfminer_basic: 821998 characters\n",
            "INFO:text_extraction:Raw text saved: raw_2024_TK1_Putusan_PN_SURABAYA_Nomor_107_Pid_Sus-TPK_2023_PN_Sby_Tanggal_23_Februari_2024__Penuntut_Umum_SLAMET_PUJIONO__SHTerdakwa_H__AKHMAD_ZAINAL__S_Sos_.txt\n",
            "INFO:text_extraction:Extracting from PDF: 2024_TK1_Putusan_PN_SURABAYA_Nomor_124_Pid_Sus-TPK_2023_PN_Sby_Tanggal_23_Februari_2024__Penuntut_Umum_NUR_RACHMANSYAH__S_H___M_H_Terdakwa_CHRISTOPHER_O_DEWABRATA.pdf\n"
          ]
        },
        {
          "output_type": "stream",
          "name": "stdout",
          "text": [
            "SUCCESS: 2024_TK1_Putusan_PN_SURABAYA_Nomor_107_Pid_Sus-TPK_2023_PN_Sby_Tanggal_23_Februari_2024__Penuntut_Umum_SLAMET_PUJIONO__SHTerdakwa_H__AKHMAD_ZAINAL__S_Sos_.pdf -> raw_2024_TK1_Putusan_PN_SURABAYA_Nomor_107_Pid_Sus-TPK_2023_PN_Sby_Tanggal_23_Februari_2024__Penuntut_Umum_SLAMET_PUJIONO__SHTerdakwa_H__AKHMAD_ZAINAL__S_Sos_.txt (821998 chars)\n",
            "[101/116] Processing: 2024_TK1_Putusan_PN_SURABAYA_Nomor_124_Pid_Sus-TPK_2023_PN_Sby_Tanggal_23_Februari_2024__Penuntut_Umum_NUR_RACHMANSYAH__S_H___M_H_Terdakwa_CHRISTOPHER_O_DEWABRATA.pdf\n"
          ]
        },
        {
          "output_type": "stream",
          "name": "stderr",
          "text": [
            "INFO:text_extraction:Success with pdfminer_basic: 1020409 characters\n",
            "INFO:text_extraction:Raw text saved: raw_2024_TK1_Putusan_PN_SURABAYA_Nomor_124_Pid_Sus-TPK_2023_PN_Sby_Tanggal_23_Februari_2024__Penuntut_Umum_NUR_RACHMANSYAH__S_H___M_H_Terdakwa_CHRISTOPHER_O_DEWABRATA.txt\n",
            "INFO:text_extraction:Extracting from PDF: 2024_TK1_Putusan_PN_SURABAYA_Nomor_126_Pid_Sus-TPK_2023_PN_Sby_Tanggal_20_Februari_2024__Penuntut_Umum_TARJONO_SHTerdakwa_YUDI_PURNOMO.pdf\n"
          ]
        },
        {
          "output_type": "stream",
          "name": "stdout",
          "text": [
            "SUCCESS: 2024_TK1_Putusan_PN_SURABAYA_Nomor_124_Pid_Sus-TPK_2023_PN_Sby_Tanggal_23_Februari_2024__Penuntut_Umum_NUR_RACHMANSYAH__S_H___M_H_Terdakwa_CHRISTOPHER_O_DEWABRATA.pdf -> raw_2024_TK1_Putusan_PN_SURABAYA_Nomor_124_Pid_Sus-TPK_2023_PN_Sby_Tanggal_23_Februari_2024__Penuntut_Umum_NUR_RACHMANSYAH__S_H___M_H_Terdakwa_CHRISTOPHER_O_DEWABRATA.txt (1020409 chars)\n",
            "[102/116] Processing: 2024_TK1_Putusan_PN_SURABAYA_Nomor_126_Pid_Sus-TPK_2023_PN_Sby_Tanggal_20_Februari_2024__Penuntut_Umum_TARJONO_SHTerdakwa_YUDI_PURNOMO.pdf\n"
          ]
        },
        {
          "output_type": "stream",
          "name": "stderr",
          "text": [
            "INFO:text_extraction:Success with pdfminer_basic: 1149456 characters\n",
            "INFO:text_extraction:Raw text saved: raw_2024_TK1_Putusan_PN_SURABAYA_Nomor_126_Pid_Sus-TPK_2023_PN_Sby_Tanggal_20_Februari_2024__Penuntut_Umum_TARJONO_SHTerdakwa_YUDI_PURNOMO.txt\n",
            "INFO:text_extraction:Extracting from PDF: 2024_TK1_Putusan_PN_SURABAYA_Nomor_103_Pid_Sus-TPK_2023_PN_Sby_Tanggal_19_Februari_2024__Penuntut_Umum_Nur_Ngali_SH_MHTerdakwa_CATUR_ANDRIANTO.pdf\n"
          ]
        },
        {
          "output_type": "stream",
          "name": "stdout",
          "text": [
            "SUCCESS: 2024_TK1_Putusan_PN_SURABAYA_Nomor_126_Pid_Sus-TPK_2023_PN_Sby_Tanggal_20_Februari_2024__Penuntut_Umum_TARJONO_SHTerdakwa_YUDI_PURNOMO.pdf -> raw_2024_TK1_Putusan_PN_SURABAYA_Nomor_126_Pid_Sus-TPK_2023_PN_Sby_Tanggal_20_Februari_2024__Penuntut_Umum_TARJONO_SHTerdakwa_YUDI_PURNOMO.txt (1149456 chars)\n",
            "[103/116] Processing: 2024_TK1_Putusan_PN_SURABAYA_Nomor_103_Pid_Sus-TPK_2023_PN_Sby_Tanggal_19_Februari_2024__Penuntut_Umum_Nur_Ngali_SH_MHTerdakwa_CATUR_ANDRIANTO.pdf\n"
          ]
        },
        {
          "output_type": "stream",
          "name": "stderr",
          "text": [
            "INFO:text_extraction:Success with pdfminer_basic: 532933 characters\n",
            "INFO:text_extraction:Raw text saved: raw_2024_TK1_Putusan_PN_SURABAYA_Nomor_103_Pid_Sus-TPK_2023_PN_Sby_Tanggal_19_Februari_2024__Penuntut_Umum_Nur_Ngali_SH_MHTerdakwa_CATUR_ANDRIANTO.txt\n",
            "INFO:text_extraction:Extracting from PDF: 2024_TK1_Putusan_PN_SURABAYA_Nomor_101_Pid_Sus-TPK_2023_PN_Sby_Tanggal_19_Februari_2024__Penuntut_Umum_Nur_Ngali_SH_MHTerdakwa_EDDY_SUSANTO.pdf\n"
          ]
        },
        {
          "output_type": "stream",
          "name": "stdout",
          "text": [
            "SUCCESS: 2024_TK1_Putusan_PN_SURABAYA_Nomor_103_Pid_Sus-TPK_2023_PN_Sby_Tanggal_19_Februari_2024__Penuntut_Umum_Nur_Ngali_SH_MHTerdakwa_CATUR_ANDRIANTO.pdf -> raw_2024_TK1_Putusan_PN_SURABAYA_Nomor_103_Pid_Sus-TPK_2023_PN_Sby_Tanggal_19_Februari_2024__Penuntut_Umum_Nur_Ngali_SH_MHTerdakwa_CATUR_ANDRIANTO.txt (532933 chars)\n",
            "[104/116] Processing: 2024_TK1_Putusan_PN_SURABAYA_Nomor_101_Pid_Sus-TPK_2023_PN_Sby_Tanggal_19_Februari_2024__Penuntut_Umum_Nur_Ngali_SH_MHTerdakwa_EDDY_SUSANTO.pdf\n"
          ]
        },
        {
          "output_type": "stream",
          "name": "stderr",
          "text": [
            "INFO:text_extraction:Success with pdfminer_basic: 376061 characters\n",
            "INFO:text_extraction:Raw text saved: raw_2024_TK1_Putusan_PN_SURABAYA_Nomor_101_Pid_Sus-TPK_2023_PN_Sby_Tanggal_19_Februari_2024__Penuntut_Umum_Nur_Ngali_SH_MHTerdakwa_EDDY_SUSANTO.txt\n",
            "INFO:text_extraction:Extracting from PDF: 2024_TK1_Putusan_PN_SURABAYA_Nomor_102_Pid_Sus-TPK_2023_PN_Sby_Tanggal_19_Februari_2024__Penuntut_Umum_Nur_Ngali_SH_MHTerdakwa_YEMI_SETIAWAN.pdf\n"
          ]
        },
        {
          "output_type": "stream",
          "name": "stdout",
          "text": [
            "SUCCESS: 2024_TK1_Putusan_PN_SURABAYA_Nomor_101_Pid_Sus-TPK_2023_PN_Sby_Tanggal_19_Februari_2024__Penuntut_Umum_Nur_Ngali_SH_MHTerdakwa_EDDY_SUSANTO.pdf -> raw_2024_TK1_Putusan_PN_SURABAYA_Nomor_101_Pid_Sus-TPK_2023_PN_Sby_Tanggal_19_Februari_2024__Penuntut_Umum_Nur_Ngali_SH_MHTerdakwa_EDDY_SUSANTO.txt (376061 chars)\n",
            "[105/116] Processing: 2024_TK1_Putusan_PN_SURABAYA_Nomor_102_Pid_Sus-TPK_2023_PN_Sby_Tanggal_19_Februari_2024__Penuntut_Umum_Nur_Ngali_SH_MHTerdakwa_YEMI_SETIAWAN.pdf\n"
          ]
        },
        {
          "output_type": "stream",
          "name": "stderr",
          "text": [
            "INFO:text_extraction:Success with pdfminer_basic: 526232 characters\n",
            "INFO:text_extraction:Raw text saved: raw_2024_TK1_Putusan_PN_SURABAYA_Nomor_102_Pid_Sus-TPK_2023_PN_Sby_Tanggal_19_Februari_2024__Penuntut_Umum_Nur_Ngali_SH_MHTerdakwa_YEMI_SETIAWAN.txt\n",
            "INFO:text_extraction:Extracting from PDF: 2024_TK1_Putusan_PN_SURABAYA_Nomor_104_Pid_Sus-TPK_2023_PN_Sby_Tanggal_19_Februari_2024__Penuntut_Umum_Nur_Ngali_SH_MHTerdakwa_ABDUL_MALIK_MUJIONO.pdf\n"
          ]
        },
        {
          "output_type": "stream",
          "name": "stdout",
          "text": [
            "SUCCESS: 2024_TK1_Putusan_PN_SURABAYA_Nomor_102_Pid_Sus-TPK_2023_PN_Sby_Tanggal_19_Februari_2024__Penuntut_Umum_Nur_Ngali_SH_MHTerdakwa_YEMI_SETIAWAN.pdf -> raw_2024_TK1_Putusan_PN_SURABAYA_Nomor_102_Pid_Sus-TPK_2023_PN_Sby_Tanggal_19_Februari_2024__Penuntut_Umum_Nur_Ngali_SH_MHTerdakwa_YEMI_SETIAWAN.txt (526232 chars)\n",
            "[106/116] Processing: 2024_TK1_Putusan_PN_SURABAYA_Nomor_104_Pid_Sus-TPK_2023_PN_Sby_Tanggal_19_Februari_2024__Penuntut_Umum_Nur_Ngali_SH_MHTerdakwa_ABDUL_MALIK_MUJIONO.pdf\n"
          ]
        },
        {
          "output_type": "stream",
          "name": "stderr",
          "text": [
            "INFO:text_extraction:Success with pdfminer_basic: 546596 characters\n",
            "INFO:text_extraction:Raw text saved: raw_2024_TK1_Putusan_PN_SURABAYA_Nomor_104_Pid_Sus-TPK_2023_PN_Sby_Tanggal_19_Februari_2024__Penuntut_Umum_Nur_Ngali_SH_MHTerdakwa_ABDUL_MALIK_MUJIONO.txt\n",
            "INFO:text_extraction:Extracting from PDF: 2024_TK1_Putusan_PN_SURABAYA_Nomor_118_Pid_Sus-TPK_2023_PN_Sby_Tanggal_12_Februari_2024__Penuntut_Umum_TRI_SATRIO_WAHYU_MURTHI__SH__MHTerdakwa_AKH_AMIN_Bin_MOH__SYAFI_I.pdf\n"
          ]
        },
        {
          "output_type": "stream",
          "name": "stdout",
          "text": [
            "SUCCESS: 2024_TK1_Putusan_PN_SURABAYA_Nomor_104_Pid_Sus-TPK_2023_PN_Sby_Tanggal_19_Februari_2024__Penuntut_Umum_Nur_Ngali_SH_MHTerdakwa_ABDUL_MALIK_MUJIONO.pdf -> raw_2024_TK1_Putusan_PN_SURABAYA_Nomor_104_Pid_Sus-TPK_2023_PN_Sby_Tanggal_19_Februari_2024__Penuntut_Umum_Nur_Ngali_SH_MHTerdakwa_ABDUL_MALIK_MUJIONO.txt (546596 chars)\n",
            "[107/116] Processing: 2024_TK1_Putusan_PN_SURABAYA_Nomor_118_Pid_Sus-TPK_2023_PN_Sby_Tanggal_12_Februari_2024__Penuntut_Umum_TRI_SATRIO_WAHYU_MURTHI__SH__MHTerdakwa_AKH_AMIN_Bin_MOH__SYAFI_I.pdf\n"
          ]
        },
        {
          "output_type": "stream",
          "name": "stderr",
          "text": [
            "INFO:text_extraction:Success with pdfminer_basic: 637889 characters\n",
            "INFO:text_extraction:Raw text saved: raw_2024_TK1_Putusan_PN_SURABAYA_Nomor_118_Pid_Sus-TPK_2023_PN_Sby_Tanggal_12_Februari_2024__Penuntut_Umum_TRI_SATRIO_WAHYU_MURTHI__SH__MHTerdakwa_AKH_AMIN_Bin_MOH__SYAFI_I.txt\n",
            "INFO:text_extraction:Extracting from PDF: 2024_TK1_Putusan_PN_SURABAYA_Nomor_139_Pid_Sus-TPK_2023_PN_Sby_Tanggal_2_Februari_2024__Penuntut_Umum_NARENDRA_PUTRA_SWARDHANA__S_H_M_H_Terdakwa_BAGUS_PRIYO_SEMBODO_Bin_SUYANTO.pdf\n"
          ]
        },
        {
          "output_type": "stream",
          "name": "stdout",
          "text": [
            "SUCCESS: 2024_TK1_Putusan_PN_SURABAYA_Nomor_118_Pid_Sus-TPK_2023_PN_Sby_Tanggal_12_Februari_2024__Penuntut_Umum_TRI_SATRIO_WAHYU_MURTHI__SH__MHTerdakwa_AKH_AMIN_Bin_MOH__SYAFI_I.pdf -> raw_2024_TK1_Putusan_PN_SURABAYA_Nomor_118_Pid_Sus-TPK_2023_PN_Sby_Tanggal_12_Februari_2024__Penuntut_Umum_TRI_SATRIO_WAHYU_MURTHI__SH__MHTerdakwa_AKH_AMIN_Bin_MOH__SYAFI_I.txt (637889 chars)\n",
            "[108/116] Processing: 2024_TK1_Putusan_PN_SURABAYA_Nomor_139_Pid_Sus-TPK_2023_PN_Sby_Tanggal_2_Februari_2024__Penuntut_Umum_NARENDRA_PUTRA_SWARDHANA__S_H_M_H_Terdakwa_BAGUS_PRIYO_SEMBODO_Bin_SUYANTO.pdf\n"
          ]
        },
        {
          "output_type": "stream",
          "name": "stderr",
          "text": [
            "INFO:text_extraction:Success with pdfminer_basic: 793598 characters\n",
            "INFO:text_extraction:Raw text saved: raw_2024_TK1_Putusan_PN_SURABAYA_Nomor_139_Pid_Sus-TPK_2023_PN_Sby_Tanggal_2_Februari_2024__Penuntut_Umum_NARENDRA_PUTRA_SWARDHANA__S_H_M_H_Terdakwa_BAGUS_PRIYO_SEMBODO_Bin_SUYANTO.txt\n",
            "INFO:text_extraction:Extracting from PDF: 2024_TK1_Putusan_PN_SURABAYA_Nomor_105_Pid_Sus-TPK_2023_PN_Sby_Tanggal_2_Februari_2024__Penuntut_Umum_DIMAS_RANGGA_AHIMSA__S_H_Terdakwa_AKHMAD_MAKRUS.pdf\n"
          ]
        },
        {
          "output_type": "stream",
          "name": "stdout",
          "text": [
            "SUCCESS: 2024_TK1_Putusan_PN_SURABAYA_Nomor_139_Pid_Sus-TPK_2023_PN_Sby_Tanggal_2_Februari_2024__Penuntut_Umum_NARENDRA_PUTRA_SWARDHANA__S_H_M_H_Terdakwa_BAGUS_PRIYO_SEMBODO_Bin_SUYANTO.pdf -> raw_2024_TK1_Putusan_PN_SURABAYA_Nomor_139_Pid_Sus-TPK_2023_PN_Sby_Tanggal_2_Februari_2024__Penuntut_Umum_NARENDRA_PUTRA_SWARDHANA__S_H_M_H_Terdakwa_BAGUS_PRIYO_SEMBODO_Bin_SUYANTO.txt (793598 chars)\n",
            "[109/116] Processing: 2024_TK1_Putusan_PN_SURABAYA_Nomor_105_Pid_Sus-TPK_2023_PN_Sby_Tanggal_2_Februari_2024__Penuntut_Umum_DIMAS_RANGGA_AHIMSA__S_H_Terdakwa_AKHMAD_MAKRUS.pdf\n"
          ]
        },
        {
          "output_type": "stream",
          "name": "stderr",
          "text": [
            "INFO:text_extraction:Success with pdfminer_basic: 634748 characters\n",
            "INFO:text_extraction:Raw text saved: raw_2024_TK1_Putusan_PN_SURABAYA_Nomor_105_Pid_Sus-TPK_2023_PN_Sby_Tanggal_2_Februari_2024__Penuntut_Umum_DIMAS_RANGGA_AHIMSA__S_H_Terdakwa_AKHMAD_MAKRUS.txt\n",
            "INFO:text_extraction:Extracting from PDF: 2024_TK1_Putusan_PN_SURABAYA_Nomor_96_Pid_Sus-TPK_2023_PN_Sby_Tanggal_2_Februari_2024__Penuntut_Umum_SUHERMAN__S_H_Terdakwa_TJITRO_WIRJO_HERMANTO.pdf\n"
          ]
        },
        {
          "output_type": "stream",
          "name": "stdout",
          "text": [
            "SUCCESS: 2024_TK1_Putusan_PN_SURABAYA_Nomor_105_Pid_Sus-TPK_2023_PN_Sby_Tanggal_2_Februari_2024__Penuntut_Umum_DIMAS_RANGGA_AHIMSA__S_H_Terdakwa_AKHMAD_MAKRUS.pdf -> raw_2024_TK1_Putusan_PN_SURABAYA_Nomor_105_Pid_Sus-TPK_2023_PN_Sby_Tanggal_2_Februari_2024__Penuntut_Umum_DIMAS_RANGGA_AHIMSA__S_H_Terdakwa_AKHMAD_MAKRUS.txt (634748 chars)\n",
            "[110/116] Processing: 2024_TK1_Putusan_PN_SURABAYA_Nomor_96_Pid_Sus-TPK_2023_PN_Sby_Tanggal_2_Februari_2024__Penuntut_Umum_SUHERMAN__S_H_Terdakwa_TJITRO_WIRJO_HERMANTO.pdf\n"
          ]
        },
        {
          "output_type": "stream",
          "name": "stderr",
          "text": [
            "INFO:text_extraction:Success with pdfminer_basic: 699981 characters\n",
            "INFO:text_extraction:Raw text saved: raw_2024_TK1_Putusan_PN_SURABAYA_Nomor_96_Pid_Sus-TPK_2023_PN_Sby_Tanggal_2_Februari_2024__Penuntut_Umum_SUHERMAN__S_H_Terdakwa_TJITRO_WIRJO_HERMANTO.txt\n",
            "INFO:text_extraction:Extracting from PDF: 2024_TK1_Putusan_PN_SURABAYA_Nomor_98_Pid_Sus-TPK_2023_PN_Sby_Tanggal_1_Februari_2024__Penuntut_Umum_RENDY_BAHAR_PUTRA__S_H_Terdakwa_RINCANA_YULIADI_Bin_PAIDI.pdf\n"
          ]
        },
        {
          "output_type": "stream",
          "name": "stdout",
          "text": [
            "SUCCESS: 2024_TK1_Putusan_PN_SURABAYA_Nomor_96_Pid_Sus-TPK_2023_PN_Sby_Tanggal_2_Februari_2024__Penuntut_Umum_SUHERMAN__S_H_Terdakwa_TJITRO_WIRJO_HERMANTO.pdf -> raw_2024_TK1_Putusan_PN_SURABAYA_Nomor_96_Pid_Sus-TPK_2023_PN_Sby_Tanggal_2_Februari_2024__Penuntut_Umum_SUHERMAN__S_H_Terdakwa_TJITRO_WIRJO_HERMANTO.txt (699981 chars)\n",
            "[111/116] Processing: 2024_TK1_Putusan_PN_SURABAYA_Nomor_98_Pid_Sus-TPK_2023_PN_Sby_Tanggal_1_Februari_2024__Penuntut_Umum_RENDY_BAHAR_PUTRA__S_H_Terdakwa_RINCANA_YULIADI_Bin_PAIDI.pdf\n"
          ]
        },
        {
          "output_type": "stream",
          "name": "stderr",
          "text": [
            "INFO:text_extraction:Success with pdfminer_basic: 938338 characters\n",
            "INFO:text_extraction:Raw text saved: raw_2024_TK1_Putusan_PN_SURABAYA_Nomor_98_Pid_Sus-TPK_2023_PN_Sby_Tanggal_1_Februari_2024__Penuntut_Umum_RENDY_BAHAR_PUTRA__S_H_Terdakwa_RINCANA_YULIADI_Bin_PAIDI.txt\n",
            "INFO:text_extraction:Extracting from PDF: 2024_TK1_Putusan_PN_SURABAYA_Nomor_97_Pid_Sus-TPK_2023_PN_Sby_Tanggal_1_Februari_2024__Penuntut_Umum_RENDY_BAHAR_PUTRA__S_H_Terdakwa_SUTIKNO_bin_MUDAYAT.pdf\n"
          ]
        },
        {
          "output_type": "stream",
          "name": "stdout",
          "text": [
            "SUCCESS: 2024_TK1_Putusan_PN_SURABAYA_Nomor_98_Pid_Sus-TPK_2023_PN_Sby_Tanggal_1_Februari_2024__Penuntut_Umum_RENDY_BAHAR_PUTRA__S_H_Terdakwa_RINCANA_YULIADI_Bin_PAIDI.pdf -> raw_2024_TK1_Putusan_PN_SURABAYA_Nomor_98_Pid_Sus-TPK_2023_PN_Sby_Tanggal_1_Februari_2024__Penuntut_Umum_RENDY_BAHAR_PUTRA__S_H_Terdakwa_RINCANA_YULIADI_Bin_PAIDI.txt (938338 chars)\n",
            "[112/116] Processing: 2024_TK1_Putusan_PN_SURABAYA_Nomor_97_Pid_Sus-TPK_2023_PN_Sby_Tanggal_1_Februari_2024__Penuntut_Umum_RENDY_BAHAR_PUTRA__S_H_Terdakwa_SUTIKNO_bin_MUDAYAT.pdf\n"
          ]
        },
        {
          "output_type": "stream",
          "name": "stderr",
          "text": [
            "INFO:text_extraction:Success with pdfminer_basic: 922860 characters\n",
            "INFO:text_extraction:Raw text saved: raw_2024_TK1_Putusan_PN_SURABAYA_Nomor_97_Pid_Sus-TPK_2023_PN_Sby_Tanggal_1_Februari_2024__Penuntut_Umum_RENDY_BAHAR_PUTRA__S_H_Terdakwa_SUTIKNO_bin_MUDAYAT.txt\n",
            "INFO:text_extraction:Extracting from PDF: 2024_TK1_Putusan_PN_SURABAYA_Nomor_111_Pid_Sus-TPK_2023_PN_Sby_Tanggal_30_Januari_2024__Penuntut_Umum_ANTON_WAHYUDI__S_H___MHTerdakwa_MOKHAMAD_ROKIM_Bin__alm__MASDUQI.pdf\n"
          ]
        },
        {
          "output_type": "stream",
          "name": "stdout",
          "text": [
            "SUCCESS: 2024_TK1_Putusan_PN_SURABAYA_Nomor_97_Pid_Sus-TPK_2023_PN_Sby_Tanggal_1_Februari_2024__Penuntut_Umum_RENDY_BAHAR_PUTRA__S_H_Terdakwa_SUTIKNO_bin_MUDAYAT.pdf -> raw_2024_TK1_Putusan_PN_SURABAYA_Nomor_97_Pid_Sus-TPK_2023_PN_Sby_Tanggal_1_Februari_2024__Penuntut_Umum_RENDY_BAHAR_PUTRA__S_H_Terdakwa_SUTIKNO_bin_MUDAYAT.txt (922860 chars)\n",
            "[113/116] Processing: 2024_TK1_Putusan_PN_SURABAYA_Nomor_111_Pid_Sus-TPK_2023_PN_Sby_Tanggal_30_Januari_2024__Penuntut_Umum_ANTON_WAHYUDI__S_H___MHTerdakwa_MOKHAMAD_ROKIM_Bin__alm__MASDUQI.pdf\n"
          ]
        },
        {
          "output_type": "stream",
          "name": "stderr",
          "text": [
            "INFO:text_extraction:Success with pdfminer_basic: 890382 characters\n",
            "INFO:text_extraction:Raw text saved: raw_2024_TK1_Putusan_PN_SURABAYA_Nomor_111_Pid_Sus-TPK_2023_PN_Sby_Tanggal_30_Januari_2024__Penuntut_Umum_ANTON_WAHYUDI__S_H___MHTerdakwa_MOKHAMAD_ROKIM_Bin__alm__MASDUQI.txt\n",
            "INFO:text_extraction:Extracting from PDF: 2024_TK1_Putusan_PN_SURABAYA_Nomor_110_Pid_Sus-TPK_2023_PN_Sby_Tanggal_30_Januari_2024__Penuntut_Umum_ANTON_WAHYUDI__S_H___MHTerdakwa_MARIJAN_Bin__alm__MOHAMAD_SULAEMAN.pdf\n"
          ]
        },
        {
          "output_type": "stream",
          "name": "stdout",
          "text": [
            "SUCCESS: 2024_TK1_Putusan_PN_SURABAYA_Nomor_111_Pid_Sus-TPK_2023_PN_Sby_Tanggal_30_Januari_2024__Penuntut_Umum_ANTON_WAHYUDI__S_H___MHTerdakwa_MOKHAMAD_ROKIM_Bin__alm__MASDUQI.pdf -> raw_2024_TK1_Putusan_PN_SURABAYA_Nomor_111_Pid_Sus-TPK_2023_PN_Sby_Tanggal_30_Januari_2024__Penuntut_Umum_ANTON_WAHYUDI__S_H___MHTerdakwa_MOKHAMAD_ROKIM_Bin__alm__MASDUQI.txt (890382 chars)\n",
            "[114/116] Processing: 2024_TK1_Putusan_PN_SURABAYA_Nomor_110_Pid_Sus-TPK_2023_PN_Sby_Tanggal_30_Januari_2024__Penuntut_Umum_ANTON_WAHYUDI__S_H___MHTerdakwa_MARIJAN_Bin__alm__MOHAMAD_SULAEMAN.pdf\n"
          ]
        },
        {
          "output_type": "stream",
          "name": "stderr",
          "text": [
            "INFO:text_extraction:Success with pdfminer_basic: 929954 characters\n",
            "INFO:text_extraction:Raw text saved: raw_2024_TK1_Putusan_PN_SURABAYA_Nomor_110_Pid_Sus-TPK_2023_PN_Sby_Tanggal_30_Januari_2024__Penuntut_Umum_ANTON_WAHYUDI__S_H___MHTerdakwa_MARIJAN_Bin__alm__MOHAMAD_SULAEMAN.txt\n",
            "INFO:text_extraction:Extracting from PDF: 2024_TK1_Putusan_PN_SURABAYA_Nomor_94_Pid_Sus-TPK_2023_PN_Sby_Tanggal_16_Januari_2024__Penuntut_Umum_GARUDA_CAKTI_VIRA_TAMA__SH_Terdakwa_NGAIDI_BIN_SAHLAN.pdf\n"
          ]
        },
        {
          "output_type": "stream",
          "name": "stdout",
          "text": [
            "SUCCESS: 2024_TK1_Putusan_PN_SURABAYA_Nomor_110_Pid_Sus-TPK_2023_PN_Sby_Tanggal_30_Januari_2024__Penuntut_Umum_ANTON_WAHYUDI__S_H___MHTerdakwa_MARIJAN_Bin__alm__MOHAMAD_SULAEMAN.pdf -> raw_2024_TK1_Putusan_PN_SURABAYA_Nomor_110_Pid_Sus-TPK_2023_PN_Sby_Tanggal_30_Januari_2024__Penuntut_Umum_ANTON_WAHYUDI__S_H___MHTerdakwa_MARIJAN_Bin__alm__MOHAMAD_SULAEMAN.txt (929954 chars)\n",
            "[115/116] Processing: 2024_TK1_Putusan_PN_SURABAYA_Nomor_94_Pid_Sus-TPK_2023_PN_Sby_Tanggal_16_Januari_2024__Penuntut_Umum_GARUDA_CAKTI_VIRA_TAMA__SH_Terdakwa_NGAIDI_BIN_SAHLAN.pdf\n"
          ]
        },
        {
          "output_type": "stream",
          "name": "stderr",
          "text": [
            "INFO:text_extraction:Success with pdfminer_basic: 722014 characters\n",
            "INFO:text_extraction:Raw text saved: raw_2024_TK1_Putusan_PN_SURABAYA_Nomor_94_Pid_Sus-TPK_2023_PN_Sby_Tanggal_16_Januari_2024__Penuntut_Umum_GARUDA_CAKTI_VIRA_TAMA__SH_Terdakwa_NGAIDI_BIN_SAHLAN.txt\n",
            "INFO:text_extraction:Extracting from PDF: 2024_TK1_Putusan_PN_SURABAYA_Nomor_93_Pid_Sus-TPK_2023_PN_Sby_Tanggal_16_Januari_2024__Penuntut_Umum_GARUDA_CAKTI_VIRA_TAMA__SH_Terdakwa_MOH__TAUFIQUR_ROHMAN.pdf\n"
          ]
        },
        {
          "output_type": "stream",
          "name": "stdout",
          "text": [
            "SUCCESS: 2024_TK1_Putusan_PN_SURABAYA_Nomor_94_Pid_Sus-TPK_2023_PN_Sby_Tanggal_16_Januari_2024__Penuntut_Umum_GARUDA_CAKTI_VIRA_TAMA__SH_Terdakwa_NGAIDI_BIN_SAHLAN.pdf -> raw_2024_TK1_Putusan_PN_SURABAYA_Nomor_94_Pid_Sus-TPK_2023_PN_Sby_Tanggal_16_Januari_2024__Penuntut_Umum_GARUDA_CAKTI_VIRA_TAMA__SH_Terdakwa_NGAIDI_BIN_SAHLAN.txt (722014 chars)\n",
            "[116/116] Processing: 2024_TK1_Putusan_PN_SURABAYA_Nomor_93_Pid_Sus-TPK_2023_PN_Sby_Tanggal_16_Januari_2024__Penuntut_Umum_GARUDA_CAKTI_VIRA_TAMA__SH_Terdakwa_MOH__TAUFIQUR_ROHMAN.pdf\n"
          ]
        },
        {
          "output_type": "stream",
          "name": "stderr",
          "text": [
            "INFO:text_extraction:Success with pdfminer_basic: 742683 characters\n",
            "INFO:text_extraction:Raw text saved: raw_2024_TK1_Putusan_PN_SURABAYA_Nomor_93_Pid_Sus-TPK_2023_PN_Sby_Tanggal_16_Januari_2024__Penuntut_Umum_GARUDA_CAKTI_VIRA_TAMA__SH_Terdakwa_MOH__TAUFIQUR_ROHMAN.txt\n"
          ]
        },
        {
          "output_type": "stream",
          "name": "stdout",
          "text": [
            "SUCCESS: 2024_TK1_Putusan_PN_SURABAYA_Nomor_93_Pid_Sus-TPK_2023_PN_Sby_Tanggal_16_Januari_2024__Penuntut_Umum_GARUDA_CAKTI_VIRA_TAMA__SH_Terdakwa_MOH__TAUFIQUR_ROHMAN.pdf -> raw_2024_TK1_Putusan_PN_SURABAYA_Nomor_93_Pid_Sus-TPK_2023_PN_Sby_Tanggal_16_Januari_2024__Penuntut_Umum_GARUDA_CAKTI_VIRA_TAMA__SH_Terdakwa_MOH__TAUFIQUR_ROHMAN.txt (742683 chars)\n",
            "\n",
            "============================================================\n",
            "EXTRACTION SUMMARY\n",
            "============================================================\n",
            "PDF files processed: 114\n",
            "Total successful extractions: 114\n",
            "Raw text files saved to: /content/drive/MyDrive/korupsi/RAW_TEXT\n",
            "Extraction report: /logs/extraction_report.csv\n",
            "Extraction log: /logs/extraction.log\n",
            "\n",
            "EXTRACTION COMPLETE!\n",
            "Check raw text files in: /content/drive/MyDrive/korupsi/RAW_TEXT\n",
            "Next step: Run text cleaning on raw files\n"
          ]
        }
      ]
    },
    {
      "cell_type": "markdown",
      "source": [
        "##Pembersihan"
      ],
      "metadata": {
        "id": "b2hINpP6W_PX"
      }
    },
    {
      "cell_type": "code",
      "source": [
        "import os\n",
        "import pandas as pd\n",
        "import re\n",
        "import logging\n",
        "from datetime import date"
      ],
      "metadata": {
        "id": "Z_IDkFYPeSBi"
      },
      "execution_count": null,
      "outputs": []
    },
    {
      "cell_type": "code",
      "source": [
        "import os\n",
        "import re\n",
        "import logging\n",
        "from datetime import datetime\n",
        "\n",
        "# Setup logging\n",
        "logging.basicConfig(level=logging.INFO)\n",
        "logger = logging.getLogger(__name__)\n",
        "\n",
        "class TextCleaner:\n",
        "    \"\"\"Clean raw extracted text files\"\"\"\n",
        "\n",
        "    def __init__(self, base_dir=\"/content/drive/MyDrive/korupsi\"):\n",
        "        self.base_dir = base_dir\n",
        "        self.input_dir = os.path.join(base_dir, \"RAW_TEXT\")  # Input: raw text dari tahap ii\n",
        "        self.output_dir = \"/data/raw\"  # Output: cleaned text files\n",
        "        self.gdrive_output_dir = os.path.join(base_dir, \"CLEANED\")  # Google Drive backup\n",
        "        self.gdrive_data_raw_dir = os.path.join(base_dir, \"data\", \"raw\")  # Mirror of /data/raw in gdrive\n",
        "        self.logs_dir = \"/logs\"  # Local logs\n",
        "        self.gdrive_logs_dir = os.path.join(base_dir, \"logs\")  # Google Drive logs mirror\n",
        "\n",
        "        # Create directories\n",
        "        os.makedirs(self.input_dir, exist_ok=True)\n",
        "        os.makedirs(self.output_dir, exist_ok=True)\n",
        "        os.makedirs(self.gdrive_output_dir, exist_ok=True)\n",
        "        os.makedirs(self.gdrive_data_raw_dir, exist_ok=True)\n",
        "        os.makedirs(self.logs_dir, exist_ok=True)\n",
        "        os.makedirs(self.gdrive_logs_dir, exist_ok=True)\n",
        "\n",
        "        print(f\"Input (raw text): {self.input_dir}\")\n",
        "        print(f\"Output 1 (data/raw): {self.output_dir}\")\n",
        "        print(f\"Output 2 (gdrive): {self.gdrive_output_dir}\")\n",
        "        print(f\"Output 3 (gdrive/data/raw): {self.gdrive_data_raw_dir}\")\n",
        "        print(f\"Logs 1 (local): {self.logs_dir}\")\n",
        "        print(f\"Logs 2 (gdrive): {self.gdrive_logs_dir}\")\n",
        "\n",
        "        # Setup cleaning logger\n",
        "        self.setup_cleaning_logger()\n",
        "\n",
        "    def setup_cleaning_logger(self):\n",
        "        \"\"\"Setup dedicated cleaning logger with dual output\"\"\"\n",
        "        self.cleaning_logger = logging.getLogger('text_cleaning')\n",
        "        self.cleaning_logger.setLevel(logging.INFO)\n",
        "\n",
        "        # Remove existing handlers\n",
        "        for handler in self.cleaning_logger.handlers[:]:\n",
        "            self.cleaning_logger.removeHandler(handler)\n",
        "\n",
        "        # Create file handlers for both locations\n",
        "        log_file_local = os.path.join(self.logs_dir, 'cleaning.log')\n",
        "        log_file_gdrive = os.path.join(self.gdrive_logs_dir, 'cleaning.log')\n",
        "\n",
        "        # Local log handler\n",
        "        file_handler_local = logging.FileHandler(log_file_local, mode='a', encoding='utf-8')\n",
        "        file_handler_local.setLevel(logging.INFO)\n",
        "\n",
        "        # Google Drive log handler\n",
        "        file_handler_gdrive = logging.FileHandler(log_file_gdrive, mode='a', encoding='utf-8')\n",
        "        file_handler_gdrive.setLevel(logging.INFO)\n",
        "\n",
        "        # Create formatter\n",
        "        formatter = logging.Formatter(\n",
        "            '%(asctime)s - %(levelname)s - %(message)s',\n",
        "            datefmt='%Y-%m-%d %H:%M:%S'\n",
        "        )\n",
        "        file_handler_local.setFormatter(formatter)\n",
        "        file_handler_gdrive.setFormatter(formatter)\n",
        "\n",
        "        # Add both handlers\n",
        "        self.cleaning_logger.addHandler(file_handler_local)\n",
        "        self.cleaning_logger.addHandler(file_handler_gdrive)\n",
        "\n",
        "        self.cleaning_logger.info(\"=\"*60)\n",
        "        self.cleaning_logger.info(\"TEXT CLEANING SESSION STARTED\")\n",
        "        self.cleaning_logger.info(\"=\"*60)\n",
        "\n",
        "    # =================== 1. HAPUS HEADER/FOOTER/WATERMARK ===================\n",
        "\n",
        "    def remove_headers_footers_watermarks(self, text):\n",
        "        \"\"\"Step 1: Remove headers, footers, page numbers, and watermarks\"\"\"\n",
        "        if not isinstance(text, str) or not text.strip():\n",
        "            return \"\"\n",
        "\n",
        "        original_length = len(text)\n",
        "\n",
        "        # MA specific headers and footers (exact patterns)\n",
        "        ma_patterns = [\n",
        "            # MA header with various spacing\n",
        "            r'M\\s*[Aa]\\s*[Hh]\\s*[Kk]\\s*[Aa]\\s*[Mm]\\s*[Aa]\\s*[Hh]\\s*\\s*[Aa]\\s*[Gg]\\s*[Uu]\\s*[Nn]\\s*[Gg]\\s*\\s*[Rr]\\s*[Ee]\\s*[Pp]\\s*[Uu]\\s*[Bb]\\s*[Ll]\\s*[Ii]\\s*[Kk]\\s*\\s*[Ii]\\s*[Nn]\\s*[Dd]\\s*[Oo]\\s*[Nn]\\s*[Ee]\\s*[Ss]\\s*[Ii]\\s*[Aa]',\n",
        "\n",
        "            # Disclaimer section\n",
        "            r'Disclaimer\\s*',\n",
        "            r'Kepaniteraan Mahkamah Agung Republik Indonesia berusaha untuk selalu mencantumkan informasi paling kini dan akurat sebagai bentuk komitmen Mahkamah Agung untuk pelayanan publik, transparansi dan akuntabilitas',\n",
        "            r'pelaksanaan fungsi peradilan\\.\\s*Namun dalam hal-hal tertentu masih dimungkinkan terjadi permasalahan teknis terkait dengan akurasi dan keterkinian informasi yang kami sajikan, hal mana akan terus kami perbaiki dari waktu kewaktu\\.',\n",
        "            r'Dalam hal Anda menemukan inakurasi informasi yang termuat pada situs ini atau informasi yang seharusnya ada, namun belum tersedia, maka harap segera hubungi Kepaniteraan Mahkamah Agung RI melalui\\s*:',\n",
        "            r'Email\\s*:\\s*kepaniteraan@mahkamahagung\\.go\\.id\\s*Telp\\s*:\\s*021-384\\s*3348\\s*\\(ext\\.318\\)',\n",
        "        ]\n",
        "\n",
        "        # Page numbers and navigation\n",
        "        page_patterns = [\n",
        "            r'Halaman\\s+\\d+\\s+dari\\s+\\d+',\n",
        "            r'Page\\s+\\d+\\s+of\\s+\\d+',\n",
        "            r'^\\s*\\d+\\s*$',  # Standalone numbers\n",
        "            r'^\\s*-\\s*\\d+\\s*-\\s*$',  # -1-, -2-, etc\n",
        "            r'^\\s*\\d+\\s*/\\s*\\d+\\s*$',  # 1/10, 2/10, etc\n",
        "        ]\n",
        "\n",
        "        # Watermarks and document stamps\n",
        "        watermark_patterns = [\n",
        "            r'SALINAN PUTUSAN',\n",
        "            r'COPY\\s+OF\\s+VERDICT',\n",
        "            r'DOKUMEN\\s+ELEKTRONIK',\n",
        "            r'ELECTRONIC\\s+DOCUMENT',\n",
        "            r'^\\s*CONFIDENTIAL\\s*$',\n",
        "            r'^\\s*RAHASIA\\s*$',\n",
        "            r'^\\s*DRAFT\\s*$',\n",
        "            r'FOR\\s+INTERNAL\\s+USE\\s+ONLY',\n",
        "        ]\n",
        "\n",
        "        # Apply all header/footer/watermark removals\n",
        "        all_patterns = ma_patterns + page_patterns + watermark_patterns\n",
        "\n",
        "        for pattern in all_patterns:\n",
        "            text = re.sub(pattern, '', text, flags=re.IGNORECASE | re.MULTILINE)\n",
        "\n",
        "        removed_chars = original_length - len(text)\n",
        "        self.cleaning_logger.info(f\"Headers/footers/watermarks removed: {removed_chars} characters\")\n",
        "\n",
        "        return text\n",
        "\n",
        "    # =================== 2. NORMALISASI SPASI DAN KARAKTER ===================\n",
        "\n",
        "    def normalize_spacing_and_characters(self, text, lowercase=True, remove_punctuation=False):\n",
        "        \"\"\"Step 2: Normalize spacing and characters\"\"\"\n",
        "        if not isinstance(text, str) or not text.strip():\n",
        "            return \"\"\n",
        "\n",
        "        original_length = len(text)\n",
        "\n",
        "        # Convert to lowercase if requested\n",
        "        if lowercase:\n",
        "            text = text.lower()\n",
        "            self.cleaning_logger.info(\"Text converted to lowercase\")\n",
        "\n",
        "        # Normalize line breaks and spacing\n",
        "        text = re.sub(r'\\r\\n', '\\n', text)  # Windows line endings\n",
        "        text = re.sub(r'\\r', '\\n', text)    # Mac line endings\n",
        "        text = re.sub(r'\\n\\s*\\n\\s*\\n+', '\\n\\n', text)  # Multiple line breaks to double\n",
        "        text = re.sub(r'[ \\t]+', ' ', text)  # Multiple spaces/tabs to single space\n",
        "        text = re.sub(r'\\n[ \\t]+', '\\n', text)  # Remove spaces at beginning of lines\n",
        "        text = re.sub(r'[ \\t]+\\n', '\\n', text)  # Remove spaces at end of lines\n",
        "\n",
        "        # Fix common OCR errors (conservative approach)\n",
        "        ocr_fixes = {\n",
        "            r'\\brn\\b': 'm',     # \"rn\" → \"m\" only if standalone\n",
        "            r'\\bvv\\b': 'w',     # \"vv\" → \"w\" only if standalone\n",
        "            r'\\bl1\\b': 'll',    # \"l1\" → \"ll\" only if standalone\n",
        "            r'\\b0\\b': 'o',      # \"0\" → \"o\" only if standalone in text context\n",
        "        }\n",
        "\n",
        "        for pattern, replacement in ocr_fixes.items():\n",
        "            text = re.sub(pattern, replacement, text)\n",
        "\n",
        "        # Handle punctuation\n",
        "        if remove_punctuation:\n",
        "            # Remove punctuation but keep sentence structure\n",
        "            text = re.sub(r'[^\\w\\s\\n]', '', text)\n",
        "            self.cleaning_logger.info(\"Punctuation removed\")\n",
        "        else:\n",
        "            # Just normalize punctuation spacing\n",
        "            text = re.sub(r'\\s+([.,;:!?])', r'\\1', text)  # Remove spaces before punctuation\n",
        "            text = re.sub(r'([.,;:!?])\\s*([.,;:!?])', r'\\1\\2', text)  # Fix double punctuation\n",
        "\n",
        "        # Final spacing cleanup\n",
        "        text = re.sub(r'\\s+', ' ', text)  # Multiple spaces to single\n",
        "        text = re.sub(r'\\n\\s+', '\\n', text)  # Spaces after newlines\n",
        "        text = re.sub(r'\\s+\\n', '\\n', text)  # Spaces before newlines\n",
        "        text = re.sub(r'\\n{3,}', '\\n\\n', text)  # Max 2 consecutive newlines\n",
        "\n",
        "        normalized_chars = original_length - len(text)\n",
        "        self.cleaning_logger.info(f\"Spacing/character normalization: {normalized_chars} characters removed\")\n",
        "\n",
        "        return text.strip()\n",
        "\n",
        "    # =================== COMPLETE CLEANING PIPELINE ===================\n",
        "\n",
        "    def clean_single_text(self, text, remove_punctuation=False):\n",
        "        \"\"\"Complete cleaning pipeline for single text\"\"\"\n",
        "        if not isinstance(text, str) or not text.strip():\n",
        "            return \"\"\n",
        "\n",
        "        original_length = len(text)\n",
        "        self.cleaning_logger.info(f\"Starting cleaning. Original length: {original_length} characters\")\n",
        "\n",
        "        # Step 1: Remove headers, footers, watermarks\n",
        "        text = self.remove_headers_footers_watermarks(text)\n",
        "        step1_length = len(text)\n",
        "\n",
        "        # Step 2: Normalize spacing and characters\n",
        "        text = self.normalize_spacing_and_characters(text, lowercase=True, remove_punctuation=remove_punctuation)\n",
        "        final_length = len(text)\n",
        "\n",
        "        # Calculate reduction\n",
        "        total_reduction = ((original_length - final_length) / original_length * 100) if original_length > 0 else 0\n",
        "\n",
        "        self.cleaning_logger.info(f\"Cleaning complete. Final length: {final_length} characters ({total_reduction:.1f}% reduction)\")\n",
        "\n",
        "        # Quality check\n",
        "        if final_length < original_length * 0.1:  # Less than 10% remaining\n",
        "            self.cleaning_logger.warning(\"Over 90% of text was removed - check if cleaning is too aggressive\")\n",
        "\n",
        "        return text\n",
        "\n",
        "    def process_single_file(self, input_filename, remove_punctuation=False):\n",
        "        \"\"\"Process single raw text file\"\"\"\n",
        "        input_path = os.path.join(self.input_dir, input_filename)\n",
        "\n",
        "        if not os.path.exists(input_path):\n",
        "            self.cleaning_logger.error(f\"File not found: {input_path}\")\n",
        "            return False\n",
        "\n",
        "        try:\n",
        "            # Read raw text\n",
        "            with open(input_path, 'r', encoding='utf-8') as f:\n",
        "                raw_text = f.read()\n",
        "\n",
        "            self.cleaning_logger.info(f\"Processing file: {input_filename}\")\n",
        "\n",
        "            if not raw_text.strip():\n",
        "                self.cleaning_logger.warning(f\"Empty file: {input_filename}\")\n",
        "                return False\n",
        "\n",
        "            # Clean text\n",
        "            cleaned_text = self.clean_single_text(raw_text, remove_punctuation)\n",
        "\n",
        "            if not cleaned_text.strip():\n",
        "                self.cleaning_logger.error(f\"Cleaning resulted in empty text: {input_filename}\")\n",
        "                return False\n",
        "\n",
        "            # Generate output filename (case_XXX.txt format as specified)\n",
        "            base_name = input_filename.replace('raw_', '').replace('.txt', '')\n",
        "            output_filename = f\"case_{base_name}.txt\"\n",
        "            output_path_data = os.path.join(self.output_dir, output_filename)\n",
        "            output_path_gdrive = os.path.join(self.gdrive_output_dir, output_filename)\n",
        "            output_path_gdrive_data = os.path.join(self.gdrive_data_raw_dir, output_filename)\n",
        "\n",
        "            # Step 3: Save cleaned text to ALL THREE locations\n",
        "            # Save to /data/raw/\n",
        "            with open(output_path_data, 'w', encoding='utf-8') as f:\n",
        "                f.write(cleaned_text)\n",
        "\n",
        "            # Save to Google Drive CLEANED\n",
        "            with open(output_path_gdrive, 'w', encoding='utf-8') as f:\n",
        "                f.write(cleaned_text)\n",
        "\n",
        "            # Save to Google Drive data/raw\n",
        "            with open(output_path_gdrive_data, 'w', encoding='utf-8') as f:\n",
        "                f.write(cleaned_text)\n",
        "\n",
        "            self.cleaning_logger.info(f\"Cleaned file saved to all three locations: {output_filename}\")\n",
        "            print(f\"SUCCESS: {input_filename} -> {output_filename} (saved to /data/raw, gdrive/CLEANED, and gdrive/data/raw)\")\n",
        "\n",
        "            return True\n",
        "\n",
        "        except Exception as e:\n",
        "            self.cleaning_logger.error(f\"Error processing {input_filename}: {str(e)}\")\n",
        "            print(f\"ERROR: {input_filename}: {str(e)}\")\n",
        "            return False\n",
        "\n",
        "    def process_all_files(self, remove_punctuation=False):\n",
        "        \"\"\"Process all raw text files\"\"\"\n",
        "        text_files = [f for f in os.listdir(self.input_dir)\n",
        "                     if f.endswith(('.txt', '.TXT')) and os.path.isfile(os.path.join(self.input_dir, f))]\n",
        "\n",
        "        if not text_files:\n",
        "            print(f\"No text files found in {self.input_dir}\")\n",
        "            return\n",
        "\n",
        "        print(f\"Found {len(text_files)} files to process\")\n",
        "        print(f\"Remove punctuation: {'YES' if remove_punctuation else 'NO'}\")\n",
        "        print(\"=\"*60)\n",
        "\n",
        "        success_count = 0\n",
        "        error_count = 0\n",
        "\n",
        "        for i, filename in enumerate(text_files, 1):\n",
        "            print(f\"[{i}/{len(text_files)}] {filename}\")\n",
        "            if self.process_single_file(filename, remove_punctuation):\n",
        "                success_count += 1\n",
        "            else:\n",
        "                error_count += 1\n",
        "\n",
        "        print(\"\\n\" + \"=\"*60)\n",
        "        print(\"CLEANING SUMMARY:\")\n",
        "        print(f\"Success: {success_count}\")\n",
        "        print(f\"Errors: {error_count}\")\n",
        "        print(f\"Output 1: {self.output_dir}\")\n",
        "        print(f\"Output 2: {self.gdrive_output_dir}\")\n",
        "        print(f\"Output 3: {self.gdrive_data_raw_dir}\")\n",
        "\n",
        "        # Create cleaning summary\n",
        "        self.create_cleaning_summary(success_count, error_count, text_files)\n",
        "\n",
        "    def create_cleaning_summary(self, success_count, error_count, processed_files):\n",
        "        \"\"\"Create cleaning summary report\"\"\"\n",
        "        summary_content = f\"\"\"TEXT CLEANING SUMMARY\n",
        "===================\n",
        "Date: {datetime.now().strftime('%Y-%m-%d %H:%M:%S')}\n",
        "Total files found: {len(processed_files)}\n",
        "Successfully cleaned: {success_count}\n",
        "Errors: {error_count}\n",
        "Success rate: {(success_count/len(processed_files)*100):.1f}%\n",
        "\n",
        "Output directory 1: {self.output_dir}\n",
        "Output directory 2: {self.gdrive_output_dir}\n",
        "Output directory 3: {self.gdrive_data_raw_dir}\n",
        "Log file 1: {os.path.join(self.logs_dir, 'cleaning.log')}\n",
        "Log file 2: {os.path.join(self.gdrive_logs_dir, 'cleaning.log')}\n",
        "\n",
        "Files processed:\n",
        "\"\"\"\n",
        "\n",
        "        for i, filename in enumerate(processed_files, 1):\n",
        "            summary_content += f\"{i:3d}. {filename}\\n\"\n",
        "\n",
        "        # Save summary to both locations\n",
        "        summary_path_local = os.path.join(self.logs_dir, 'cleaning_summary.txt')\n",
        "        summary_path_gdrive = os.path.join(self.gdrive_logs_dir, 'cleaning_summary.txt')\n",
        "\n",
        "        with open(summary_path_local, 'w', encoding='utf-8') as f:\n",
        "            f.write(summary_content)\n",
        "\n",
        "        with open(summary_path_gdrive, 'w', encoding='utf-8') as f:\n",
        "            f.write(summary_content)\n",
        "\n",
        "        print(f\"Summary saved to: {summary_path_local}\")\n",
        "        print(f\"Summary saved to: {summary_path_gdrive}\")\n",
        "        self.cleaning_logger.info(f\"Summary reports created in both locations\")\n",
        "\n",
        "# Utility functions\n",
        "def clean_single_text_quick(text, remove_punctuation=False):\n",
        "    \"\"\"Quick function to clean single text without logging\"\"\"\n",
        "    cleaner = TextCleaner()\n",
        "    return cleaner.clean_single_text(text, remove_punctuation=remove_punctuation)\n",
        "\n",
        "def clean_text_from_file(input_path, output_path, remove_punctuation=False):\n",
        "    \"\"\"Clean text from specific file and save to specific location\"\"\"\n",
        "    try:\n",
        "        with open(input_path, 'r', encoding='utf-8') as f:\n",
        "            raw_text = f.read()\n",
        "\n",
        "        cleaned_text = clean_single_text_quick(raw_text, remove_punctuation)\n",
        "\n",
        "        with open(output_path, 'w', encoding='utf-8') as f:\n",
        "            f.write(cleaned_text)\n",
        "\n",
        "        print(f\"Cleaned text saved: {output_path}\")\n",
        "        return True\n",
        "\n",
        "    except Exception as e:\n",
        "        print(f\"Error: {e}\")\n",
        "        return False\n",
        "\n",
        "def main():\n",
        "    \"\"\"Main execution function\"\"\"\n",
        "    print(\"iii. PEMBERSIHAN TEKS\")\n",
        "    print(\"=\" * 50)\n",
        "    print(\"Input: Raw text files hasil ekstraksi PDF\")\n",
        "    print(\"Output 1: Clean text files di /data/raw/\")\n",
        "    print(\"Output 2: Clean text files di Google Drive/CLEANED\")\n",
        "    print(\"Output 3: Clean text files di Google Drive/data/raw\")\n",
        "    print(\"Logs: /logs/ dan Google Drive/logs/\")\n",
        "    print(\"=\" * 50)\n",
        "\n",
        "    # Initialize cleaner\n",
        "    cleaner = TextCleaner(\"/content/drive/MyDrive/korupsi\")\n",
        "\n",
        "    # Process all raw text files (keep punctuation by default)\n",
        "    cleaner.process_all_files(remove_punctuation=False)\n",
        "\n",
        "    print(\"\\nCLEANING PROCESS COMPLETE!\")\n",
        "    print(f\"Check output files in: /data/raw/\")\n",
        "    print(f\"Check output files in: {cleaner.gdrive_output_dir}\")\n",
        "    print(f\"Check output files in: {cleaner.gdrive_data_raw_dir}\")\n",
        "    print(f\"Check logs in: /logs/cleaning.log\")\n",
        "    print(f\"Check logs in: {cleaner.gdrive_logs_dir}/cleaning.log\")\n",
        "\n",
        "# Execute\n",
        "if __name__ == \"__main__\":\n",
        "    main()"
      ],
      "metadata": {
        "colab": {
          "base_uri": "https://localhost:8080/"
        },
        "id": "v8W6nI4BR9ox",
        "outputId": "b40afbfd-f827-4791-84ae-85b4f7a7c02e"
      },
      "execution_count": null,
      "outputs": [
        {
          "output_type": "stream",
          "name": "stderr",
          "text": [
            "INFO:text_cleaning:============================================================\n",
            "INFO:text_cleaning:TEXT CLEANING SESSION STARTED\n",
            "INFO:text_cleaning:============================================================\n",
            "INFO:text_cleaning:Processing file: raw_2024_TK1_Putusan_PN_SURABAYA_Nomor_86_Pid_Sus-TPK_2024_PN_Sby_Tanggal_31_Desember_2024__Penuntut_Umum_Martina_Peristyanti__S_H___MBATerdakwa_SUJARWO_Bin_JIMIN.txt\n",
            "INFO:text_cleaning:Starting cleaning. Original length: 841987 characters\n"
          ]
        },
        {
          "output_type": "stream",
          "name": "stdout",
          "text": [
            "iii. PEMBERSIHAN TEKS\n",
            "==================================================\n",
            "Input: Raw text files hasil ekstraksi PDF\n",
            "Output 1: Clean text files di /data/raw/\n",
            "Output 2: Clean text files di Google Drive/CLEANED\n",
            "Output 3: Clean text files di Google Drive/data/raw\n",
            "Logs: /logs/ dan Google Drive/logs/\n",
            "==================================================\n",
            "Input (raw text): /content/drive/MyDrive/korupsi/RAW_TEXT\n",
            "Output 1 (data/raw): /data/raw\n",
            "Output 2 (gdrive): /content/drive/MyDrive/korupsi/CLEANED\n",
            "Output 3 (gdrive/data/raw): /content/drive/MyDrive/korupsi/data/raw\n",
            "Logs 1 (local): /logs\n",
            "Logs 2 (gdrive): /content/drive/MyDrive/korupsi/logs\n",
            "Found 114 files to process\n",
            "Remove punctuation: NO\n",
            "============================================================\n",
            "[1/114] raw_2024_TK1_Putusan_PN_SURABAYA_Nomor_86_Pid_Sus-TPK_2024_PN_Sby_Tanggal_31_Desember_2024__Penuntut_Umum_Martina_Peristyanti__S_H___MBATerdakwa_SUJARWO_Bin_JIMIN.txt\n"
          ]
        },
        {
          "output_type": "stream",
          "name": "stderr",
          "text": [
            "INFO:text_cleaning:Headers/footers/watermarks removed: 209137 characters\n",
            "INFO:text_cleaning:Text converted to lowercase\n",
            "INFO:text_cleaning:Spacing/character normalization: 4872 characters removed\n",
            "INFO:text_cleaning:Cleaning complete. Final length: 627977 characters (25.4% reduction)\n",
            "INFO:text_cleaning:Cleaned file saved to all three locations: case_2024_TK1_Putusan_PN_SURABAYA_Nomor_86_Pid_Sus-TPK_2024_PN_Sby_Tanggal_31_Desember_2024__Penuntut_Umum_Martina_Peristyanti__S_H___MBATerdakwa_SUJARWO_Bin_JIMIN.txt\n",
            "INFO:text_cleaning:Processing file: raw_2024_TK1_Putusan_PN_SURABAYA_Nomor_85_Pid_Sus-TPK_2024_PN_Sby_Tanggal_31_Desember_2024__Penuntut_Umum_Martina_Peristyanti__S_H___MBATerdakwa_MEGA_YUNAN_RAKHMANA.txt\n",
            "INFO:text_cleaning:Starting cleaning. Original length: 919664 characters\n"
          ]
        },
        {
          "output_type": "stream",
          "name": "stdout",
          "text": [
            "SUCCESS: raw_2024_TK1_Putusan_PN_SURABAYA_Nomor_86_Pid_Sus-TPK_2024_PN_Sby_Tanggal_31_Desember_2024__Penuntut_Umum_Martina_Peristyanti__S_H___MBATerdakwa_SUJARWO_Bin_JIMIN.txt -> case_2024_TK1_Putusan_PN_SURABAYA_Nomor_86_Pid_Sus-TPK_2024_PN_Sby_Tanggal_31_Desember_2024__Penuntut_Umum_Martina_Peristyanti__S_H___MBATerdakwa_SUJARWO_Bin_JIMIN.txt (saved to /data/raw, gdrive/CLEANED, and gdrive/data/raw)\n",
            "[2/114] raw_2024_TK1_Putusan_PN_SURABAYA_Nomor_85_Pid_Sus-TPK_2024_PN_Sby_Tanggal_31_Desember_2024__Penuntut_Umum_Martina_Peristyanti__S_H___MBATerdakwa_MEGA_YUNAN_RAKHMANA.txt\n"
          ]
        },
        {
          "output_type": "stream",
          "name": "stderr",
          "text": [
            "INFO:text_cleaning:Headers/footers/watermarks removed: 225395 characters\n",
            "INFO:text_cleaning:Text converted to lowercase\n",
            "INFO:text_cleaning:Spacing/character normalization: 5173 characters removed\n",
            "INFO:text_cleaning:Cleaning complete. Final length: 689095 characters (25.1% reduction)\n",
            "INFO:text_cleaning:Cleaned file saved to all three locations: case_2024_TK1_Putusan_PN_SURABAYA_Nomor_85_Pid_Sus-TPK_2024_PN_Sby_Tanggal_31_Desember_2024__Penuntut_Umum_Martina_Peristyanti__S_H___MBATerdakwa_MEGA_YUNAN_RAKHMANA.txt\n",
            "INFO:text_cleaning:Processing file: raw_2024_TK1_Putusan_PN_SURABAYA_Nomor_117_Pid_Sus-TPK_2024_PN_Sby_Tanggal_24_Desember_2024__Penuntut_Umum_DIAN_PRANATA_DEPARI__S_H__M_HTerdakwa_FAISOL__S_Pd__BIN_SUNARKI.txt\n",
            "INFO:text_cleaning:Starting cleaning. Original length: 301061 characters\n",
            "INFO:text_cleaning:Headers/footers/watermarks removed: 73485 characters\n",
            "INFO:text_cleaning:Text converted to lowercase\n",
            "INFO:text_cleaning:Spacing/character normalization: 1796 characters removed\n",
            "INFO:text_cleaning:Cleaning complete. Final length: 225779 characters (25.0% reduction)\n",
            "INFO:text_cleaning:Cleaned file saved to all three locations: case_2024_TK1_Putusan_PN_SURABAYA_Nomor_117_Pid_Sus-TPK_2024_PN_Sby_Tanggal_24_Desember_2024__Penuntut_Umum_DIAN_PRANATA_DEPARI__S_H__M_HTerdakwa_FAISOL__S_Pd__BIN_SUNARKI.txt\n",
            "INFO:text_cleaning:Processing file: raw_2024_TK1_Putusan_PN_SURABAYA_Nomor_111_Pid_Sus-TPK_2024_PN_Sby_Tanggal_24_Desember_2024__Penuntut_Umum_Moch__Taufiq_Ismail__S_HTerdakwa_ANININGSIH_BINTI_RIYADI.txt\n",
            "INFO:text_cleaning:Starting cleaning. Original length: 609109 characters\n"
          ]
        },
        {
          "output_type": "stream",
          "name": "stdout",
          "text": [
            "SUCCESS: raw_2024_TK1_Putusan_PN_SURABAYA_Nomor_85_Pid_Sus-TPK_2024_PN_Sby_Tanggal_31_Desember_2024__Penuntut_Umum_Martina_Peristyanti__S_H___MBATerdakwa_MEGA_YUNAN_RAKHMANA.txt -> case_2024_TK1_Putusan_PN_SURABAYA_Nomor_85_Pid_Sus-TPK_2024_PN_Sby_Tanggal_31_Desember_2024__Penuntut_Umum_Martina_Peristyanti__S_H___MBATerdakwa_MEGA_YUNAN_RAKHMANA.txt (saved to /data/raw, gdrive/CLEANED, and gdrive/data/raw)\n",
            "[3/114] raw_2024_TK1_Putusan_PN_SURABAYA_Nomor_117_Pid_Sus-TPK_2024_PN_Sby_Tanggal_24_Desember_2024__Penuntut_Umum_DIAN_PRANATA_DEPARI__S_H__M_HTerdakwa_FAISOL__S_Pd__BIN_SUNARKI.txt\n",
            "SUCCESS: raw_2024_TK1_Putusan_PN_SURABAYA_Nomor_117_Pid_Sus-TPK_2024_PN_Sby_Tanggal_24_Desember_2024__Penuntut_Umum_DIAN_PRANATA_DEPARI__S_H__M_HTerdakwa_FAISOL__S_Pd__BIN_SUNARKI.txt -> case_2024_TK1_Putusan_PN_SURABAYA_Nomor_117_Pid_Sus-TPK_2024_PN_Sby_Tanggal_24_Desember_2024__Penuntut_Umum_DIAN_PRANATA_DEPARI__S_H__M_HTerdakwa_FAISOL__S_Pd__BIN_SUNARKI.txt (saved to /data/raw, gdrive/CLEANED, and gdrive/data/raw)\n",
            "[4/114] raw_2024_TK1_Putusan_PN_SURABAYA_Nomor_111_Pid_Sus-TPK_2024_PN_Sby_Tanggal_24_Desember_2024__Penuntut_Umum_Moch__Taufiq_Ismail__S_HTerdakwa_ANININGSIH_BINTI_RIYADI.txt\n"
          ]
        },
        {
          "output_type": "stream",
          "name": "stderr",
          "text": [
            "INFO:text_cleaning:Headers/footers/watermarks removed: 142120 characters\n",
            "INFO:text_cleaning:Text converted to lowercase\n",
            "INFO:text_cleaning:Spacing/character normalization: 3132 characters removed\n",
            "INFO:text_cleaning:Cleaning complete. Final length: 463856 characters (23.8% reduction)\n",
            "INFO:text_cleaning:Cleaned file saved to all three locations: case_2024_TK1_Putusan_PN_SURABAYA_Nomor_111_Pid_Sus-TPK_2024_PN_Sby_Tanggal_24_Desember_2024__Penuntut_Umum_Moch__Taufiq_Ismail__S_HTerdakwa_ANININGSIH_BINTI_RIYADI.txt\n",
            "INFO:text_cleaning:Processing file: raw_2024_TK1_Putusan_PN_SURABAYA_Nomor_105_Pid_Sus-TPK_2024_PN_Sby_Tanggal_23_Desember_2024__Penuntut_Umum_DIAN_PRANATA_DEPARI__S_H__M_HTerdakwa_Rian_Mahendra_Bin_Achmad_Wardoyo_Alm.txt\n",
            "INFO:text_cleaning:Starting cleaning. Original length: 741330 characters\n",
            "INFO:text_cleaning:Headers/footers/watermarks removed: 174667 characters\n",
            "INFO:text_cleaning:Text converted to lowercase\n"
          ]
        },
        {
          "output_type": "stream",
          "name": "stdout",
          "text": [
            "SUCCESS: raw_2024_TK1_Putusan_PN_SURABAYA_Nomor_111_Pid_Sus-TPK_2024_PN_Sby_Tanggal_24_Desember_2024__Penuntut_Umum_Moch__Taufiq_Ismail__S_HTerdakwa_ANININGSIH_BINTI_RIYADI.txt -> case_2024_TK1_Putusan_PN_SURABAYA_Nomor_111_Pid_Sus-TPK_2024_PN_Sby_Tanggal_24_Desember_2024__Penuntut_Umum_Moch__Taufiq_Ismail__S_HTerdakwa_ANININGSIH_BINTI_RIYADI.txt (saved to /data/raw, gdrive/CLEANED, and gdrive/data/raw)\n",
            "[5/114] raw_2024_TK1_Putusan_PN_SURABAYA_Nomor_105_Pid_Sus-TPK_2024_PN_Sby_Tanggal_23_Desember_2024__Penuntut_Umum_DIAN_PRANATA_DEPARI__S_H__M_HTerdakwa_Rian_Mahendra_Bin_Achmad_Wardoyo_Alm.txt\n"
          ]
        },
        {
          "output_type": "stream",
          "name": "stderr",
          "text": [
            "INFO:text_cleaning:Spacing/character normalization: 4297 characters removed\n",
            "INFO:text_cleaning:Cleaning complete. Final length: 562365 characters (24.1% reduction)\n",
            "INFO:text_cleaning:Cleaned file saved to all three locations: case_2024_TK1_Putusan_PN_SURABAYA_Nomor_105_Pid_Sus-TPK_2024_PN_Sby_Tanggal_23_Desember_2024__Penuntut_Umum_DIAN_PRANATA_DEPARI__S_H__M_HTerdakwa_Rian_Mahendra_Bin_Achmad_Wardoyo_Alm.txt\n",
            "INFO:text_cleaning:Processing file: raw_2024_TK1_Putusan_PN_SURABAYA_Nomor_103_Pid_Sus-TPK_2024_PN_Sby_Tanggal_23_Desember_2024__Penuntut_Umum_DIAN_PRANATA_DEPARI__S_H__M_HTerdakwa_H__Munandar__SP___M_M_Bin_Alm__Adjib.txt\n",
            "INFO:text_cleaning:Starting cleaning. Original length: 702037 characters\n",
            "INFO:text_cleaning:Headers/footers/watermarks removed: 165093 characters\n",
            "INFO:text_cleaning:Text converted to lowercase\n"
          ]
        },
        {
          "output_type": "stream",
          "name": "stdout",
          "text": [
            "SUCCESS: raw_2024_TK1_Putusan_PN_SURABAYA_Nomor_105_Pid_Sus-TPK_2024_PN_Sby_Tanggal_23_Desember_2024__Penuntut_Umum_DIAN_PRANATA_DEPARI__S_H__M_HTerdakwa_Rian_Mahendra_Bin_Achmad_Wardoyo_Alm.txt -> case_2024_TK1_Putusan_PN_SURABAYA_Nomor_105_Pid_Sus-TPK_2024_PN_Sby_Tanggal_23_Desember_2024__Penuntut_Umum_DIAN_PRANATA_DEPARI__S_H__M_HTerdakwa_Rian_Mahendra_Bin_Achmad_Wardoyo_Alm.txt (saved to /data/raw, gdrive/CLEANED, and gdrive/data/raw)\n",
            "[6/114] raw_2024_TK1_Putusan_PN_SURABAYA_Nomor_103_Pid_Sus-TPK_2024_PN_Sby_Tanggal_23_Desember_2024__Penuntut_Umum_DIAN_PRANATA_DEPARI__S_H__M_HTerdakwa_H__Munandar__SP___M_M_Bin_Alm__Adjib.txt\n"
          ]
        },
        {
          "output_type": "stream",
          "name": "stderr",
          "text": [
            "INFO:text_cleaning:Spacing/character normalization: 4120 characters removed\n",
            "INFO:text_cleaning:Cleaning complete. Final length: 532823 characters (24.1% reduction)\n",
            "INFO:text_cleaning:Cleaned file saved to all three locations: case_2024_TK1_Putusan_PN_SURABAYA_Nomor_103_Pid_Sus-TPK_2024_PN_Sby_Tanggal_23_Desember_2024__Penuntut_Umum_DIAN_PRANATA_DEPARI__S_H__M_HTerdakwa_H__Munandar__SP___M_M_Bin_Alm__Adjib.txt\n",
            "INFO:text_cleaning:Processing file: raw_2024_TK1_Putusan_PN_SURABAYA_Nomor_110_Pid_Sus-TPK_2024_PN_Sby_Tanggal_23_Desember_2024__Penuntut_Umum_Gilang_GemilangTerdakwa_AHMAD_MUHDLOR.txt\n",
            "INFO:text_cleaning:Starting cleaning. Original length: 1559205 characters\n"
          ]
        },
        {
          "output_type": "stream",
          "name": "stdout",
          "text": [
            "SUCCESS: raw_2024_TK1_Putusan_PN_SURABAYA_Nomor_103_Pid_Sus-TPK_2024_PN_Sby_Tanggal_23_Desember_2024__Penuntut_Umum_DIAN_PRANATA_DEPARI__S_H__M_HTerdakwa_H__Munandar__SP___M_M_Bin_Alm__Adjib.txt -> case_2024_TK1_Putusan_PN_SURABAYA_Nomor_103_Pid_Sus-TPK_2024_PN_Sby_Tanggal_23_Desember_2024__Penuntut_Umum_DIAN_PRANATA_DEPARI__S_H__M_HTerdakwa_H__Munandar__SP___M_M_Bin_Alm__Adjib.txt (saved to /data/raw, gdrive/CLEANED, and gdrive/data/raw)\n",
            "[7/114] raw_2024_TK1_Putusan_PN_SURABAYA_Nomor_110_Pid_Sus-TPK_2024_PN_Sby_Tanggal_23_Desember_2024__Penuntut_Umum_Gilang_GemilangTerdakwa_AHMAD_MUHDLOR.txt\n"
          ]
        },
        {
          "output_type": "stream",
          "name": "stderr",
          "text": [
            "INFO:text_cleaning:Headers/footers/watermarks removed: 386162 characters\n",
            "INFO:text_cleaning:Text converted to lowercase\n",
            "INFO:text_cleaning:Spacing/character normalization: 9324 characters removed\n",
            "INFO:text_cleaning:Cleaning complete. Final length: 1163718 characters (25.4% reduction)\n",
            "INFO:text_cleaning:Cleaned file saved to all three locations: case_2024_TK1_Putusan_PN_SURABAYA_Nomor_110_Pid_Sus-TPK_2024_PN_Sby_Tanggal_23_Desember_2024__Penuntut_Umum_Gilang_GemilangTerdakwa_AHMAD_MUHDLOR.txt\n",
            "INFO:text_cleaning:Processing file: raw_2024_TK1_Putusan_PN_SURABAYA_Nomor_104_Pid_Sus-TPK_2024_PN_Sby_Tanggal_23_Desember_2024__Penuntut_Umum_DIAN_PRANATA_DEPARI__S_H__M_HTerdakwa_Edy_Suyitno_Bin_Kuswanto.txt\n",
            "INFO:text_cleaning:Starting cleaning. Original length: 718493 characters\n",
            "INFO:text_cleaning:Headers/footers/watermarks removed: 170233 characters\n",
            "INFO:text_cleaning:Text converted to lowercase\n"
          ]
        },
        {
          "output_type": "stream",
          "name": "stdout",
          "text": [
            "SUCCESS: raw_2024_TK1_Putusan_PN_SURABAYA_Nomor_110_Pid_Sus-TPK_2024_PN_Sby_Tanggal_23_Desember_2024__Penuntut_Umum_Gilang_GemilangTerdakwa_AHMAD_MUHDLOR.txt -> case_2024_TK1_Putusan_PN_SURABAYA_Nomor_110_Pid_Sus-TPK_2024_PN_Sby_Tanggal_23_Desember_2024__Penuntut_Umum_Gilang_GemilangTerdakwa_AHMAD_MUHDLOR.txt (saved to /data/raw, gdrive/CLEANED, and gdrive/data/raw)\n",
            "[8/114] raw_2024_TK1_Putusan_PN_SURABAYA_Nomor_104_Pid_Sus-TPK_2024_PN_Sby_Tanggal_23_Desember_2024__Penuntut_Umum_DIAN_PRANATA_DEPARI__S_H__M_HTerdakwa_Edy_Suyitno_Bin_Kuswanto.txt\n"
          ]
        },
        {
          "output_type": "stream",
          "name": "stderr",
          "text": [
            "INFO:text_cleaning:Spacing/character normalization: 4229 characters removed\n",
            "INFO:text_cleaning:Cleaning complete. Final length: 544030 characters (24.3% reduction)\n",
            "INFO:text_cleaning:Cleaned file saved to all three locations: case_2024_TK1_Putusan_PN_SURABAYA_Nomor_104_Pid_Sus-TPK_2024_PN_Sby_Tanggal_23_Desember_2024__Penuntut_Umum_DIAN_PRANATA_DEPARI__S_H__M_HTerdakwa_Edy_Suyitno_Bin_Kuswanto.txt\n",
            "INFO:text_cleaning:Processing file: raw_2024_TK1_Putusan_PN_SURABAYA_Nomor_83_Pid_Sus-TPK_2024_PN_Sby_Tanggal_18_Desember_2024__Penuntut_Umum_TARJONO_SHTerdakwa_1_SUHARTO__SE2_IRMAWATI_FAUZIAH.txt\n",
            "INFO:text_cleaning:Starting cleaning. Original length: 718300 characters\n",
            "INFO:text_cleaning:Headers/footers/watermarks removed: 165584 characters\n",
            "INFO:text_cleaning:Text converted to lowercase\n"
          ]
        },
        {
          "output_type": "stream",
          "name": "stdout",
          "text": [
            "SUCCESS: raw_2024_TK1_Putusan_PN_SURABAYA_Nomor_104_Pid_Sus-TPK_2024_PN_Sby_Tanggal_23_Desember_2024__Penuntut_Umum_DIAN_PRANATA_DEPARI__S_H__M_HTerdakwa_Edy_Suyitno_Bin_Kuswanto.txt -> case_2024_TK1_Putusan_PN_SURABAYA_Nomor_104_Pid_Sus-TPK_2024_PN_Sby_Tanggal_23_Desember_2024__Penuntut_Umum_DIAN_PRANATA_DEPARI__S_H__M_HTerdakwa_Edy_Suyitno_Bin_Kuswanto.txt (saved to /data/raw, gdrive/CLEANED, and gdrive/data/raw)\n",
            "[9/114] raw_2024_TK1_Putusan_PN_SURABAYA_Nomor_83_Pid_Sus-TPK_2024_PN_Sby_Tanggal_18_Desember_2024__Penuntut_Umum_TARJONO_SHTerdakwa_1_SUHARTO__SE2_IRMAWATI_FAUZIAH.txt\n"
          ]
        },
        {
          "output_type": "stream",
          "name": "stderr",
          "text": [
            "INFO:text_cleaning:Spacing/character normalization: 3411 characters removed\n",
            "INFO:text_cleaning:Cleaning complete. Final length: 549304 characters (23.5% reduction)\n",
            "INFO:text_cleaning:Cleaned file saved to all three locations: case_2024_TK1_Putusan_PN_SURABAYA_Nomor_83_Pid_Sus-TPK_2024_PN_Sby_Tanggal_18_Desember_2024__Penuntut_Umum_TARJONO_SHTerdakwa_1_SUHARTO__SE2_IRMAWATI_FAUZIAH.txt\n",
            "INFO:text_cleaning:Processing file: raw_2024_TK1_Putusan_PN_SURABAYA_Nomor_84_Pid_Sus-TPK_2024_PN_Sby_Tanggal_18_Desember_2024__Penuntut_Umum_TARJONO_SHTerdakwa_1_M__HERI_PURNIAWAN2_IRMAWATI_FAUZIAH.txt\n",
            "INFO:text_cleaning:Starting cleaning. Original length: 764153 characters\n",
            "INFO:text_cleaning:Headers/footers/watermarks removed: 174692 characters\n",
            "INFO:text_cleaning:Text converted to lowercase\n"
          ]
        },
        {
          "output_type": "stream",
          "name": "stdout",
          "text": [
            "SUCCESS: raw_2024_TK1_Putusan_PN_SURABAYA_Nomor_83_Pid_Sus-TPK_2024_PN_Sby_Tanggal_18_Desember_2024__Penuntut_Umum_TARJONO_SHTerdakwa_1_SUHARTO__SE2_IRMAWATI_FAUZIAH.txt -> case_2024_TK1_Putusan_PN_SURABAYA_Nomor_83_Pid_Sus-TPK_2024_PN_Sby_Tanggal_18_Desember_2024__Penuntut_Umum_TARJONO_SHTerdakwa_1_SUHARTO__SE2_IRMAWATI_FAUZIAH.txt (saved to /data/raw, gdrive/CLEANED, and gdrive/data/raw)\n",
            "[10/114] raw_2024_TK1_Putusan_PN_SURABAYA_Nomor_84_Pid_Sus-TPK_2024_PN_Sby_Tanggal_18_Desember_2024__Penuntut_Umum_TARJONO_SHTerdakwa_1_M__HERI_PURNIAWAN2_IRMAWATI_FAUZIAH.txt\n"
          ]
        },
        {
          "output_type": "stream",
          "name": "stderr",
          "text": [
            "INFO:text_cleaning:Spacing/character normalization: 3565 characters removed\n",
            "INFO:text_cleaning:Cleaning complete. Final length: 585895 characters (23.3% reduction)\n",
            "INFO:text_cleaning:Cleaned file saved to all three locations: case_2024_TK1_Putusan_PN_SURABAYA_Nomor_84_Pid_Sus-TPK_2024_PN_Sby_Tanggal_18_Desember_2024__Penuntut_Umum_TARJONO_SHTerdakwa_1_M__HERI_PURNIAWAN2_IRMAWATI_FAUZIAH.txt\n",
            "INFO:text_cleaning:Processing file: raw_2024_TK1_Putusan_PN_SURABAYA_Nomor_76_Pid_Sus-TPK_2024_PN_Sby_Tanggal_16_Desember_2024__Penuntut_Umum_Nur_Ngali_SH_MHTerdakwa_SUGIANTO_SE_Msi_Ak_CA.txt\n",
            "INFO:text_cleaning:Starting cleaning. Original length: 495334 characters\n",
            "INFO:text_cleaning:Headers/footers/watermarks removed: 114610 characters\n",
            "INFO:text_cleaning:Text converted to lowercase\n"
          ]
        },
        {
          "output_type": "stream",
          "name": "stdout",
          "text": [
            "SUCCESS: raw_2024_TK1_Putusan_PN_SURABAYA_Nomor_84_Pid_Sus-TPK_2024_PN_Sby_Tanggal_18_Desember_2024__Penuntut_Umum_TARJONO_SHTerdakwa_1_M__HERI_PURNIAWAN2_IRMAWATI_FAUZIAH.txt -> case_2024_TK1_Putusan_PN_SURABAYA_Nomor_84_Pid_Sus-TPK_2024_PN_Sby_Tanggal_18_Desember_2024__Penuntut_Umum_TARJONO_SHTerdakwa_1_M__HERI_PURNIAWAN2_IRMAWATI_FAUZIAH.txt (saved to /data/raw, gdrive/CLEANED, and gdrive/data/raw)\n",
            "[11/114] raw_2024_TK1_Putusan_PN_SURABAYA_Nomor_76_Pid_Sus-TPK_2024_PN_Sby_Tanggal_16_Desember_2024__Penuntut_Umum_Nur_Ngali_SH_MHTerdakwa_SUGIANTO_SE_Msi_Ak_CA.txt\n"
          ]
        },
        {
          "output_type": "stream",
          "name": "stderr",
          "text": [
            "INFO:text_cleaning:Spacing/character normalization: 2706 characters removed\n",
            "INFO:text_cleaning:Cleaning complete. Final length: 378017 characters (23.7% reduction)\n",
            "INFO:text_cleaning:Cleaned file saved to all three locations: case_2024_TK1_Putusan_PN_SURABAYA_Nomor_76_Pid_Sus-TPK_2024_PN_Sby_Tanggal_16_Desember_2024__Penuntut_Umum_Nur_Ngali_SH_MHTerdakwa_SUGIANTO_SE_Msi_Ak_CA.txt\n",
            "INFO:text_cleaning:Processing file: raw_2024_TK1_Putusan_PN_SURABAYA_Nomor_75_Pid_Sus-TPK_2024_PN_Sby_Tanggal_16_Desember_2024__Penuntut_Umum_ADITIA_SULAEMAN__S_HTerdakwa_MOHAMMAD_SYAIFUDIN__S_Sos_.txt\n",
            "INFO:text_cleaning:Starting cleaning. Original length: 525364 characters\n",
            "INFO:text_cleaning:Headers/footers/watermarks removed: 133052 characters\n",
            "INFO:text_cleaning:Text converted to lowercase\n"
          ]
        },
        {
          "output_type": "stream",
          "name": "stdout",
          "text": [
            "SUCCESS: raw_2024_TK1_Putusan_PN_SURABAYA_Nomor_76_Pid_Sus-TPK_2024_PN_Sby_Tanggal_16_Desember_2024__Penuntut_Umum_Nur_Ngali_SH_MHTerdakwa_SUGIANTO_SE_Msi_Ak_CA.txt -> case_2024_TK1_Putusan_PN_SURABAYA_Nomor_76_Pid_Sus-TPK_2024_PN_Sby_Tanggal_16_Desember_2024__Penuntut_Umum_Nur_Ngali_SH_MHTerdakwa_SUGIANTO_SE_Msi_Ak_CA.txt (saved to /data/raw, gdrive/CLEANED, and gdrive/data/raw)\n",
            "[12/114] raw_2024_TK1_Putusan_PN_SURABAYA_Nomor_75_Pid_Sus-TPK_2024_PN_Sby_Tanggal_16_Desember_2024__Penuntut_Umum_ADITIA_SULAEMAN__S_HTerdakwa_MOHAMMAD_SYAIFUDIN__S_Sos_.txt\n"
          ]
        },
        {
          "output_type": "stream",
          "name": "stderr",
          "text": [
            "INFO:text_cleaning:Spacing/character normalization: 2867 characters removed\n",
            "INFO:text_cleaning:Cleaning complete. Final length: 389444 characters (25.9% reduction)\n",
            "INFO:text_cleaning:Cleaned file saved to all three locations: case_2024_TK1_Putusan_PN_SURABAYA_Nomor_75_Pid_Sus-TPK_2024_PN_Sby_Tanggal_16_Desember_2024__Penuntut_Umum_ADITIA_SULAEMAN__S_HTerdakwa_MOHAMMAD_SYAIFUDIN__S_Sos_.txt\n",
            "INFO:text_cleaning:Processing file: raw_2024_TK1_Putusan_PN_SURABAYA_Nomor_72_Pid_Sus-TPK_2024_PN_Sby_Tanggal_16_Desember_2024__Penuntut_Umum_ADITIA_SULAEMAN__S_HTerdakwa_WASITO_BIN_WIJI.txt\n",
            "INFO:text_cleaning:Starting cleaning. Original length: 479534 characters\n",
            "INFO:text_cleaning:Headers/footers/watermarks removed: 115316 characters\n",
            "INFO:text_cleaning:Text converted to lowercase\n"
          ]
        },
        {
          "output_type": "stream",
          "name": "stdout",
          "text": [
            "SUCCESS: raw_2024_TK1_Putusan_PN_SURABAYA_Nomor_75_Pid_Sus-TPK_2024_PN_Sby_Tanggal_16_Desember_2024__Penuntut_Umum_ADITIA_SULAEMAN__S_HTerdakwa_MOHAMMAD_SYAIFUDIN__S_Sos_.txt -> case_2024_TK1_Putusan_PN_SURABAYA_Nomor_75_Pid_Sus-TPK_2024_PN_Sby_Tanggal_16_Desember_2024__Penuntut_Umum_ADITIA_SULAEMAN__S_HTerdakwa_MOHAMMAD_SYAIFUDIN__S_Sos_.txt (saved to /data/raw, gdrive/CLEANED, and gdrive/data/raw)\n",
            "[13/114] raw_2024_TK1_Putusan_PN_SURABAYA_Nomor_72_Pid_Sus-TPK_2024_PN_Sby_Tanggal_16_Desember_2024__Penuntut_Umum_ADITIA_SULAEMAN__S_HTerdakwa_WASITO_BIN_WIJI.txt\n"
          ]
        },
        {
          "output_type": "stream",
          "name": "stderr",
          "text": [
            "INFO:text_cleaning:Spacing/character normalization: 3024 characters removed\n",
            "INFO:text_cleaning:Cleaning complete. Final length: 361193 characters (24.7% reduction)\n",
            "INFO:text_cleaning:Cleaned file saved to all three locations: case_2024_TK1_Putusan_PN_SURABAYA_Nomor_72_Pid_Sus-TPK_2024_PN_Sby_Tanggal_16_Desember_2024__Penuntut_Umum_ADITIA_SULAEMAN__S_HTerdakwa_WASITO_BIN_WIJI.txt\n",
            "INFO:text_cleaning:Processing file: raw_2024_TK1_Putusan_PN_SURABAYA_Nomor_73_Pid_Sus-TPK_2024_PN_Sby_Tanggal_16_Desember_2024__Penuntut_Umum_ADITIA_SULAEMAN__S_HTerdakwa_SUPRIYANTO_Bin_YUSUF_Als__PRI.txt\n",
            "INFO:text_cleaning:Starting cleaning. Original length: 590996 characters\n",
            "INFO:text_cleaning:Headers/footers/watermarks removed: 139703 characters\n",
            "INFO:text_cleaning:Text converted to lowercase\n"
          ]
        },
        {
          "output_type": "stream",
          "name": "stdout",
          "text": [
            "SUCCESS: raw_2024_TK1_Putusan_PN_SURABAYA_Nomor_72_Pid_Sus-TPK_2024_PN_Sby_Tanggal_16_Desember_2024__Penuntut_Umum_ADITIA_SULAEMAN__S_HTerdakwa_WASITO_BIN_WIJI.txt -> case_2024_TK1_Putusan_PN_SURABAYA_Nomor_72_Pid_Sus-TPK_2024_PN_Sby_Tanggal_16_Desember_2024__Penuntut_Umum_ADITIA_SULAEMAN__S_HTerdakwa_WASITO_BIN_WIJI.txt (saved to /data/raw, gdrive/CLEANED, and gdrive/data/raw)\n",
            "[14/114] raw_2024_TK1_Putusan_PN_SURABAYA_Nomor_73_Pid_Sus-TPK_2024_PN_Sby_Tanggal_16_Desember_2024__Penuntut_Umum_ADITIA_SULAEMAN__S_HTerdakwa_SUPRIYANTO_Bin_YUSUF_Als__PRI.txt\n"
          ]
        },
        {
          "output_type": "stream",
          "name": "stderr",
          "text": [
            "INFO:text_cleaning:Spacing/character normalization: 3568 characters removed\n",
            "INFO:text_cleaning:Cleaning complete. Final length: 447724 characters (24.2% reduction)\n",
            "INFO:text_cleaning:Cleaned file saved to all three locations: case_2024_TK1_Putusan_PN_SURABAYA_Nomor_73_Pid_Sus-TPK_2024_PN_Sby_Tanggal_16_Desember_2024__Penuntut_Umum_ADITIA_SULAEMAN__S_HTerdakwa_SUPRIYANTO_Bin_YUSUF_Als__PRI.txt\n",
            "INFO:text_cleaning:Processing file: raw_2024_TK1_Putusan_PN_SURABAYA_Nomor_74_Pid_Sus-TPK_2024_PN_Sby_Tanggal_16_Desember_2024__Penuntut_Umum_ADITIA_SULAEMAN__S_HTerdakwa_SAKRI_BIN_WADI.txt\n",
            "INFO:text_cleaning:Starting cleaning. Original length: 550971 characters\n",
            "INFO:text_cleaning:Headers/footers/watermarks removed: 131574 characters\n",
            "INFO:text_cleaning:Text converted to lowercase\n"
          ]
        },
        {
          "output_type": "stream",
          "name": "stdout",
          "text": [
            "SUCCESS: raw_2024_TK1_Putusan_PN_SURABAYA_Nomor_73_Pid_Sus-TPK_2024_PN_Sby_Tanggal_16_Desember_2024__Penuntut_Umum_ADITIA_SULAEMAN__S_HTerdakwa_SUPRIYANTO_Bin_YUSUF_Als__PRI.txt -> case_2024_TK1_Putusan_PN_SURABAYA_Nomor_73_Pid_Sus-TPK_2024_PN_Sby_Tanggal_16_Desember_2024__Penuntut_Umum_ADITIA_SULAEMAN__S_HTerdakwa_SUPRIYANTO_Bin_YUSUF_Als__PRI.txt (saved to /data/raw, gdrive/CLEANED, and gdrive/data/raw)\n",
            "[15/114] raw_2024_TK1_Putusan_PN_SURABAYA_Nomor_74_Pid_Sus-TPK_2024_PN_Sby_Tanggal_16_Desember_2024__Penuntut_Umum_ADITIA_SULAEMAN__S_HTerdakwa_SAKRI_BIN_WADI.txt\n"
          ]
        },
        {
          "output_type": "stream",
          "name": "stderr",
          "text": [
            "INFO:text_cleaning:Spacing/character normalization: 3333 characters removed\n",
            "INFO:text_cleaning:Cleaning complete. Final length: 416063 characters (24.5% reduction)\n",
            "INFO:text_cleaning:Cleaned file saved to all three locations: case_2024_TK1_Putusan_PN_SURABAYA_Nomor_74_Pid_Sus-TPK_2024_PN_Sby_Tanggal_16_Desember_2024__Penuntut_Umum_ADITIA_SULAEMAN__S_HTerdakwa_SAKRI_BIN_WADI.txt\n",
            "INFO:text_cleaning:Processing file: raw_2024_TK1_Putusan_PN_SURABAYA_Nomor_78_Pid_Sus-TPK_2024_PN_Sby_Tanggal_16_Desember_2024__Penuntut_Umum_Nur_Ngali_SH_MHTerdakwa_ADRI_YANTO__SE.txt\n",
            "INFO:text_cleaning:Starting cleaning. Original length: 464084 characters\n",
            "INFO:text_cleaning:Headers/footers/watermarks removed: 102047 characters\n",
            "INFO:text_cleaning:Text converted to lowercase\n"
          ]
        },
        {
          "output_type": "stream",
          "name": "stdout",
          "text": [
            "SUCCESS: raw_2024_TK1_Putusan_PN_SURABAYA_Nomor_74_Pid_Sus-TPK_2024_PN_Sby_Tanggal_16_Desember_2024__Penuntut_Umum_ADITIA_SULAEMAN__S_HTerdakwa_SAKRI_BIN_WADI.txt -> case_2024_TK1_Putusan_PN_SURABAYA_Nomor_74_Pid_Sus-TPK_2024_PN_Sby_Tanggal_16_Desember_2024__Penuntut_Umum_ADITIA_SULAEMAN__S_HTerdakwa_SAKRI_BIN_WADI.txt (saved to /data/raw, gdrive/CLEANED, and gdrive/data/raw)\n",
            "[16/114] raw_2024_TK1_Putusan_PN_SURABAYA_Nomor_78_Pid_Sus-TPK_2024_PN_Sby_Tanggal_16_Desember_2024__Penuntut_Umum_Nur_Ngali_SH_MHTerdakwa_ADRI_YANTO__SE.txt\n"
          ]
        },
        {
          "output_type": "stream",
          "name": "stderr",
          "text": [
            "INFO:text_cleaning:Spacing/character normalization: 2238 characters removed\n",
            "INFO:text_cleaning:Cleaning complete. Final length: 359798 characters (22.5% reduction)\n",
            "INFO:text_cleaning:Cleaned file saved to all three locations: case_2024_TK1_Putusan_PN_SURABAYA_Nomor_78_Pid_Sus-TPK_2024_PN_Sby_Tanggal_16_Desember_2024__Penuntut_Umum_Nur_Ngali_SH_MHTerdakwa_ADRI_YANTO__SE.txt\n",
            "INFO:text_cleaning:Processing file: raw_2024_TK1_Putusan_PN_SURABAYA_Nomor_71_Pid_Sus-TPK_2024_PN_Sby_Tanggal_10_Desember_2024__Penuntut_Umum_I_PUTU_KISNU_GUPTA__S_H_Terdakwa_ULIS_DEWI_PURWANTI__S_Pd_.txt\n",
            "INFO:text_cleaning:Starting cleaning. Original length: 711574 characters\n",
            "INFO:text_cleaning:Headers/footers/watermarks removed: 174462 characters\n",
            "INFO:text_cleaning:Text converted to lowercase\n"
          ]
        },
        {
          "output_type": "stream",
          "name": "stdout",
          "text": [
            "SUCCESS: raw_2024_TK1_Putusan_PN_SURABAYA_Nomor_78_Pid_Sus-TPK_2024_PN_Sby_Tanggal_16_Desember_2024__Penuntut_Umum_Nur_Ngali_SH_MHTerdakwa_ADRI_YANTO__SE.txt -> case_2024_TK1_Putusan_PN_SURABAYA_Nomor_78_Pid_Sus-TPK_2024_PN_Sby_Tanggal_16_Desember_2024__Penuntut_Umum_Nur_Ngali_SH_MHTerdakwa_ADRI_YANTO__SE.txt (saved to /data/raw, gdrive/CLEANED, and gdrive/data/raw)\n",
            "[17/114] raw_2024_TK1_Putusan_PN_SURABAYA_Nomor_71_Pid_Sus-TPK_2024_PN_Sby_Tanggal_10_Desember_2024__Penuntut_Umum_I_PUTU_KISNU_GUPTA__S_H_Terdakwa_ULIS_DEWI_PURWANTI__S_Pd_.txt\n"
          ]
        },
        {
          "output_type": "stream",
          "name": "stderr",
          "text": [
            "INFO:text_cleaning:Spacing/character normalization: 4199 characters removed\n",
            "INFO:text_cleaning:Cleaning complete. Final length: 532912 characters (25.1% reduction)\n",
            "INFO:text_cleaning:Cleaned file saved to all three locations: case_2024_TK1_Putusan_PN_SURABAYA_Nomor_71_Pid_Sus-TPK_2024_PN_Sby_Tanggal_10_Desember_2024__Penuntut_Umum_I_PUTU_KISNU_GUPTA__S_H_Terdakwa_ULIS_DEWI_PURWANTI__S_Pd_.txt\n",
            "INFO:text_cleaning:Processing file: raw_2024_TK1_Putusan_PN_SURABAYA_Nomor_70_Pid_Sus-TPK_2024_PN_Sby_Tanggal_10_Desember_2024__Penuntut_Umum_I_PUTU_KISNU_GUPTA__S_H_Terdakwa_MUHAMMAD_ANAS__S_T.txt\n",
            "INFO:text_cleaning:Starting cleaning. Original length: 707226 characters\n",
            "INFO:text_cleaning:Headers/footers/watermarks removed: 171458 characters\n",
            "INFO:text_cleaning:Text converted to lowercase\n"
          ]
        },
        {
          "output_type": "stream",
          "name": "stdout",
          "text": [
            "SUCCESS: raw_2024_TK1_Putusan_PN_SURABAYA_Nomor_71_Pid_Sus-TPK_2024_PN_Sby_Tanggal_10_Desember_2024__Penuntut_Umum_I_PUTU_KISNU_GUPTA__S_H_Terdakwa_ULIS_DEWI_PURWANTI__S_Pd_.txt -> case_2024_TK1_Putusan_PN_SURABAYA_Nomor_71_Pid_Sus-TPK_2024_PN_Sby_Tanggal_10_Desember_2024__Penuntut_Umum_I_PUTU_KISNU_GUPTA__S_H_Terdakwa_ULIS_DEWI_PURWANTI__S_Pd_.txt (saved to /data/raw, gdrive/CLEANED, and gdrive/data/raw)\n",
            "[18/114] raw_2024_TK1_Putusan_PN_SURABAYA_Nomor_70_Pid_Sus-TPK_2024_PN_Sby_Tanggal_10_Desember_2024__Penuntut_Umum_I_PUTU_KISNU_GUPTA__S_H_Terdakwa_MUHAMMAD_ANAS__S_T.txt\n"
          ]
        },
        {
          "output_type": "stream",
          "name": "stderr",
          "text": [
            "INFO:text_cleaning:Spacing/character normalization: 4181 characters removed\n",
            "INFO:text_cleaning:Cleaning complete. Final length: 531586 characters (24.8% reduction)\n",
            "INFO:text_cleaning:Cleaned file saved to all three locations: case_2024_TK1_Putusan_PN_SURABAYA_Nomor_70_Pid_Sus-TPK_2024_PN_Sby_Tanggal_10_Desember_2024__Penuntut_Umum_I_PUTU_KISNU_GUPTA__S_H_Terdakwa_MUHAMMAD_ANAS__S_T.txt\n",
            "INFO:text_cleaning:Processing file: raw_2024_TK1_Putusan_PN_SURABAYA_Nomor_80_Pid_Sus-TPK_2024_PN_Sby_Tanggal_9_Desember_2024__Penuntut_Umum_ANTON_WAHYUDI__S_H___MHTerdakwa_RUDI_YUSWANTO.txt\n",
            "INFO:text_cleaning:Starting cleaning. Original length: 903472 characters\n"
          ]
        },
        {
          "output_type": "stream",
          "name": "stdout",
          "text": [
            "SUCCESS: raw_2024_TK1_Putusan_PN_SURABAYA_Nomor_70_Pid_Sus-TPK_2024_PN_Sby_Tanggal_10_Desember_2024__Penuntut_Umum_I_PUTU_KISNU_GUPTA__S_H_Terdakwa_MUHAMMAD_ANAS__S_T.txt -> case_2024_TK1_Putusan_PN_SURABAYA_Nomor_70_Pid_Sus-TPK_2024_PN_Sby_Tanggal_10_Desember_2024__Penuntut_Umum_I_PUTU_KISNU_GUPTA__S_H_Terdakwa_MUHAMMAD_ANAS__S_T.txt (saved to /data/raw, gdrive/CLEANED, and gdrive/data/raw)\n",
            "[19/114] raw_2024_TK1_Putusan_PN_SURABAYA_Nomor_80_Pid_Sus-TPK_2024_PN_Sby_Tanggal_9_Desember_2024__Penuntut_Umum_ANTON_WAHYUDI__S_H___MHTerdakwa_RUDI_YUSWANTO.txt\n"
          ]
        },
        {
          "output_type": "stream",
          "name": "stderr",
          "text": [
            "INFO:text_cleaning:Headers/footers/watermarks removed: 216724 characters\n",
            "INFO:text_cleaning:Text converted to lowercase\n",
            "INFO:text_cleaning:Spacing/character normalization: 5668 characters removed\n",
            "INFO:text_cleaning:Cleaning complete. Final length: 681079 characters (24.6% reduction)\n",
            "INFO:text_cleaning:Cleaned file saved to all three locations: case_2024_TK1_Putusan_PN_SURABAYA_Nomor_80_Pid_Sus-TPK_2024_PN_Sby_Tanggal_9_Desember_2024__Penuntut_Umum_ANTON_WAHYUDI__S_H___MHTerdakwa_RUDI_YUSWANTO.txt\n",
            "INFO:text_cleaning:Processing file: raw_2025_TK1_Putusan_PN_JAKARTA_UTARA_Nomor_462_Pdt_P_2025_PN_Jkt_Utr_Tanggal_11_Juni_2025__Pemohon_AMINAH.txt\n",
            "INFO:text_cleaning:Starting cleaning. Original length: 27178 characters\n",
            "INFO:text_cleaning:Headers/footers/watermarks removed: 6795 characters\n",
            "INFO:text_cleaning:Text converted to lowercase\n",
            "INFO:text_cleaning:Spacing/character normalization: 564 characters removed\n",
            "INFO:text_cleaning:Cleaning complete. Final length: 19818 characters (27.1% reduction)\n",
            "INFO:text_cleaning:Cleaned file saved to all three locations: case_2025_TK1_Putusan_PN_JAKARTA_UTARA_Nomor_462_Pdt_P_2025_PN_Jkt_Utr_Tanggal_11_Juni_2025__Pemohon_AMINAH.txt\n",
            "INFO:text_cleaning:Processing file: raw_2025_TK1_Putusan_PN_JAKARTA_UTARA_Nomor_451_Pdt_P_2025_PN_Jkt_Utr_Tanggal_11_Juni_2025__Pemohon_RICE_DAMAYANTI.txt\n",
            "INFO:text_cleaning:Starting cleaning. Original length: 17633 characters\n",
            "INFO:text_cleaning:Headers/footers/watermarks removed: 4530 characters\n",
            "INFO:text_cleaning:Text converted to lowercase\n",
            "INFO:text_cleaning:Spacing/character normalization: 438 characters removed\n",
            "INFO:text_cleaning:Cleaning complete. Final length: 12664 characters (28.2% reduction)\n",
            "INFO:text_cleaning:Cleaned file saved to all three locations: case_2025_TK1_Putusan_PN_JAKARTA_UTARA_Nomor_451_Pdt_P_2025_PN_Jkt_Utr_Tanggal_11_Juni_2025__Pemohon_RICE_DAMAYANTI.txt\n",
            "INFO:text_cleaning:Processing file: raw_2025_TK1_Putusan_PN_JAKARTA_UTARA_Nomor_440_Pdt_P_2025_PN_Jkt_Utr_Tanggal_11_Juni_2025__Pemohon_MAYMUNAH.txt\n",
            "INFO:text_cleaning:Starting cleaning. Original length: 28707 characters\n",
            "INFO:text_cleaning:Headers/footers/watermarks removed: 7561 characters\n",
            "INFO:text_cleaning:Text converted to lowercase\n",
            "INFO:text_cleaning:Spacing/character normalization: 229 characters removed\n",
            "INFO:text_cleaning:Cleaning complete. Final length: 20916 characters (27.1% reduction)\n",
            "INFO:text_cleaning:Cleaned file saved to all three locations: case_2025_TK1_Putusan_PN_JAKARTA_UTARA_Nomor_440_Pdt_P_2025_PN_Jkt_Utr_Tanggal_11_Juni_2025__Pemohon_MAYMUNAH.txt\n",
            "INFO:text_cleaning:Processing file: raw_2024_TK1_Putusan_PN_SURABAYA_Nomor_82_Pid_Sus-TPK_2024_PN_Sby_Tanggal_9_Desember_2024__Penuntut_Umum_ANTON_WAHYUDI__S_H___MHTerdakwa_FARID_RIZA_MAULANA.txt\n",
            "INFO:text_cleaning:Starting cleaning. Original length: 863393 characters\n"
          ]
        },
        {
          "output_type": "stream",
          "name": "stdout",
          "text": [
            "SUCCESS: raw_2024_TK1_Putusan_PN_SURABAYA_Nomor_80_Pid_Sus-TPK_2024_PN_Sby_Tanggal_9_Desember_2024__Penuntut_Umum_ANTON_WAHYUDI__S_H___MHTerdakwa_RUDI_YUSWANTO.txt -> case_2024_TK1_Putusan_PN_SURABAYA_Nomor_80_Pid_Sus-TPK_2024_PN_Sby_Tanggal_9_Desember_2024__Penuntut_Umum_ANTON_WAHYUDI__S_H___MHTerdakwa_RUDI_YUSWANTO.txt (saved to /data/raw, gdrive/CLEANED, and gdrive/data/raw)\n",
            "[20/114] raw_2025_TK1_Putusan_PN_JAKARTA_UTARA_Nomor_462_Pdt_P_2025_PN_Jkt_Utr_Tanggal_11_Juni_2025__Pemohon_AMINAH.txt\n",
            "SUCCESS: raw_2025_TK1_Putusan_PN_JAKARTA_UTARA_Nomor_462_Pdt_P_2025_PN_Jkt_Utr_Tanggal_11_Juni_2025__Pemohon_AMINAH.txt -> case_2025_TK1_Putusan_PN_JAKARTA_UTARA_Nomor_462_Pdt_P_2025_PN_Jkt_Utr_Tanggal_11_Juni_2025__Pemohon_AMINAH.txt (saved to /data/raw, gdrive/CLEANED, and gdrive/data/raw)\n",
            "[21/114] raw_2025_TK1_Putusan_PN_JAKARTA_UTARA_Nomor_451_Pdt_P_2025_PN_Jkt_Utr_Tanggal_11_Juni_2025__Pemohon_RICE_DAMAYANTI.txt\n",
            "SUCCESS: raw_2025_TK1_Putusan_PN_JAKARTA_UTARA_Nomor_451_Pdt_P_2025_PN_Jkt_Utr_Tanggal_11_Juni_2025__Pemohon_RICE_DAMAYANTI.txt -> case_2025_TK1_Putusan_PN_JAKARTA_UTARA_Nomor_451_Pdt_P_2025_PN_Jkt_Utr_Tanggal_11_Juni_2025__Pemohon_RICE_DAMAYANTI.txt (saved to /data/raw, gdrive/CLEANED, and gdrive/data/raw)\n",
            "[22/114] raw_2025_TK1_Putusan_PN_JAKARTA_UTARA_Nomor_440_Pdt_P_2025_PN_Jkt_Utr_Tanggal_11_Juni_2025__Pemohon_MAYMUNAH.txt\n",
            "SUCCESS: raw_2025_TK1_Putusan_PN_JAKARTA_UTARA_Nomor_440_Pdt_P_2025_PN_Jkt_Utr_Tanggal_11_Juni_2025__Pemohon_MAYMUNAH.txt -> case_2025_TK1_Putusan_PN_JAKARTA_UTARA_Nomor_440_Pdt_P_2025_PN_Jkt_Utr_Tanggal_11_Juni_2025__Pemohon_MAYMUNAH.txt (saved to /data/raw, gdrive/CLEANED, and gdrive/data/raw)\n",
            "[23/114] raw_2024_TK1_Putusan_PN_SURABAYA_Nomor_82_Pid_Sus-TPK_2024_PN_Sby_Tanggal_9_Desember_2024__Penuntut_Umum_ANTON_WAHYUDI__S_H___MHTerdakwa_FARID_RIZA_MAULANA.txt\n"
          ]
        },
        {
          "output_type": "stream",
          "name": "stderr",
          "text": [
            "INFO:text_cleaning:Headers/footers/watermarks removed: 210073 characters\n",
            "INFO:text_cleaning:Text converted to lowercase\n",
            "INFO:text_cleaning:Spacing/character normalization: 5040 characters removed\n",
            "INFO:text_cleaning:Cleaning complete. Final length: 648279 characters (24.9% reduction)\n",
            "INFO:text_cleaning:Cleaned file saved to all three locations: case_2024_TK1_Putusan_PN_SURABAYA_Nomor_82_Pid_Sus-TPK_2024_PN_Sby_Tanggal_9_Desember_2024__Penuntut_Umum_ANTON_WAHYUDI__S_H___MHTerdakwa_FARID_RIZA_MAULANA.txt\n",
            "INFO:text_cleaning:Processing file: raw_2024_TK1_Putusan_PN_SURABAYA_Nomor_81_Pid_Sus-TPK_2024_PN_Sby_Tanggal_9_Desember_2024__Penuntut_Umum_ANTON_WAHYUDI__S_H___MHTerdakwa_Ir__HENDRO_BUDI_SUSATYO.txt\n",
            "INFO:text_cleaning:Starting cleaning. Original length: 878124 characters\n"
          ]
        },
        {
          "output_type": "stream",
          "name": "stdout",
          "text": [
            "SUCCESS: raw_2024_TK1_Putusan_PN_SURABAYA_Nomor_82_Pid_Sus-TPK_2024_PN_Sby_Tanggal_9_Desember_2024__Penuntut_Umum_ANTON_WAHYUDI__S_H___MHTerdakwa_FARID_RIZA_MAULANA.txt -> case_2024_TK1_Putusan_PN_SURABAYA_Nomor_82_Pid_Sus-TPK_2024_PN_Sby_Tanggal_9_Desember_2024__Penuntut_Umum_ANTON_WAHYUDI__S_H___MHTerdakwa_FARID_RIZA_MAULANA.txt (saved to /data/raw, gdrive/CLEANED, and gdrive/data/raw)\n",
            "[24/114] raw_2024_TK1_Putusan_PN_SURABAYA_Nomor_81_Pid_Sus-TPK_2024_PN_Sby_Tanggal_9_Desember_2024__Penuntut_Umum_ANTON_WAHYUDI__S_H___MHTerdakwa_Ir__HENDRO_BUDI_SUSATYO.txt\n"
          ]
        },
        {
          "output_type": "stream",
          "name": "stderr",
          "text": [
            "INFO:text_cleaning:Headers/footers/watermarks removed: 213029 characters\n",
            "INFO:text_cleaning:Text converted to lowercase\n",
            "INFO:text_cleaning:Spacing/character normalization: 5170 characters removed\n",
            "INFO:text_cleaning:Cleaning complete. Final length: 659924 characters (24.8% reduction)\n",
            "INFO:text_cleaning:Cleaned file saved to all three locations: case_2024_TK1_Putusan_PN_SURABAYA_Nomor_81_Pid_Sus-TPK_2024_PN_Sby_Tanggal_9_Desember_2024__Penuntut_Umum_ANTON_WAHYUDI__S_H___MHTerdakwa_Ir__HENDRO_BUDI_SUSATYO.txt\n",
            "INFO:text_cleaning:Processing file: raw_2024_TK1_Putusan_PN_SURABAYA_Nomor_67_Pid_Sus-TPK_2024_PN_Sby_Tanggal_6_Desember_2024__Penuntut_Umum__SLAMET_PUJIONO__SH_Terdakwa__Ir__EDWIN_FITRIANTO__MM_.txt\n",
            "INFO:text_cleaning:Starting cleaning. Original length: 2067058 characters\n"
          ]
        },
        {
          "output_type": "stream",
          "name": "stdout",
          "text": [
            "SUCCESS: raw_2024_TK1_Putusan_PN_SURABAYA_Nomor_81_Pid_Sus-TPK_2024_PN_Sby_Tanggal_9_Desember_2024__Penuntut_Umum_ANTON_WAHYUDI__S_H___MHTerdakwa_Ir__HENDRO_BUDI_SUSATYO.txt -> case_2024_TK1_Putusan_PN_SURABAYA_Nomor_81_Pid_Sus-TPK_2024_PN_Sby_Tanggal_9_Desember_2024__Penuntut_Umum_ANTON_WAHYUDI__S_H___MHTerdakwa_Ir__HENDRO_BUDI_SUSATYO.txt (saved to /data/raw, gdrive/CLEANED, and gdrive/data/raw)\n",
            "[25/114] raw_2024_TK1_Putusan_PN_SURABAYA_Nomor_67_Pid_Sus-TPK_2024_PN_Sby_Tanggal_6_Desember_2024__Penuntut_Umum__SLAMET_PUJIONO__SH_Terdakwa__Ir__EDWIN_FITRIANTO__MM_.txt\n"
          ]
        },
        {
          "output_type": "stream",
          "name": "stderr",
          "text": [
            "INFO:text_cleaning:Headers/footers/watermarks removed: 490696 characters\n",
            "INFO:text_cleaning:Text converted to lowercase\n",
            "INFO:text_cleaning:Spacing/character normalization: 47022 characters removed\n",
            "INFO:text_cleaning:Cleaning complete. Final length: 1529339 characters (26.0% reduction)\n",
            "INFO:text_cleaning:Cleaned file saved to all three locations: case_2024_TK1_Putusan_PN_SURABAYA_Nomor_67_Pid_Sus-TPK_2024_PN_Sby_Tanggal_6_Desember_2024__Penuntut_Umum__SLAMET_PUJIONO__SH_Terdakwa__Ir__EDWIN_FITRIANTO__MM_.txt\n",
            "INFO:text_cleaning:Processing file: raw_2024_TK1_Putusan_PN_SURABAYA_Nomor_68_Pid_Sus-TPK_2024_PN_Sby_Tanggal_6_Desember_2024__Penuntut_Umum_SLAMET_PUJIONO__SHTerdakwa_SUBEKI_bin_KASTUBI.txt\n",
            "INFO:text_cleaning:Starting cleaning. Original length: 1859675 characters\n"
          ]
        },
        {
          "output_type": "stream",
          "name": "stdout",
          "text": [
            "SUCCESS: raw_2024_TK1_Putusan_PN_SURABAYA_Nomor_67_Pid_Sus-TPK_2024_PN_Sby_Tanggal_6_Desember_2024__Penuntut_Umum__SLAMET_PUJIONO__SH_Terdakwa__Ir__EDWIN_FITRIANTO__MM_.txt -> case_2024_TK1_Putusan_PN_SURABAYA_Nomor_67_Pid_Sus-TPK_2024_PN_Sby_Tanggal_6_Desember_2024__Penuntut_Umum__SLAMET_PUJIONO__SH_Terdakwa__Ir__EDWIN_FITRIANTO__MM_.txt (saved to /data/raw, gdrive/CLEANED, and gdrive/data/raw)\n",
            "[26/114] raw_2024_TK1_Putusan_PN_SURABAYA_Nomor_68_Pid_Sus-TPK_2024_PN_Sby_Tanggal_6_Desember_2024__Penuntut_Umum_SLAMET_PUJIONO__SHTerdakwa_SUBEKI_bin_KASTUBI.txt\n"
          ]
        },
        {
          "output_type": "stream",
          "name": "stderr",
          "text": [
            "INFO:text_cleaning:Headers/footers/watermarks removed: 468526 characters\n",
            "INFO:text_cleaning:Text converted to lowercase\n",
            "INFO:text_cleaning:Spacing/character normalization: 36773 characters removed\n",
            "INFO:text_cleaning:Cleaning complete. Final length: 1354375 characters (27.2% reduction)\n",
            "INFO:text_cleaning:Cleaned file saved to all three locations: case_2024_TK1_Putusan_PN_SURABAYA_Nomor_68_Pid_Sus-TPK_2024_PN_Sby_Tanggal_6_Desember_2024__Penuntut_Umum_SLAMET_PUJIONO__SHTerdakwa_SUBEKI_bin_KASTUBI.txt\n",
            "INFO:text_cleaning:Processing file: raw_2024_TK1_Putusan_PN_SURABAYA_Nomor_87_Pid_Sus-TPK_2024_PN_Sby_Tanggal_6_Desember_2024__Penuntut_Umum_GIGIH_BENAH_RENDRA__SH___MHTerdakwa_RIBUT_GESTARINI_BINTI_ALM_SOEMADI.txt\n",
            "INFO:text_cleaning:Starting cleaning. Original length: 1558689 characters\n"
          ]
        },
        {
          "output_type": "stream",
          "name": "stdout",
          "text": [
            "SUCCESS: raw_2024_TK1_Putusan_PN_SURABAYA_Nomor_68_Pid_Sus-TPK_2024_PN_Sby_Tanggal_6_Desember_2024__Penuntut_Umum_SLAMET_PUJIONO__SHTerdakwa_SUBEKI_bin_KASTUBI.txt -> case_2024_TK1_Putusan_PN_SURABAYA_Nomor_68_Pid_Sus-TPK_2024_PN_Sby_Tanggal_6_Desember_2024__Penuntut_Umum_SLAMET_PUJIONO__SHTerdakwa_SUBEKI_bin_KASTUBI.txt (saved to /data/raw, gdrive/CLEANED, and gdrive/data/raw)\n",
            "[27/114] raw_2024_TK1_Putusan_PN_SURABAYA_Nomor_87_Pid_Sus-TPK_2024_PN_Sby_Tanggal_6_Desember_2024__Penuntut_Umum_GIGIH_BENAH_RENDRA__SH___MHTerdakwa_RIBUT_GESTARINI_BINTI_ALM_SOEMADI.txt\n"
          ]
        },
        {
          "output_type": "stream",
          "name": "stderr",
          "text": [
            "INFO:text_cleaning:Headers/footers/watermarks removed: 390018 characters\n",
            "INFO:text_cleaning:Text converted to lowercase\n",
            "INFO:text_cleaning:Spacing/character normalization: 23964 characters removed\n",
            "INFO:text_cleaning:Cleaning complete. Final length: 1144706 characters (26.6% reduction)\n",
            "INFO:text_cleaning:Cleaned file saved to all three locations: case_2024_TK1_Putusan_PN_SURABAYA_Nomor_87_Pid_Sus-TPK_2024_PN_Sby_Tanggal_6_Desember_2024__Penuntut_Umum_GIGIH_BENAH_RENDRA__SH___MHTerdakwa_RIBUT_GESTARINI_BINTI_ALM_SOEMADI.txt\n",
            "INFO:text_cleaning:Processing file: raw_2024_TK1_Putusan_PN_SURABAYA_Nomor_69_Pid_Sus-TPK_2024_PN_Sby_Tanggal_6_Desember_2024__Penuntut_Umum_SLAMET_PUJIONO__SHTerdakwa_TEGUH_LAKSONO.txt\n",
            "INFO:text_cleaning:Starting cleaning. Original length: 1843688 characters\n"
          ]
        },
        {
          "output_type": "stream",
          "name": "stdout",
          "text": [
            "SUCCESS: raw_2024_TK1_Putusan_PN_SURABAYA_Nomor_87_Pid_Sus-TPK_2024_PN_Sby_Tanggal_6_Desember_2024__Penuntut_Umum_GIGIH_BENAH_RENDRA__SH___MHTerdakwa_RIBUT_GESTARINI_BINTI_ALM_SOEMADI.txt -> case_2024_TK1_Putusan_PN_SURABAYA_Nomor_87_Pid_Sus-TPK_2024_PN_Sby_Tanggal_6_Desember_2024__Penuntut_Umum_GIGIH_BENAH_RENDRA__SH___MHTerdakwa_RIBUT_GESTARINI_BINTI_ALM_SOEMADI.txt (saved to /data/raw, gdrive/CLEANED, and gdrive/data/raw)\n",
            "[28/114] raw_2024_TK1_Putusan_PN_SURABAYA_Nomor_69_Pid_Sus-TPK_2024_PN_Sby_Tanggal_6_Desember_2024__Penuntut_Umum_SLAMET_PUJIONO__SHTerdakwa_TEGUH_LAKSONO.txt\n"
          ]
        },
        {
          "output_type": "stream",
          "name": "stderr",
          "text": [
            "INFO:text_cleaning:Headers/footers/watermarks removed: 472960 characters\n",
            "INFO:text_cleaning:Text converted to lowercase\n",
            "INFO:text_cleaning:Spacing/character normalization: 37288 characters removed\n",
            "INFO:text_cleaning:Cleaning complete. Final length: 1333439 characters (27.7% reduction)\n",
            "INFO:text_cleaning:Cleaned file saved to all three locations: case_2024_TK1_Putusan_PN_SURABAYA_Nomor_69_Pid_Sus-TPK_2024_PN_Sby_Tanggal_6_Desember_2024__Penuntut_Umum_SLAMET_PUJIONO__SHTerdakwa_TEGUH_LAKSONO.txt\n",
            "INFO:text_cleaning:Processing file: raw_2024_TK1_Putusan_PN_SURABAYA_Nomor_66_Pid_Sus-TPK_2024_PN_Sby_Tanggal_25_Nopember_2024__Penuntut_Umum_GEO_DWI_NOVRIAN__SHTerdakwa_IKHWAN_AROFIDANA__SE_bin_H__HASAN_ANWAR_alm.txt\n",
            "INFO:text_cleaning:Starting cleaning. Original length: 377715 characters\n",
            "INFO:text_cleaning:Headers/footers/watermarks removed: 87242 characters\n",
            "INFO:text_cleaning:Text converted to lowercase\n",
            "INFO:text_cleaning:Spacing/character normalization: 1864 characters removed\n",
            "INFO:text_cleaning:Cleaning complete. Final length: 288608 characters (23.6% reduction)\n"
          ]
        },
        {
          "output_type": "stream",
          "name": "stdout",
          "text": [
            "SUCCESS: raw_2024_TK1_Putusan_PN_SURABAYA_Nomor_69_Pid_Sus-TPK_2024_PN_Sby_Tanggal_6_Desember_2024__Penuntut_Umum_SLAMET_PUJIONO__SHTerdakwa_TEGUH_LAKSONO.txt -> case_2024_TK1_Putusan_PN_SURABAYA_Nomor_69_Pid_Sus-TPK_2024_PN_Sby_Tanggal_6_Desember_2024__Penuntut_Umum_SLAMET_PUJIONO__SHTerdakwa_TEGUH_LAKSONO.txt (saved to /data/raw, gdrive/CLEANED, and gdrive/data/raw)\n",
            "[29/114] raw_2024_TK1_Putusan_PN_SURABAYA_Nomor_66_Pid_Sus-TPK_2024_PN_Sby_Tanggal_25_Nopember_2024__Penuntut_Umum_GEO_DWI_NOVRIAN__SHTerdakwa_IKHWAN_AROFIDANA__SE_bin_H__HASAN_ANWAR_alm.txt\n"
          ]
        },
        {
          "output_type": "stream",
          "name": "stderr",
          "text": [
            "INFO:text_cleaning:Cleaned file saved to all three locations: case_2024_TK1_Putusan_PN_SURABAYA_Nomor_66_Pid_Sus-TPK_2024_PN_Sby_Tanggal_25_Nopember_2024__Penuntut_Umum_GEO_DWI_NOVRIAN__SHTerdakwa_IKHWAN_AROFIDANA__SE_bin_H__HASAN_ANWAR_alm.txt\n",
            "INFO:text_cleaning:Processing file: raw_2024_TK1_Putusan_PN_SURABAYA_Nomor_65_Pid_Sus-TPK_2024_PN_Sby_Tanggal_19_Nopember_2024__Penuntut_Umum_Moch__Taufiq_Ismail__S_HTerdakwa_MUSTAQIM__S_T__BIN_MUSLIMIN_HAG_ALM.txt\n",
            "INFO:text_cleaning:Starting cleaning. Original length: 772466 characters\n",
            "INFO:text_cleaning:Headers/footers/watermarks removed: 178099 characters\n",
            "INFO:text_cleaning:Text converted to lowercase\n"
          ]
        },
        {
          "output_type": "stream",
          "name": "stdout",
          "text": [
            "SUCCESS: raw_2024_TK1_Putusan_PN_SURABAYA_Nomor_66_Pid_Sus-TPK_2024_PN_Sby_Tanggal_25_Nopember_2024__Penuntut_Umum_GEO_DWI_NOVRIAN__SHTerdakwa_IKHWAN_AROFIDANA__SE_bin_H__HASAN_ANWAR_alm.txt -> case_2024_TK1_Putusan_PN_SURABAYA_Nomor_66_Pid_Sus-TPK_2024_PN_Sby_Tanggal_25_Nopember_2024__Penuntut_Umum_GEO_DWI_NOVRIAN__SHTerdakwa_IKHWAN_AROFIDANA__SE_bin_H__HASAN_ANWAR_alm.txt (saved to /data/raw, gdrive/CLEANED, and gdrive/data/raw)\n",
            "[30/114] raw_2024_TK1_Putusan_PN_SURABAYA_Nomor_65_Pid_Sus-TPK_2024_PN_Sby_Tanggal_19_Nopember_2024__Penuntut_Umum_Moch__Taufiq_Ismail__S_HTerdakwa_MUSTAQIM__S_T__BIN_MUSLIMIN_HAG_ALM.txt\n"
          ]
        },
        {
          "output_type": "stream",
          "name": "stderr",
          "text": [
            "INFO:text_cleaning:Spacing/character normalization: 13729 characters removed\n",
            "INFO:text_cleaning:Cleaning complete. Final length: 580637 characters (24.8% reduction)\n",
            "INFO:text_cleaning:Cleaned file saved to all three locations: case_2024_TK1_Putusan_PN_SURABAYA_Nomor_65_Pid_Sus-TPK_2024_PN_Sby_Tanggal_19_Nopember_2024__Penuntut_Umum_Moch__Taufiq_Ismail__S_HTerdakwa_MUSTAQIM__S_T__BIN_MUSLIMIN_HAG_ALM.txt\n",
            "INFO:text_cleaning:Processing file: raw_2024_TK1_Putusan_PN_SURABAYA_Nomor_94_Pid_Sus-TPK_2024_PN_Sby_Tanggal_14_Nopember_2024__Penuntut_Umum_ANDHIKA_NUGRAHA_TRIPUTRA__SE__SH__MHTerdakwa_SUDIYANTO_bin_BROTO_alm.txt\n",
            "INFO:text_cleaning:Starting cleaning. Original length: 392529 characters\n",
            "INFO:text_cleaning:Headers/footers/watermarks removed: 95755 characters\n",
            "INFO:text_cleaning:Text converted to lowercase\n",
            "INFO:text_cleaning:Spacing/character normalization: 2499 characters removed\n"
          ]
        },
        {
          "output_type": "stream",
          "name": "stdout",
          "text": [
            "SUCCESS: raw_2024_TK1_Putusan_PN_SURABAYA_Nomor_65_Pid_Sus-TPK_2024_PN_Sby_Tanggal_19_Nopember_2024__Penuntut_Umum_Moch__Taufiq_Ismail__S_HTerdakwa_MUSTAQIM__S_T__BIN_MUSLIMIN_HAG_ALM.txt -> case_2024_TK1_Putusan_PN_SURABAYA_Nomor_65_Pid_Sus-TPK_2024_PN_Sby_Tanggal_19_Nopember_2024__Penuntut_Umum_Moch__Taufiq_Ismail__S_HTerdakwa_MUSTAQIM__S_T__BIN_MUSLIMIN_HAG_ALM.txt (saved to /data/raw, gdrive/CLEANED, and gdrive/data/raw)\n",
            "[31/114] raw_2024_TK1_Putusan_PN_SURABAYA_Nomor_94_Pid_Sus-TPK_2024_PN_Sby_Tanggal_14_Nopember_2024__Penuntut_Umum_ANDHIKA_NUGRAHA_TRIPUTRA__SE__SH__MHTerdakwa_SUDIYANTO_bin_BROTO_alm.txt\n"
          ]
        },
        {
          "output_type": "stream",
          "name": "stderr",
          "text": [
            "INFO:text_cleaning:Cleaning complete. Final length: 294274 characters (25.0% reduction)\n",
            "INFO:text_cleaning:Cleaned file saved to all three locations: case_2024_TK1_Putusan_PN_SURABAYA_Nomor_94_Pid_Sus-TPK_2024_PN_Sby_Tanggal_14_Nopember_2024__Penuntut_Umum_ANDHIKA_NUGRAHA_TRIPUTRA__SE__SH__MHTerdakwa_SUDIYANTO_bin_BROTO_alm.txt\n",
            "INFO:text_cleaning:Processing file: raw_2024_TK1_Putusan_PN_SURABAYA_Nomor_48_Pid_Sus-TPK_2024_PN_Sby_Tanggal_22_Oktober_2024__Penuntut_Umum_DINAR_H_C_H_WOLEKA__SHTerdakwa_1_HADI_SUYANTO__S_E2_SUWARNO__S_Sos.txt\n",
            "INFO:text_cleaning:Starting cleaning. Original length: 734734 characters\n",
            "INFO:text_cleaning:Headers/footers/watermarks removed: 175954 characters\n",
            "INFO:text_cleaning:Text converted to lowercase\n"
          ]
        },
        {
          "output_type": "stream",
          "name": "stdout",
          "text": [
            "SUCCESS: raw_2024_TK1_Putusan_PN_SURABAYA_Nomor_94_Pid_Sus-TPK_2024_PN_Sby_Tanggal_14_Nopember_2024__Penuntut_Umum_ANDHIKA_NUGRAHA_TRIPUTRA__SE__SH__MHTerdakwa_SUDIYANTO_bin_BROTO_alm.txt -> case_2024_TK1_Putusan_PN_SURABAYA_Nomor_94_Pid_Sus-TPK_2024_PN_Sby_Tanggal_14_Nopember_2024__Penuntut_Umum_ANDHIKA_NUGRAHA_TRIPUTRA__SE__SH__MHTerdakwa_SUDIYANTO_bin_BROTO_alm.txt (saved to /data/raw, gdrive/CLEANED, and gdrive/data/raw)\n",
            "[32/114] raw_2024_TK1_Putusan_PN_SURABAYA_Nomor_48_Pid_Sus-TPK_2024_PN_Sby_Tanggal_22_Oktober_2024__Penuntut_Umum_DINAR_H_C_H_WOLEKA__SHTerdakwa_1_HADI_SUYANTO__S_E2_SUWARNO__S_Sos.txt\n"
          ]
        },
        {
          "output_type": "stream",
          "name": "stderr",
          "text": [
            "INFO:text_cleaning:Spacing/character normalization: 4300 characters removed\n",
            "INFO:text_cleaning:Cleaning complete. Final length: 554479 characters (24.5% reduction)\n",
            "INFO:text_cleaning:Cleaned file saved to all three locations: case_2024_TK1_Putusan_PN_SURABAYA_Nomor_48_Pid_Sus-TPK_2024_PN_Sby_Tanggal_22_Oktober_2024__Penuntut_Umum_DINAR_H_C_H_WOLEKA__SHTerdakwa_1_HADI_SUYANTO__S_E2_SUWARNO__S_Sos.txt\n",
            "INFO:text_cleaning:Processing file: raw_2024_TK1_Putusan_PN_SURABAYA_Nomor_60_Pid_Sus-TPK_2024_PN_Sby_Tanggal_18_Oktober_2024__Penuntut_Umum_Martina_Peristyanti__S_H___MBATerdakwa_Drs__Wonggo_Prayitno__MM_.txt\n",
            "INFO:text_cleaning:Starting cleaning. Original length: 1269435 characters\n"
          ]
        },
        {
          "output_type": "stream",
          "name": "stdout",
          "text": [
            "SUCCESS: raw_2024_TK1_Putusan_PN_SURABAYA_Nomor_48_Pid_Sus-TPK_2024_PN_Sby_Tanggal_22_Oktober_2024__Penuntut_Umum_DINAR_H_C_H_WOLEKA__SHTerdakwa_1_HADI_SUYANTO__S_E2_SUWARNO__S_Sos.txt -> case_2024_TK1_Putusan_PN_SURABAYA_Nomor_48_Pid_Sus-TPK_2024_PN_Sby_Tanggal_22_Oktober_2024__Penuntut_Umum_DINAR_H_C_H_WOLEKA__SHTerdakwa_1_HADI_SUYANTO__S_E2_SUWARNO__S_Sos.txt (saved to /data/raw, gdrive/CLEANED, and gdrive/data/raw)\n",
            "[33/114] raw_2024_TK1_Putusan_PN_SURABAYA_Nomor_60_Pid_Sus-TPK_2024_PN_Sby_Tanggal_18_Oktober_2024__Penuntut_Umum_Martina_Peristyanti__S_H___MBATerdakwa_Drs__Wonggo_Prayitno__MM_.txt\n"
          ]
        },
        {
          "output_type": "stream",
          "name": "stderr",
          "text": [
            "INFO:text_cleaning:Headers/footers/watermarks removed: 267819 characters\n",
            "INFO:text_cleaning:Text converted to lowercase\n",
            "INFO:text_cleaning:Spacing/character normalization: 6052 characters removed\n",
            "INFO:text_cleaning:Cleaning complete. Final length: 995563 characters (21.6% reduction)\n",
            "INFO:text_cleaning:Cleaned file saved to all three locations: case_2024_TK1_Putusan_PN_SURABAYA_Nomor_60_Pid_Sus-TPK_2024_PN_Sby_Tanggal_18_Oktober_2024__Penuntut_Umum_Martina_Peristyanti__S_H___MBATerdakwa_Drs__Wonggo_Prayitno__MM_.txt\n",
            "INFO:text_cleaning:Processing file: raw_2024_TK1_Putusan_PN_SURABAYA_Nomor_43_Pid_Sus-TPK_2024_PN_Sby_Tanggal_18_Oktober_2024__Penuntut_Umum_SRI_HANI_SUSILO__S_HTerdakwa_ANDRY_SETYO_PURWANTORO.txt\n",
            "INFO:text_cleaning:Starting cleaning. Original length: 721398 characters\n",
            "INFO:text_cleaning:Headers/footers/watermarks removed: 180348 characters\n",
            "INFO:text_cleaning:Text converted to lowercase\n"
          ]
        },
        {
          "output_type": "stream",
          "name": "stdout",
          "text": [
            "SUCCESS: raw_2024_TK1_Putusan_PN_SURABAYA_Nomor_60_Pid_Sus-TPK_2024_PN_Sby_Tanggal_18_Oktober_2024__Penuntut_Umum_Martina_Peristyanti__S_H___MBATerdakwa_Drs__Wonggo_Prayitno__MM_.txt -> case_2024_TK1_Putusan_PN_SURABAYA_Nomor_60_Pid_Sus-TPK_2024_PN_Sby_Tanggal_18_Oktober_2024__Penuntut_Umum_Martina_Peristyanti__S_H___MBATerdakwa_Drs__Wonggo_Prayitno__MM_.txt (saved to /data/raw, gdrive/CLEANED, and gdrive/data/raw)\n",
            "[34/114] raw_2024_TK1_Putusan_PN_SURABAYA_Nomor_43_Pid_Sus-TPK_2024_PN_Sby_Tanggal_18_Oktober_2024__Penuntut_Umum_SRI_HANI_SUSILO__S_HTerdakwa_ANDRY_SETYO_PURWANTORO.txt\n"
          ]
        },
        {
          "output_type": "stream",
          "name": "stderr",
          "text": [
            "INFO:text_cleaning:Spacing/character normalization: 3723 characters removed\n",
            "INFO:text_cleaning:Cleaning complete. Final length: 537326 characters (25.5% reduction)\n",
            "INFO:text_cleaning:Cleaned file saved to all three locations: case_2024_TK1_Putusan_PN_SURABAYA_Nomor_43_Pid_Sus-TPK_2024_PN_Sby_Tanggal_18_Oktober_2024__Penuntut_Umum_SRI_HANI_SUSILO__S_HTerdakwa_ANDRY_SETYO_PURWANTORO.txt\n",
            "INFO:text_cleaning:Processing file: raw_2024_TK1_Putusan_PN_SURABAYA_Nomor_56_Pid_Sus-TPK_2024_PN_Sby_Tanggal_18_Oktober_2024__Penuntut_Umum_YAN_ASWARI__S_H___M_HTerdakwa_BAMBANG_PARIKENAN.txt\n",
            "INFO:text_cleaning:Starting cleaning. Original length: 570010 characters\n",
            "INFO:text_cleaning:Headers/footers/watermarks removed: 147832 characters\n",
            "INFO:text_cleaning:Text converted to lowercase\n"
          ]
        },
        {
          "output_type": "stream",
          "name": "stdout",
          "text": [
            "SUCCESS: raw_2024_TK1_Putusan_PN_SURABAYA_Nomor_43_Pid_Sus-TPK_2024_PN_Sby_Tanggal_18_Oktober_2024__Penuntut_Umum_SRI_HANI_SUSILO__S_HTerdakwa_ANDRY_SETYO_PURWANTORO.txt -> case_2024_TK1_Putusan_PN_SURABAYA_Nomor_43_Pid_Sus-TPK_2024_PN_Sby_Tanggal_18_Oktober_2024__Penuntut_Umum_SRI_HANI_SUSILO__S_HTerdakwa_ANDRY_SETYO_PURWANTORO.txt (saved to /data/raw, gdrive/CLEANED, and gdrive/data/raw)\n",
            "[35/114] raw_2024_TK1_Putusan_PN_SURABAYA_Nomor_56_Pid_Sus-TPK_2024_PN_Sby_Tanggal_18_Oktober_2024__Penuntut_Umum_YAN_ASWARI__S_H___M_HTerdakwa_BAMBANG_PARIKENAN.txt\n"
          ]
        },
        {
          "output_type": "stream",
          "name": "stderr",
          "text": [
            "INFO:text_cleaning:Spacing/character normalization: 3100 characters removed\n",
            "INFO:text_cleaning:Cleaning complete. Final length: 419077 characters (26.5% reduction)\n",
            "INFO:text_cleaning:Cleaned file saved to all three locations: case_2024_TK1_Putusan_PN_SURABAYA_Nomor_56_Pid_Sus-TPK_2024_PN_Sby_Tanggal_18_Oktober_2024__Penuntut_Umum_YAN_ASWARI__S_H___M_HTerdakwa_BAMBANG_PARIKENAN.txt\n",
            "INFO:text_cleaning:Processing file: raw_2024_TK1_Putusan_PN_SURABAYA_Nomor_55_Pid_Sus-TPK_2024_PN_Sby_Tanggal_18_Oktober_2024__Penuntut_Umum_Martina_Peristyanti__S_H___MBATerdakwa_Soemarno_Bin_Pakis.txt\n",
            "INFO:text_cleaning:Starting cleaning. Original length: 1190643 characters\n"
          ]
        },
        {
          "output_type": "stream",
          "name": "stdout",
          "text": [
            "SUCCESS: raw_2024_TK1_Putusan_PN_SURABAYA_Nomor_56_Pid_Sus-TPK_2024_PN_Sby_Tanggal_18_Oktober_2024__Penuntut_Umum_YAN_ASWARI__S_H___M_HTerdakwa_BAMBANG_PARIKENAN.txt -> case_2024_TK1_Putusan_PN_SURABAYA_Nomor_56_Pid_Sus-TPK_2024_PN_Sby_Tanggal_18_Oktober_2024__Penuntut_Umum_YAN_ASWARI__S_H___M_HTerdakwa_BAMBANG_PARIKENAN.txt (saved to /data/raw, gdrive/CLEANED, and gdrive/data/raw)\n",
            "[36/114] raw_2024_TK1_Putusan_PN_SURABAYA_Nomor_55_Pid_Sus-TPK_2024_PN_Sby_Tanggal_18_Oktober_2024__Penuntut_Umum_Martina_Peristyanti__S_H___MBATerdakwa_Soemarno_Bin_Pakis.txt\n"
          ]
        },
        {
          "output_type": "stream",
          "name": "stderr",
          "text": [
            "INFO:text_cleaning:Headers/footers/watermarks removed: 251880 characters\n",
            "INFO:text_cleaning:Text converted to lowercase\n",
            "INFO:text_cleaning:Spacing/character normalization: 5667 characters removed\n",
            "INFO:text_cleaning:Cleaning complete. Final length: 933095 characters (21.6% reduction)\n",
            "INFO:text_cleaning:Cleaned file saved to all three locations: case_2024_TK1_Putusan_PN_SURABAYA_Nomor_55_Pid_Sus-TPK_2024_PN_Sby_Tanggal_18_Oktober_2024__Penuntut_Umum_Martina_Peristyanti__S_H___MBATerdakwa_Soemarno_Bin_Pakis.txt\n",
            "INFO:text_cleaning:Processing file: raw_2024_TK1_Putusan_PN_SURABAYA_Nomor_58_Pid_Sus-TPK_2024_PN_Sby_Tanggal_18_Oktober_2024__Penuntut_Umum_I_PUTU_KISNU_GUPTA__S_H_Terdakwa_DWI_FITRIANINGSARI__A_Md.txt\n",
            "INFO:text_cleaning:Starting cleaning. Original length: 548544 characters\n",
            "INFO:text_cleaning:Headers/footers/watermarks removed: 132782 characters\n",
            "INFO:text_cleaning:Text converted to lowercase\n"
          ]
        },
        {
          "output_type": "stream",
          "name": "stdout",
          "text": [
            "SUCCESS: raw_2024_TK1_Putusan_PN_SURABAYA_Nomor_55_Pid_Sus-TPK_2024_PN_Sby_Tanggal_18_Oktober_2024__Penuntut_Umum_Martina_Peristyanti__S_H___MBATerdakwa_Soemarno_Bin_Pakis.txt -> case_2024_TK1_Putusan_PN_SURABAYA_Nomor_55_Pid_Sus-TPK_2024_PN_Sby_Tanggal_18_Oktober_2024__Penuntut_Umum_Martina_Peristyanti__S_H___MBATerdakwa_Soemarno_Bin_Pakis.txt (saved to /data/raw, gdrive/CLEANED, and gdrive/data/raw)\n",
            "[37/114] raw_2024_TK1_Putusan_PN_SURABAYA_Nomor_58_Pid_Sus-TPK_2024_PN_Sby_Tanggal_18_Oktober_2024__Penuntut_Umum_I_PUTU_KISNU_GUPTA__S_H_Terdakwa_DWI_FITRIANINGSARI__A_Md.txt\n"
          ]
        },
        {
          "output_type": "stream",
          "name": "stderr",
          "text": [
            "INFO:text_cleaning:Spacing/character normalization: 3651 characters removed\n",
            "INFO:text_cleaning:Cleaning complete. Final length: 412110 characters (24.9% reduction)\n",
            "INFO:text_cleaning:Cleaned file saved to all three locations: case_2024_TK1_Putusan_PN_SURABAYA_Nomor_58_Pid_Sus-TPK_2024_PN_Sby_Tanggal_18_Oktober_2024__Penuntut_Umum_I_PUTU_KISNU_GUPTA__S_H_Terdakwa_DWI_FITRIANINGSARI__A_Md.txt\n",
            "INFO:text_cleaning:Processing file: raw_2024_TK1_Putusan_PN_SURABAYA_Nomor_61_Pid_Sus-TPK_2024_PN_Sby_Tanggal_18_Oktober_2024__Penuntut_Umum_Martina_Peristyanti__S_H___MBATerdakwa_Arya_Lelana_Bin_Imam_Soepardi.txt\n",
            "INFO:text_cleaning:Starting cleaning. Original length: 1277314 characters\n"
          ]
        },
        {
          "output_type": "stream",
          "name": "stdout",
          "text": [
            "SUCCESS: raw_2024_TK1_Putusan_PN_SURABAYA_Nomor_58_Pid_Sus-TPK_2024_PN_Sby_Tanggal_18_Oktober_2024__Penuntut_Umum_I_PUTU_KISNU_GUPTA__S_H_Terdakwa_DWI_FITRIANINGSARI__A_Md.txt -> case_2024_TK1_Putusan_PN_SURABAYA_Nomor_58_Pid_Sus-TPK_2024_PN_Sby_Tanggal_18_Oktober_2024__Penuntut_Umum_I_PUTU_KISNU_GUPTA__S_H_Terdakwa_DWI_FITRIANINGSARI__A_Md.txt (saved to /data/raw, gdrive/CLEANED, and gdrive/data/raw)\n",
            "[38/114] raw_2024_TK1_Putusan_PN_SURABAYA_Nomor_61_Pid_Sus-TPK_2024_PN_Sby_Tanggal_18_Oktober_2024__Penuntut_Umum_Martina_Peristyanti__S_H___MBATerdakwa_Arya_Lelana_Bin_Imam_Soepardi.txt\n"
          ]
        },
        {
          "output_type": "stream",
          "name": "stderr",
          "text": [
            "INFO:text_cleaning:Headers/footers/watermarks removed: 270855 characters\n",
            "INFO:text_cleaning:Text converted to lowercase\n",
            "INFO:text_cleaning:Spacing/character normalization: 6159 characters removed\n",
            "INFO:text_cleaning:Cleaning complete. Final length: 1000299 characters (21.7% reduction)\n",
            "INFO:text_cleaning:Cleaned file saved to all three locations: case_2024_TK1_Putusan_PN_SURABAYA_Nomor_61_Pid_Sus-TPK_2024_PN_Sby_Tanggal_18_Oktober_2024__Penuntut_Umum_Martina_Peristyanti__S_H___MBATerdakwa_Arya_Lelana_Bin_Imam_Soepardi.txt\n",
            "INFO:text_cleaning:Processing file: raw_2024_TK1_Putusan_PN_SURABAYA_Nomor_64_Pid_Sus-TPK_2024_PN_Sby_Tanggal_16_Oktober_2024__Penuntut_Umum_DIAN_PRANATA_DEPARI__S_H__M_HTerdakwa_Unang_Rahardjo_S_H__Bin_Suharyono.txt\n",
            "INFO:text_cleaning:Starting cleaning. Original length: 303845 characters\n",
            "INFO:text_cleaning:Headers/footers/watermarks removed: 70555 characters\n",
            "INFO:text_cleaning:Text converted to lowercase\n",
            "INFO:text_cleaning:Spacing/character normalization: 1822 characters removed\n",
            "INFO:text_cleaning:Cleaning complete. Final length: 231467 characters (23.8% reduction)\n",
            "INFO:text_cleaning:Cleaned file saved to all three locations: case_2024_TK1_Putusan_PN_SURABAYA_Nomor_64_Pid_Sus-TPK_2024_PN_Sby_Tanggal_16_Oktober_2024__Penuntut_Umum_DIAN_PRANATA_DEPARI__S_H__M_HTerdakwa_Unang_Rahardjo_S_H__Bin_Suharyono.txt\n",
            "INFO:text_cleaning:Processing file: raw_2024_TK1_Putusan_PN_SURABAYA_Nomor_62_Pid_Sus-TPK_2024_PN_Sby_Tanggal_9_Oktober_2024__Penuntut_Umum_ARIF_USMAN__SH__MHTerdakwa_ARI_SURYONO.txt\n",
            "INFO:text_cleaning:Starting cleaning. Original length: 1392086 characters\n"
          ]
        },
        {
          "output_type": "stream",
          "name": "stdout",
          "text": [
            "SUCCESS: raw_2024_TK1_Putusan_PN_SURABAYA_Nomor_61_Pid_Sus-TPK_2024_PN_Sby_Tanggal_18_Oktober_2024__Penuntut_Umum_Martina_Peristyanti__S_H___MBATerdakwa_Arya_Lelana_Bin_Imam_Soepardi.txt -> case_2024_TK1_Putusan_PN_SURABAYA_Nomor_61_Pid_Sus-TPK_2024_PN_Sby_Tanggal_18_Oktober_2024__Penuntut_Umum_Martina_Peristyanti__S_H___MBATerdakwa_Arya_Lelana_Bin_Imam_Soepardi.txt (saved to /data/raw, gdrive/CLEANED, and gdrive/data/raw)\n",
            "[39/114] raw_2024_TK1_Putusan_PN_SURABAYA_Nomor_64_Pid_Sus-TPK_2024_PN_Sby_Tanggal_16_Oktober_2024__Penuntut_Umum_DIAN_PRANATA_DEPARI__S_H__M_HTerdakwa_Unang_Rahardjo_S_H__Bin_Suharyono.txt\n",
            "SUCCESS: raw_2024_TK1_Putusan_PN_SURABAYA_Nomor_64_Pid_Sus-TPK_2024_PN_Sby_Tanggal_16_Oktober_2024__Penuntut_Umum_DIAN_PRANATA_DEPARI__S_H__M_HTerdakwa_Unang_Rahardjo_S_H__Bin_Suharyono.txt -> case_2024_TK1_Putusan_PN_SURABAYA_Nomor_64_Pid_Sus-TPK_2024_PN_Sby_Tanggal_16_Oktober_2024__Penuntut_Umum_DIAN_PRANATA_DEPARI__S_H__M_HTerdakwa_Unang_Rahardjo_S_H__Bin_Suharyono.txt (saved to /data/raw, gdrive/CLEANED, and gdrive/data/raw)\n",
            "[40/114] raw_2024_TK1_Putusan_PN_SURABAYA_Nomor_62_Pid_Sus-TPK_2024_PN_Sby_Tanggal_9_Oktober_2024__Penuntut_Umum_ARIF_USMAN__SH__MHTerdakwa_ARI_SURYONO.txt\n"
          ]
        },
        {
          "output_type": "stream",
          "name": "stderr",
          "text": [
            "INFO:text_cleaning:Headers/footers/watermarks removed: 348863 characters\n",
            "INFO:text_cleaning:Text converted to lowercase\n",
            "INFO:text_cleaning:Spacing/character normalization: 7648 characters removed\n",
            "INFO:text_cleaning:Cleaning complete. Final length: 1035574 characters (25.6% reduction)\n",
            "INFO:text_cleaning:Cleaned file saved to all three locations: case_2024_TK1_Putusan_PN_SURABAYA_Nomor_62_Pid_Sus-TPK_2024_PN_Sby_Tanggal_9_Oktober_2024__Penuntut_Umum_ARIF_USMAN__SH__MHTerdakwa_ARI_SURYONO.txt\n",
            "INFO:text_cleaning:Processing file: raw_2024_TK1_Putusan_PN_SURABAYA_Nomor_45_Pid_Sus-TPK_2024_PN_Sby_Tanggal_9_Oktober_2024__Penuntut_Umum_ARIF_USMAN__SH__MHTerdakwa_SISKA_WATI.txt\n",
            "INFO:text_cleaning:Starting cleaning. Original length: 866293 characters\n",
            "INFO:text_cleaning:Headers/footers/watermarks removed: 220272 characters\n",
            "INFO:text_cleaning:Text converted to lowercase\n"
          ]
        },
        {
          "output_type": "stream",
          "name": "stdout",
          "text": [
            "SUCCESS: raw_2024_TK1_Putusan_PN_SURABAYA_Nomor_62_Pid_Sus-TPK_2024_PN_Sby_Tanggal_9_Oktober_2024__Penuntut_Umum_ARIF_USMAN__SH__MHTerdakwa_ARI_SURYONO.txt -> case_2024_TK1_Putusan_PN_SURABAYA_Nomor_62_Pid_Sus-TPK_2024_PN_Sby_Tanggal_9_Oktober_2024__Penuntut_Umum_ARIF_USMAN__SH__MHTerdakwa_ARI_SURYONO.txt (saved to /data/raw, gdrive/CLEANED, and gdrive/data/raw)\n",
            "[41/114] raw_2024_TK1_Putusan_PN_SURABAYA_Nomor_45_Pid_Sus-TPK_2024_PN_Sby_Tanggal_9_Oktober_2024__Penuntut_Umum_ARIF_USMAN__SH__MHTerdakwa_SISKA_WATI.txt\n"
          ]
        },
        {
          "output_type": "stream",
          "name": "stderr",
          "text": [
            "INFO:text_cleaning:Spacing/character normalization: 4620 characters removed\n",
            "INFO:text_cleaning:Cleaning complete. Final length: 641400 characters (26.0% reduction)\n",
            "INFO:text_cleaning:Cleaned file saved to all three locations: case_2024_TK1_Putusan_PN_SURABAYA_Nomor_45_Pid_Sus-TPK_2024_PN_Sby_Tanggal_9_Oktober_2024__Penuntut_Umum_ARIF_USMAN__SH__MHTerdakwa_SISKA_WATI.txt\n",
            "INFO:text_cleaning:Processing file: raw_2024_TK1_Putusan_PN_SURABAYA_Nomor_59_Pid_Sus-TPK_2024_PN_Sby_Tanggal_3_Oktober_2024__Penuntut_Umum_I_PUTU_KISNU_GUPTA__S_H_Terdakwa_ISTAFUDIN__S_H.txt\n",
            "INFO:text_cleaning:Starting cleaning. Original length: 498214 characters\n",
            "INFO:text_cleaning:Headers/footers/watermarks removed: 115521 characters\n",
            "INFO:text_cleaning:Text converted to lowercase\n"
          ]
        },
        {
          "output_type": "stream",
          "name": "stdout",
          "text": [
            "SUCCESS: raw_2024_TK1_Putusan_PN_SURABAYA_Nomor_45_Pid_Sus-TPK_2024_PN_Sby_Tanggal_9_Oktober_2024__Penuntut_Umum_ARIF_USMAN__SH__MHTerdakwa_SISKA_WATI.txt -> case_2024_TK1_Putusan_PN_SURABAYA_Nomor_45_Pid_Sus-TPK_2024_PN_Sby_Tanggal_9_Oktober_2024__Penuntut_Umum_ARIF_USMAN__SH__MHTerdakwa_SISKA_WATI.txt (saved to /data/raw, gdrive/CLEANED, and gdrive/data/raw)\n",
            "[42/114] raw_2024_TK1_Putusan_PN_SURABAYA_Nomor_59_Pid_Sus-TPK_2024_PN_Sby_Tanggal_3_Oktober_2024__Penuntut_Umum_I_PUTU_KISNU_GUPTA__S_H_Terdakwa_ISTAFUDIN__S_H.txt\n"
          ]
        },
        {
          "output_type": "stream",
          "name": "stderr",
          "text": [
            "INFO:text_cleaning:Spacing/character normalization: 2842 characters removed\n",
            "INFO:text_cleaning:Cleaning complete. Final length: 379850 characters (23.8% reduction)\n",
            "INFO:text_cleaning:Cleaned file saved to all three locations: case_2024_TK1_Putusan_PN_SURABAYA_Nomor_59_Pid_Sus-TPK_2024_PN_Sby_Tanggal_3_Oktober_2024__Penuntut_Umum_I_PUTU_KISNU_GUPTA__S_H_Terdakwa_ISTAFUDIN__S_H.txt\n",
            "INFO:text_cleaning:Processing file: raw_2024_TK1_Putusan_PN_SURABAYA_Nomor_38_Pid_Sus-TPK_2024_PN_Sby_Tanggal_2_Oktober_2024__Penuntut_Umum_ALIFIN_NURAHMANA_WANDA__S_HTerdakwa_Dra__MALAHATUL_FARDAH__M_M_.txt\n",
            "INFO:text_cleaning:Starting cleaning. Original length: 773653 characters\n",
            "INFO:text_cleaning:Headers/footers/watermarks removed: 182052 characters\n",
            "INFO:text_cleaning:Text converted to lowercase\n"
          ]
        },
        {
          "output_type": "stream",
          "name": "stdout",
          "text": [
            "SUCCESS: raw_2024_TK1_Putusan_PN_SURABAYA_Nomor_59_Pid_Sus-TPK_2024_PN_Sby_Tanggal_3_Oktober_2024__Penuntut_Umum_I_PUTU_KISNU_GUPTA__S_H_Terdakwa_ISTAFUDIN__S_H.txt -> case_2024_TK1_Putusan_PN_SURABAYA_Nomor_59_Pid_Sus-TPK_2024_PN_Sby_Tanggal_3_Oktober_2024__Penuntut_Umum_I_PUTU_KISNU_GUPTA__S_H_Terdakwa_ISTAFUDIN__S_H.txt (saved to /data/raw, gdrive/CLEANED, and gdrive/data/raw)\n",
            "[43/114] raw_2024_TK1_Putusan_PN_SURABAYA_Nomor_38_Pid_Sus-TPK_2024_PN_Sby_Tanggal_2_Oktober_2024__Penuntut_Umum_ALIFIN_NURAHMANA_WANDA__S_HTerdakwa_Dra__MALAHATUL_FARDAH__M_M_.txt\n"
          ]
        },
        {
          "output_type": "stream",
          "name": "stderr",
          "text": [
            "INFO:text_cleaning:Spacing/character normalization: 3639 characters removed\n",
            "INFO:text_cleaning:Cleaning complete. Final length: 587961 characters (24.0% reduction)\n",
            "INFO:text_cleaning:Cleaned file saved to all three locations: case_2024_TK1_Putusan_PN_SURABAYA_Nomor_38_Pid_Sus-TPK_2024_PN_Sby_Tanggal_2_Oktober_2024__Penuntut_Umum_ALIFIN_NURAHMANA_WANDA__S_HTerdakwa_Dra__MALAHATUL_FARDAH__M_M_.txt\n",
            "INFO:text_cleaning:Processing file: raw_2024_TK1_Putusan_PN_SURABAYA_Nomor_37_Pid_Sus-TPK_2024_PN_Sby_Tanggal_2_Oktober_2024__Penuntut_Umum_ALIFIN_NURAHMANA_WANDA__S_HTerdakwa_RYAN_FIBRIANTO.txt\n",
            "INFO:text_cleaning:Starting cleaning. Original length: 696514 characters\n",
            "INFO:text_cleaning:Headers/footers/watermarks removed: 165354 characters\n",
            "INFO:text_cleaning:Text converted to lowercase\n"
          ]
        },
        {
          "output_type": "stream",
          "name": "stdout",
          "text": [
            "SUCCESS: raw_2024_TK1_Putusan_PN_SURABAYA_Nomor_38_Pid_Sus-TPK_2024_PN_Sby_Tanggal_2_Oktober_2024__Penuntut_Umum_ALIFIN_NURAHMANA_WANDA__S_HTerdakwa_Dra__MALAHATUL_FARDAH__M_M_.txt -> case_2024_TK1_Putusan_PN_SURABAYA_Nomor_38_Pid_Sus-TPK_2024_PN_Sby_Tanggal_2_Oktober_2024__Penuntut_Umum_ALIFIN_NURAHMANA_WANDA__S_HTerdakwa_Dra__MALAHATUL_FARDAH__M_M_.txt (saved to /data/raw, gdrive/CLEANED, and gdrive/data/raw)\n",
            "[44/114] raw_2024_TK1_Putusan_PN_SURABAYA_Nomor_37_Pid_Sus-TPK_2024_PN_Sby_Tanggal_2_Oktober_2024__Penuntut_Umum_ALIFIN_NURAHMANA_WANDA__S_HTerdakwa_RYAN_FIBRIANTO.txt\n"
          ]
        },
        {
          "output_type": "stream",
          "name": "stderr",
          "text": [
            "INFO:text_cleaning:Spacing/character normalization: 3305 characters removed\n",
            "INFO:text_cleaning:Cleaning complete. Final length: 527854 characters (24.2% reduction)\n",
            "INFO:text_cleaning:Cleaned file saved to all three locations: case_2024_TK1_Putusan_PN_SURABAYA_Nomor_37_Pid_Sus-TPK_2024_PN_Sby_Tanggal_2_Oktober_2024__Penuntut_Umum_ALIFIN_NURAHMANA_WANDA__S_HTerdakwa_RYAN_FIBRIANTO.txt\n",
            "INFO:text_cleaning:Processing file: raw_2024_TK1_Putusan_PN_SURABAYA_Nomor_41_Pid_Sus-TPK_2024_PN_Sby_Tanggal_1_Oktober_2024__Penuntut_Umum_1_SAMSUL_HADI__SH1_SAMSUL_HADI__SH_Terdakwa_AGUS_DARMANTO_Bin_Alm_MUJITO.txt\n",
            "INFO:text_cleaning:Starting cleaning. Original length: 826283 characters\n",
            "INFO:text_cleaning:Headers/footers/watermarks removed: 198056 characters\n",
            "INFO:text_cleaning:Text converted to lowercase\n"
          ]
        },
        {
          "output_type": "stream",
          "name": "stdout",
          "text": [
            "SUCCESS: raw_2024_TK1_Putusan_PN_SURABAYA_Nomor_37_Pid_Sus-TPK_2024_PN_Sby_Tanggal_2_Oktober_2024__Penuntut_Umum_ALIFIN_NURAHMANA_WANDA__S_HTerdakwa_RYAN_FIBRIANTO.txt -> case_2024_TK1_Putusan_PN_SURABAYA_Nomor_37_Pid_Sus-TPK_2024_PN_Sby_Tanggal_2_Oktober_2024__Penuntut_Umum_ALIFIN_NURAHMANA_WANDA__S_HTerdakwa_RYAN_FIBRIANTO.txt (saved to /data/raw, gdrive/CLEANED, and gdrive/data/raw)\n",
            "[45/114] raw_2024_TK1_Putusan_PN_SURABAYA_Nomor_41_Pid_Sus-TPK_2024_PN_Sby_Tanggal_1_Oktober_2024__Penuntut_Umum_1_SAMSUL_HADI__SH1_SAMSUL_HADI__SH_Terdakwa_AGUS_DARMANTO_Bin_Alm_MUJITO.txt\n"
          ]
        },
        {
          "output_type": "stream",
          "name": "stderr",
          "text": [
            "INFO:text_cleaning:Spacing/character normalization: 4743 characters removed\n",
            "INFO:text_cleaning:Cleaning complete. Final length: 623483 characters (24.5% reduction)\n",
            "INFO:text_cleaning:Cleaned file saved to all three locations: case_2024_TK1_Putusan_PN_SURABAYA_Nomor_41_Pid_Sus-TPK_2024_PN_Sby_Tanggal_1_Oktober_2024__Penuntut_Umum_1_SAMSUL_HADI__SH1_SAMSUL_HADI__SH_Terdakwa_AGUS_DARMANTO_Bin_Alm_MUJITO.txt\n",
            "INFO:text_cleaning:Processing file: raw_2024_TK1_Putusan_PN_SURABAYA_Nomor_63_Pid_Sus-TPK_2024_PN_Sby_Tanggal_1_Oktober_2024__Penuntut_Umum_ANDHIKA_NUGRAHA_TRIPUTRA__SE__SH__MHTerdakwa_TRAWI.txt\n",
            "INFO:text_cleaning:Starting cleaning. Original length: 192985 characters\n",
            "INFO:text_cleaning:Headers/footers/watermarks removed: 45916 characters\n",
            "INFO:text_cleaning:Text converted to lowercase\n",
            "INFO:text_cleaning:Spacing/character normalization: 3565 characters removed\n",
            "INFO:text_cleaning:Cleaning complete. Final length: 143503 characters (25.6% reduction)\n",
            "INFO:text_cleaning:Cleaned file saved to all three locations: case_2024_TK1_Putusan_PN_SURABAYA_Nomor_63_Pid_Sus-TPK_2024_PN_Sby_Tanggal_1_Oktober_2024__Penuntut_Umum_ANDHIKA_NUGRAHA_TRIPUTRA__SE__SH__MHTerdakwa_TRAWI.txt\n",
            "INFO:text_cleaning:Processing file: raw_2024_TK1_Putusan_PN_SURABAYA_Nomor_51_Pid_Sus-TPK_2024_PN_Sby_Tanggal_20_September_2024__Penuntut_Umum_MUHAMMAD_NIZAR__S_H___M_HTerdakwa_ACH__KHOZAINI_Bin_SUTO.txt\n",
            "INFO:text_cleaning:Starting cleaning. Original length: 365415 characters\n"
          ]
        },
        {
          "output_type": "stream",
          "name": "stdout",
          "text": [
            "SUCCESS: raw_2024_TK1_Putusan_PN_SURABAYA_Nomor_41_Pid_Sus-TPK_2024_PN_Sby_Tanggal_1_Oktober_2024__Penuntut_Umum_1_SAMSUL_HADI__SH1_SAMSUL_HADI__SH_Terdakwa_AGUS_DARMANTO_Bin_Alm_MUJITO.txt -> case_2024_TK1_Putusan_PN_SURABAYA_Nomor_41_Pid_Sus-TPK_2024_PN_Sby_Tanggal_1_Oktober_2024__Penuntut_Umum_1_SAMSUL_HADI__SH1_SAMSUL_HADI__SH_Terdakwa_AGUS_DARMANTO_Bin_Alm_MUJITO.txt (saved to /data/raw, gdrive/CLEANED, and gdrive/data/raw)\n",
            "[46/114] raw_2024_TK1_Putusan_PN_SURABAYA_Nomor_63_Pid_Sus-TPK_2024_PN_Sby_Tanggal_1_Oktober_2024__Penuntut_Umum_ANDHIKA_NUGRAHA_TRIPUTRA__SE__SH__MHTerdakwa_TRAWI.txt\n",
            "SUCCESS: raw_2024_TK1_Putusan_PN_SURABAYA_Nomor_63_Pid_Sus-TPK_2024_PN_Sby_Tanggal_1_Oktober_2024__Penuntut_Umum_ANDHIKA_NUGRAHA_TRIPUTRA__SE__SH__MHTerdakwa_TRAWI.txt -> case_2024_TK1_Putusan_PN_SURABAYA_Nomor_63_Pid_Sus-TPK_2024_PN_Sby_Tanggal_1_Oktober_2024__Penuntut_Umum_ANDHIKA_NUGRAHA_TRIPUTRA__SE__SH__MHTerdakwa_TRAWI.txt (saved to /data/raw, gdrive/CLEANED, and gdrive/data/raw)\n",
            "[47/114] raw_2024_TK1_Putusan_PN_SURABAYA_Nomor_51_Pid_Sus-TPK_2024_PN_Sby_Tanggal_20_September_2024__Penuntut_Umum_MUHAMMAD_NIZAR__S_H___M_HTerdakwa_ACH__KHOZAINI_Bin_SUTO.txt\n"
          ]
        },
        {
          "output_type": "stream",
          "name": "stderr",
          "text": [
            "INFO:text_cleaning:Headers/footers/watermarks removed: 87234 characters\n",
            "INFO:text_cleaning:Text converted to lowercase\n",
            "INFO:text_cleaning:Spacing/character normalization: 4450 characters removed\n",
            "INFO:text_cleaning:Cleaning complete. Final length: 273730 characters (25.1% reduction)\n",
            "INFO:text_cleaning:Cleaned file saved to all three locations: case_2024_TK1_Putusan_PN_SURABAYA_Nomor_51_Pid_Sus-TPK_2024_PN_Sby_Tanggal_20_September_2024__Penuntut_Umum_MUHAMMAD_NIZAR__S_H___M_HTerdakwa_ACH__KHOZAINI_Bin_SUTO.txt\n",
            "INFO:text_cleaning:Processing file: raw_2024_TK1_Putusan_PN_SURABAYA_Nomor_46_Pid_Sus-TPK_2024_PN_Sby_Tanggal_20_September_2024__Penuntut_Umum_MUHAMMAD_FAKHRY__S_H___M_HTerdakwa_FARID_BIN_MOH__FUDOLI.txt\n",
            "INFO:text_cleaning:Starting cleaning. Original length: 802988 characters\n"
          ]
        },
        {
          "output_type": "stream",
          "name": "stdout",
          "text": [
            "SUCCESS: raw_2024_TK1_Putusan_PN_SURABAYA_Nomor_51_Pid_Sus-TPK_2024_PN_Sby_Tanggal_20_September_2024__Penuntut_Umum_MUHAMMAD_NIZAR__S_H___M_HTerdakwa_ACH__KHOZAINI_Bin_SUTO.txt -> case_2024_TK1_Putusan_PN_SURABAYA_Nomor_51_Pid_Sus-TPK_2024_PN_Sby_Tanggal_20_September_2024__Penuntut_Umum_MUHAMMAD_NIZAR__S_H___M_HTerdakwa_ACH__KHOZAINI_Bin_SUTO.txt (saved to /data/raw, gdrive/CLEANED, and gdrive/data/raw)\n",
            "[48/114] raw_2024_TK1_Putusan_PN_SURABAYA_Nomor_46_Pid_Sus-TPK_2024_PN_Sby_Tanggal_20_September_2024__Penuntut_Umum_MUHAMMAD_FAKHRY__S_H___M_HTerdakwa_FARID_BIN_MOH__FUDOLI.txt\n"
          ]
        },
        {
          "output_type": "stream",
          "name": "stderr",
          "text": [
            "INFO:text_cleaning:Headers/footers/watermarks removed: 190631 characters\n",
            "INFO:text_cleaning:Text converted to lowercase\n",
            "INFO:text_cleaning:Spacing/character normalization: 3755 characters removed\n",
            "INFO:text_cleaning:Cleaning complete. Final length: 608601 characters (24.2% reduction)\n",
            "INFO:text_cleaning:Cleaned file saved to all three locations: case_2024_TK1_Putusan_PN_SURABAYA_Nomor_46_Pid_Sus-TPK_2024_PN_Sby_Tanggal_20_September_2024__Penuntut_Umum_MUHAMMAD_FAKHRY__S_H___M_HTerdakwa_FARID_BIN_MOH__FUDOLI.txt\n",
            "INFO:text_cleaning:Processing file: raw_2024_TK1_Putusan_PN_SURABAYA_Nomor_34_Pid_Sus-TPK_2024_PN_Sby_Tanggal_20_September_2024__Penuntut_Umum_ARIO_WIBOWO__S_H___M_H_Terdakwa_HENY_WULANDARI__S_T_.txt\n",
            "INFO:text_cleaning:Starting cleaning. Original length: 817669 characters\n"
          ]
        },
        {
          "output_type": "stream",
          "name": "stdout",
          "text": [
            "SUCCESS: raw_2024_TK1_Putusan_PN_SURABAYA_Nomor_46_Pid_Sus-TPK_2024_PN_Sby_Tanggal_20_September_2024__Penuntut_Umum_MUHAMMAD_FAKHRY__S_H___M_HTerdakwa_FARID_BIN_MOH__FUDOLI.txt -> case_2024_TK1_Putusan_PN_SURABAYA_Nomor_46_Pid_Sus-TPK_2024_PN_Sby_Tanggal_20_September_2024__Penuntut_Umum_MUHAMMAD_FAKHRY__S_H___M_HTerdakwa_FARID_BIN_MOH__FUDOLI.txt (saved to /data/raw, gdrive/CLEANED, and gdrive/data/raw)\n",
            "[49/114] raw_2024_TK1_Putusan_PN_SURABAYA_Nomor_34_Pid_Sus-TPK_2024_PN_Sby_Tanggal_20_September_2024__Penuntut_Umum_ARIO_WIBOWO__S_H___M_H_Terdakwa_HENY_WULANDARI__S_T_.txt\n"
          ]
        },
        {
          "output_type": "stream",
          "name": "stderr",
          "text": [
            "INFO:text_cleaning:Headers/footers/watermarks removed: 196702 characters\n",
            "INFO:text_cleaning:Text converted to lowercase\n",
            "INFO:text_cleaning:Spacing/character normalization: 4670 characters removed\n",
            "INFO:text_cleaning:Cleaning complete. Final length: 616296 characters (24.6% reduction)\n",
            "INFO:text_cleaning:Cleaned file saved to all three locations: case_2024_TK1_Putusan_PN_SURABAYA_Nomor_34_Pid_Sus-TPK_2024_PN_Sby_Tanggal_20_September_2024__Penuntut_Umum_ARIO_WIBOWO__S_H___M_H_Terdakwa_HENY_WULANDARI__S_T_.txt\n",
            "INFO:text_cleaning:Processing file: raw_2024_TK1_Putusan_PN_SURABAYA_Nomor_47_Pid_Sus-TPK_2024_PN_Sby_Tanggal_20_September_2024__Penuntut_Umum_MUHAMMAD_FAKHRY__S_H___M_HTerdakwa_SITI_AMINA_binti_H__JONI.txt\n",
            "INFO:text_cleaning:Starting cleaning. Original length: 795882 characters\n"
          ]
        },
        {
          "output_type": "stream",
          "name": "stdout",
          "text": [
            "SUCCESS: raw_2024_TK1_Putusan_PN_SURABAYA_Nomor_34_Pid_Sus-TPK_2024_PN_Sby_Tanggal_20_September_2024__Penuntut_Umum_ARIO_WIBOWO__S_H___M_H_Terdakwa_HENY_WULANDARI__S_T_.txt -> case_2024_TK1_Putusan_PN_SURABAYA_Nomor_34_Pid_Sus-TPK_2024_PN_Sby_Tanggal_20_September_2024__Penuntut_Umum_ARIO_WIBOWO__S_H___M_H_Terdakwa_HENY_WULANDARI__S_T_.txt (saved to /data/raw, gdrive/CLEANED, and gdrive/data/raw)\n",
            "[50/114] raw_2024_TK1_Putusan_PN_SURABAYA_Nomor_47_Pid_Sus-TPK_2024_PN_Sby_Tanggal_20_September_2024__Penuntut_Umum_MUHAMMAD_FAKHRY__S_H___M_HTerdakwa_SITI_AMINA_binti_H__JONI.txt\n"
          ]
        },
        {
          "output_type": "stream",
          "name": "stderr",
          "text": [
            "INFO:text_cleaning:Headers/footers/watermarks removed: 189113 characters\n",
            "INFO:text_cleaning:Text converted to lowercase\n",
            "INFO:text_cleaning:Spacing/character normalization: 3725 characters removed\n",
            "INFO:text_cleaning:Cleaning complete. Final length: 603043 characters (24.2% reduction)\n",
            "INFO:text_cleaning:Cleaned file saved to all three locations: case_2024_TK1_Putusan_PN_SURABAYA_Nomor_47_Pid_Sus-TPK_2024_PN_Sby_Tanggal_20_September_2024__Penuntut_Umum_MUHAMMAD_FAKHRY__S_H___M_HTerdakwa_SITI_AMINA_binti_H__JONI.txt\n",
            "INFO:text_cleaning:Processing file: raw_2024_TK1_Putusan_PN_SURABAYA_Nomor_33_Pid_Sus-TPK_2024_PN_Sby_Tanggal_20_September_2024__Penuntut_Umum_ARIO_WIBOWO__S_H___M_H_Terdakwa_DENI_KADARISMAN_ALIAS_DEDEN.txt\n",
            "INFO:text_cleaning:Starting cleaning. Original length: 792662 characters\n"
          ]
        },
        {
          "output_type": "stream",
          "name": "stdout",
          "text": [
            "SUCCESS: raw_2024_TK1_Putusan_PN_SURABAYA_Nomor_47_Pid_Sus-TPK_2024_PN_Sby_Tanggal_20_September_2024__Penuntut_Umum_MUHAMMAD_FAKHRY__S_H___M_HTerdakwa_SITI_AMINA_binti_H__JONI.txt -> case_2024_TK1_Putusan_PN_SURABAYA_Nomor_47_Pid_Sus-TPK_2024_PN_Sby_Tanggal_20_September_2024__Penuntut_Umum_MUHAMMAD_FAKHRY__S_H___M_HTerdakwa_SITI_AMINA_binti_H__JONI.txt (saved to /data/raw, gdrive/CLEANED, and gdrive/data/raw)\n",
            "[51/114] raw_2024_TK1_Putusan_PN_SURABAYA_Nomor_33_Pid_Sus-TPK_2024_PN_Sby_Tanggal_20_September_2024__Penuntut_Umum_ARIO_WIBOWO__S_H___M_H_Terdakwa_DENI_KADARISMAN_ALIAS_DEDEN.txt\n"
          ]
        },
        {
          "output_type": "stream",
          "name": "stderr",
          "text": [
            "INFO:text_cleaning:Headers/footers/watermarks removed: 191465 characters\n",
            "INFO:text_cleaning:Text converted to lowercase\n",
            "INFO:text_cleaning:Spacing/character normalization: 4807 characters removed\n",
            "INFO:text_cleaning:Cleaning complete. Final length: 596389 characters (24.8% reduction)\n",
            "INFO:text_cleaning:Cleaned file saved to all three locations: case_2024_TK1_Putusan_PN_SURABAYA_Nomor_33_Pid_Sus-TPK_2024_PN_Sby_Tanggal_20_September_2024__Penuntut_Umum_ARIO_WIBOWO__S_H___M_H_Terdakwa_DENI_KADARISMAN_ALIAS_DEDEN.txt\n",
            "INFO:text_cleaning:Processing file: raw_2024_TK1_Putusan_PN_SURABAYA_Nomor_52_Pid_Sus-TPK_2024_PN_Sby_Tanggal_19_September_2024__Penuntut_Umum_FERRY_HARY_ARDIANTO__S_H_Terdakwa_AKHMAT.txt\n",
            "INFO:text_cleaning:Starting cleaning. Original length: 270104 characters\n",
            "INFO:text_cleaning:Headers/footers/watermarks removed: 67692 characters\n",
            "INFO:text_cleaning:Text converted to lowercase\n"
          ]
        },
        {
          "output_type": "stream",
          "name": "stdout",
          "text": [
            "SUCCESS: raw_2024_TK1_Putusan_PN_SURABAYA_Nomor_33_Pid_Sus-TPK_2024_PN_Sby_Tanggal_20_September_2024__Penuntut_Umum_ARIO_WIBOWO__S_H___M_H_Terdakwa_DENI_KADARISMAN_ALIAS_DEDEN.txt -> case_2024_TK1_Putusan_PN_SURABAYA_Nomor_33_Pid_Sus-TPK_2024_PN_Sby_Tanggal_20_September_2024__Penuntut_Umum_ARIO_WIBOWO__S_H___M_H_Terdakwa_DENI_KADARISMAN_ALIAS_DEDEN.txt (saved to /data/raw, gdrive/CLEANED, and gdrive/data/raw)\n",
            "[52/114] raw_2024_TK1_Putusan_PN_SURABAYA_Nomor_52_Pid_Sus-TPK_2024_PN_Sby_Tanggal_19_September_2024__Penuntut_Umum_FERRY_HARY_ARDIANTO__S_H_Terdakwa_AKHMAT.txt\n"
          ]
        },
        {
          "output_type": "stream",
          "name": "stderr",
          "text": [
            "INFO:text_cleaning:Spacing/character normalization: 1471 characters removed\n",
            "INFO:text_cleaning:Cleaning complete. Final length: 200940 characters (25.6% reduction)\n",
            "INFO:text_cleaning:Cleaned file saved to all three locations: case_2024_TK1_Putusan_PN_SURABAYA_Nomor_52_Pid_Sus-TPK_2024_PN_Sby_Tanggal_19_September_2024__Penuntut_Umum_FERRY_HARY_ARDIANTO__S_H_Terdakwa_AKHMAT.txt\n",
            "INFO:text_cleaning:Processing file: raw_2024_TK1_Putusan_PN_SURABAYA_Nomor_40_Pid_Sus-TPK_2024_PN_Sby_Tanggal_13_September_2024__Penuntut_Umum_DIAN_PRANATA_DEPARI__S_H__M_HTerdakwa_SAMSUL_ARIFIN_BIN_UWI.txt\n",
            "INFO:text_cleaning:Starting cleaning. Original length: 230460 characters\n",
            "INFO:text_cleaning:Headers/footers/watermarks removed: 56196 characters\n",
            "INFO:text_cleaning:Text converted to lowercase\n",
            "INFO:text_cleaning:Spacing/character normalization: 1434 characters removed\n",
            "INFO:text_cleaning:Cleaning complete. Final length: 172829 characters (25.0% reduction)\n"
          ]
        },
        {
          "output_type": "stream",
          "name": "stdout",
          "text": [
            "SUCCESS: raw_2024_TK1_Putusan_PN_SURABAYA_Nomor_52_Pid_Sus-TPK_2024_PN_Sby_Tanggal_19_September_2024__Penuntut_Umum_FERRY_HARY_ARDIANTO__S_H_Terdakwa_AKHMAT.txt -> case_2024_TK1_Putusan_PN_SURABAYA_Nomor_52_Pid_Sus-TPK_2024_PN_Sby_Tanggal_19_September_2024__Penuntut_Umum_FERRY_HARY_ARDIANTO__S_H_Terdakwa_AKHMAT.txt (saved to /data/raw, gdrive/CLEANED, and gdrive/data/raw)\n",
            "[53/114] raw_2024_TK1_Putusan_PN_SURABAYA_Nomor_40_Pid_Sus-TPK_2024_PN_Sby_Tanggal_13_September_2024__Penuntut_Umum_DIAN_PRANATA_DEPARI__S_H__M_HTerdakwa_SAMSUL_ARIFIN_BIN_UWI.txt\n"
          ]
        },
        {
          "output_type": "stream",
          "name": "stderr",
          "text": [
            "INFO:text_cleaning:Cleaned file saved to all three locations: case_2024_TK1_Putusan_PN_SURABAYA_Nomor_40_Pid_Sus-TPK_2024_PN_Sby_Tanggal_13_September_2024__Penuntut_Umum_DIAN_PRANATA_DEPARI__S_H__M_HTerdakwa_SAMSUL_ARIFIN_BIN_UWI.txt\n",
            "INFO:text_cleaning:Processing file: raw_2024_TK1_Putusan_PN_SURABAYA_Nomor_44_Pid_Sus-TPK_2024_PN_Sby_Tanggal_10_September_2024__Penuntut_Umum_HABI_BURROHIM_S_H___MHTerdakwa_Drs__AKHMAD_KHASANI__M_Si.txt\n",
            "INFO:text_cleaning:Starting cleaning. Original length: 1299941 characters\n"
          ]
        },
        {
          "output_type": "stream",
          "name": "stdout",
          "text": [
            "SUCCESS: raw_2024_TK1_Putusan_PN_SURABAYA_Nomor_40_Pid_Sus-TPK_2024_PN_Sby_Tanggal_13_September_2024__Penuntut_Umum_DIAN_PRANATA_DEPARI__S_H__M_HTerdakwa_SAMSUL_ARIFIN_BIN_UWI.txt -> case_2024_TK1_Putusan_PN_SURABAYA_Nomor_40_Pid_Sus-TPK_2024_PN_Sby_Tanggal_13_September_2024__Penuntut_Umum_DIAN_PRANATA_DEPARI__S_H__M_HTerdakwa_SAMSUL_ARIFIN_BIN_UWI.txt (saved to /data/raw, gdrive/CLEANED, and gdrive/data/raw)\n",
            "[54/114] raw_2024_TK1_Putusan_PN_SURABAYA_Nomor_44_Pid_Sus-TPK_2024_PN_Sby_Tanggal_10_September_2024__Penuntut_Umum_HABI_BURROHIM_S_H___MHTerdakwa_Drs__AKHMAD_KHASANI__M_Si.txt\n"
          ]
        },
        {
          "output_type": "stream",
          "name": "stderr",
          "text": [
            "INFO:text_cleaning:Headers/footers/watermarks removed: 319987 characters\n",
            "INFO:text_cleaning:Text converted to lowercase\n",
            "INFO:text_cleaning:Spacing/character normalization: 7516 characters removed\n",
            "INFO:text_cleaning:Cleaning complete. Final length: 972437 characters (25.2% reduction)\n",
            "INFO:text_cleaning:Cleaned file saved to all three locations: case_2024_TK1_Putusan_PN_SURABAYA_Nomor_44_Pid_Sus-TPK_2024_PN_Sby_Tanggal_10_September_2024__Penuntut_Umum_HABI_BURROHIM_S_H___MHTerdakwa_Drs__AKHMAD_KHASANI__M_Si.txt\n",
            "INFO:text_cleaning:Processing file: raw_2024_TK1_Putusan_PN_SURABAYA_Nomor_32_Pid_Sus-TPK_2024_PN_Sby_Tanggal_6_September_2024__Penuntut_Umum_ANDHIKA_NUGRAHA_TRIPUTRA__SE__SH__MHTerdakwa_DEDDY_BUDIAWAN.txt\n",
            "INFO:text_cleaning:Starting cleaning. Original length: 434674 characters\n",
            "INFO:text_cleaning:Headers/footers/watermarks removed: 112254 characters\n",
            "INFO:text_cleaning:Text converted to lowercase\n"
          ]
        },
        {
          "output_type": "stream",
          "name": "stdout",
          "text": [
            "SUCCESS: raw_2024_TK1_Putusan_PN_SURABAYA_Nomor_44_Pid_Sus-TPK_2024_PN_Sby_Tanggal_10_September_2024__Penuntut_Umum_HABI_BURROHIM_S_H___MHTerdakwa_Drs__AKHMAD_KHASANI__M_Si.txt -> case_2024_TK1_Putusan_PN_SURABAYA_Nomor_44_Pid_Sus-TPK_2024_PN_Sby_Tanggal_10_September_2024__Penuntut_Umum_HABI_BURROHIM_S_H___MHTerdakwa_Drs__AKHMAD_KHASANI__M_Si.txt (saved to /data/raw, gdrive/CLEANED, and gdrive/data/raw)\n",
            "[55/114] raw_2024_TK1_Putusan_PN_SURABAYA_Nomor_32_Pid_Sus-TPK_2024_PN_Sby_Tanggal_6_September_2024__Penuntut_Umum_ANDHIKA_NUGRAHA_TRIPUTRA__SE__SH__MHTerdakwa_DEDDY_BUDIAWAN.txt\n"
          ]
        },
        {
          "output_type": "stream",
          "name": "stderr",
          "text": [
            "INFO:text_cleaning:Spacing/character normalization: 2430 characters removed\n",
            "INFO:text_cleaning:Cleaning complete. Final length: 319989 characters (26.4% reduction)\n",
            "INFO:text_cleaning:Cleaned file saved to all three locations: case_2024_TK1_Putusan_PN_SURABAYA_Nomor_32_Pid_Sus-TPK_2024_PN_Sby_Tanggal_6_September_2024__Penuntut_Umum_ANDHIKA_NUGRAHA_TRIPUTRA__SE__SH__MHTerdakwa_DEDDY_BUDIAWAN.txt\n",
            "INFO:text_cleaning:Processing file: raw_2024_TK1_Putusan_PN_SURABAYA_Nomor_49_Pid_Sus-TPK_2024_PN_Sby_Tanggal_5_September_2024__Penuntut_Umum_GIGIH_BENAH_RENDRA__SH___MHTerdakwa_JAELANI_Bin__Alm__JARKASI.txt\n",
            "INFO:text_cleaning:Starting cleaning. Original length: 1132243 characters\n"
          ]
        },
        {
          "output_type": "stream",
          "name": "stdout",
          "text": [
            "SUCCESS: raw_2024_TK1_Putusan_PN_SURABAYA_Nomor_32_Pid_Sus-TPK_2024_PN_Sby_Tanggal_6_September_2024__Penuntut_Umum_ANDHIKA_NUGRAHA_TRIPUTRA__SE__SH__MHTerdakwa_DEDDY_BUDIAWAN.txt -> case_2024_TK1_Putusan_PN_SURABAYA_Nomor_32_Pid_Sus-TPK_2024_PN_Sby_Tanggal_6_September_2024__Penuntut_Umum_ANDHIKA_NUGRAHA_TRIPUTRA__SE__SH__MHTerdakwa_DEDDY_BUDIAWAN.txt (saved to /data/raw, gdrive/CLEANED, and gdrive/data/raw)\n",
            "[56/114] raw_2024_TK1_Putusan_PN_SURABAYA_Nomor_49_Pid_Sus-TPK_2024_PN_Sby_Tanggal_5_September_2024__Penuntut_Umum_GIGIH_BENAH_RENDRA__SH___MHTerdakwa_JAELANI_Bin__Alm__JARKASI.txt\n"
          ]
        },
        {
          "output_type": "stream",
          "name": "stderr",
          "text": [
            "INFO:text_cleaning:Headers/footers/watermarks removed: 281481 characters\n",
            "INFO:text_cleaning:Text converted to lowercase\n",
            "INFO:text_cleaning:Spacing/character normalization: 17294 characters removed\n",
            "INFO:text_cleaning:Cleaning complete. Final length: 833467 characters (26.4% reduction)\n",
            "INFO:text_cleaning:Cleaned file saved to all three locations: case_2024_TK1_Putusan_PN_SURABAYA_Nomor_49_Pid_Sus-TPK_2024_PN_Sby_Tanggal_5_September_2024__Penuntut_Umum_GIGIH_BENAH_RENDRA__SH___MHTerdakwa_JAELANI_Bin__Alm__JARKASI.txt\n",
            "INFO:text_cleaning:Processing file: raw_2024_TK1_Putusan_PN_SURABAYA_Nomor_50_Pid_Sus-TPK_2024_PN_Sby_Tanggal_5_September_2024__Penuntut_Umum_GIGIH_BENAH_RENDRA__SH___MHTerdakwa_QOMARUDDIN_Bin__Alm__QORIB.txt\n",
            "INFO:text_cleaning:Starting cleaning. Original length: 1171857 characters\n"
          ]
        },
        {
          "output_type": "stream",
          "name": "stdout",
          "text": [
            "SUCCESS: raw_2024_TK1_Putusan_PN_SURABAYA_Nomor_49_Pid_Sus-TPK_2024_PN_Sby_Tanggal_5_September_2024__Penuntut_Umum_GIGIH_BENAH_RENDRA__SH___MHTerdakwa_JAELANI_Bin__Alm__JARKASI.txt -> case_2024_TK1_Putusan_PN_SURABAYA_Nomor_49_Pid_Sus-TPK_2024_PN_Sby_Tanggal_5_September_2024__Penuntut_Umum_GIGIH_BENAH_RENDRA__SH___MHTerdakwa_JAELANI_Bin__Alm__JARKASI.txt (saved to /data/raw, gdrive/CLEANED, and gdrive/data/raw)\n",
            "[57/114] raw_2024_TK1_Putusan_PN_SURABAYA_Nomor_50_Pid_Sus-TPK_2024_PN_Sby_Tanggal_5_September_2024__Penuntut_Umum_GIGIH_BENAH_RENDRA__SH___MHTerdakwa_QOMARUDDIN_Bin__Alm__QORIB.txt\n"
          ]
        },
        {
          "output_type": "stream",
          "name": "stderr",
          "text": [
            "INFO:text_cleaning:Headers/footers/watermarks removed: 289071 characters\n",
            "INFO:text_cleaning:Text converted to lowercase\n",
            "INFO:text_cleaning:Spacing/character normalization: 18600 characters removed\n",
            "INFO:text_cleaning:Cleaning complete. Final length: 864185 characters (26.3% reduction)\n",
            "INFO:text_cleaning:Cleaned file saved to all three locations: case_2024_TK1_Putusan_PN_SURABAYA_Nomor_50_Pid_Sus-TPK_2024_PN_Sby_Tanggal_5_September_2024__Penuntut_Umum_GIGIH_BENAH_RENDRA__SH___MHTerdakwa_QOMARUDDIN_Bin__Alm__QORIB.txt\n",
            "INFO:text_cleaning:Processing file: raw_2024_TK1_Putusan_PN_SURABAYA_Nomor_36_Pid_Sus-TPK_2024_PN_Sby_Tanggal_22_Agustus_2024__Penuntut_Umum_SAMSUL_HADI__SH_Terdakwa_EVI_SULISTIA_WATININGSIH.txt\n",
            "INFO:text_cleaning:Starting cleaning. Original length: 1376168 characters\n"
          ]
        },
        {
          "output_type": "stream",
          "name": "stdout",
          "text": [
            "SUCCESS: raw_2024_TK1_Putusan_PN_SURABAYA_Nomor_50_Pid_Sus-TPK_2024_PN_Sby_Tanggal_5_September_2024__Penuntut_Umum_GIGIH_BENAH_RENDRA__SH___MHTerdakwa_QOMARUDDIN_Bin__Alm__QORIB.txt -> case_2024_TK1_Putusan_PN_SURABAYA_Nomor_50_Pid_Sus-TPK_2024_PN_Sby_Tanggal_5_September_2024__Penuntut_Umum_GIGIH_BENAH_RENDRA__SH___MHTerdakwa_QOMARUDDIN_Bin__Alm__QORIB.txt (saved to /data/raw, gdrive/CLEANED, and gdrive/data/raw)\n",
            "[58/114] raw_2024_TK1_Putusan_PN_SURABAYA_Nomor_36_Pid_Sus-TPK_2024_PN_Sby_Tanggal_22_Agustus_2024__Penuntut_Umum_SAMSUL_HADI__SH_Terdakwa_EVI_SULISTIA_WATININGSIH.txt\n"
          ]
        },
        {
          "output_type": "stream",
          "name": "stderr",
          "text": [
            "INFO:text_cleaning:Headers/footers/watermarks removed: 334147 characters\n",
            "INFO:text_cleaning:Text converted to lowercase\n",
            "INFO:text_cleaning:Spacing/character normalization: 6788 characters removed\n",
            "INFO:text_cleaning:Cleaning complete. Final length: 1035232 characters (24.8% reduction)\n",
            "INFO:text_cleaning:Cleaned file saved to all three locations: case_2024_TK1_Putusan_PN_SURABAYA_Nomor_36_Pid_Sus-TPK_2024_PN_Sby_Tanggal_22_Agustus_2024__Penuntut_Umum_SAMSUL_HADI__SH_Terdakwa_EVI_SULISTIA_WATININGSIH.txt\n",
            "INFO:text_cleaning:Processing file: raw_2024_TK1_Putusan_PN_SURABAYA_Nomor_27_Pid_Sus-TPK_2024_PN_Sby_Tanggal_6_Agustus_2024__Penuntut_Umum_Silfana_Chairini__S_H___M_HTerdakwa_Angga_Dwi_Prastya.txt\n",
            "INFO:text_cleaning:Starting cleaning. Original length: 34361 characters\n",
            "INFO:text_cleaning:Headers/footers/watermarks removed: 8318 characters\n",
            "INFO:text_cleaning:Text converted to lowercase\n",
            "INFO:text_cleaning:Spacing/character normalization: 250 characters removed\n",
            "INFO:text_cleaning:Cleaning complete. Final length: 25792 characters (24.9% reduction)\n",
            "INFO:text_cleaning:Cleaned file saved to all three locations: case_2024_TK1_Putusan_PN_SURABAYA_Nomor_27_Pid_Sus-TPK_2024_PN_Sby_Tanggal_6_Agustus_2024__Penuntut_Umum_Silfana_Chairini__S_H___M_HTerdakwa_Angga_Dwi_Prastya.txt\n",
            "INFO:text_cleaning:Processing file: raw_2024_TK1_Putusan_PN_SURABAYA_Nomor_28_Pid_Sus-TPK_2024_PN_Sby_Tanggal_6_Agustus_2024__Penuntut_Umum_Silfana_Chairini__S_H___M_HTerdakwa_Diah_Aryanti.txt\n",
            "INFO:text_cleaning:Starting cleaning. Original length: 897594 characters\n"
          ]
        },
        {
          "output_type": "stream",
          "name": "stdout",
          "text": [
            "SUCCESS: raw_2024_TK1_Putusan_PN_SURABAYA_Nomor_36_Pid_Sus-TPK_2024_PN_Sby_Tanggal_22_Agustus_2024__Penuntut_Umum_SAMSUL_HADI__SH_Terdakwa_EVI_SULISTIA_WATININGSIH.txt -> case_2024_TK1_Putusan_PN_SURABAYA_Nomor_36_Pid_Sus-TPK_2024_PN_Sby_Tanggal_22_Agustus_2024__Penuntut_Umum_SAMSUL_HADI__SH_Terdakwa_EVI_SULISTIA_WATININGSIH.txt (saved to /data/raw, gdrive/CLEANED, and gdrive/data/raw)\n",
            "[59/114] raw_2024_TK1_Putusan_PN_SURABAYA_Nomor_27_Pid_Sus-TPK_2024_PN_Sby_Tanggal_6_Agustus_2024__Penuntut_Umum_Silfana_Chairini__S_H___M_HTerdakwa_Angga_Dwi_Prastya.txt\n",
            "SUCCESS: raw_2024_TK1_Putusan_PN_SURABAYA_Nomor_27_Pid_Sus-TPK_2024_PN_Sby_Tanggal_6_Agustus_2024__Penuntut_Umum_Silfana_Chairini__S_H___M_HTerdakwa_Angga_Dwi_Prastya.txt -> case_2024_TK1_Putusan_PN_SURABAYA_Nomor_27_Pid_Sus-TPK_2024_PN_Sby_Tanggal_6_Agustus_2024__Penuntut_Umum_Silfana_Chairini__S_H___M_HTerdakwa_Angga_Dwi_Prastya.txt (saved to /data/raw, gdrive/CLEANED, and gdrive/data/raw)\n",
            "[60/114] raw_2024_TK1_Putusan_PN_SURABAYA_Nomor_28_Pid_Sus-TPK_2024_PN_Sby_Tanggal_6_Agustus_2024__Penuntut_Umum_Silfana_Chairini__S_H___M_HTerdakwa_Diah_Aryanti.txt\n"
          ]
        },
        {
          "output_type": "stream",
          "name": "stderr",
          "text": [
            "INFO:text_cleaning:Headers/footers/watermarks removed: 211883 characters\n",
            "INFO:text_cleaning:Text converted to lowercase\n",
            "INFO:text_cleaning:Spacing/character normalization: 5198 characters removed\n",
            "INFO:text_cleaning:Cleaning complete. Final length: 680512 characters (24.2% reduction)\n",
            "INFO:text_cleaning:Cleaned file saved to all three locations: case_2024_TK1_Putusan_PN_SURABAYA_Nomor_28_Pid_Sus-TPK_2024_PN_Sby_Tanggal_6_Agustus_2024__Penuntut_Umum_Silfana_Chairini__S_H___M_HTerdakwa_Diah_Aryanti.txt\n",
            "INFO:text_cleaning:Processing file: raw_2024_TK1_Putusan_PN_SURABAYA_Nomor_30_Pid_Sus-TPK_2024_PN_Sby_Tanggal_29_Juli_2024__Penuntut_Umum_MUHAMMAD_NIZAR__S_H___M_HTerdakwa_1_M__ZURKONI2_WAKINI__S_T_.txt\n",
            "INFO:text_cleaning:Starting cleaning. Original length: 3965015 characters\n"
          ]
        },
        {
          "output_type": "stream",
          "name": "stdout",
          "text": [
            "SUCCESS: raw_2024_TK1_Putusan_PN_SURABAYA_Nomor_28_Pid_Sus-TPK_2024_PN_Sby_Tanggal_6_Agustus_2024__Penuntut_Umum_Silfana_Chairini__S_H___M_HTerdakwa_Diah_Aryanti.txt -> case_2024_TK1_Putusan_PN_SURABAYA_Nomor_28_Pid_Sus-TPK_2024_PN_Sby_Tanggal_6_Agustus_2024__Penuntut_Umum_Silfana_Chairini__S_H___M_HTerdakwa_Diah_Aryanti.txt (saved to /data/raw, gdrive/CLEANED, and gdrive/data/raw)\n",
            "[61/114] raw_2024_TK1_Putusan_PN_SURABAYA_Nomor_30_Pid_Sus-TPK_2024_PN_Sby_Tanggal_29_Juli_2024__Penuntut_Umum_MUHAMMAD_NIZAR__S_H___M_HTerdakwa_1_M__ZURKONI2_WAKINI__S_T_.txt\n"
          ]
        },
        {
          "output_type": "stream",
          "name": "stderr",
          "text": [
            "INFO:text_cleaning:Headers/footers/watermarks removed: 1651507 characters\n",
            "INFO:text_cleaning:Text converted to lowercase\n",
            "INFO:text_cleaning:Spacing/character normalization: 17344 characters removed\n",
            "INFO:text_cleaning:Cleaning complete. Final length: 2296163 characters (42.1% reduction)\n",
            "INFO:text_cleaning:Cleaned file saved to all three locations: case_2024_TK1_Putusan_PN_SURABAYA_Nomor_30_Pid_Sus-TPK_2024_PN_Sby_Tanggal_29_Juli_2024__Penuntut_Umum_MUHAMMAD_NIZAR__S_H___M_HTerdakwa_1_M__ZURKONI2_WAKINI__S_T_.txt\n",
            "INFO:text_cleaning:Processing file: raw_2024_TK1_Putusan_PN_SURABAYA_Nomor_29_Pid_Sus-TPK_2024_PN_Sby_Tanggal_29_Juli_2024__Penuntut_Umum_MUHAMMAD_NIZAR__S_H___M_HTerdakwa_Ir__DONNY_ANANTO_NILANTOKO__MP.txt\n",
            "INFO:text_cleaning:Starting cleaning. Original length: 3915930 characters\n"
          ]
        },
        {
          "output_type": "stream",
          "name": "stdout",
          "text": [
            "SUCCESS: raw_2024_TK1_Putusan_PN_SURABAYA_Nomor_30_Pid_Sus-TPK_2024_PN_Sby_Tanggal_29_Juli_2024__Penuntut_Umum_MUHAMMAD_NIZAR__S_H___M_HTerdakwa_1_M__ZURKONI2_WAKINI__S_T_.txt -> case_2024_TK1_Putusan_PN_SURABAYA_Nomor_30_Pid_Sus-TPK_2024_PN_Sby_Tanggal_29_Juli_2024__Penuntut_Umum_MUHAMMAD_NIZAR__S_H___M_HTerdakwa_1_M__ZURKONI2_WAKINI__S_T_.txt (saved to /data/raw, gdrive/CLEANED, and gdrive/data/raw)\n",
            "[62/114] raw_2024_TK1_Putusan_PN_SURABAYA_Nomor_29_Pid_Sus-TPK_2024_PN_Sby_Tanggal_29_Juli_2024__Penuntut_Umum_MUHAMMAD_NIZAR__S_H___M_HTerdakwa_Ir__DONNY_ANANTO_NILANTOKO__MP.txt\n"
          ]
        },
        {
          "output_type": "stream",
          "name": "stderr",
          "text": [
            "INFO:text_cleaning:Headers/footers/watermarks removed: 1631273 characters\n",
            "INFO:text_cleaning:Text converted to lowercase\n",
            "INFO:text_cleaning:Spacing/character normalization: 17149 characters removed\n",
            "INFO:text_cleaning:Cleaning complete. Final length: 2267507 characters (42.1% reduction)\n",
            "INFO:text_cleaning:Cleaned file saved to all three locations: case_2024_TK1_Putusan_PN_SURABAYA_Nomor_29_Pid_Sus-TPK_2024_PN_Sby_Tanggal_29_Juli_2024__Penuntut_Umum_MUHAMMAD_NIZAR__S_H___M_HTerdakwa_Ir__DONNY_ANANTO_NILANTOKO__MP.txt\n",
            "INFO:text_cleaning:Processing file: raw_2024_TK1_Putusan_PN_SURABAYA_Nomor_26_Pid_Sus-TPK_2024_PN_Sby_Tanggal_25_Juli_2024__Penuntut_Umum_I_PUTU_KISNU_GUPTA__S_H_Terdakwa_Samsul_Hadi.txt\n",
            "INFO:text_cleaning:Starting cleaning. Original length: 770016 characters\n",
            "INFO:text_cleaning:Headers/footers/watermarks removed: 178257 characters\n",
            "INFO:text_cleaning:Text converted to lowercase\n"
          ]
        },
        {
          "output_type": "stream",
          "name": "stdout",
          "text": [
            "SUCCESS: raw_2024_TK1_Putusan_PN_SURABAYA_Nomor_29_Pid_Sus-TPK_2024_PN_Sby_Tanggal_29_Juli_2024__Penuntut_Umum_MUHAMMAD_NIZAR__S_H___M_HTerdakwa_Ir__DONNY_ANANTO_NILANTOKO__MP.txt -> case_2024_TK1_Putusan_PN_SURABAYA_Nomor_29_Pid_Sus-TPK_2024_PN_Sby_Tanggal_29_Juli_2024__Penuntut_Umum_MUHAMMAD_NIZAR__S_H___M_HTerdakwa_Ir__DONNY_ANANTO_NILANTOKO__MP.txt (saved to /data/raw, gdrive/CLEANED, and gdrive/data/raw)\n",
            "[63/114] raw_2024_TK1_Putusan_PN_SURABAYA_Nomor_26_Pid_Sus-TPK_2024_PN_Sby_Tanggal_25_Juli_2024__Penuntut_Umum_I_PUTU_KISNU_GUPTA__S_H_Terdakwa_Samsul_Hadi.txt\n"
          ]
        },
        {
          "output_type": "stream",
          "name": "stderr",
          "text": [
            "INFO:text_cleaning:Spacing/character normalization: 4491 characters removed\n",
            "INFO:text_cleaning:Cleaning complete. Final length: 587267 characters (23.7% reduction)\n",
            "INFO:text_cleaning:Cleaned file saved to all three locations: case_2024_TK1_Putusan_PN_SURABAYA_Nomor_26_Pid_Sus-TPK_2024_PN_Sby_Tanggal_25_Juli_2024__Penuntut_Umum_I_PUTU_KISNU_GUPTA__S_H_Terdakwa_Samsul_Hadi.txt\n",
            "INFO:text_cleaning:Processing file: raw_2024_TK1_Putusan_PN_SURABAYA_Nomor_24_Pid_Sus-TPK_2024_PN_Sby_Tanggal_25_Juli_2024__Penuntut_Umum_I_PUTU_KISNU_GUPTA__S_H_Terdakwa_SLAMET_SETIAWAN__S_H___M_M_.txt\n",
            "INFO:text_cleaning:Starting cleaning. Original length: 772429 characters\n",
            "INFO:text_cleaning:Headers/footers/watermarks removed: 179016 characters\n",
            "INFO:text_cleaning:Text converted to lowercase\n"
          ]
        },
        {
          "output_type": "stream",
          "name": "stdout",
          "text": [
            "SUCCESS: raw_2024_TK1_Putusan_PN_SURABAYA_Nomor_26_Pid_Sus-TPK_2024_PN_Sby_Tanggal_25_Juli_2024__Penuntut_Umum_I_PUTU_KISNU_GUPTA__S_H_Terdakwa_Samsul_Hadi.txt -> case_2024_TK1_Putusan_PN_SURABAYA_Nomor_26_Pid_Sus-TPK_2024_PN_Sby_Tanggal_25_Juli_2024__Penuntut_Umum_I_PUTU_KISNU_GUPTA__S_H_Terdakwa_Samsul_Hadi.txt (saved to /data/raw, gdrive/CLEANED, and gdrive/data/raw)\n",
            "[64/114] raw_2024_TK1_Putusan_PN_SURABAYA_Nomor_24_Pid_Sus-TPK_2024_PN_Sby_Tanggal_25_Juli_2024__Penuntut_Umum_I_PUTU_KISNU_GUPTA__S_H_Terdakwa_SLAMET_SETIAWAN__S_H___M_M_.txt\n"
          ]
        },
        {
          "output_type": "stream",
          "name": "stderr",
          "text": [
            "INFO:text_cleaning:Spacing/character normalization: 4468 characters removed\n",
            "INFO:text_cleaning:Cleaning complete. Final length: 588944 characters (23.8% reduction)\n",
            "INFO:text_cleaning:Cleaned file saved to all three locations: case_2024_TK1_Putusan_PN_SURABAYA_Nomor_24_Pid_Sus-TPK_2024_PN_Sby_Tanggal_25_Juli_2024__Penuntut_Umum_I_PUTU_KISNU_GUPTA__S_H_Terdakwa_SLAMET_SETIAWAN__S_H___M_M_.txt\n",
            "INFO:text_cleaning:Processing file: raw_2024_TK1_Putusan_PN_SURABAYA_Nomor_25_Pid_Sus-TPK_2024_PN_Sby_Tanggal_25_Juli_2024__Penuntut_Umum_I_PUTU_KISNU_GUPTA__S_H_Terdakwa_JURIYAH__S_E.txt\n",
            "INFO:text_cleaning:Starting cleaning. Original length: 770269 characters\n",
            "INFO:text_cleaning:Headers/footers/watermarks removed: 178257 characters\n",
            "INFO:text_cleaning:Text converted to lowercase\n"
          ]
        },
        {
          "output_type": "stream",
          "name": "stdout",
          "text": [
            "SUCCESS: raw_2024_TK1_Putusan_PN_SURABAYA_Nomor_24_Pid_Sus-TPK_2024_PN_Sby_Tanggal_25_Juli_2024__Penuntut_Umum_I_PUTU_KISNU_GUPTA__S_H_Terdakwa_SLAMET_SETIAWAN__S_H___M_M_.txt -> case_2024_TK1_Putusan_PN_SURABAYA_Nomor_24_Pid_Sus-TPK_2024_PN_Sby_Tanggal_25_Juli_2024__Penuntut_Umum_I_PUTU_KISNU_GUPTA__S_H_Terdakwa_SLAMET_SETIAWAN__S_H___M_M_.txt (saved to /data/raw, gdrive/CLEANED, and gdrive/data/raw)\n",
            "[65/114] raw_2024_TK1_Putusan_PN_SURABAYA_Nomor_25_Pid_Sus-TPK_2024_PN_Sby_Tanggal_25_Juli_2024__Penuntut_Umum_I_PUTU_KISNU_GUPTA__S_H_Terdakwa_JURIYAH__S_E.txt\n"
          ]
        },
        {
          "output_type": "stream",
          "name": "stderr",
          "text": [
            "INFO:text_cleaning:Spacing/character normalization: 4491 characters removed\n",
            "INFO:text_cleaning:Cleaning complete. Final length: 587520 characters (23.7% reduction)\n",
            "INFO:text_cleaning:Cleaned file saved to all three locations: case_2024_TK1_Putusan_PN_SURABAYA_Nomor_25_Pid_Sus-TPK_2024_PN_Sby_Tanggal_25_Juli_2024__Penuntut_Umum_I_PUTU_KISNU_GUPTA__S_H_Terdakwa_JURIYAH__S_E.txt\n",
            "INFO:text_cleaning:Processing file: raw_2024_TK1_Putusan_PN_SURABAYA_Nomor_19_Pid_Sus-TPK_2024_PN_Sby_Tanggal_10_Juli_2024__Penuntut_Umum_Nur_Ngali_SH_MHTerdakwa_AGUSTIN_WULANDARI.txt\n",
            "INFO:text_cleaning:Starting cleaning. Original length: 429395 characters\n",
            "INFO:text_cleaning:Headers/footers/watermarks removed: 97242 characters\n",
            "INFO:text_cleaning:Text converted to lowercase\n"
          ]
        },
        {
          "output_type": "stream",
          "name": "stdout",
          "text": [
            "SUCCESS: raw_2024_TK1_Putusan_PN_SURABAYA_Nomor_25_Pid_Sus-TPK_2024_PN_Sby_Tanggal_25_Juli_2024__Penuntut_Umum_I_PUTU_KISNU_GUPTA__S_H_Terdakwa_JURIYAH__S_E.txt -> case_2024_TK1_Putusan_PN_SURABAYA_Nomor_25_Pid_Sus-TPK_2024_PN_Sby_Tanggal_25_Juli_2024__Penuntut_Umum_I_PUTU_KISNU_GUPTA__S_H_Terdakwa_JURIYAH__S_E.txt (saved to /data/raw, gdrive/CLEANED, and gdrive/data/raw)\n",
            "[66/114] raw_2024_TK1_Putusan_PN_SURABAYA_Nomor_19_Pid_Sus-TPK_2024_PN_Sby_Tanggal_10_Juli_2024__Penuntut_Umum_Nur_Ngali_SH_MHTerdakwa_AGUSTIN_WULANDARI.txt\n"
          ]
        },
        {
          "output_type": "stream",
          "name": "stderr",
          "text": [
            "INFO:text_cleaning:Spacing/character normalization: 2366 characters removed\n",
            "INFO:text_cleaning:Cleaning complete. Final length: 329786 characters (23.2% reduction)\n",
            "INFO:text_cleaning:Cleaned file saved to all three locations: case_2024_TK1_Putusan_PN_SURABAYA_Nomor_19_Pid_Sus-TPK_2024_PN_Sby_Tanggal_10_Juli_2024__Penuntut_Umum_Nur_Ngali_SH_MHTerdakwa_AGUSTIN_WULANDARI.txt\n",
            "INFO:text_cleaning:Processing file: raw_2024_TK1_Putusan_PN_SURABAYA_Nomor_18_Pid_Sus-TPK_2024_PN_Sby_Tanggal_10_Juli_2024__Penuntut_Umum_Nur_Ngali_SH_MHTerdakwa_AMBYAH.txt\n",
            "INFO:text_cleaning:Starting cleaning. Original length: 403596 characters\n",
            "INFO:text_cleaning:Headers/footers/watermarks removed: 91170 characters\n",
            "INFO:text_cleaning:Text converted to lowercase\n"
          ]
        },
        {
          "output_type": "stream",
          "name": "stdout",
          "text": [
            "SUCCESS: raw_2024_TK1_Putusan_PN_SURABAYA_Nomor_19_Pid_Sus-TPK_2024_PN_Sby_Tanggal_10_Juli_2024__Penuntut_Umum_Nur_Ngali_SH_MHTerdakwa_AGUSTIN_WULANDARI.txt -> case_2024_TK1_Putusan_PN_SURABAYA_Nomor_19_Pid_Sus-TPK_2024_PN_Sby_Tanggal_10_Juli_2024__Penuntut_Umum_Nur_Ngali_SH_MHTerdakwa_AGUSTIN_WULANDARI.txt (saved to /data/raw, gdrive/CLEANED, and gdrive/data/raw)\n",
            "[67/114] raw_2024_TK1_Putusan_PN_SURABAYA_Nomor_18_Pid_Sus-TPK_2024_PN_Sby_Tanggal_10_Juli_2024__Penuntut_Umum_Nur_Ngali_SH_MHTerdakwa_AMBYAH.txt\n"
          ]
        },
        {
          "output_type": "stream",
          "name": "stderr",
          "text": [
            "INFO:text_cleaning:Spacing/character normalization: 2245 characters removed\n",
            "INFO:text_cleaning:Cleaning complete. Final length: 310180 characters (23.1% reduction)\n",
            "INFO:text_cleaning:Cleaned file saved to all three locations: case_2024_TK1_Putusan_PN_SURABAYA_Nomor_18_Pid_Sus-TPK_2024_PN_Sby_Tanggal_10_Juli_2024__Penuntut_Umum_Nur_Ngali_SH_MHTerdakwa_AMBYAH.txt\n",
            "INFO:text_cleaning:Processing file: raw_2024_TK1_Putusan_PN_SURABAYA_Nomor_1_Pid_Sus-TPK_2024_PN_Sby_Tanggal_17_Mei_2024__Penuntut_Umum_Adisti_Pratama_Ferevaldy__S_HTerdakwa_H__HARI_BIN_AMIN.txt\n",
            "INFO:text_cleaning:Starting cleaning. Original length: 1994097 characters\n"
          ]
        },
        {
          "output_type": "stream",
          "name": "stdout",
          "text": [
            "SUCCESS: raw_2024_TK1_Putusan_PN_SURABAYA_Nomor_18_Pid_Sus-TPK_2024_PN_Sby_Tanggal_10_Juli_2024__Penuntut_Umum_Nur_Ngali_SH_MHTerdakwa_AMBYAH.txt -> case_2024_TK1_Putusan_PN_SURABAYA_Nomor_18_Pid_Sus-TPK_2024_PN_Sby_Tanggal_10_Juli_2024__Penuntut_Umum_Nur_Ngali_SH_MHTerdakwa_AMBYAH.txt (saved to /data/raw, gdrive/CLEANED, and gdrive/data/raw)\n",
            "[68/114] raw_2024_TK1_Putusan_PN_SURABAYA_Nomor_1_Pid_Sus-TPK_2024_PN_Sby_Tanggal_17_Mei_2024__Penuntut_Umum_Adisti_Pratama_Ferevaldy__S_HTerdakwa_H__HARI_BIN_AMIN.txt\n"
          ]
        },
        {
          "output_type": "stream",
          "name": "stderr",
          "text": [
            "INFO:text_cleaning:Headers/footers/watermarks removed: 468526 characters\n",
            "INFO:text_cleaning:Text converted to lowercase\n",
            "INFO:text_cleaning:Spacing/character normalization: 34129 characters removed\n",
            "INFO:text_cleaning:Cleaning complete. Final length: 1491441 characters (25.2% reduction)\n",
            "INFO:text_cleaning:Cleaned file saved to all three locations: case_2024_TK1_Putusan_PN_SURABAYA_Nomor_1_Pid_Sus-TPK_2024_PN_Sby_Tanggal_17_Mei_2024__Penuntut_Umum_Adisti_Pratama_Ferevaldy__S_HTerdakwa_H__HARI_BIN_AMIN.txt\n",
            "INFO:text_cleaning:Processing file: raw_2024_TK1_Putusan_PN_SURABAYA_Nomor_4_Pid_Sus-TPK_2024_PN_Sby_Tanggal_2_Mei_2024__Penuntut_Umum_AGUNG_SIH_WARASTINI___SHTerdakwa_Ratemi.txt\n",
            "INFO:text_cleaning:Starting cleaning. Original length: 607271 characters\n",
            "INFO:text_cleaning:Headers/footers/watermarks removed: 152451 characters\n",
            "INFO:text_cleaning:Text converted to lowercase\n"
          ]
        },
        {
          "output_type": "stream",
          "name": "stdout",
          "text": [
            "SUCCESS: raw_2024_TK1_Putusan_PN_SURABAYA_Nomor_1_Pid_Sus-TPK_2024_PN_Sby_Tanggal_17_Mei_2024__Penuntut_Umum_Adisti_Pratama_Ferevaldy__S_HTerdakwa_H__HARI_BIN_AMIN.txt -> case_2024_TK1_Putusan_PN_SURABAYA_Nomor_1_Pid_Sus-TPK_2024_PN_Sby_Tanggal_17_Mei_2024__Penuntut_Umum_Adisti_Pratama_Ferevaldy__S_HTerdakwa_H__HARI_BIN_AMIN.txt (saved to /data/raw, gdrive/CLEANED, and gdrive/data/raw)\n",
            "[69/114] raw_2024_TK1_Putusan_PN_SURABAYA_Nomor_4_Pid_Sus-TPK_2024_PN_Sby_Tanggal_2_Mei_2024__Penuntut_Umum_AGUNG_SIH_WARASTINI___SHTerdakwa_Ratemi.txt\n"
          ]
        },
        {
          "output_type": "stream",
          "name": "stderr",
          "text": [
            "INFO:text_cleaning:Spacing/character normalization: 5030 characters removed\n",
            "INFO:text_cleaning:Cleaning complete. Final length: 449789 characters (25.9% reduction)\n",
            "INFO:text_cleaning:Cleaned file saved to all three locations: case_2024_TK1_Putusan_PN_SURABAYA_Nomor_4_Pid_Sus-TPK_2024_PN_Sby_Tanggal_2_Mei_2024__Penuntut_Umum_AGUNG_SIH_WARASTINI___SHTerdakwa_Ratemi.txt\n",
            "INFO:text_cleaning:Processing file: raw_2024_TK1_Putusan_PN_SURABAYA_Nomor_5_Pid_Sus-TPK_2024_PN_Sby_Tanggal_2_Mei_2024__Penuntut_Umum_ALIFIN_NURAHMANA_WANDA__S_HTerdakwa_HARTO_NOERCAHYO__S_E_.txt\n",
            "INFO:text_cleaning:Starting cleaning. Original length: 639033 characters\n",
            "INFO:text_cleaning:Headers/footers/watermarks removed: 149415 characters\n",
            "INFO:text_cleaning:Text converted to lowercase\n"
          ]
        },
        {
          "output_type": "stream",
          "name": "stdout",
          "text": [
            "SUCCESS: raw_2024_TK1_Putusan_PN_SURABAYA_Nomor_4_Pid_Sus-TPK_2024_PN_Sby_Tanggal_2_Mei_2024__Penuntut_Umum_AGUNG_SIH_WARASTINI___SHTerdakwa_Ratemi.txt -> case_2024_TK1_Putusan_PN_SURABAYA_Nomor_4_Pid_Sus-TPK_2024_PN_Sby_Tanggal_2_Mei_2024__Penuntut_Umum_AGUNG_SIH_WARASTINI___SHTerdakwa_Ratemi.txt (saved to /data/raw, gdrive/CLEANED, and gdrive/data/raw)\n",
            "[70/114] raw_2024_TK1_Putusan_PN_SURABAYA_Nomor_5_Pid_Sus-TPK_2024_PN_Sby_Tanggal_2_Mei_2024__Penuntut_Umum_ALIFIN_NURAHMANA_WANDA__S_HTerdakwa_HARTO_NOERCAHYO__S_E_.txt\n"
          ]
        },
        {
          "output_type": "stream",
          "name": "stderr",
          "text": [
            "INFO:text_cleaning:Spacing/character normalization: 4308 characters removed\n",
            "INFO:text_cleaning:Cleaning complete. Final length: 485309 characters (24.1% reduction)\n",
            "INFO:text_cleaning:Cleaned file saved to all three locations: case_2024_TK1_Putusan_PN_SURABAYA_Nomor_5_Pid_Sus-TPK_2024_PN_Sby_Tanggal_2_Mei_2024__Penuntut_Umum_ALIFIN_NURAHMANA_WANDA__S_HTerdakwa_HARTO_NOERCAHYO__S_E_.txt\n",
            "INFO:text_cleaning:Processing file: raw_2024_TK1_Putusan_PN_SURABAYA_Nomor_13_Pid_Sus-TPK_2024_PN_Sby_Tanggal_2_Mei_2024__Penuntut_Umum_Muslimin__S_H___M_H_Terdakwa_SUTOYO__S_M_.txt\n",
            "INFO:text_cleaning:Starting cleaning. Original length: 906159 characters\n",
            "INFO:text_cleaning:Headers/footers/watermarks removed: 215645 characters\n"
          ]
        },
        {
          "output_type": "stream",
          "name": "stdout",
          "text": [
            "SUCCESS: raw_2024_TK1_Putusan_PN_SURABAYA_Nomor_5_Pid_Sus-TPK_2024_PN_Sby_Tanggal_2_Mei_2024__Penuntut_Umum_ALIFIN_NURAHMANA_WANDA__S_HTerdakwa_HARTO_NOERCAHYO__S_E_.txt -> case_2024_TK1_Putusan_PN_SURABAYA_Nomor_5_Pid_Sus-TPK_2024_PN_Sby_Tanggal_2_Mei_2024__Penuntut_Umum_ALIFIN_NURAHMANA_WANDA__S_HTerdakwa_HARTO_NOERCAHYO__S_E_.txt (saved to /data/raw, gdrive/CLEANED, and gdrive/data/raw)\n",
            "[71/114] raw_2024_TK1_Putusan_PN_SURABAYA_Nomor_13_Pid_Sus-TPK_2024_PN_Sby_Tanggal_2_Mei_2024__Penuntut_Umum_Muslimin__S_H___M_H_Terdakwa_SUTOYO__S_M_.txt\n"
          ]
        },
        {
          "output_type": "stream",
          "name": "stderr",
          "text": [
            "INFO:text_cleaning:Text converted to lowercase\n",
            "INFO:text_cleaning:Spacing/character normalization: 5323 characters removed\n",
            "INFO:text_cleaning:Cleaning complete. Final length: 685190 characters (24.4% reduction)\n",
            "INFO:text_cleaning:Cleaned file saved to all three locations: case_2024_TK1_Putusan_PN_SURABAYA_Nomor_13_Pid_Sus-TPK_2024_PN_Sby_Tanggal_2_Mei_2024__Penuntut_Umum_Muslimin__S_H___M_H_Terdakwa_SUTOYO__S_M_.txt\n",
            "INFO:text_cleaning:Processing file: raw_2024_TK1_Putusan_PN_SURABAYA_Nomor_140_Pid_Sus-TPK_2023_PN_Sby_Tanggal_25_April_2024__Penuntut_Umum_ANIK_PARTINI__SH_Terdakwa_HERI_PURNOMO__S_Pd_.txt\n",
            "INFO:text_cleaning:Starting cleaning. Original length: 1095016 characters\n"
          ]
        },
        {
          "output_type": "stream",
          "name": "stdout",
          "text": [
            "SUCCESS: raw_2024_TK1_Putusan_PN_SURABAYA_Nomor_13_Pid_Sus-TPK_2024_PN_Sby_Tanggal_2_Mei_2024__Penuntut_Umum_Muslimin__S_H___M_H_Terdakwa_SUTOYO__S_M_.txt -> case_2024_TK1_Putusan_PN_SURABAYA_Nomor_13_Pid_Sus-TPK_2024_PN_Sby_Tanggal_2_Mei_2024__Penuntut_Umum_Muslimin__S_H___M_H_Terdakwa_SUTOYO__S_M_.txt (saved to /data/raw, gdrive/CLEANED, and gdrive/data/raw)\n",
            "[72/114] raw_2024_TK1_Putusan_PN_SURABAYA_Nomor_140_Pid_Sus-TPK_2023_PN_Sby_Tanggal_25_April_2024__Penuntut_Umum_ANIK_PARTINI__SH_Terdakwa_HERI_PURNOMO__S_Pd_.txt\n"
          ]
        },
        {
          "output_type": "stream",
          "name": "stderr",
          "text": [
            "INFO:text_cleaning:Headers/footers/watermarks removed: 255675 characters\n",
            "INFO:text_cleaning:Text converted to lowercase\n",
            "INFO:text_cleaning:Spacing/character normalization: 15806 characters removed\n",
            "INFO:text_cleaning:Cleaning complete. Final length: 823534 characters (24.8% reduction)\n",
            "INFO:text_cleaning:Cleaned file saved to all three locations: case_2024_TK1_Putusan_PN_SURABAYA_Nomor_140_Pid_Sus-TPK_2023_PN_Sby_Tanggal_25_April_2024__Penuntut_Umum_ANIK_PARTINI__SH_Terdakwa_HERI_PURNOMO__S_Pd_.txt\n",
            "INFO:text_cleaning:Processing file: raw_2024_TK1_Putusan_PN_SURABAYA_Nomor_141_Pid_Sus-TPK_2023_PN_Sby_Tanggal_25_April_2024__Penuntut_Umum_ANIK_PARTINI__SH_Terdakwa_Drs__ZUL_KORNEN_AHMAD.txt\n",
            "INFO:text_cleaning:Starting cleaning. Original length: 1081414 characters\n"
          ]
        },
        {
          "output_type": "stream",
          "name": "stdout",
          "text": [
            "SUCCESS: raw_2024_TK1_Putusan_PN_SURABAYA_Nomor_140_Pid_Sus-TPK_2023_PN_Sby_Tanggal_25_April_2024__Penuntut_Umum_ANIK_PARTINI__SH_Terdakwa_HERI_PURNOMO__S_Pd_.txt -> case_2024_TK1_Putusan_PN_SURABAYA_Nomor_140_Pid_Sus-TPK_2023_PN_Sby_Tanggal_25_April_2024__Penuntut_Umum_ANIK_PARTINI__SH_Terdakwa_HERI_PURNOMO__S_Pd_.txt (saved to /data/raw, gdrive/CLEANED, and gdrive/data/raw)\n",
            "[73/114] raw_2024_TK1_Putusan_PN_SURABAYA_Nomor_141_Pid_Sus-TPK_2023_PN_Sby_Tanggal_25_April_2024__Penuntut_Umum_ANIK_PARTINI__SH_Terdakwa_Drs__ZUL_KORNEN_AHMAD.txt\n"
          ]
        },
        {
          "output_type": "stream",
          "name": "stderr",
          "text": [
            "INFO:text_cleaning:Headers/footers/watermarks removed: 270855 characters\n",
            "INFO:text_cleaning:Text converted to lowercase\n",
            "INFO:text_cleaning:Spacing/character normalization: 16454 characters removed\n",
            "INFO:text_cleaning:Cleaning complete. Final length: 794104 characters (26.6% reduction)\n",
            "INFO:text_cleaning:Cleaned file saved to all three locations: case_2024_TK1_Putusan_PN_SURABAYA_Nomor_141_Pid_Sus-TPK_2023_PN_Sby_Tanggal_25_April_2024__Penuntut_Umum_ANIK_PARTINI__SH_Terdakwa_Drs__ZUL_KORNEN_AHMAD.txt\n",
            "INFO:text_cleaning:Processing file: raw_2024_TK1_Putusan_PN_SURABAYA_Nomor_7_Pid_Sus-TPK_2024_PN_Sby_Tanggal_22_April_2024__Penuntut_Umum_Sandy_Septi_Murhanta_HidayatTerdakwa_ALEXANDER_KRISTIAN_DILIYANTO_SILAEN.txt\n",
            "INFO:text_cleaning:Starting cleaning. Original length: 1243845 characters\n"
          ]
        },
        {
          "output_type": "stream",
          "name": "stdout",
          "text": [
            "SUCCESS: raw_2024_TK1_Putusan_PN_SURABAYA_Nomor_141_Pid_Sus-TPK_2023_PN_Sby_Tanggal_25_April_2024__Penuntut_Umum_ANIK_PARTINI__SH_Terdakwa_Drs__ZUL_KORNEN_AHMAD.txt -> case_2024_TK1_Putusan_PN_SURABAYA_Nomor_141_Pid_Sus-TPK_2023_PN_Sby_Tanggal_25_April_2024__Penuntut_Umum_ANIK_PARTINI__SH_Terdakwa_Drs__ZUL_KORNEN_AHMAD.txt (saved to /data/raw, gdrive/CLEANED, and gdrive/data/raw)\n",
            "[74/114] raw_2024_TK1_Putusan_PN_SURABAYA_Nomor_7_Pid_Sus-TPK_2024_PN_Sby_Tanggal_22_April_2024__Penuntut_Umum_Sandy_Septi_Murhanta_HidayatTerdakwa_ALEXANDER_KRISTIAN_DILIYANTO_SILAEN.txt\n"
          ]
        },
        {
          "output_type": "stream",
          "name": "stderr",
          "text": [
            "INFO:text_cleaning:Headers/footers/watermarks removed: 318045 characters\n",
            "INFO:text_cleaning:Text converted to lowercase\n",
            "INFO:text_cleaning:Spacing/character normalization: 7528 characters removed\n",
            "INFO:text_cleaning:Cleaning complete. Final length: 918271 characters (26.2% reduction)\n",
            "INFO:text_cleaning:Cleaned file saved to all three locations: case_2024_TK1_Putusan_PN_SURABAYA_Nomor_7_Pid_Sus-TPK_2024_PN_Sby_Tanggal_22_April_2024__Penuntut_Umum_Sandy_Septi_Murhanta_HidayatTerdakwa_ALEXANDER_KRISTIAN_DILIYANTO_SILAEN.txt\n",
            "INFO:text_cleaning:Processing file: raw_2024_TK1_Putusan_PN_SURABAYA_Nomor_137_Pid_Sus-TPK_2023_PN_Sby_Tanggal_17_April_2024__Penuntut_Umum_PUTU_EKA_WISNIATI__S_H_Terdakwa_BRAM_KUSNOHARDJO.txt\n",
            "INFO:text_cleaning:Starting cleaning. Original length: 601053 characters\n"
          ]
        },
        {
          "output_type": "stream",
          "name": "stdout",
          "text": [
            "SUCCESS: raw_2024_TK1_Putusan_PN_SURABAYA_Nomor_7_Pid_Sus-TPK_2024_PN_Sby_Tanggal_22_April_2024__Penuntut_Umum_Sandy_Septi_Murhanta_HidayatTerdakwa_ALEXANDER_KRISTIAN_DILIYANTO_SILAEN.txt -> case_2024_TK1_Putusan_PN_SURABAYA_Nomor_7_Pid_Sus-TPK_2024_PN_Sby_Tanggal_22_April_2024__Penuntut_Umum_Sandy_Septi_Murhanta_HidayatTerdakwa_ALEXANDER_KRISTIAN_DILIYANTO_SILAEN.txt (saved to /data/raw, gdrive/CLEANED, and gdrive/data/raw)\n",
            "[75/114] raw_2024_TK1_Putusan_PN_SURABAYA_Nomor_137_Pid_Sus-TPK_2023_PN_Sby_Tanggal_17_April_2024__Penuntut_Umum_PUTU_EKA_WISNIATI__S_H_Terdakwa_BRAM_KUSNOHARDJO.txt\n"
          ]
        },
        {
          "output_type": "stream",
          "name": "stderr",
          "text": [
            "INFO:text_cleaning:Headers/footers/watermarks removed: 143343 characters\n",
            "INFO:text_cleaning:Text converted to lowercase\n",
            "INFO:text_cleaning:Spacing/character normalization: 3311 characters removed\n",
            "INFO:text_cleaning:Cleaning complete. Final length: 454398 characters (24.4% reduction)\n",
            "INFO:text_cleaning:Cleaned file saved to all three locations: case_2024_TK1_Putusan_PN_SURABAYA_Nomor_137_Pid_Sus-TPK_2023_PN_Sby_Tanggal_17_April_2024__Penuntut_Umum_PUTU_EKA_WISNIATI__S_H_Terdakwa_BRAM_KUSNOHARDJO.txt\n",
            "INFO:text_cleaning:Processing file: raw_2024_TK1_Putusan_PN_SURABAYA_Nomor_138_Pid_Sus-TPK_2023_PN_Sby_Tanggal_17_April_2024__Penuntut_Umum_PUTU_EKA_WISNIATI__S_H_Terdakwa_HENRY_KUSNOHARDJO.txt\n",
            "INFO:text_cleaning:Starting cleaning. Original length: 597358 characters\n"
          ]
        },
        {
          "output_type": "stream",
          "name": "stdout",
          "text": [
            "SUCCESS: raw_2024_TK1_Putusan_PN_SURABAYA_Nomor_137_Pid_Sus-TPK_2023_PN_Sby_Tanggal_17_April_2024__Penuntut_Umum_PUTU_EKA_WISNIATI__S_H_Terdakwa_BRAM_KUSNOHARDJO.txt -> case_2024_TK1_Putusan_PN_SURABAYA_Nomor_137_Pid_Sus-TPK_2023_PN_Sby_Tanggal_17_April_2024__Penuntut_Umum_PUTU_EKA_WISNIATI__S_H_Terdakwa_BRAM_KUSNOHARDJO.txt (saved to /data/raw, gdrive/CLEANED, and gdrive/data/raw)\n",
            "[76/114] raw_2024_TK1_Putusan_PN_SURABAYA_Nomor_138_Pid_Sus-TPK_2023_PN_Sby_Tanggal_17_April_2024__Penuntut_Umum_PUTU_EKA_WISNIATI__S_H_Terdakwa_HENRY_KUSNOHARDJO.txt\n"
          ]
        },
        {
          "output_type": "stream",
          "name": "stderr",
          "text": [
            "INFO:text_cleaning:Headers/footers/watermarks removed: 142584 characters\n",
            "INFO:text_cleaning:Text converted to lowercase\n",
            "INFO:text_cleaning:Spacing/character normalization: 3059 characters removed\n",
            "INFO:text_cleaning:Cleaning complete. Final length: 451714 characters (24.4% reduction)\n",
            "INFO:text_cleaning:Cleaned file saved to all three locations: case_2024_TK1_Putusan_PN_SURABAYA_Nomor_138_Pid_Sus-TPK_2023_PN_Sby_Tanggal_17_April_2024__Penuntut_Umum_PUTU_EKA_WISNIATI__S_H_Terdakwa_HENRY_KUSNOHARDJO.txt\n",
            "INFO:text_cleaning:Processing file: raw_2024_TK1_Putusan_PN_SURABAYA_Nomor_144_Pid_Sus-TPK_2023_PN_Sby_Tanggal_16_April_2024__Penuntut_Umum_ETY_BOEDI_HARTININGSIH__SHTerdakwa_1_ANDI_WIBOWO_KUSUMO_Bin_MARGONO2_WAHYUDI_Bin_PURWADI.txt\n",
            "INFO:text_cleaning:Starting cleaning. Original length: 731275 characters\n"
          ]
        },
        {
          "output_type": "stream",
          "name": "stdout",
          "text": [
            "SUCCESS: raw_2024_TK1_Putusan_PN_SURABAYA_Nomor_138_Pid_Sus-TPK_2023_PN_Sby_Tanggal_17_April_2024__Penuntut_Umum_PUTU_EKA_WISNIATI__S_H_Terdakwa_HENRY_KUSNOHARDJO.txt -> case_2024_TK1_Putusan_PN_SURABAYA_Nomor_138_Pid_Sus-TPK_2023_PN_Sby_Tanggal_17_April_2024__Penuntut_Umum_PUTU_EKA_WISNIATI__S_H_Terdakwa_HENRY_KUSNOHARDJO.txt (saved to /data/raw, gdrive/CLEANED, and gdrive/data/raw)\n",
            "[77/114] raw_2024_TK1_Putusan_PN_SURABAYA_Nomor_144_Pid_Sus-TPK_2023_PN_Sby_Tanggal_16_April_2024__Penuntut_Umum_ETY_BOEDI_HARTININGSIH__SHTerdakwa_1_ANDI_WIBOWO_KUSUMO_Bin_MARGONO2_WAHYUDI_Bin_PURWADI.txt\n"
          ]
        },
        {
          "output_type": "stream",
          "name": "stderr",
          "text": [
            "INFO:text_cleaning:Headers/footers/watermarks removed: 166275 characters\n",
            "INFO:text_cleaning:Text converted to lowercase\n",
            "INFO:text_cleaning:Spacing/character normalization: 3986 characters removed\n",
            "INFO:text_cleaning:Cleaning complete. Final length: 561013 characters (23.3% reduction)\n",
            "INFO:text_cleaning:Cleaned file saved to all three locations: case_2024_TK1_Putusan_PN_SURABAYA_Nomor_144_Pid_Sus-TPK_2023_PN_Sby_Tanggal_16_April_2024__Penuntut_Umum_ETY_BOEDI_HARTININGSIH__SHTerdakwa_1_ANDI_WIBOWO_KUSUMO_Bin_MARGONO2_WAHYUDI_Bin_PURWADI.txt\n",
            "INFO:text_cleaning:Processing file: raw_2024_TK1_Putusan_PN_SURABAYA_Nomor_148_Pid_Sus-TPK_2023_PN_Sby_Tanggal_16_April_2024__Penuntut_Umum_ANTON_WAHYUDI__S_H___MHTerdakwa_BAGUS_CAHYO_KURNIAWAN__S_P.txt\n",
            "INFO:text_cleaning:Starting cleaning. Original length: 436186 characters\n",
            "INFO:text_cleaning:Headers/footers/watermarks removed: 111589 characters\n",
            "INFO:text_cleaning:Text converted to lowercase\n"
          ]
        },
        {
          "output_type": "stream",
          "name": "stdout",
          "text": [
            "SUCCESS: raw_2024_TK1_Putusan_PN_SURABAYA_Nomor_144_Pid_Sus-TPK_2023_PN_Sby_Tanggal_16_April_2024__Penuntut_Umum_ETY_BOEDI_HARTININGSIH__SHTerdakwa_1_ANDI_WIBOWO_KUSUMO_Bin_MARGONO2_WAHYUDI_Bin_PURWADI.txt -> case_2024_TK1_Putusan_PN_SURABAYA_Nomor_144_Pid_Sus-TPK_2023_PN_Sby_Tanggal_16_April_2024__Penuntut_Umum_ETY_BOEDI_HARTININGSIH__SHTerdakwa_1_ANDI_WIBOWO_KUSUMO_Bin_MARGONO2_WAHYUDI_Bin_PURWADI.txt (saved to /data/raw, gdrive/CLEANED, and gdrive/data/raw)\n",
            "[78/114] raw_2024_TK1_Putusan_PN_SURABAYA_Nomor_148_Pid_Sus-TPK_2023_PN_Sby_Tanggal_16_April_2024__Penuntut_Umum_ANTON_WAHYUDI__S_H___MHTerdakwa_BAGUS_CAHYO_KURNIAWAN__S_P.txt\n"
          ]
        },
        {
          "output_type": "stream",
          "name": "stderr",
          "text": [
            "INFO:text_cleaning:Spacing/character normalization: 2631 characters removed\n",
            "INFO:text_cleaning:Cleaning complete. Final length: 321965 characters (26.2% reduction)\n",
            "INFO:text_cleaning:Cleaned file saved to all three locations: case_2024_TK1_Putusan_PN_SURABAYA_Nomor_148_Pid_Sus-TPK_2023_PN_Sby_Tanggal_16_April_2024__Penuntut_Umum_ANTON_WAHYUDI__S_H___MHTerdakwa_BAGUS_CAHYO_KURNIAWAN__S_P.txt\n",
            "INFO:text_cleaning:Processing file: raw_2024_TK1_Putusan_PN_SURABAYA_Nomor_149_Pid_Sus-TPK_2023_PN_Sby_Tanggal_16_April_2024__Penuntut_Umum_ANTON_WAHYUDI__S_H___MHTerdakwa_YAYUK_SUSILOWATI.txt\n",
            "INFO:text_cleaning:Starting cleaning. Original length: 442589 characters\n",
            "INFO:text_cleaning:Headers/footers/watermarks removed: 115284 characters\n",
            "INFO:text_cleaning:Text converted to lowercase\n"
          ]
        },
        {
          "output_type": "stream",
          "name": "stdout",
          "text": [
            "SUCCESS: raw_2024_TK1_Putusan_PN_SURABAYA_Nomor_148_Pid_Sus-TPK_2023_PN_Sby_Tanggal_16_April_2024__Penuntut_Umum_ANTON_WAHYUDI__S_H___MHTerdakwa_BAGUS_CAHYO_KURNIAWAN__S_P.txt -> case_2024_TK1_Putusan_PN_SURABAYA_Nomor_148_Pid_Sus-TPK_2023_PN_Sby_Tanggal_16_April_2024__Penuntut_Umum_ANTON_WAHYUDI__S_H___MHTerdakwa_BAGUS_CAHYO_KURNIAWAN__S_P.txt (saved to /data/raw, gdrive/CLEANED, and gdrive/data/raw)\n",
            "[79/114] raw_2024_TK1_Putusan_PN_SURABAYA_Nomor_149_Pid_Sus-TPK_2023_PN_Sby_Tanggal_16_April_2024__Penuntut_Umum_ANTON_WAHYUDI__S_H___MHTerdakwa_YAYUK_SUSILOWATI.txt\n"
          ]
        },
        {
          "output_type": "stream",
          "name": "stderr",
          "text": [
            "INFO:text_cleaning:Spacing/character normalization: 2703 characters removed\n",
            "INFO:text_cleaning:Cleaning complete. Final length: 324601 characters (26.7% reduction)\n",
            "INFO:text_cleaning:Cleaned file saved to all three locations: case_2024_TK1_Putusan_PN_SURABAYA_Nomor_149_Pid_Sus-TPK_2023_PN_Sby_Tanggal_16_April_2024__Penuntut_Umum_ANTON_WAHYUDI__S_H___MHTerdakwa_YAYUK_SUSILOWATI.txt\n",
            "INFO:text_cleaning:Processing file: raw_2024_TK1_Putusan_PN_SURABAYA_Nomor_131_Pid_Sus-TPK_2023_PN_Sby_Tanggal_5_April_2024__Penuntut_Umum_Moch__Taufiq_Ismail__S_HTerdakwa_Drs__HERI_EKO_WAHYUDI_ARIEPRADIPTO_anak_dari_EDUARDUS_RUSDRUJITO.txt\n",
            "INFO:text_cleaning:Starting cleaning. Original length: 1543703 characters\n"
          ]
        },
        {
          "output_type": "stream",
          "name": "stdout",
          "text": [
            "SUCCESS: raw_2024_TK1_Putusan_PN_SURABAYA_Nomor_149_Pid_Sus-TPK_2023_PN_Sby_Tanggal_16_April_2024__Penuntut_Umum_ANTON_WAHYUDI__S_H___MHTerdakwa_YAYUK_SUSILOWATI.txt -> case_2024_TK1_Putusan_PN_SURABAYA_Nomor_149_Pid_Sus-TPK_2023_PN_Sby_Tanggal_16_April_2024__Penuntut_Umum_ANTON_WAHYUDI__S_H___MHTerdakwa_YAYUK_SUSILOWATI.txt (saved to /data/raw, gdrive/CLEANED, and gdrive/data/raw)\n",
            "[80/114] raw_2024_TK1_Putusan_PN_SURABAYA_Nomor_131_Pid_Sus-TPK_2023_PN_Sby_Tanggal_5_April_2024__Penuntut_Umum_Moch__Taufiq_Ismail__S_HTerdakwa_Drs__HERI_EKO_WAHYUDI_ARIEPRADIPTO_anak_dari_EDUARDUS_RUSDRUJITO.txt\n"
          ]
        },
        {
          "output_type": "stream",
          "name": "stderr",
          "text": [
            "INFO:text_cleaning:Headers/footers/watermarks removed: 389419 characters\n",
            "INFO:text_cleaning:Text converted to lowercase\n",
            "INFO:text_cleaning:Spacing/character normalization: 11919 characters removed\n",
            "INFO:text_cleaning:Cleaning complete. Final length: 1142364 characters (26.0% reduction)\n",
            "INFO:text_cleaning:Cleaned file saved to all three locations: case_2024_TK1_Putusan_PN_SURABAYA_Nomor_131_Pid_Sus-TPK_2023_PN_Sby_Tanggal_5_April_2024__Penuntut_Umum_Moch__Taufiq_Ismail__S_HTerdakwa_Drs__HERI_EKO_WAHYUDI_ARIEPRADIPTO_anak_dari_EDUARDUS_RUSDRUJITO.txt\n",
            "INFO:text_cleaning:Processing file: raw_2024_TK1_Putusan_PN_SURABAYA_Nomor_146_Pid_Sus-TPK_2023_PN_Sby_Tanggal_2_April_2024__Penuntut_Umum_ANDRI_TRI_WIBOWO__SH_M_HumTerdakwa_KAREN_AGUNG_WIBOWO.txt\n",
            "INFO:text_cleaning:Starting cleaning. Original length: 512090 characters\n",
            "INFO:text_cleaning:Headers/footers/watermarks removed: 129086 characters\n",
            "INFO:text_cleaning:Text converted to lowercase\n"
          ]
        },
        {
          "output_type": "stream",
          "name": "stdout",
          "text": [
            "SUCCESS: raw_2024_TK1_Putusan_PN_SURABAYA_Nomor_131_Pid_Sus-TPK_2023_PN_Sby_Tanggal_5_April_2024__Penuntut_Umum_Moch__Taufiq_Ismail__S_HTerdakwa_Drs__HERI_EKO_WAHYUDI_ARIEPRADIPTO_anak_dari_EDUARDUS_RUSDRUJITO.txt -> case_2024_TK1_Putusan_PN_SURABAYA_Nomor_131_Pid_Sus-TPK_2023_PN_Sby_Tanggal_5_April_2024__Penuntut_Umum_Moch__Taufiq_Ismail__S_HTerdakwa_Drs__HERI_EKO_WAHYUDI_ARIEPRADIPTO_anak_dari_EDUARDUS_RUSDRUJITO.txt (saved to /data/raw, gdrive/CLEANED, and gdrive/data/raw)\n",
            "[81/114] raw_2024_TK1_Putusan_PN_SURABAYA_Nomor_146_Pid_Sus-TPK_2023_PN_Sby_Tanggal_2_April_2024__Penuntut_Umum_ANDRI_TRI_WIBOWO__SH_M_HumTerdakwa_KAREN_AGUNG_WIBOWO.txt\n"
          ]
        },
        {
          "output_type": "stream",
          "name": "stderr",
          "text": [
            "INFO:text_cleaning:Spacing/character normalization: 3833 characters removed\n",
            "INFO:text_cleaning:Cleaning complete. Final length: 379170 characters (26.0% reduction)\n",
            "INFO:text_cleaning:Cleaned file saved to all three locations: case_2024_TK1_Putusan_PN_SURABAYA_Nomor_146_Pid_Sus-TPK_2023_PN_Sby_Tanggal_2_April_2024__Penuntut_Umum_ANDRI_TRI_WIBOWO__SH_M_HumTerdakwa_KAREN_AGUNG_WIBOWO.txt\n",
            "INFO:text_cleaning:Processing file: raw_2024_TK1_Putusan_PN_SURABAYA_Nomor_145_Pid_Sus-TPK_2023_PN_Sby_Tanggal_2_April_2024__Penuntut_Umum_ANDRI_TRI_WIBOWO__SH_M_HumTerdakwa_MOCHAMAD_IFAN.txt\n",
            "INFO:text_cleaning:Starting cleaning. Original length: 498000 characters\n",
            "INFO:text_cleaning:Headers/footers/watermarks removed: 124630 characters\n",
            "INFO:text_cleaning:Text converted to lowercase\n"
          ]
        },
        {
          "output_type": "stream",
          "name": "stdout",
          "text": [
            "SUCCESS: raw_2024_TK1_Putusan_PN_SURABAYA_Nomor_146_Pid_Sus-TPK_2023_PN_Sby_Tanggal_2_April_2024__Penuntut_Umum_ANDRI_TRI_WIBOWO__SH_M_HumTerdakwa_KAREN_AGUNG_WIBOWO.txt -> case_2024_TK1_Putusan_PN_SURABAYA_Nomor_146_Pid_Sus-TPK_2023_PN_Sby_Tanggal_2_April_2024__Penuntut_Umum_ANDRI_TRI_WIBOWO__SH_M_HumTerdakwa_KAREN_AGUNG_WIBOWO.txt (saved to /data/raw, gdrive/CLEANED, and gdrive/data/raw)\n",
            "[82/114] raw_2024_TK1_Putusan_PN_SURABAYA_Nomor_145_Pid_Sus-TPK_2023_PN_Sby_Tanggal_2_April_2024__Penuntut_Umum_ANDRI_TRI_WIBOWO__SH_M_HumTerdakwa_MOCHAMAD_IFAN.txt\n"
          ]
        },
        {
          "output_type": "stream",
          "name": "stderr",
          "text": [
            "INFO:text_cleaning:Spacing/character normalization: 3788 characters removed\n",
            "INFO:text_cleaning:Cleaning complete. Final length: 369581 characters (25.8% reduction)\n",
            "INFO:text_cleaning:Cleaned file saved to all three locations: case_2024_TK1_Putusan_PN_SURABAYA_Nomor_145_Pid_Sus-TPK_2023_PN_Sby_Tanggal_2_April_2024__Penuntut_Umum_ANDRI_TRI_WIBOWO__SH_M_HumTerdakwa_MOCHAMAD_IFAN.txt\n",
            "INFO:text_cleaning:Processing file: raw_2024_TK1_Putusan_PN_SURABAYA_Nomor_147_Pid_Sus-TPK_2023_PN_Sby_Tanggal_2_April_2024__Penuntut_Umum_ANDRI_TRI_WIBOWO__SH_M_HumTerdakwa_SANUSI.txt\n",
            "INFO:text_cleaning:Starting cleaning. Original length: 461130 characters\n",
            "INFO:text_cleaning:Headers/footers/watermarks removed: 116215 characters\n",
            "INFO:text_cleaning:Text converted to lowercase\n"
          ]
        },
        {
          "output_type": "stream",
          "name": "stdout",
          "text": [
            "SUCCESS: raw_2024_TK1_Putusan_PN_SURABAYA_Nomor_145_Pid_Sus-TPK_2023_PN_Sby_Tanggal_2_April_2024__Penuntut_Umum_ANDRI_TRI_WIBOWO__SH_M_HumTerdakwa_MOCHAMAD_IFAN.txt -> case_2024_TK1_Putusan_PN_SURABAYA_Nomor_145_Pid_Sus-TPK_2023_PN_Sby_Tanggal_2_April_2024__Penuntut_Umum_ANDRI_TRI_WIBOWO__SH_M_HumTerdakwa_MOCHAMAD_IFAN.txt (saved to /data/raw, gdrive/CLEANED, and gdrive/data/raw)\n",
            "[83/114] raw_2024_TK1_Putusan_PN_SURABAYA_Nomor_147_Pid_Sus-TPK_2023_PN_Sby_Tanggal_2_April_2024__Penuntut_Umum_ANDRI_TRI_WIBOWO__SH_M_HumTerdakwa_SANUSI.txt\n"
          ]
        },
        {
          "output_type": "stream",
          "name": "stderr",
          "text": [
            "INFO:text_cleaning:Spacing/character normalization: 3178 characters removed\n",
            "INFO:text_cleaning:Cleaning complete. Final length: 341736 characters (25.9% reduction)\n",
            "INFO:text_cleaning:Cleaned file saved to all three locations: case_2024_TK1_Putusan_PN_SURABAYA_Nomor_147_Pid_Sus-TPK_2023_PN_Sby_Tanggal_2_April_2024__Penuntut_Umum_ANDRI_TRI_WIBOWO__SH_M_HumTerdakwa_SANUSI.txt\n",
            "INFO:text_cleaning:Processing file: raw_2024_TK1_Putusan_PN_SURABAYA_Nomor_132_Pid_Sus-TPK_2023_PN_Sby_Tanggal_26_Maret_2024__Penuntut_Umum_JOHN_FRANKY_YANAFIA_ARIANDI__S_H___M_H_Terdakwa_SYA_RONY_ALIEM.txt\n",
            "INFO:text_cleaning:Starting cleaning. Original length: 600225 characters\n",
            "INFO:text_cleaning:Headers/footers/watermarks removed: 139940 characters\n",
            "INFO:text_cleaning:Text converted to lowercase\n"
          ]
        },
        {
          "output_type": "stream",
          "name": "stdout",
          "text": [
            "SUCCESS: raw_2024_TK1_Putusan_PN_SURABAYA_Nomor_147_Pid_Sus-TPK_2023_PN_Sby_Tanggal_2_April_2024__Penuntut_Umum_ANDRI_TRI_WIBOWO__SH_M_HumTerdakwa_SANUSI.txt -> case_2024_TK1_Putusan_PN_SURABAYA_Nomor_147_Pid_Sus-TPK_2023_PN_Sby_Tanggal_2_April_2024__Penuntut_Umum_ANDRI_TRI_WIBOWO__SH_M_HumTerdakwa_SANUSI.txt (saved to /data/raw, gdrive/CLEANED, and gdrive/data/raw)\n",
            "[84/114] raw_2024_TK1_Putusan_PN_SURABAYA_Nomor_132_Pid_Sus-TPK_2023_PN_Sby_Tanggal_26_Maret_2024__Penuntut_Umum_JOHN_FRANKY_YANAFIA_ARIANDI__S_H___M_H_Terdakwa_SYA_RONY_ALIEM.txt\n"
          ]
        },
        {
          "output_type": "stream",
          "name": "stderr",
          "text": [
            "INFO:text_cleaning:Spacing/character normalization: 3386 characters removed\n",
            "INFO:text_cleaning:Cleaning complete. Final length: 456898 characters (23.9% reduction)\n",
            "INFO:text_cleaning:Cleaned file saved to all three locations: case_2024_TK1_Putusan_PN_SURABAYA_Nomor_132_Pid_Sus-TPK_2023_PN_Sby_Tanggal_26_Maret_2024__Penuntut_Umum_JOHN_FRANKY_YANAFIA_ARIANDI__S_H___M_H_Terdakwa_SYA_RONY_ALIEM.txt\n",
            "INFO:text_cleaning:Processing file: raw_2024_TK1_Putusan_PN_SURABAYA_Nomor_121_Pid_Sus-TPK_2023_PN_Sby_Tanggal_19_Maret_2024__Penuntut_Umum_SETYO_ADHI_WICAKSONO__SH_MH_Terdakwa_RIKA_SURTIKA.txt\n",
            "INFO:text_cleaning:Starting cleaning. Original length: 3269424 characters\n"
          ]
        },
        {
          "output_type": "stream",
          "name": "stdout",
          "text": [
            "SUCCESS: raw_2024_TK1_Putusan_PN_SURABAYA_Nomor_132_Pid_Sus-TPK_2023_PN_Sby_Tanggal_26_Maret_2024__Penuntut_Umum_JOHN_FRANKY_YANAFIA_ARIANDI__S_H___M_H_Terdakwa_SYA_RONY_ALIEM.txt -> case_2024_TK1_Putusan_PN_SURABAYA_Nomor_132_Pid_Sus-TPK_2023_PN_Sby_Tanggal_26_Maret_2024__Penuntut_Umum_JOHN_FRANKY_YANAFIA_ARIANDI__S_H___M_H_Terdakwa_SYA_RONY_ALIEM.txt (saved to /data/raw, gdrive/CLEANED, and gdrive/data/raw)\n",
            "[85/114] raw_2024_TK1_Putusan_PN_SURABAYA_Nomor_121_Pid_Sus-TPK_2023_PN_Sby_Tanggal_19_Maret_2024__Penuntut_Umum_SETYO_ADHI_WICAKSONO__SH_MH_Terdakwa_RIKA_SURTIKA.txt\n"
          ]
        },
        {
          "output_type": "stream",
          "name": "stderr",
          "text": [
            "INFO:text_cleaning:Headers/footers/watermarks removed: 759692 characters\n",
            "INFO:text_cleaning:Text converted to lowercase\n",
            "INFO:text_cleaning:Spacing/character normalization: 61742 characters removed\n",
            "INFO:text_cleaning:Cleaning complete. Final length: 2447989 characters (25.1% reduction)\n",
            "INFO:text_cleaning:Cleaned file saved to all three locations: case_2024_TK1_Putusan_PN_SURABAYA_Nomor_121_Pid_Sus-TPK_2023_PN_Sby_Tanggal_19_Maret_2024__Penuntut_Umum_SETYO_ADHI_WICAKSONO__SH_MH_Terdakwa_RIKA_SURTIKA.txt\n",
            "INFO:text_cleaning:Processing file: raw_2024_TK1_Putusan_PN_SURABAYA_Nomor_122_Pid_Sus-TPK_2023_PN_Sby_Tanggal_19_Maret_2024__Penuntut_Umum_SETYO_ADHI_WICAKSONO__SH_MH_Terdakwa_PANTJA_PRASTAWAN_HERU_KRISMANTO.txt\n",
            "INFO:text_cleaning:Starting cleaning. Original length: 3366138 characters\n"
          ]
        },
        {
          "output_type": "stream",
          "name": "stdout",
          "text": [
            "SUCCESS: raw_2024_TK1_Putusan_PN_SURABAYA_Nomor_121_Pid_Sus-TPK_2023_PN_Sby_Tanggal_19_Maret_2024__Penuntut_Umum_SETYO_ADHI_WICAKSONO__SH_MH_Terdakwa_RIKA_SURTIKA.txt -> case_2024_TK1_Putusan_PN_SURABAYA_Nomor_121_Pid_Sus-TPK_2023_PN_Sby_Tanggal_19_Maret_2024__Penuntut_Umum_SETYO_ADHI_WICAKSONO__SH_MH_Terdakwa_RIKA_SURTIKA.txt (saved to /data/raw, gdrive/CLEANED, and gdrive/data/raw)\n",
            "[86/114] raw_2024_TK1_Putusan_PN_SURABAYA_Nomor_122_Pid_Sus-TPK_2023_PN_Sby_Tanggal_19_Maret_2024__Penuntut_Umum_SETYO_ADHI_WICAKSONO__SH_MH_Terdakwa_PANTJA_PRASTAWAN_HERU_KRISMANTO.txt\n"
          ]
        },
        {
          "output_type": "stream",
          "name": "stderr",
          "text": [
            "INFO:text_cleaning:Headers/footers/watermarks removed: 828419 characters\n",
            "INFO:text_cleaning:Text converted to lowercase\n",
            "INFO:text_cleaning:Spacing/character normalization: 71653 characters removed\n",
            "INFO:text_cleaning:Cleaning complete. Final length: 2466065 characters (26.7% reduction)\n",
            "INFO:text_cleaning:Cleaned file saved to all three locations: case_2024_TK1_Putusan_PN_SURABAYA_Nomor_122_Pid_Sus-TPK_2023_PN_Sby_Tanggal_19_Maret_2024__Penuntut_Umum_SETYO_ADHI_WICAKSONO__SH_MH_Terdakwa_PANTJA_PRASTAWAN_HERU_KRISMANTO.txt\n",
            "INFO:text_cleaning:Processing file: raw_2024_TK1_Putusan_PN_SURABAYA_Nomor_130_Pid_Sus-TPK_2023_PN_Sby_Tanggal_15_Maret_2024__Penuntut_Umum_COK_GEDE_PUTRA_GAUTAMA_SHTerdakwa_Wahyudi_Sofyan_S_sos_bin__alm__Adi_Sukoso.txt\n",
            "INFO:text_cleaning:Starting cleaning. Original length: 173529 characters\n",
            "INFO:text_cleaning:Headers/footers/watermarks removed: 41384 characters\n",
            "INFO:text_cleaning:Text converted to lowercase\n",
            "INFO:text_cleaning:Spacing/character normalization: 3229 characters removed\n",
            "INFO:text_cleaning:Cleaning complete. Final length: 128915 characters (25.7% reduction)\n",
            "INFO:text_cleaning:Cleaned file saved to all three locations: case_2024_TK1_Putusan_PN_SURABAYA_Nomor_130_Pid_Sus-TPK_2023_PN_Sby_Tanggal_15_Maret_2024__Penuntut_Umum_COK_GEDE_PUTRA_GAUTAMA_SHTerdakwa_Wahyudi_Sofyan_S_sos_bin__alm__Adi_Sukoso.txt\n",
            "INFO:text_cleaning:Processing file: raw_2024_TK1_Putusan_PN_SURABAYA_Nomor_125_Pid_Sus-TPK_2023_PN_Sby_Tanggal_15_Maret_2024__Penuntut_Umum_YUSUFI_FITROHANSYAH__S_H_Terdakwa_JOKO_PURNOMO_BIN_Alm__SUDARMO.txt\n",
            "INFO:text_cleaning:Starting cleaning. Original length: 291908 characters\n",
            "INFO:text_cleaning:Headers/footers/watermarks removed: 71149 characters\n",
            "INFO:text_cleaning:Text converted to lowercase\n"
          ]
        },
        {
          "output_type": "stream",
          "name": "stdout",
          "text": [
            "SUCCESS: raw_2024_TK1_Putusan_PN_SURABAYA_Nomor_122_Pid_Sus-TPK_2023_PN_Sby_Tanggal_19_Maret_2024__Penuntut_Umum_SETYO_ADHI_WICAKSONO__SH_MH_Terdakwa_PANTJA_PRASTAWAN_HERU_KRISMANTO.txt -> case_2024_TK1_Putusan_PN_SURABAYA_Nomor_122_Pid_Sus-TPK_2023_PN_Sby_Tanggal_19_Maret_2024__Penuntut_Umum_SETYO_ADHI_WICAKSONO__SH_MH_Terdakwa_PANTJA_PRASTAWAN_HERU_KRISMANTO.txt (saved to /data/raw, gdrive/CLEANED, and gdrive/data/raw)\n",
            "[87/114] raw_2024_TK1_Putusan_PN_SURABAYA_Nomor_130_Pid_Sus-TPK_2023_PN_Sby_Tanggal_15_Maret_2024__Penuntut_Umum_COK_GEDE_PUTRA_GAUTAMA_SHTerdakwa_Wahyudi_Sofyan_S_sos_bin__alm__Adi_Sukoso.txt\n",
            "SUCCESS: raw_2024_TK1_Putusan_PN_SURABAYA_Nomor_130_Pid_Sus-TPK_2023_PN_Sby_Tanggal_15_Maret_2024__Penuntut_Umum_COK_GEDE_PUTRA_GAUTAMA_SHTerdakwa_Wahyudi_Sofyan_S_sos_bin__alm__Adi_Sukoso.txt -> case_2024_TK1_Putusan_PN_SURABAYA_Nomor_130_Pid_Sus-TPK_2023_PN_Sby_Tanggal_15_Maret_2024__Penuntut_Umum_COK_GEDE_PUTRA_GAUTAMA_SHTerdakwa_Wahyudi_Sofyan_S_sos_bin__alm__Adi_Sukoso.txt (saved to /data/raw, gdrive/CLEANED, and gdrive/data/raw)\n",
            "[88/114] raw_2024_TK1_Putusan_PN_SURABAYA_Nomor_125_Pid_Sus-TPK_2023_PN_Sby_Tanggal_15_Maret_2024__Penuntut_Umum_YUSUFI_FITROHANSYAH__S_H_Terdakwa_JOKO_PURNOMO_BIN_Alm__SUDARMO.txt\n"
          ]
        },
        {
          "output_type": "stream",
          "name": "stderr",
          "text": [
            "INFO:text_cleaning:Spacing/character normalization: 1670 characters removed\n",
            "INFO:text_cleaning:Cleaning complete. Final length: 219088 characters (24.9% reduction)\n",
            "INFO:text_cleaning:Cleaned file saved to all three locations: case_2024_TK1_Putusan_PN_SURABAYA_Nomor_125_Pid_Sus-TPK_2023_PN_Sby_Tanggal_15_Maret_2024__Penuntut_Umum_YUSUFI_FITROHANSYAH__S_H_Terdakwa_JOKO_PURNOMO_BIN_Alm__SUDARMO.txt\n",
            "INFO:text_cleaning:Processing file: raw_2024_TK1_Putusan_PN_SURABAYA_Nomor_114_Pid_Sus-TPK_2023_PN_Sby_Tanggal_14_Maret_2024__Penuntut_Umum_UMU_LATHIEFAH__SHTerdakwa_Hj__NGATMISIH__SH__M__Hum__Binti__Alm__Wakiran.txt\n",
            "INFO:text_cleaning:Starting cleaning. Original length: 1316720 characters\n"
          ]
        },
        {
          "output_type": "stream",
          "name": "stdout",
          "text": [
            "SUCCESS: raw_2024_TK1_Putusan_PN_SURABAYA_Nomor_125_Pid_Sus-TPK_2023_PN_Sby_Tanggal_15_Maret_2024__Penuntut_Umum_YUSUFI_FITROHANSYAH__S_H_Terdakwa_JOKO_PURNOMO_BIN_Alm__SUDARMO.txt -> case_2024_TK1_Putusan_PN_SURABAYA_Nomor_125_Pid_Sus-TPK_2023_PN_Sby_Tanggal_15_Maret_2024__Penuntut_Umum_YUSUFI_FITROHANSYAH__S_H_Terdakwa_JOKO_PURNOMO_BIN_Alm__SUDARMO.txt (saved to /data/raw, gdrive/CLEANED, and gdrive/data/raw)\n",
            "[89/114] raw_2024_TK1_Putusan_PN_SURABAYA_Nomor_114_Pid_Sus-TPK_2023_PN_Sby_Tanggal_14_Maret_2024__Penuntut_Umum_UMU_LATHIEFAH__SHTerdakwa_Hj__NGATMISIH__SH__M__Hum__Binti__Alm__Wakiran.txt\n"
          ]
        },
        {
          "output_type": "stream",
          "name": "stderr",
          "text": [
            "INFO:text_cleaning:Headers/footers/watermarks removed: 323985 characters\n",
            "INFO:text_cleaning:Text converted to lowercase\n",
            "INFO:text_cleaning:Spacing/character normalization: 18640 characters removed\n",
            "INFO:text_cleaning:Cleaning complete. Final length: 974094 characters (26.0% reduction)\n",
            "INFO:text_cleaning:Cleaned file saved to all three locations: case_2024_TK1_Putusan_PN_SURABAYA_Nomor_114_Pid_Sus-TPK_2023_PN_Sby_Tanggal_14_Maret_2024__Penuntut_Umum_UMU_LATHIEFAH__SHTerdakwa_Hj__NGATMISIH__SH__M__Hum__Binti__Alm__Wakiran.txt\n",
            "INFO:text_cleaning:Processing file: raw_2024_TK1_Putusan_PN_SURABAYA_Nomor_135_Pid_Sus-TPK_2023_PN_Sby_Tanggal_8_Maret_2024__Penuntut_Umum_AGUS_KURNIAWAN__SH___MHTerdakwa_BAMBANG_RISDIANTO.txt\n",
            "INFO:text_cleaning:Starting cleaning. Original length: 1205525 characters\n"
          ]
        },
        {
          "output_type": "stream",
          "name": "stdout",
          "text": [
            "SUCCESS: raw_2024_TK1_Putusan_PN_SURABAYA_Nomor_114_Pid_Sus-TPK_2023_PN_Sby_Tanggal_14_Maret_2024__Penuntut_Umum_UMU_LATHIEFAH__SHTerdakwa_Hj__NGATMISIH__SH__M__Hum__Binti__Alm__Wakiran.txt -> case_2024_TK1_Putusan_PN_SURABAYA_Nomor_114_Pid_Sus-TPK_2023_PN_Sby_Tanggal_14_Maret_2024__Penuntut_Umum_UMU_LATHIEFAH__SHTerdakwa_Hj__NGATMISIH__SH__M__Hum__Binti__Alm__Wakiran.txt (saved to /data/raw, gdrive/CLEANED, and gdrive/data/raw)\n",
            "[90/114] raw_2024_TK1_Putusan_PN_SURABAYA_Nomor_135_Pid_Sus-TPK_2023_PN_Sby_Tanggal_8_Maret_2024__Penuntut_Umum_AGUS_KURNIAWAN__SH___MHTerdakwa_BAMBANG_RISDIANTO.txt\n"
          ]
        },
        {
          "output_type": "stream",
          "name": "stderr",
          "text": [
            "INFO:text_cleaning:Headers/footers/watermarks removed: 305010 characters\n",
            "INFO:text_cleaning:Text converted to lowercase\n",
            "INFO:text_cleaning:Spacing/character normalization: 7180 characters removed\n",
            "INFO:text_cleaning:Cleaning complete. Final length: 893334 characters (25.9% reduction)\n",
            "INFO:text_cleaning:Cleaned file saved to all three locations: case_2024_TK1_Putusan_PN_SURABAYA_Nomor_135_Pid_Sus-TPK_2023_PN_Sby_Tanggal_8_Maret_2024__Penuntut_Umum_AGUS_KURNIAWAN__SH___MHTerdakwa_BAMBANG_RISDIANTO.txt\n",
            "INFO:text_cleaning:Processing file: raw_2024_TK1_Putusan_PN_SURABAYA_Nomor_2_Pid_Sus-TPK_2024_PN_Sby_Tanggal_6_Maret_2024__Penuntut_Umum_GARUDA_CAKTI_VIRA_TAMA__SH_Terdakwa_KAMDI_BIN_SUGITO_PONIJAN.txt\n",
            "INFO:text_cleaning:Starting cleaning. Original length: 637163 characters\n",
            "INFO:text_cleaning:Headers/footers/watermarks removed: 156476 characters\n",
            "INFO:text_cleaning:Text converted to lowercase\n"
          ]
        },
        {
          "output_type": "stream",
          "name": "stdout",
          "text": [
            "SUCCESS: raw_2024_TK1_Putusan_PN_SURABAYA_Nomor_135_Pid_Sus-TPK_2023_PN_Sby_Tanggal_8_Maret_2024__Penuntut_Umum_AGUS_KURNIAWAN__SH___MHTerdakwa_BAMBANG_RISDIANTO.txt -> case_2024_TK1_Putusan_PN_SURABAYA_Nomor_135_Pid_Sus-TPK_2023_PN_Sby_Tanggal_8_Maret_2024__Penuntut_Umum_AGUS_KURNIAWAN__SH___MHTerdakwa_BAMBANG_RISDIANTO.txt (saved to /data/raw, gdrive/CLEANED, and gdrive/data/raw)\n",
            "[91/114] raw_2024_TK1_Putusan_PN_SURABAYA_Nomor_2_Pid_Sus-TPK_2024_PN_Sby_Tanggal_6_Maret_2024__Penuntut_Umum_GARUDA_CAKTI_VIRA_TAMA__SH_Terdakwa_KAMDI_BIN_SUGITO_PONIJAN.txt\n"
          ]
        },
        {
          "output_type": "stream",
          "name": "stderr",
          "text": [
            "INFO:text_cleaning:Spacing/character normalization: 3316 characters removed\n",
            "INFO:text_cleaning:Cleaning complete. Final length: 477370 characters (25.1% reduction)\n",
            "INFO:text_cleaning:Cleaned file saved to all three locations: case_2024_TK1_Putusan_PN_SURABAYA_Nomor_2_Pid_Sus-TPK_2024_PN_Sby_Tanggal_6_Maret_2024__Penuntut_Umum_GARUDA_CAKTI_VIRA_TAMA__SH_Terdakwa_KAMDI_BIN_SUGITO_PONIJAN.txt\n",
            "INFO:text_cleaning:Processing file: raw_2024_TK1_Putusan_PN_SURABAYA_Nomor_119_Pid_Sus-TPK_2023_PN_Sby_Tanggal_5_Maret_2024__Penuntut_Umum_NUR_RACHMANSYAH__S_H__M_H_Terdakwa_Drs__Wonggo_Prayitno__MM_.txt\n",
            "INFO:text_cleaning:Starting cleaning. Original length: 661283 characters\n",
            "INFO:text_cleaning:Headers/footers/watermarks removed: 140307 characters\n",
            "INFO:text_cleaning:Text converted to lowercase\n"
          ]
        },
        {
          "output_type": "stream",
          "name": "stdout",
          "text": [
            "SUCCESS: raw_2024_TK1_Putusan_PN_SURABAYA_Nomor_2_Pid_Sus-TPK_2024_PN_Sby_Tanggal_6_Maret_2024__Penuntut_Umum_GARUDA_CAKTI_VIRA_TAMA__SH_Terdakwa_KAMDI_BIN_SUGITO_PONIJAN.txt -> case_2024_TK1_Putusan_PN_SURABAYA_Nomor_2_Pid_Sus-TPK_2024_PN_Sby_Tanggal_6_Maret_2024__Penuntut_Umum_GARUDA_CAKTI_VIRA_TAMA__SH_Terdakwa_KAMDI_BIN_SUGITO_PONIJAN.txt (saved to /data/raw, gdrive/CLEANED, and gdrive/data/raw)\n",
            "[92/114] raw_2024_TK1_Putusan_PN_SURABAYA_Nomor_119_Pid_Sus-TPK_2023_PN_Sby_Tanggal_5_Maret_2024__Penuntut_Umum_NUR_RACHMANSYAH__S_H__M_H_Terdakwa_Drs__Wonggo_Prayitno__MM_.txt\n"
          ]
        },
        {
          "output_type": "stream",
          "name": "stderr",
          "text": [
            "INFO:text_cleaning:Spacing/character normalization: 3414 characters removed\n",
            "INFO:text_cleaning:Cleaning complete. Final length: 517561 characters (21.7% reduction)\n",
            "INFO:text_cleaning:Cleaned file saved to all three locations: case_2024_TK1_Putusan_PN_SURABAYA_Nomor_119_Pid_Sus-TPK_2023_PN_Sby_Tanggal_5_Maret_2024__Penuntut_Umum_NUR_RACHMANSYAH__S_H__M_H_Terdakwa_Drs__Wonggo_Prayitno__MM_.txt\n",
            "INFO:text_cleaning:Processing file: raw_2024_TK1_Putusan_PN_SURABAYA_Nomor_113_Pid_Sus-TPK_2023_PN_Sby_Tanggal_5_Maret_2024__Penuntut_Umum_NUR_RACHMANSYAH__S_H___M_H_Terdakwa_SUMITRO_SITORUS__SE_.txt\n",
            "INFO:text_cleaning:Starting cleaning. Original length: 1129722 characters\n"
          ]
        },
        {
          "output_type": "stream",
          "name": "stdout",
          "text": [
            "SUCCESS: raw_2024_TK1_Putusan_PN_SURABAYA_Nomor_119_Pid_Sus-TPK_2023_PN_Sby_Tanggal_5_Maret_2024__Penuntut_Umum_NUR_RACHMANSYAH__S_H__M_H_Terdakwa_Drs__Wonggo_Prayitno__MM_.txt -> case_2024_TK1_Putusan_PN_SURABAYA_Nomor_119_Pid_Sus-TPK_2023_PN_Sby_Tanggal_5_Maret_2024__Penuntut_Umum_NUR_RACHMANSYAH__S_H__M_H_Terdakwa_Drs__Wonggo_Prayitno__MM_.txt (saved to /data/raw, gdrive/CLEANED, and gdrive/data/raw)\n",
            "[93/114] raw_2024_TK1_Putusan_PN_SURABAYA_Nomor_113_Pid_Sus-TPK_2023_PN_Sby_Tanggal_5_Maret_2024__Penuntut_Umum_NUR_RACHMANSYAH__S_H___M_H_Terdakwa_SUMITRO_SITORUS__SE_.txt\n"
          ]
        },
        {
          "output_type": "stream",
          "name": "stderr",
          "text": [
            "INFO:text_cleaning:Headers/footers/watermarks removed: 245808 characters\n",
            "INFO:text_cleaning:Text converted to lowercase\n",
            "INFO:text_cleaning:Spacing/character normalization: 8058 characters removed\n",
            "INFO:text_cleaning:Cleaning complete. Final length: 875855 characters (22.5% reduction)\n",
            "INFO:text_cleaning:Cleaned file saved to all three locations: case_2024_TK1_Putusan_PN_SURABAYA_Nomor_113_Pid_Sus-TPK_2023_PN_Sby_Tanggal_5_Maret_2024__Penuntut_Umum_NUR_RACHMANSYAH__S_H___M_H_Terdakwa_SUMITRO_SITORUS__SE_.txt\n",
            "INFO:text_cleaning:Processing file: raw_2024_TK1_Putusan_PN_SURABAYA_Nomor_143_Pid_Sus-TPK_2023_PN_Sby_Tanggal_5_Maret_2024__Penuntut_Umum_NUR_RACHMANSYAH__S_H__M_H_Terdakwa_LIAUW_INGGARWATI.txt\n",
            "INFO:text_cleaning:Starting cleaning. Original length: 691180 characters\n",
            "INFO:text_cleaning:Headers/footers/watermarks removed: 145652 characters\n",
            "INFO:text_cleaning:Text converted to lowercase\n"
          ]
        },
        {
          "output_type": "stream",
          "name": "stdout",
          "text": [
            "SUCCESS: raw_2024_TK1_Putusan_PN_SURABAYA_Nomor_113_Pid_Sus-TPK_2023_PN_Sby_Tanggal_5_Maret_2024__Penuntut_Umum_NUR_RACHMANSYAH__S_H___M_H_Terdakwa_SUMITRO_SITORUS__SE_.txt -> case_2024_TK1_Putusan_PN_SURABAYA_Nomor_113_Pid_Sus-TPK_2023_PN_Sby_Tanggal_5_Maret_2024__Penuntut_Umum_NUR_RACHMANSYAH__S_H___M_H_Terdakwa_SUMITRO_SITORUS__SE_.txt (saved to /data/raw, gdrive/CLEANED, and gdrive/data/raw)\n",
            "[94/114] raw_2024_TK1_Putusan_PN_SURABAYA_Nomor_143_Pid_Sus-TPK_2023_PN_Sby_Tanggal_5_Maret_2024__Penuntut_Umum_NUR_RACHMANSYAH__S_H__M_H_Terdakwa_LIAUW_INGGARWATI.txt\n"
          ]
        },
        {
          "output_type": "stream",
          "name": "stderr",
          "text": [
            "INFO:text_cleaning:Spacing/character normalization: 3572 characters removed\n",
            "INFO:text_cleaning:Cleaning complete. Final length: 541955 characters (21.6% reduction)\n",
            "INFO:text_cleaning:Cleaned file saved to all three locations: case_2024_TK1_Putusan_PN_SURABAYA_Nomor_143_Pid_Sus-TPK_2023_PN_Sby_Tanggal_5_Maret_2024__Penuntut_Umum_NUR_RACHMANSYAH__S_H__M_H_Terdakwa_LIAUW_INGGARWATI.txt\n",
            "INFO:text_cleaning:Processing file: raw_2024_TK1_Putusan_PN_SURABAYA_Nomor_120_Pid_Sus-TPK_2023_PN_Sby_Tanggal_5_Maret_2024__Penuntut_Umum_NUR_RACHMANSYAH__S_H__M_H_Terdakwa_ARYA_LELANA_BIN_IMAM_SOEPARDI.txt\n",
            "INFO:text_cleaning:Starting cleaning. Original length: 661042 characters\n",
            "INFO:text_cleaning:Headers/footers/watermarks removed: 140307 characters\n",
            "INFO:text_cleaning:Text converted to lowercase\n"
          ]
        },
        {
          "output_type": "stream",
          "name": "stdout",
          "text": [
            "SUCCESS: raw_2024_TK1_Putusan_PN_SURABAYA_Nomor_143_Pid_Sus-TPK_2023_PN_Sby_Tanggal_5_Maret_2024__Penuntut_Umum_NUR_RACHMANSYAH__S_H__M_H_Terdakwa_LIAUW_INGGARWATI.txt -> case_2024_TK1_Putusan_PN_SURABAYA_Nomor_143_Pid_Sus-TPK_2023_PN_Sby_Tanggal_5_Maret_2024__Penuntut_Umum_NUR_RACHMANSYAH__S_H__M_H_Terdakwa_LIAUW_INGGARWATI.txt (saved to /data/raw, gdrive/CLEANED, and gdrive/data/raw)\n",
            "[95/114] raw_2024_TK1_Putusan_PN_SURABAYA_Nomor_120_Pid_Sus-TPK_2023_PN_Sby_Tanggal_5_Maret_2024__Penuntut_Umum_NUR_RACHMANSYAH__S_H__M_H_Terdakwa_ARYA_LELANA_BIN_IMAM_SOEPARDI.txt\n"
          ]
        },
        {
          "output_type": "stream",
          "name": "stderr",
          "text": [
            "INFO:text_cleaning:Spacing/character normalization: 3288 characters removed\n",
            "INFO:text_cleaning:Cleaning complete. Final length: 517446 characters (21.7% reduction)\n",
            "INFO:text_cleaning:Cleaned file saved to all three locations: case_2024_TK1_Putusan_PN_SURABAYA_Nomor_120_Pid_Sus-TPK_2023_PN_Sby_Tanggal_5_Maret_2024__Penuntut_Umum_NUR_RACHMANSYAH__S_H__M_H_Terdakwa_ARYA_LELANA_BIN_IMAM_SOEPARDI.txt\n",
            "INFO:text_cleaning:Processing file: raw_2024_TK1_Putusan_PN_SURABAYA_Nomor_142_Pid_Sus-TPK_2023_PN_Sby_Tanggal_5_Maret_2024__Penuntut_Umum_NUR_RACHMANSYAH__S_H___M_H_Terdakwa_LIEM_SUSILOWATI.txt\n",
            "INFO:text_cleaning:Starting cleaning. Original length: 693291 characters\n",
            "INFO:text_cleaning:Headers/footers/watermarks removed: 146411 characters\n",
            "INFO:text_cleaning:Text converted to lowercase\n"
          ]
        },
        {
          "output_type": "stream",
          "name": "stdout",
          "text": [
            "SUCCESS: raw_2024_TK1_Putusan_PN_SURABAYA_Nomor_120_Pid_Sus-TPK_2023_PN_Sby_Tanggal_5_Maret_2024__Penuntut_Umum_NUR_RACHMANSYAH__S_H__M_H_Terdakwa_ARYA_LELANA_BIN_IMAM_SOEPARDI.txt -> case_2024_TK1_Putusan_PN_SURABAYA_Nomor_120_Pid_Sus-TPK_2023_PN_Sby_Tanggal_5_Maret_2024__Penuntut_Umum_NUR_RACHMANSYAH__S_H__M_H_Terdakwa_ARYA_LELANA_BIN_IMAM_SOEPARDI.txt (saved to /data/raw, gdrive/CLEANED, and gdrive/data/raw)\n",
            "[96/114] raw_2024_TK1_Putusan_PN_SURABAYA_Nomor_142_Pid_Sus-TPK_2023_PN_Sby_Tanggal_5_Maret_2024__Penuntut_Umum_NUR_RACHMANSYAH__S_H___M_H_Terdakwa_LIEM_SUSILOWATI.txt\n"
          ]
        },
        {
          "output_type": "stream",
          "name": "stderr",
          "text": [
            "INFO:text_cleaning:Spacing/character normalization: 3541 characters removed\n",
            "INFO:text_cleaning:Cleaning complete. Final length: 543338 characters (21.6% reduction)\n",
            "INFO:text_cleaning:Cleaned file saved to all three locations: case_2024_TK1_Putusan_PN_SURABAYA_Nomor_142_Pid_Sus-TPK_2023_PN_Sby_Tanggal_5_Maret_2024__Penuntut_Umum_NUR_RACHMANSYAH__S_H___M_H_Terdakwa_LIEM_SUSILOWATI.txt\n",
            "INFO:text_cleaning:Processing file: raw_2024_TK1_Putusan_PN_SURABAYA_Nomor_134_Pid_Sus-TPK_2023_PN_Sby_Tanggal_27_Februari_2024__Penuntut_Umum_AGUS_KURNIAWAN__SH___MHTerdakwa_CATUR_SETYA_YUANA__SE.txt\n",
            "INFO:text_cleaning:Starting cleaning. Original length: 447458 characters\n",
            "INFO:text_cleaning:Headers/footers/watermarks removed: 116249 characters\n",
            "INFO:text_cleaning:Text converted to lowercase\n"
          ]
        },
        {
          "output_type": "stream",
          "name": "stdout",
          "text": [
            "SUCCESS: raw_2024_TK1_Putusan_PN_SURABAYA_Nomor_142_Pid_Sus-TPK_2023_PN_Sby_Tanggal_5_Maret_2024__Penuntut_Umum_NUR_RACHMANSYAH__S_H___M_H_Terdakwa_LIEM_SUSILOWATI.txt -> case_2024_TK1_Putusan_PN_SURABAYA_Nomor_142_Pid_Sus-TPK_2023_PN_Sby_Tanggal_5_Maret_2024__Penuntut_Umum_NUR_RACHMANSYAH__S_H___M_H_Terdakwa_LIEM_SUSILOWATI.txt (saved to /data/raw, gdrive/CLEANED, and gdrive/data/raw)\n",
            "[97/114] raw_2024_TK1_Putusan_PN_SURABAYA_Nomor_134_Pid_Sus-TPK_2023_PN_Sby_Tanggal_27_Februari_2024__Penuntut_Umum_AGUS_KURNIAWAN__SH___MHTerdakwa_CATUR_SETYA_YUANA__SE.txt\n"
          ]
        },
        {
          "output_type": "stream",
          "name": "stderr",
          "text": [
            "INFO:text_cleaning:Spacing/character normalization: 3115 characters removed\n",
            "INFO:text_cleaning:Cleaning complete. Final length: 328093 characters (26.7% reduction)\n",
            "INFO:text_cleaning:Cleaned file saved to all three locations: case_2024_TK1_Putusan_PN_SURABAYA_Nomor_134_Pid_Sus-TPK_2023_PN_Sby_Tanggal_27_Februari_2024__Penuntut_Umum_AGUS_KURNIAWAN__SH___MHTerdakwa_CATUR_SETYA_YUANA__SE.txt\n",
            "INFO:text_cleaning:Processing file: raw_2024_TK1_Putusan_PN_SURABAYA_Nomor_107_Pid_Sus-TPK_2023_PN_Sby_Tanggal_23_Februari_2024__Penuntut_Umum_SLAMET_PUJIONO__SHTerdakwa_H__AKHMAD_ZAINAL__S_Sos_.txt\n",
            "INFO:text_cleaning:Starting cleaning. Original length: 821998 characters\n"
          ]
        },
        {
          "output_type": "stream",
          "name": "stdout",
          "text": [
            "SUCCESS: raw_2024_TK1_Putusan_PN_SURABAYA_Nomor_134_Pid_Sus-TPK_2023_PN_Sby_Tanggal_27_Februari_2024__Penuntut_Umum_AGUS_KURNIAWAN__SH___MHTerdakwa_CATUR_SETYA_YUANA__SE.txt -> case_2024_TK1_Putusan_PN_SURABAYA_Nomor_134_Pid_Sus-TPK_2023_PN_Sby_Tanggal_27_Februari_2024__Penuntut_Umum_AGUS_KURNIAWAN__SH___MHTerdakwa_CATUR_SETYA_YUANA__SE.txt (saved to /data/raw, gdrive/CLEANED, and gdrive/data/raw)\n",
            "[98/114] raw_2024_TK1_Putusan_PN_SURABAYA_Nomor_107_Pid_Sus-TPK_2023_PN_Sby_Tanggal_23_Februari_2024__Penuntut_Umum_SLAMET_PUJIONO__SHTerdakwa_H__AKHMAD_ZAINAL__S_Sos_.txt\n"
          ]
        },
        {
          "output_type": "stream",
          "name": "stderr",
          "text": [
            "INFO:text_cleaning:Headers/footers/watermarks removed: 196473 characters\n",
            "INFO:text_cleaning:Text converted to lowercase\n",
            "INFO:text_cleaning:Spacing/character normalization: 4040 characters removed\n",
            "INFO:text_cleaning:Cleaning complete. Final length: 621484 characters (24.4% reduction)\n",
            "INFO:text_cleaning:Cleaned file saved to all three locations: case_2024_TK1_Putusan_PN_SURABAYA_Nomor_107_Pid_Sus-TPK_2023_PN_Sby_Tanggal_23_Februari_2024__Penuntut_Umum_SLAMET_PUJIONO__SHTerdakwa_H__AKHMAD_ZAINAL__S_Sos_.txt\n",
            "INFO:text_cleaning:Processing file: raw_2024_TK1_Putusan_PN_SURABAYA_Nomor_124_Pid_Sus-TPK_2023_PN_Sby_Tanggal_23_Februari_2024__Penuntut_Umum_NUR_RACHMANSYAH__S_H___M_H_Terdakwa_CHRISTOPHER_O_DEWABRATA.txt\n",
            "INFO:text_cleaning:Starting cleaning. Original length: 1020409 characters\n"
          ]
        },
        {
          "output_type": "stream",
          "name": "stdout",
          "text": [
            "SUCCESS: raw_2024_TK1_Putusan_PN_SURABAYA_Nomor_107_Pid_Sus-TPK_2023_PN_Sby_Tanggal_23_Februari_2024__Penuntut_Umum_SLAMET_PUJIONO__SHTerdakwa_H__AKHMAD_ZAINAL__S_Sos_.txt -> case_2024_TK1_Putusan_PN_SURABAYA_Nomor_107_Pid_Sus-TPK_2023_PN_Sby_Tanggal_23_Februari_2024__Penuntut_Umum_SLAMET_PUJIONO__SHTerdakwa_H__AKHMAD_ZAINAL__S_Sos_.txt (saved to /data/raw, gdrive/CLEANED, and gdrive/data/raw)\n",
            "[99/114] raw_2024_TK1_Putusan_PN_SURABAYA_Nomor_124_Pid_Sus-TPK_2023_PN_Sby_Tanggal_23_Februari_2024__Penuntut_Umum_NUR_RACHMANSYAH__S_H___M_H_Terdakwa_CHRISTOPHER_O_DEWABRATA.txt\n"
          ]
        },
        {
          "output_type": "stream",
          "name": "stderr",
          "text": [
            "INFO:text_cleaning:Headers/footers/watermarks removed: 259470 characters\n",
            "INFO:text_cleaning:Text converted to lowercase\n",
            "INFO:text_cleaning:Spacing/character normalization: 9766 characters removed\n",
            "INFO:text_cleaning:Cleaning complete. Final length: 751172 characters (26.4% reduction)\n",
            "INFO:text_cleaning:Cleaned file saved to all three locations: case_2024_TK1_Putusan_PN_SURABAYA_Nomor_124_Pid_Sus-TPK_2023_PN_Sby_Tanggal_23_Februari_2024__Penuntut_Umum_NUR_RACHMANSYAH__S_H___M_H_Terdakwa_CHRISTOPHER_O_DEWABRATA.txt\n",
            "INFO:text_cleaning:Processing file: raw_2024_TK1_Putusan_PN_SURABAYA_Nomor_126_Pid_Sus-TPK_2023_PN_Sby_Tanggal_20_Februari_2024__Penuntut_Umum_TARJONO_SHTerdakwa_YUDI_PURNOMO.txt\n",
            "INFO:text_cleaning:Starting cleaning. Original length: 1149456 characters\n"
          ]
        },
        {
          "output_type": "stream",
          "name": "stdout",
          "text": [
            "SUCCESS: raw_2024_TK1_Putusan_PN_SURABAYA_Nomor_124_Pid_Sus-TPK_2023_PN_Sby_Tanggal_23_Februari_2024__Penuntut_Umum_NUR_RACHMANSYAH__S_H___M_H_Terdakwa_CHRISTOPHER_O_DEWABRATA.txt -> case_2024_TK1_Putusan_PN_SURABAYA_Nomor_124_Pid_Sus-TPK_2023_PN_Sby_Tanggal_23_Februari_2024__Penuntut_Umum_NUR_RACHMANSYAH__S_H___M_H_Terdakwa_CHRISTOPHER_O_DEWABRATA.txt (saved to /data/raw, gdrive/CLEANED, and gdrive/data/raw)\n",
            "[100/114] raw_2024_TK1_Putusan_PN_SURABAYA_Nomor_126_Pid_Sus-TPK_2023_PN_Sby_Tanggal_20_Februari_2024__Penuntut_Umum_TARJONO_SHTerdakwa_YUDI_PURNOMO.txt\n"
          ]
        },
        {
          "output_type": "stream",
          "name": "stderr",
          "text": [
            "INFO:text_cleaning:Headers/footers/watermarks removed: 288603 characters\n",
            "INFO:text_cleaning:Text converted to lowercase\n",
            "INFO:text_cleaning:Spacing/character normalization: 35248 characters removed\n",
            "INFO:text_cleaning:Cleaning complete. Final length: 825604 characters (28.2% reduction)\n",
            "INFO:text_cleaning:Cleaned file saved to all three locations: case_2024_TK1_Putusan_PN_SURABAYA_Nomor_126_Pid_Sus-TPK_2023_PN_Sby_Tanggal_20_Februari_2024__Penuntut_Umum_TARJONO_SHTerdakwa_YUDI_PURNOMO.txt\n",
            "INFO:text_cleaning:Processing file: raw_2024_TK1_Putusan_PN_SURABAYA_Nomor_103_Pid_Sus-TPK_2023_PN_Sby_Tanggal_19_Februari_2024__Penuntut_Umum_Nur_Ngali_SH_MHTerdakwa_CATUR_ANDRIANTO.txt\n",
            "INFO:text_cleaning:Starting cleaning. Original length: 532933 characters\n",
            "INFO:text_cleaning:Headers/footers/watermarks removed: 154825 characters\n",
            "INFO:text_cleaning:Text converted to lowercase\n"
          ]
        },
        {
          "output_type": "stream",
          "name": "stdout",
          "text": [
            "SUCCESS: raw_2024_TK1_Putusan_PN_SURABAYA_Nomor_126_Pid_Sus-TPK_2023_PN_Sby_Tanggal_20_Februari_2024__Penuntut_Umum_TARJONO_SHTerdakwa_YUDI_PURNOMO.txt -> case_2024_TK1_Putusan_PN_SURABAYA_Nomor_126_Pid_Sus-TPK_2023_PN_Sby_Tanggal_20_Februari_2024__Penuntut_Umum_TARJONO_SHTerdakwa_YUDI_PURNOMO.txt (saved to /data/raw, gdrive/CLEANED, and gdrive/data/raw)\n",
            "[101/114] raw_2024_TK1_Putusan_PN_SURABAYA_Nomor_103_Pid_Sus-TPK_2023_PN_Sby_Tanggal_19_Februari_2024__Penuntut_Umum_Nur_Ngali_SH_MHTerdakwa_CATUR_ANDRIANTO.txt\n"
          ]
        },
        {
          "output_type": "stream",
          "name": "stderr",
          "text": [
            "INFO:text_cleaning:Spacing/character normalization: 3384 characters removed\n",
            "INFO:text_cleaning:Cleaning complete. Final length: 374723 characters (29.7% reduction)\n",
            "INFO:text_cleaning:Cleaned file saved to all three locations: case_2024_TK1_Putusan_PN_SURABAYA_Nomor_103_Pid_Sus-TPK_2023_PN_Sby_Tanggal_19_Februari_2024__Penuntut_Umum_Nur_Ngali_SH_MHTerdakwa_CATUR_ANDRIANTO.txt\n",
            "INFO:text_cleaning:Processing file: raw_2024_TK1_Putusan_PN_SURABAYA_Nomor_101_Pid_Sus-TPK_2023_PN_Sby_Tanggal_19_Februari_2024__Penuntut_Umum_Nur_Ngali_SH_MHTerdakwa_EDDY_SUSANTO.txt\n",
            "INFO:text_cleaning:Starting cleaning. Original length: 376061 characters\n",
            "INFO:text_cleaning:Headers/footers/watermarks removed: 88680 characters\n",
            "INFO:text_cleaning:Text converted to lowercase\n"
          ]
        },
        {
          "output_type": "stream",
          "name": "stdout",
          "text": [
            "SUCCESS: raw_2024_TK1_Putusan_PN_SURABAYA_Nomor_103_Pid_Sus-TPK_2023_PN_Sby_Tanggal_19_Februari_2024__Penuntut_Umum_Nur_Ngali_SH_MHTerdakwa_CATUR_ANDRIANTO.txt -> case_2024_TK1_Putusan_PN_SURABAYA_Nomor_103_Pid_Sus-TPK_2023_PN_Sby_Tanggal_19_Februari_2024__Penuntut_Umum_Nur_Ngali_SH_MHTerdakwa_CATUR_ANDRIANTO.txt (saved to /data/raw, gdrive/CLEANED, and gdrive/data/raw)\n",
            "[102/114] raw_2024_TK1_Putusan_PN_SURABAYA_Nomor_101_Pid_Sus-TPK_2023_PN_Sby_Tanggal_19_Februari_2024__Penuntut_Umum_Nur_Ngali_SH_MHTerdakwa_EDDY_SUSANTO.txt\n"
          ]
        },
        {
          "output_type": "stream",
          "name": "stderr",
          "text": [
            "INFO:text_cleaning:Spacing/character normalization: 13142 characters removed\n",
            "INFO:text_cleaning:Cleaning complete. Final length: 274238 characters (27.1% reduction)\n",
            "INFO:text_cleaning:Cleaned file saved to all three locations: case_2024_TK1_Putusan_PN_SURABAYA_Nomor_101_Pid_Sus-TPK_2023_PN_Sby_Tanggal_19_Februari_2024__Penuntut_Umum_Nur_Ngali_SH_MHTerdakwa_EDDY_SUSANTO.txt\n",
            "INFO:text_cleaning:Processing file: raw_2024_TK1_Putusan_PN_SURABAYA_Nomor_102_Pid_Sus-TPK_2023_PN_Sby_Tanggal_19_Februari_2024__Penuntut_Umum_Nur_Ngali_SH_MHTerdakwa_YEMI_SETIAWAN.txt\n",
            "INFO:text_cleaning:Starting cleaning. Original length: 526232 characters\n",
            "INFO:text_cleaning:Headers/footers/watermarks removed: 120457 characters\n",
            "INFO:text_cleaning:Text converted to lowercase\n"
          ]
        },
        {
          "output_type": "stream",
          "name": "stdout",
          "text": [
            "SUCCESS: raw_2024_TK1_Putusan_PN_SURABAYA_Nomor_101_Pid_Sus-TPK_2023_PN_Sby_Tanggal_19_Februari_2024__Penuntut_Umum_Nur_Ngali_SH_MHTerdakwa_EDDY_SUSANTO.txt -> case_2024_TK1_Putusan_PN_SURABAYA_Nomor_101_Pid_Sus-TPK_2023_PN_Sby_Tanggal_19_Februari_2024__Penuntut_Umum_Nur_Ngali_SH_MHTerdakwa_EDDY_SUSANTO.txt (saved to /data/raw, gdrive/CLEANED, and gdrive/data/raw)\n",
            "[103/114] raw_2024_TK1_Putusan_PN_SURABAYA_Nomor_102_Pid_Sus-TPK_2023_PN_Sby_Tanggal_19_Februari_2024__Penuntut_Umum_Nur_Ngali_SH_MHTerdakwa_YEMI_SETIAWAN.txt\n"
          ]
        },
        {
          "output_type": "stream",
          "name": "stderr",
          "text": [
            "INFO:text_cleaning:Spacing/character normalization: 17050 characters removed\n",
            "INFO:text_cleaning:Cleaning complete. Final length: 388724 characters (26.1% reduction)\n",
            "INFO:text_cleaning:Cleaned file saved to all three locations: case_2024_TK1_Putusan_PN_SURABAYA_Nomor_102_Pid_Sus-TPK_2023_PN_Sby_Tanggal_19_Februari_2024__Penuntut_Umum_Nur_Ngali_SH_MHTerdakwa_YEMI_SETIAWAN.txt\n",
            "INFO:text_cleaning:Processing file: raw_2024_TK1_Putusan_PN_SURABAYA_Nomor_104_Pid_Sus-TPK_2023_PN_Sby_Tanggal_19_Februari_2024__Penuntut_Umum_Nur_Ngali_SH_MHTerdakwa_ABDUL_MALIK_MUJIONO.txt\n",
            "INFO:text_cleaning:Starting cleaning. Original length: 546596 characters\n"
          ]
        },
        {
          "output_type": "stream",
          "name": "stdout",
          "text": [
            "SUCCESS: raw_2024_TK1_Putusan_PN_SURABAYA_Nomor_102_Pid_Sus-TPK_2023_PN_Sby_Tanggal_19_Februari_2024__Penuntut_Umum_Nur_Ngali_SH_MHTerdakwa_YEMI_SETIAWAN.txt -> case_2024_TK1_Putusan_PN_SURABAYA_Nomor_102_Pid_Sus-TPK_2023_PN_Sby_Tanggal_19_Februari_2024__Penuntut_Umum_Nur_Ngali_SH_MHTerdakwa_YEMI_SETIAWAN.txt (saved to /data/raw, gdrive/CLEANED, and gdrive/data/raw)\n",
            "[104/114] raw_2024_TK1_Putusan_PN_SURABAYA_Nomor_104_Pid_Sus-TPK_2023_PN_Sby_Tanggal_19_Februari_2024__Penuntut_Umum_Nur_Ngali_SH_MHTerdakwa_ABDUL_MALIK_MUJIONO.txt\n"
          ]
        },
        {
          "output_type": "stream",
          "name": "stderr",
          "text": [
            "INFO:text_cleaning:Headers/footers/watermarks removed: 124956 characters\n",
            "INFO:text_cleaning:Text converted to lowercase\n",
            "INFO:text_cleaning:Spacing/character normalization: 2884 characters removed\n",
            "INFO:text_cleaning:Cleaning complete. Final length: 418755 characters (23.4% reduction)\n",
            "INFO:text_cleaning:Cleaned file saved to all three locations: case_2024_TK1_Putusan_PN_SURABAYA_Nomor_104_Pid_Sus-TPK_2023_PN_Sby_Tanggal_19_Februari_2024__Penuntut_Umum_Nur_Ngali_SH_MHTerdakwa_ABDUL_MALIK_MUJIONO.txt\n",
            "INFO:text_cleaning:Processing file: raw_2024_TK1_Putusan_PN_SURABAYA_Nomor_118_Pid_Sus-TPK_2023_PN_Sby_Tanggal_12_Februari_2024__Penuntut_Umum_TRI_SATRIO_WAHYU_MURTHI__SH__MHTerdakwa_AKH_AMIN_Bin_MOH__SYAFI_I.txt\n",
            "INFO:text_cleaning:Starting cleaning. Original length: 637889 characters\n"
          ]
        },
        {
          "output_type": "stream",
          "name": "stdout",
          "text": [
            "SUCCESS: raw_2024_TK1_Putusan_PN_SURABAYA_Nomor_104_Pid_Sus-TPK_2023_PN_Sby_Tanggal_19_Februari_2024__Penuntut_Umum_Nur_Ngali_SH_MHTerdakwa_ABDUL_MALIK_MUJIONO.txt -> case_2024_TK1_Putusan_PN_SURABAYA_Nomor_104_Pid_Sus-TPK_2023_PN_Sby_Tanggal_19_Februari_2024__Penuntut_Umum_Nur_Ngali_SH_MHTerdakwa_ABDUL_MALIK_MUJIONO.txt (saved to /data/raw, gdrive/CLEANED, and gdrive/data/raw)\n",
            "[105/114] raw_2024_TK1_Putusan_PN_SURABAYA_Nomor_118_Pid_Sus-TPK_2023_PN_Sby_Tanggal_12_Februari_2024__Penuntut_Umum_TRI_SATRIO_WAHYU_MURTHI__SH__MHTerdakwa_AKH_AMIN_Bin_MOH__SYAFI_I.txt\n"
          ]
        },
        {
          "output_type": "stream",
          "name": "stderr",
          "text": [
            "INFO:text_cleaning:Headers/footers/watermarks removed: 144105 characters\n",
            "INFO:text_cleaning:Text converted to lowercase\n",
            "INFO:text_cleaning:Spacing/character normalization: 34626 characters removed\n",
            "INFO:text_cleaning:Cleaning complete. Final length: 459157 characters (28.0% reduction)\n",
            "INFO:text_cleaning:Cleaned file saved to all three locations: case_2024_TK1_Putusan_PN_SURABAYA_Nomor_118_Pid_Sus-TPK_2023_PN_Sby_Tanggal_12_Februari_2024__Penuntut_Umum_TRI_SATRIO_WAHYU_MURTHI__SH__MHTerdakwa_AKH_AMIN_Bin_MOH__SYAFI_I.txt\n",
            "INFO:text_cleaning:Processing file: raw_2024_TK1_Putusan_PN_SURABAYA_Nomor_139_Pid_Sus-TPK_2023_PN_Sby_Tanggal_2_Februari_2024__Penuntut_Umum_NARENDRA_PUTRA_SWARDHANA__S_H_M_H_Terdakwa_BAGUS_PRIYO_SEMBODO_Bin_SUYANTO.txt\n",
            "INFO:text_cleaning:Starting cleaning. Original length: 793598 characters\n",
            "INFO:text_cleaning:Headers/footers/watermarks removed: 201008 characters\n",
            "INFO:text_cleaning:Text converted to lowercase\n"
          ]
        },
        {
          "output_type": "stream",
          "name": "stdout",
          "text": [
            "SUCCESS: raw_2024_TK1_Putusan_PN_SURABAYA_Nomor_118_Pid_Sus-TPK_2023_PN_Sby_Tanggal_12_Februari_2024__Penuntut_Umum_TRI_SATRIO_WAHYU_MURTHI__SH__MHTerdakwa_AKH_AMIN_Bin_MOH__SYAFI_I.txt -> case_2024_TK1_Putusan_PN_SURABAYA_Nomor_118_Pid_Sus-TPK_2023_PN_Sby_Tanggal_12_Februari_2024__Penuntut_Umum_TRI_SATRIO_WAHYU_MURTHI__SH__MHTerdakwa_AKH_AMIN_Bin_MOH__SYAFI_I.txt (saved to /data/raw, gdrive/CLEANED, and gdrive/data/raw)\n",
            "[106/114] raw_2024_TK1_Putusan_PN_SURABAYA_Nomor_139_Pid_Sus-TPK_2023_PN_Sby_Tanggal_2_Februari_2024__Penuntut_Umum_NARENDRA_PUTRA_SWARDHANA__S_H_M_H_Terdakwa_BAGUS_PRIYO_SEMBODO_Bin_SUYANTO.txt\n"
          ]
        },
        {
          "output_type": "stream",
          "name": "stderr",
          "text": [
            "INFO:text_cleaning:Spacing/character normalization: 27033 characters removed\n",
            "INFO:text_cleaning:Cleaning complete. Final length: 565556 characters (28.7% reduction)\n",
            "INFO:text_cleaning:Cleaned file saved to all three locations: case_2024_TK1_Putusan_PN_SURABAYA_Nomor_139_Pid_Sus-TPK_2023_PN_Sby_Tanggal_2_Februari_2024__Penuntut_Umum_NARENDRA_PUTRA_SWARDHANA__S_H_M_H_Terdakwa_BAGUS_PRIYO_SEMBODO_Bin_SUYANTO.txt\n",
            "INFO:text_cleaning:Processing file: raw_2024_TK1_Putusan_PN_SURABAYA_Nomor_105_Pid_Sus-TPK_2023_PN_Sby_Tanggal_2_Februari_2024__Penuntut_Umum_DIMAS_RANGGA_AHIMSA__S_H_Terdakwa_AKHMAD_MAKRUS.txt\n",
            "INFO:text_cleaning:Starting cleaning. Original length: 634748 characters\n",
            "INFO:text_cleaning:Headers/footers/watermarks removed: 156668 characters\n",
            "INFO:text_cleaning:Text converted to lowercase\n"
          ]
        },
        {
          "output_type": "stream",
          "name": "stdout",
          "text": [
            "SUCCESS: raw_2024_TK1_Putusan_PN_SURABAYA_Nomor_139_Pid_Sus-TPK_2023_PN_Sby_Tanggal_2_Februari_2024__Penuntut_Umum_NARENDRA_PUTRA_SWARDHANA__S_H_M_H_Terdakwa_BAGUS_PRIYO_SEMBODO_Bin_SUYANTO.txt -> case_2024_TK1_Putusan_PN_SURABAYA_Nomor_139_Pid_Sus-TPK_2023_PN_Sby_Tanggal_2_Februari_2024__Penuntut_Umum_NARENDRA_PUTRA_SWARDHANA__S_H_M_H_Terdakwa_BAGUS_PRIYO_SEMBODO_Bin_SUYANTO.txt (saved to /data/raw, gdrive/CLEANED, and gdrive/data/raw)\n",
            "[107/114] raw_2024_TK1_Putusan_PN_SURABAYA_Nomor_105_Pid_Sus-TPK_2023_PN_Sby_Tanggal_2_Februari_2024__Penuntut_Umum_DIMAS_RANGGA_AHIMSA__S_H_Terdakwa_AKHMAD_MAKRUS.txt\n"
          ]
        },
        {
          "output_type": "stream",
          "name": "stderr",
          "text": [
            "INFO:text_cleaning:Spacing/character normalization: 11650 characters removed\n",
            "INFO:text_cleaning:Cleaning complete. Final length: 466429 characters (26.5% reduction)\n",
            "INFO:text_cleaning:Cleaned file saved to all three locations: case_2024_TK1_Putusan_PN_SURABAYA_Nomor_105_Pid_Sus-TPK_2023_PN_Sby_Tanggal_2_Februari_2024__Penuntut_Umum_DIMAS_RANGGA_AHIMSA__S_H_Terdakwa_AKHMAD_MAKRUS.txt\n",
            "INFO:text_cleaning:Processing file: raw_2024_TK1_Putusan_PN_SURABAYA_Nomor_96_Pid_Sus-TPK_2023_PN_Sby_Tanggal_2_Februari_2024__Penuntut_Umum_SUHERMAN__S_H_Terdakwa_TJITRO_WIRJO_HERMANTO.txt\n",
            "INFO:text_cleaning:Starting cleaning. Original length: 699981 characters\n",
            "INFO:text_cleaning:Headers/footers/watermarks removed: 172977 characters\n",
            "INFO:text_cleaning:Text converted to lowercase\n"
          ]
        },
        {
          "output_type": "stream",
          "name": "stdout",
          "text": [
            "SUCCESS: raw_2024_TK1_Putusan_PN_SURABAYA_Nomor_105_Pid_Sus-TPK_2023_PN_Sby_Tanggal_2_Februari_2024__Penuntut_Umum_DIMAS_RANGGA_AHIMSA__S_H_Terdakwa_AKHMAD_MAKRUS.txt -> case_2024_TK1_Putusan_PN_SURABAYA_Nomor_105_Pid_Sus-TPK_2023_PN_Sby_Tanggal_2_Februari_2024__Penuntut_Umum_DIMAS_RANGGA_AHIMSA__S_H_Terdakwa_AKHMAD_MAKRUS.txt (saved to /data/raw, gdrive/CLEANED, and gdrive/data/raw)\n",
            "[108/114] raw_2024_TK1_Putusan_PN_SURABAYA_Nomor_96_Pid_Sus-TPK_2023_PN_Sby_Tanggal_2_Februari_2024__Penuntut_Umum_SUHERMAN__S_H_Terdakwa_TJITRO_WIRJO_HERMANTO.txt\n"
          ]
        },
        {
          "output_type": "stream",
          "name": "stderr",
          "text": [
            "INFO:text_cleaning:Spacing/character normalization: 3679 characters removed\n",
            "INFO:text_cleaning:Cleaning complete. Final length: 523324 characters (25.2% reduction)\n",
            "INFO:text_cleaning:Cleaned file saved to all three locations: case_2024_TK1_Putusan_PN_SURABAYA_Nomor_96_Pid_Sus-TPK_2023_PN_Sby_Tanggal_2_Februari_2024__Penuntut_Umum_SUHERMAN__S_H_Terdakwa_TJITRO_WIRJO_HERMANTO.txt\n",
            "INFO:text_cleaning:Processing file: raw_2024_TK1_Putusan_PN_SURABAYA_Nomor_98_Pid_Sus-TPK_2023_PN_Sby_Tanggal_1_Februari_2024__Penuntut_Umum_RENDY_BAHAR_PUTRA__S_H_Terdakwa_RINCANA_YULIADI_Bin_PAIDI.txt\n",
            "INFO:text_cleaning:Starting cleaning. Original length: 938338 characters\n"
          ]
        },
        {
          "output_type": "stream",
          "name": "stdout",
          "text": [
            "SUCCESS: raw_2024_TK1_Putusan_PN_SURABAYA_Nomor_96_Pid_Sus-TPK_2023_PN_Sby_Tanggal_2_Februari_2024__Penuntut_Umum_SUHERMAN__S_H_Terdakwa_TJITRO_WIRJO_HERMANTO.txt -> case_2024_TK1_Putusan_PN_SURABAYA_Nomor_96_Pid_Sus-TPK_2023_PN_Sby_Tanggal_2_Februari_2024__Penuntut_Umum_SUHERMAN__S_H_Terdakwa_TJITRO_WIRJO_HERMANTO.txt (saved to /data/raw, gdrive/CLEANED, and gdrive/data/raw)\n",
            "[109/114] raw_2024_TK1_Putusan_PN_SURABAYA_Nomor_98_Pid_Sus-TPK_2023_PN_Sby_Tanggal_1_Februari_2024__Penuntut_Umum_RENDY_BAHAR_PUTRA__S_H_Terdakwa_RINCANA_YULIADI_Bin_PAIDI.txt\n"
          ]
        },
        {
          "output_type": "stream",
          "name": "stderr",
          "text": [
            "INFO:text_cleaning:Headers/footers/watermarks removed: 240495 characters\n",
            "INFO:text_cleaning:Text converted to lowercase\n",
            "INFO:text_cleaning:Spacing/character normalization: 15919 characters removed\n",
            "INFO:text_cleaning:Cleaning complete. Final length: 681923 characters (27.3% reduction)\n",
            "INFO:text_cleaning:Cleaned file saved to all three locations: case_2024_TK1_Putusan_PN_SURABAYA_Nomor_98_Pid_Sus-TPK_2023_PN_Sby_Tanggal_1_Februari_2024__Penuntut_Umum_RENDY_BAHAR_PUTRA__S_H_Terdakwa_RINCANA_YULIADI_Bin_PAIDI.txt\n",
            "INFO:text_cleaning:Processing file: raw_2024_TK1_Putusan_PN_SURABAYA_Nomor_97_Pid_Sus-TPK_2023_PN_Sby_Tanggal_1_Februari_2024__Penuntut_Umum_RENDY_BAHAR_PUTRA__S_H_Terdakwa_SUTIKNO_bin_MUDAYAT.txt\n",
            "INFO:text_cleaning:Starting cleaning. Original length: 922860 characters\n"
          ]
        },
        {
          "output_type": "stream",
          "name": "stdout",
          "text": [
            "SUCCESS: raw_2024_TK1_Putusan_PN_SURABAYA_Nomor_98_Pid_Sus-TPK_2023_PN_Sby_Tanggal_1_Februari_2024__Penuntut_Umum_RENDY_BAHAR_PUTRA__S_H_Terdakwa_RINCANA_YULIADI_Bin_PAIDI.txt -> case_2024_TK1_Putusan_PN_SURABAYA_Nomor_98_Pid_Sus-TPK_2023_PN_Sby_Tanggal_1_Februari_2024__Penuntut_Umum_RENDY_BAHAR_PUTRA__S_H_Terdakwa_RINCANA_YULIADI_Bin_PAIDI.txt (saved to /data/raw, gdrive/CLEANED, and gdrive/data/raw)\n",
            "[110/114] raw_2024_TK1_Putusan_PN_SURABAYA_Nomor_97_Pid_Sus-TPK_2023_PN_Sby_Tanggal_1_Februari_2024__Penuntut_Umum_RENDY_BAHAR_PUTRA__S_H_Terdakwa_SUTIKNO_bin_MUDAYAT.txt\n"
          ]
        },
        {
          "output_type": "stream",
          "name": "stderr",
          "text": [
            "INFO:text_cleaning:Headers/footers/watermarks removed: 229110 characters\n",
            "INFO:text_cleaning:Text converted to lowercase\n",
            "INFO:text_cleaning:Spacing/character normalization: 15109 characters removed\n",
            "INFO:text_cleaning:Cleaning complete. Final length: 678640 characters (26.5% reduction)\n",
            "INFO:text_cleaning:Cleaned file saved to all three locations: case_2024_TK1_Putusan_PN_SURABAYA_Nomor_97_Pid_Sus-TPK_2023_PN_Sby_Tanggal_1_Februari_2024__Penuntut_Umum_RENDY_BAHAR_PUTRA__S_H_Terdakwa_SUTIKNO_bin_MUDAYAT.txt\n",
            "INFO:text_cleaning:Processing file: raw_2024_TK1_Putusan_PN_SURABAYA_Nomor_111_Pid_Sus-TPK_2023_PN_Sby_Tanggal_30_Januari_2024__Penuntut_Umum_ANTON_WAHYUDI__S_H___MHTerdakwa_MOKHAMAD_ROKIM_Bin__alm__MASDUQI.txt\n",
            "INFO:text_cleaning:Starting cleaning. Original length: 890382 characters\n"
          ]
        },
        {
          "output_type": "stream",
          "name": "stdout",
          "text": [
            "SUCCESS: raw_2024_TK1_Putusan_PN_SURABAYA_Nomor_97_Pid_Sus-TPK_2023_PN_Sby_Tanggal_1_Februari_2024__Penuntut_Umum_RENDY_BAHAR_PUTRA__S_H_Terdakwa_SUTIKNO_bin_MUDAYAT.txt -> case_2024_TK1_Putusan_PN_SURABAYA_Nomor_97_Pid_Sus-TPK_2023_PN_Sby_Tanggal_1_Februari_2024__Penuntut_Umum_RENDY_BAHAR_PUTRA__S_H_Terdakwa_SUTIKNO_bin_MUDAYAT.txt (saved to /data/raw, gdrive/CLEANED, and gdrive/data/raw)\n",
            "[111/114] raw_2024_TK1_Putusan_PN_SURABAYA_Nomor_111_Pid_Sus-TPK_2023_PN_Sby_Tanggal_30_Januari_2024__Penuntut_Umum_ANTON_WAHYUDI__S_H___MHTerdakwa_MOKHAMAD_ROKIM_Bin__alm__MASDUQI.txt\n"
          ]
        },
        {
          "output_type": "stream",
          "name": "stderr",
          "text": [
            "INFO:text_cleaning:Headers/footers/watermarks removed: 202486 characters\n",
            "INFO:text_cleaning:Text converted to lowercase\n",
            "INFO:text_cleaning:Spacing/character normalization: 17587 characters removed\n",
            "INFO:text_cleaning:Cleaning complete. Final length: 670308 characters (24.7% reduction)\n",
            "INFO:text_cleaning:Cleaned file saved to all three locations: case_2024_TK1_Putusan_PN_SURABAYA_Nomor_111_Pid_Sus-TPK_2023_PN_Sby_Tanggal_30_Januari_2024__Penuntut_Umum_ANTON_WAHYUDI__S_H___MHTerdakwa_MOKHAMAD_ROKIM_Bin__alm__MASDUQI.txt\n",
            "INFO:text_cleaning:Processing file: raw_2024_TK1_Putusan_PN_SURABAYA_Nomor_110_Pid_Sus-TPK_2023_PN_Sby_Tanggal_30_Januari_2024__Penuntut_Umum_ANTON_WAHYUDI__S_H___MHTerdakwa_MARIJAN_Bin__alm__MOHAMAD_SULAEMAN.txt\n",
            "INFO:text_cleaning:Starting cleaning. Original length: 929954 characters\n",
            "INFO:text_cleaning:Headers/footers/watermarks removed: 212093 characters\n"
          ]
        },
        {
          "output_type": "stream",
          "name": "stdout",
          "text": [
            "SUCCESS: raw_2024_TK1_Putusan_PN_SURABAYA_Nomor_111_Pid_Sus-TPK_2023_PN_Sby_Tanggal_30_Januari_2024__Penuntut_Umum_ANTON_WAHYUDI__S_H___MHTerdakwa_MOKHAMAD_ROKIM_Bin__alm__MASDUQI.txt -> case_2024_TK1_Putusan_PN_SURABAYA_Nomor_111_Pid_Sus-TPK_2023_PN_Sby_Tanggal_30_Januari_2024__Penuntut_Umum_ANTON_WAHYUDI__S_H___MHTerdakwa_MOKHAMAD_ROKIM_Bin__alm__MASDUQI.txt (saved to /data/raw, gdrive/CLEANED, and gdrive/data/raw)\n",
            "[112/114] raw_2024_TK1_Putusan_PN_SURABAYA_Nomor_110_Pid_Sus-TPK_2023_PN_Sby_Tanggal_30_Januari_2024__Penuntut_Umum_ANTON_WAHYUDI__S_H___MHTerdakwa_MARIJAN_Bin__alm__MOHAMAD_SULAEMAN.txt\n"
          ]
        },
        {
          "output_type": "stream",
          "name": "stderr",
          "text": [
            "INFO:text_cleaning:Text converted to lowercase\n",
            "INFO:text_cleaning:Spacing/character normalization: 18161 characters removed\n",
            "INFO:text_cleaning:Cleaning complete. Final length: 699699 characters (24.8% reduction)\n",
            "INFO:text_cleaning:Cleaned file saved to all three locations: case_2024_TK1_Putusan_PN_SURABAYA_Nomor_110_Pid_Sus-TPK_2023_PN_Sby_Tanggal_30_Januari_2024__Penuntut_Umum_ANTON_WAHYUDI__S_H___MHTerdakwa_MARIJAN_Bin__alm__MOHAMAD_SULAEMAN.txt\n",
            "INFO:text_cleaning:Processing file: raw_2024_TK1_Putusan_PN_SURABAYA_Nomor_94_Pid_Sus-TPK_2023_PN_Sby_Tanggal_16_Januari_2024__Penuntut_Umum_GARUDA_CAKTI_VIRA_TAMA__SH_Terdakwa_NGAIDI_BIN_SAHLAN.txt\n",
            "INFO:text_cleaning:Starting cleaning. Original length: 722014 characters\n",
            "INFO:text_cleaning:Headers/footers/watermarks removed: 190466 characters\n",
            "INFO:text_cleaning:Text converted to lowercase\n"
          ]
        },
        {
          "output_type": "stream",
          "name": "stdout",
          "text": [
            "SUCCESS: raw_2024_TK1_Putusan_PN_SURABAYA_Nomor_110_Pid_Sus-TPK_2023_PN_Sby_Tanggal_30_Januari_2024__Penuntut_Umum_ANTON_WAHYUDI__S_H___MHTerdakwa_MARIJAN_Bin__alm__MOHAMAD_SULAEMAN.txt -> case_2024_TK1_Putusan_PN_SURABAYA_Nomor_110_Pid_Sus-TPK_2023_PN_Sby_Tanggal_30_Januari_2024__Penuntut_Umum_ANTON_WAHYUDI__S_H___MHTerdakwa_MARIJAN_Bin__alm__MOHAMAD_SULAEMAN.txt (saved to /data/raw, gdrive/CLEANED, and gdrive/data/raw)\n",
            "[113/114] raw_2024_TK1_Putusan_PN_SURABAYA_Nomor_94_Pid_Sus-TPK_2023_PN_Sby_Tanggal_16_Januari_2024__Penuntut_Umum_GARUDA_CAKTI_VIRA_TAMA__SH_Terdakwa_NGAIDI_BIN_SAHLAN.txt\n"
          ]
        },
        {
          "output_type": "stream",
          "name": "stderr",
          "text": [
            "INFO:text_cleaning:Spacing/character normalization: 4508 characters removed\n",
            "INFO:text_cleaning:Cleaning complete. Final length: 527039 characters (27.0% reduction)\n",
            "INFO:text_cleaning:Cleaned file saved to all three locations: case_2024_TK1_Putusan_PN_SURABAYA_Nomor_94_Pid_Sus-TPK_2023_PN_Sby_Tanggal_16_Januari_2024__Penuntut_Umum_GARUDA_CAKTI_VIRA_TAMA__SH_Terdakwa_NGAIDI_BIN_SAHLAN.txt\n",
            "INFO:text_cleaning:Processing file: raw_2024_TK1_Putusan_PN_SURABAYA_Nomor_93_Pid_Sus-TPK_2023_PN_Sby_Tanggal_16_Januari_2024__Penuntut_Umum_GARUDA_CAKTI_VIRA_TAMA__SH_Terdakwa_MOH__TAUFIQUR_ROHMAN.txt\n",
            "INFO:text_cleaning:Starting cleaning. Original length: 742683 characters\n",
            "INFO:text_cleaning:Headers/footers/watermarks removed: 194261 characters\n"
          ]
        },
        {
          "output_type": "stream",
          "name": "stdout",
          "text": [
            "SUCCESS: raw_2024_TK1_Putusan_PN_SURABAYA_Nomor_94_Pid_Sus-TPK_2023_PN_Sby_Tanggal_16_Januari_2024__Penuntut_Umum_GARUDA_CAKTI_VIRA_TAMA__SH_Terdakwa_NGAIDI_BIN_SAHLAN.txt -> case_2024_TK1_Putusan_PN_SURABAYA_Nomor_94_Pid_Sus-TPK_2023_PN_Sby_Tanggal_16_Januari_2024__Penuntut_Umum_GARUDA_CAKTI_VIRA_TAMA__SH_Terdakwa_NGAIDI_BIN_SAHLAN.txt (saved to /data/raw, gdrive/CLEANED, and gdrive/data/raw)\n",
            "[114/114] raw_2024_TK1_Putusan_PN_SURABAYA_Nomor_93_Pid_Sus-TPK_2023_PN_Sby_Tanggal_16_Januari_2024__Penuntut_Umum_GARUDA_CAKTI_VIRA_TAMA__SH_Terdakwa_MOH__TAUFIQUR_ROHMAN.txt\n"
          ]
        },
        {
          "output_type": "stream",
          "name": "stderr",
          "text": [
            "INFO:text_cleaning:Text converted to lowercase\n",
            "INFO:text_cleaning:Spacing/character normalization: 4582 characters removed\n",
            "INFO:text_cleaning:Cleaning complete. Final length: 543839 characters (26.8% reduction)\n",
            "INFO:text_cleaning:Cleaned file saved to all three locations: case_2024_TK1_Putusan_PN_SURABAYA_Nomor_93_Pid_Sus-TPK_2023_PN_Sby_Tanggal_16_Januari_2024__Penuntut_Umum_GARUDA_CAKTI_VIRA_TAMA__SH_Terdakwa_MOH__TAUFIQUR_ROHMAN.txt\n",
            "INFO:text_cleaning:Summary reports created in both locations\n"
          ]
        },
        {
          "output_type": "stream",
          "name": "stdout",
          "text": [
            "SUCCESS: raw_2024_TK1_Putusan_PN_SURABAYA_Nomor_93_Pid_Sus-TPK_2023_PN_Sby_Tanggal_16_Januari_2024__Penuntut_Umum_GARUDA_CAKTI_VIRA_TAMA__SH_Terdakwa_MOH__TAUFIQUR_ROHMAN.txt -> case_2024_TK1_Putusan_PN_SURABAYA_Nomor_93_Pid_Sus-TPK_2023_PN_Sby_Tanggal_16_Januari_2024__Penuntut_Umum_GARUDA_CAKTI_VIRA_TAMA__SH_Terdakwa_MOH__TAUFIQUR_ROHMAN.txt (saved to /data/raw, gdrive/CLEANED, and gdrive/data/raw)\n",
            "\n",
            "============================================================\n",
            "CLEANING SUMMARY:\n",
            "Success: 114\n",
            "Errors: 0\n",
            "Output 1: /data/raw\n",
            "Output 2: /content/drive/MyDrive/korupsi/CLEANED\n",
            "Output 3: /content/drive/MyDrive/korupsi/data/raw\n",
            "Summary saved to: /logs/cleaning_summary.txt\n",
            "Summary saved to: /content/drive/MyDrive/korupsi/logs/cleaning_summary.txt\n",
            "\n",
            "CLEANING PROCESS COMPLETE!\n",
            "Check output files in: /data/raw/\n",
            "Check output files in: /content/drive/MyDrive/korupsi/CLEANED\n",
            "Check output files in: /content/drive/MyDrive/korupsi/data/raw\n",
            "Check logs in: /logs/cleaning.log\n",
            "Check logs in: /content/drive/MyDrive/korupsi/logs/cleaning.log\n"
          ]
        }
      ]
    },
    {
      "cell_type": "markdown",
      "source": [
        "##Validasi"
      ],
      "metadata": {
        "id": "BaJaJrxYXo3i"
      }
    },
    {
      "cell_type": "code",
      "source": [
        "import os\n",
        "import re\n",
        "import logging\n",
        "import pandas as pd\n",
        "from datetime import datetime"
      ],
      "metadata": {
        "id": "mOvADcm_vt1O"
      },
      "execution_count": null,
      "outputs": []
    },
    {
      "cell_type": "code",
      "source": [
        "import os\n",
        "import re\n",
        "import logging\n",
        "import pandas as pd\n",
        "from datetime import datetime\n",
        "\n",
        "# Setup logging\n",
        "logging.basicConfig(level=logging.INFO)\n",
        "logger = logging.getLogger(__name__)\n",
        "\n",
        "class TextValidator:\n",
        "    \"\"\"Validate text integrity and completeness of legal documents\"\"\"\n",
        "\n",
        "    def __init__(self, base_dir=\"/content/drive/MyDrive/korupsi\"):\n",
        "        self.base_dir = base_dir\n",
        "        self.cleaned_dir = \"/data/raw\"  # Input: cleaned text files\n",
        "        self.gdrive_cleaned_dir = os.path.join(base_dir, \"CLEANED\")  # Alternative input\n",
        "        self.logs_dir = \"/logs\"  # Local logs\n",
        "        self.gdrive_logs_dir = os.path.join(base_dir, \"logs\")  # Google Drive logs mirror\n",
        "        self.validation_dir = os.path.join(base_dir, \"VALIDATION\")\n",
        "\n",
        "        # Create directories\n",
        "        os.makedirs(self.validation_dir, exist_ok=True)\n",
        "        os.makedirs(self.logs_dir, exist_ok=True)\n",
        "        os.makedirs(self.gdrive_logs_dir, exist_ok=True)\n",
        "\n",
        "        print(f\"Input 1 (cleaned): {self.cleaned_dir}\")\n",
        "        print(f\"Input 2 (gdrive): {self.gdrive_cleaned_dir}\")\n",
        "        print(f\"Validation output: {self.validation_dir}\")\n",
        "        print(f\"Logs 1 (local): {self.logs_dir}\")\n",
        "        print(f\"Logs 2 (gdrive): {self.gdrive_logs_dir}\")\n",
        "\n",
        "        # Setup validation logger\n",
        "        self.setup_validation_logger()\n",
        "\n",
        "        # Define legal document structure requirements\n",
        "        self.setup_legal_requirements()\n",
        "\n",
        "    def setup_validation_logger(self):\n",
        "        \"\"\"Setup dedicated validation logger with dual output\"\"\"\n",
        "        self.validation_logger = logging.getLogger('text_validation')\n",
        "        self.validation_logger.setLevel(logging.INFO)\n",
        "\n",
        "        # Remove existing handlers\n",
        "        for handler in self.validation_logger.handlers[:]:\n",
        "            self.validation_logger.removeHandler(handler)\n",
        "\n",
        "        # Ensure log directories exist\n",
        "        os.makedirs(self.logs_dir, exist_ok=True)\n",
        "        os.makedirs(self.gdrive_logs_dir, exist_ok=True)\n",
        "\n",
        "        # Create file handlers for both locations\n",
        "        log_file_local = os.path.join(self.logs_dir, 'validation.log')\n",
        "        log_file_gdrive = os.path.join(self.gdrive_logs_dir, 'validation.log')\n",
        "\n",
        "        # Create formatter\n",
        "        formatter = logging.Formatter(\n",
        "            '%(asctime)s - %(levelname)s - %(message)s',\n",
        "            datefmt='%Y-%m-%d %H:%M:%S'\n",
        "        )\n",
        "\n",
        "        # Local log handler\n",
        "        try:\n",
        "            file_handler_local = logging.FileHandler(log_file_local, mode='a', encoding='utf-8')\n",
        "            file_handler_local.setLevel(logging.INFO)\n",
        "            file_handler_local.setFormatter(formatter)\n",
        "            self.validation_logger.addHandler(file_handler_local)\n",
        "        except Exception as e:\n",
        "            print(f\"Warning: Could not create local validation log: {e}\")\n",
        "\n",
        "        # Google Drive log handler\n",
        "        try:\n",
        "            file_handler_gdrive = logging.FileHandler(log_file_gdrive, mode='a', encoding='utf-8')\n",
        "            file_handler_gdrive.setLevel(logging.INFO)\n",
        "            file_handler_gdrive.setFormatter(formatter)\n",
        "            self.validation_logger.addHandler(file_handler_gdrive)\n",
        "        except Exception as e:\n",
        "            print(f\"Warning: Could not create gdrive validation log: {e}\")\n",
        "\n",
        "        self.validation_logger.info(\"=\"*60)\n",
        "        self.validation_logger.info(\"TEXT VALIDATION SESSION STARTED\")\n",
        "        self.validation_logger.info(\"=\"*60)\n",
        "\n",
        "    def setup_legal_requirements(self):\n",
        "        \"\"\"Define requirements for legal document completeness\"\"\"\n",
        "\n",
        "        # Essential legal document sections (case insensitive)\n",
        "        self.essential_sections = [\n",
        "            r'menimbang',     # \"MENIMBANG\" section\n",
        "            r'mengingat',     # \"MENGINGAT\" section\n",
        "            r'mengadili',     # \"MENGADILI\" section\n",
        "        ]\n",
        "\n",
        "        # Important legal elements\n",
        "        self.important_elements = [\n",
        "            r'putusan',       # \"PUTUSAN\"\n",
        "            r'terdakwa',      # \"TERDAKWA\"\n",
        "            r'jaksa',         # \"JAKSA\" or prosecutor\n",
        "            r'hakim',         # \"HAKIM\" or judge\n",
        "            r'pasal',         # \"PASAL\" or article reference\n",
        "        ]\n",
        "\n",
        "        # Document structure indicators\n",
        "        self.structure_indicators = [\n",
        "            r'nomor.*\\d+',    # Case number\n",
        "            r'tahun.*\\d{4}',  # Year reference\n",
        "            r'pengadilan',    # Court reference\n",
        "        ]\n",
        "\n",
        "        # Minimum content thresholds\n",
        "        self.min_word_count = 100       # Minimum words for valid document\n",
        "        self.min_char_count = 500       # Minimum characters\n",
        "        self.min_sentence_count = 10    # Minimum sentences\n",
        "\n",
        "    # =================== TEXT ANALYSIS METHODS ===================\n",
        "\n",
        "    def analyze_text_structure(self, text):\n",
        "        \"\"\"Analyze text structure and content\"\"\"\n",
        "        if not isinstance(text, str) or not text.strip():\n",
        "            return {\n",
        "                'word_count': 0,\n",
        "                'char_count': 0,\n",
        "                'sentence_count': 0,\n",
        "                'paragraph_count': 0,\n",
        "                'essential_sections_found': [],\n",
        "                'important_elements_found': [],\n",
        "                'structure_indicators_found': []\n",
        "            }\n",
        "\n",
        "        # Basic statistics\n",
        "        words = text.split()\n",
        "        sentences = re.split(r'[.!?]+', text)\n",
        "        paragraphs = [p.strip() for p in text.split('\\n\\n') if p.strip()]\n",
        "\n",
        "        # Find essential sections\n",
        "        essential_found = []\n",
        "        for section in self.essential_sections:\n",
        "            if re.search(section, text, re.IGNORECASE):\n",
        "                essential_found.append(section)\n",
        "\n",
        "        # Find important elements\n",
        "        elements_found = []\n",
        "        for element in self.important_elements:\n",
        "            if re.search(element, text, re.IGNORECASE):\n",
        "                elements_found.append(element)\n",
        "\n",
        "        # Find structure indicators\n",
        "        structure_found = []\n",
        "        for indicator in self.structure_indicators:\n",
        "            if re.search(indicator, text, re.IGNORECASE):\n",
        "                structure_found.append(indicator)\n",
        "\n",
        "        return {\n",
        "            'word_count': len(words),\n",
        "            'char_count': len(text),\n",
        "            'sentence_count': len([s for s in sentences if s.strip()]),\n",
        "            'paragraph_count': len(paragraphs),\n",
        "            'essential_sections_found': essential_found,\n",
        "            'important_elements_found': elements_found,\n",
        "            'structure_indicators_found': structure_found\n",
        "        }\n",
        "\n",
        "    def calculate_completeness_score(self, analysis):\n",
        "        \"\"\"Calculate text completeness score (0-100%)\"\"\"\n",
        "        score = 0\n",
        "        max_score = 100\n",
        "\n",
        "        # 1. Essential sections (40% of score)\n",
        "        essential_score = (len(analysis['essential_sections_found']) / len(self.essential_sections)) * 40\n",
        "        score += min(essential_score, 40)\n",
        "\n",
        "        # 2. Important elements (30% of score)\n",
        "        elements_score = (len(analysis['important_elements_found']) / len(self.important_elements)) * 30\n",
        "        score += min(elements_score, 30)\n",
        "\n",
        "        # 3. Text length adequacy (20% of score)\n",
        "        length_score = 0\n",
        "        if analysis['word_count'] >= self.min_word_count:\n",
        "            length_score += 10\n",
        "        if analysis['char_count'] >= self.min_char_count:\n",
        "            length_score += 10\n",
        "        score += length_score\n",
        "\n",
        "        # 4. Structure indicators (10% of score)\n",
        "        structure_score = (len(analysis['structure_indicators_found']) / len(self.structure_indicators)) * 10\n",
        "        score += min(structure_score, 10)\n",
        "\n",
        "        return min(score, 100)  # Cap at 100%\n",
        "\n",
        "    def validate_single_file(self, filename, source_dir):\n",
        "        \"\"\"Validate single text file\"\"\"\n",
        "        file_path = os.path.join(source_dir, filename)\n",
        "\n",
        "        if not os.path.exists(file_path):\n",
        "            self.validation_logger.error(f\"File not found: {file_path}\")\n",
        "            return None\n",
        "\n",
        "        try:\n",
        "            # Read file\n",
        "            with open(file_path, 'r', encoding='utf-8') as f:\n",
        "                text = f.read()\n",
        "\n",
        "            self.validation_logger.info(f\"Validating file: {filename}\")\n",
        "\n",
        "            # Analyze text\n",
        "            analysis = self.analyze_text_structure(text)\n",
        "\n",
        "            # Calculate completeness score\n",
        "            completeness_score = self.calculate_completeness_score(analysis)\n",
        "\n",
        "            # Determine validation status\n",
        "            is_valid = completeness_score >= 80.0  # 80% threshold\n",
        "\n",
        "            # Create validation result\n",
        "            result = {\n",
        "                'filename': filename,\n",
        "                'source_directory': source_dir,\n",
        "                'file_size_bytes': len(text.encode('utf-8')),\n",
        "                'word_count': analysis['word_count'],\n",
        "                'char_count': analysis['char_count'],\n",
        "                'sentence_count': analysis['sentence_count'],\n",
        "                'paragraph_count': analysis['paragraph_count'],\n",
        "                'essential_sections_found': len(analysis['essential_sections_found']),\n",
        "                'essential_sections_list': ', '.join(analysis['essential_sections_found']),\n",
        "                'important_elements_found': len(analysis['important_elements_found']),\n",
        "                'important_elements_list': ', '.join(analysis['important_elements_found']),\n",
        "                'structure_indicators_found': len(analysis['structure_indicators_found']),\n",
        "                'structure_indicators_list': ', '.join(analysis['structure_indicators_found']),\n",
        "                'completeness_score': round(completeness_score, 2),\n",
        "                'is_valid': is_valid,\n",
        "                'validation_status': 'PASS' if is_valid else 'FAIL',\n",
        "                'validation_timestamp': datetime.now().strftime('%Y-%m-%d %H:%M:%S')\n",
        "            }\n",
        "\n",
        "            # Log result\n",
        "            status = \"PASS\" if is_valid else \"FAIL\"\n",
        "            self.validation_logger.info(f\"{filename}: {status} (Score: {completeness_score:.1f}%)\")\n",
        "\n",
        "            if not is_valid:\n",
        "                self.validation_logger.warning(f\"{filename}: Below 80% threshold - may be incomplete\")\n",
        "\n",
        "            print(f\"{status}: {filename} (Score: {completeness_score:.1f}%)\")\n",
        "\n",
        "            return result\n",
        "\n",
        "        except Exception as e:\n",
        "            self.validation_logger.error(f\"Error validating {filename}: {str(e)}\")\n",
        "            print(f\"ERROR: {filename}: {str(e)}\")\n",
        "            return None\n",
        "\n",
        "    def get_text_files(self, directory):\n",
        "        \"\"\"Get list of text files from directory\"\"\"\n",
        "        if not os.path.exists(directory):\n",
        "            return []\n",
        "\n",
        "        return [f for f in os.listdir(directory)\n",
        "                if f.endswith('.txt') and os.path.isfile(os.path.join(directory, f))]\n",
        "\n",
        "    def validate_all_files(self):\n",
        "        \"\"\"Validate all cleaned text files\"\"\"\n",
        "        print(\"iv. VALIDASI TEKS\")\n",
        "        print(\"=\" * 50)\n",
        "        print(\"Tujuan: Periksa keutuhan teks (minimal 80% isi putusan)\")\n",
        "        print(\"Threshold: 80% completeness score\")\n",
        "        print(\"=\" * 50)\n",
        "\n",
        "        # Get files from both locations\n",
        "        data_raw_files = self.get_text_files(self.cleaned_dir)\n",
        "        gdrive_files = self.get_text_files(self.gdrive_cleaned_dir)\n",
        "\n",
        "        if not data_raw_files and not gdrive_files:\n",
        "            print(\"No text files found for validation\")\n",
        "            return None\n",
        "\n",
        "        # Use data/raw files if available, otherwise use gdrive\n",
        "        if data_raw_files:\n",
        "            files_to_validate = data_raw_files\n",
        "            source_directory = self.cleaned_dir\n",
        "            print(f\"Using files from: {self.cleaned_dir}\")\n",
        "        else:\n",
        "            files_to_validate = gdrive_files\n",
        "            source_directory = self.gdrive_cleaned_dir\n",
        "            print(f\"Using files from: {self.gdrive_cleaned_dir}\")\n",
        "\n",
        "        print(f\"Found {len(files_to_validate)} files to validate\")\n",
        "        print(\"=\" * 60)\n",
        "\n",
        "        # Validate each file\n",
        "        results = []\n",
        "        pass_count = 0\n",
        "        fail_count = 0\n",
        "\n",
        "        for i, filename in enumerate(files_to_validate, 1):\n",
        "            print(f\"[{i}/{len(files_to_validate)}] Validating: {filename}\")\n",
        "            result = self.validate_single_file(filename, source_directory)\n",
        "\n",
        "            if result:\n",
        "                results.append(result)\n",
        "                if result['is_valid']:\n",
        "                    pass_count += 1\n",
        "                else:\n",
        "                    fail_count += 1\n",
        "\n",
        "        if not results:\n",
        "            print(\"No files successfully validated\")\n",
        "            return None\n",
        "\n",
        "        # Create validation report\n",
        "        self.create_validation_report(results, pass_count, fail_count)\n",
        "\n",
        "        return results\n",
        "\n",
        "    def create_validation_report(self, results, pass_count, fail_count):\n",
        "        \"\"\"Create comprehensive validation report\"\"\"\n",
        "\n",
        "        # Create DataFrame\n",
        "        df_results = pd.DataFrame(results)\n",
        "\n",
        "        # Save detailed CSV report\n",
        "        csv_path = os.path.join(self.validation_dir, 'validation_report.csv')\n",
        "        df_results.to_csv(csv_path, index=False)\n",
        "\n",
        "        # Create summary statistics\n",
        "        total_files = len(results)\n",
        "        pass_rate = (pass_count / total_files * 100) if total_files > 0 else 0\n",
        "        avg_score = df_results['completeness_score'].mean()\n",
        "        min_score = df_results['completeness_score'].min()\n",
        "        max_score = df_results['completeness_score'].max()\n",
        "\n",
        "        # Create text summary report\n",
        "        summary_content = f\"\"\"TEXT VALIDATION REPORT\n",
        "=====================\n",
        "Date: {datetime.now().strftime('%Y-%m-%d %H:%M:%S')}\n",
        "Validation Threshold: 80% completeness\n",
        "\n",
        "SUMMARY STATISTICS:\n",
        "------------------\n",
        "Total files validated: {total_files}\n",
        "Files passed (≥80%): {pass_count}\n",
        "Files failed (<80%): {fail_count}\n",
        "Pass rate: {pass_rate:.1f}%\n",
        "\n",
        "SCORE STATISTICS:\n",
        "----------------\n",
        "Average score: {avg_score:.1f}%\n",
        "Minimum score: {min_score:.1f}%\n",
        "Maximum score: {max_score:.1f}%\n",
        "\n",
        "FAILED FILES (if any):\n",
        "---------------------\n",
        "\"\"\"\n",
        "\n",
        "        # Add failed files details\n",
        "        failed_files = df_results[df_results['is_valid'] == False]\n",
        "        if not failed_files.empty:\n",
        "            for _, file_info in failed_files.iterrows():\n",
        "                summary_content += f\"- {file_info['filename']}: {file_info['completeness_score']:.1f}% \"\n",
        "                summary_content += f\"(Missing: \"\n",
        "\n",
        "                missing_elements = []\n",
        "                if file_info['essential_sections_found'] < len(self.essential_sections):\n",
        "                    missing_elements.append(\"essential sections\")\n",
        "                if file_info['important_elements_found'] < len(self.important_elements):\n",
        "                    missing_elements.append(\"important elements\")\n",
        "                if file_info['word_count'] < self.min_word_count:\n",
        "                    missing_elements.append(\"sufficient content\")\n",
        "\n",
        "                summary_content += \", \".join(missing_elements) + \")\\n\"\n",
        "        else:\n",
        "            summary_content += \"No files failed validation!\\n\"\n",
        "\n",
        "        summary_content += f\"\\nDETAILED REPORT: {csv_path}\\n\"\n",
        "        summary_content += f\"VALIDATION LOG 1: {os.path.join(self.logs_dir, 'validation.log')}\\n\"\n",
        "        summary_content += f\"VALIDATION LOG 2: {os.path.join(self.gdrive_logs_dir, 'validation.log')}\\n\"\n",
        "\n",
        "        # Save summary report to both locations\n",
        "        summary_path_local = os.path.join(self.validation_dir, 'validation_summary.txt')\n",
        "        summary_path_gdrive = os.path.join(self.gdrive_logs_dir, 'validation_summary.txt')\n",
        "\n",
        "        # Ensure directories exist\n",
        "        os.makedirs(self.validation_dir, exist_ok=True)\n",
        "        os.makedirs(self.gdrive_logs_dir, exist_ok=True)\n",
        "\n",
        "        try:\n",
        "            with open(summary_path_local, 'w', encoding='utf-8') as f:\n",
        "                f.write(summary_content)\n",
        "        except Exception as e:\n",
        "            print(f\"Warning: Could not save validation summary locally: {e}\")\n",
        "\n",
        "        try:\n",
        "            with open(summary_path_gdrive, 'w', encoding='utf-8') as f:\n",
        "                f.write(summary_content)\n",
        "        except Exception as e:\n",
        "            print(f\"Warning: Could not save validation summary to gdrive: {e}\")\n",
        "\n",
        "        # Display summary\n",
        "        print(\"\\n\" + \"=\" * 60)\n",
        "        print(\"VALIDATION SUMMARY:\")\n",
        "        print(\"=\" * 60)\n",
        "        print(f\"Total files: {total_files}\")\n",
        "        print(f\"Passed (≥80%): {pass_count}\")\n",
        "        print(f\"Failed (<80%): {fail_count}\")\n",
        "        print(f\"Pass rate: {pass_rate:.1f}%\")\n",
        "        print(f\"Average score: {avg_score:.1f}%\")\n",
        "        print(f\"Score range: {min_score:.1f}% - {max_score:.1f}%\")\n",
        "\n",
        "        # Show failed files in console\n",
        "        if fail_count > 0:\n",
        "            print(f\"\\nFAILED FILES ({fail_count}):\")\n",
        "            print(\"-\" * 40)\n",
        "            failed_files = df_results[df_results['is_valid'] == False]\n",
        "            for _, file_info in failed_files.iterrows():\n",
        "                print(f\"  {file_info['filename']}: {file_info['completeness_score']:.1f}%\")\n",
        "                issues = []\n",
        "                if file_info['essential_sections_found'] < len(self.essential_sections):\n",
        "                    missing_count = len(self.essential_sections) - file_info['essential_sections_found']\n",
        "                    issues.append(f\"{missing_count} missing essential sections\")\n",
        "                if file_info['word_count'] < self.min_word_count:\n",
        "                    issues.append(f\"too short ({file_info['word_count']} words)\")\n",
        "                if issues:\n",
        "                    print(f\"    Issues: {', '.join(issues)}\")\n",
        "        else:\n",
        "            print(\"\\nAll files passed validation!\")\n",
        "\n",
        "        print(f\"\\nREPORTS GENERATED:\")\n",
        "        print(f\"  Detailed CSV: {csv_path}\")\n",
        "        print(f\"  Summary TXT (validation): {summary_path_local}\")\n",
        "        print(f\"  Summary TXT (gdrive): {summary_path_gdrive}\")\n",
        "        print(f\"  Validation log (local): {os.path.join(self.logs_dir, 'validation.log')}\")\n",
        "        print(f\"  Validation log (gdrive): {os.path.join(self.gdrive_logs_dir, 'validation.log')}\")\n",
        "\n",
        "        # Log summary\n",
        "        self.validation_logger.info(f\"Validation complete: {pass_count}/{total_files} files passed ({pass_rate:.1f}%)\")\n",
        "        self.validation_logger.info(f\"Average completeness score: {avg_score:.1f}%\")\n",
        "\n",
        "        if fail_count > 0:\n",
        "            self.validation_logger.warning(f\"{fail_count} files failed validation (below 80% threshold)\")\n",
        "\n",
        "# Utility functions\n",
        "def validate_single_text(text):\n",
        "    \"\"\"Quick function to validate single text\"\"\"\n",
        "    validator = TextValidator()\n",
        "    analysis = validator.analyze_text_structure(text)\n",
        "    score = validator.calculate_completeness_score(analysis)\n",
        "    return score, score >= 80.0\n",
        "\n",
        "def validate_specific_file(file_path):\n",
        "    \"\"\"Validate specific file by path\"\"\"\n",
        "    validator = TextValidator()\n",
        "    filename = os.path.basename(file_path)\n",
        "    directory = os.path.dirname(file_path)\n",
        "    return validator.validate_single_file(filename, directory)\n",
        "\n",
        "def main():\n",
        "    \"\"\"Main execution function\"\"\"\n",
        "    print(\"iv. VALIDASI\")\n",
        "    print(\"=\" * 50)\n",
        "    print(\"1. Periksa keutuhan teks (minimal 80% isi putusan tersedia)\")\n",
        "    print(\"2. Catat log file: /logs/ dan Google Drive/logs/\")\n",
        "    print(\"=\" * 50)\n",
        "\n",
        "    # Initialize validator\n",
        "    validator = TextValidator(\"/content/drive/MyDrive/korupsi\")\n",
        "\n",
        "    # Run validation\n",
        "    results = validator.validate_all_files()\n",
        "\n",
        "    if results:\n",
        "        print(\"\\nVALIDATION PROCESS COMPLETE!\")\n",
        "        print(f\"Check validation reports in: {validator.validation_dir}\")\n",
        "        print(f\"Check validation logs: /logs/validation.log\")\n",
        "        print(f\"Check validation logs: {validator.gdrive_logs_dir}/validation.log\")\n",
        "    else:\n",
        "        print(\"\\nNo files found for validation.\")\n",
        "\n",
        "# Execute\n",
        "if __name__ == \"__main__\":\n",
        "    main()\n"
      ],
      "metadata": {
        "id": "JqQzi9rxcIyf",
        "colab": {
          "base_uri": "https://localhost:8080/"
        },
        "outputId": "a0256f50-f3c4-48cd-af5f-d4b1431ab164"
      },
      "execution_count": null,
      "outputs": [
        {
          "output_type": "stream",
          "name": "stderr",
          "text": [
            "INFO:text_validation:============================================================\n",
            "INFO:text_validation:TEXT VALIDATION SESSION STARTED\n",
            "INFO:text_validation:============================================================\n",
            "INFO:text_validation:Validating file: case_2024_TK1_Putusan_PN_SURABAYA_Nomor_126_Pid_Sus-TPK_2023_PN_Sby_Tanggal_20_Februari_2024__Penuntut_Umum_TARJONO_SHTerdakwa_YUDI_PURNOMO.txt\n",
            "INFO:text_validation:case_2024_TK1_Putusan_PN_SURABAYA_Nomor_126_Pid_Sus-TPK_2023_PN_Sby_Tanggal_20_Februari_2024__Penuntut_Umum_TARJONO_SHTerdakwa_YUDI_PURNOMO.txt: PASS (Score: 100.0%)\n",
            "INFO:text_validation:Validating file: case_2024_TK1_Putusan_PN_SURABAYA_Nomor_111_Pid_Sus-TPK_2023_PN_Sby_Tanggal_30_Januari_2024__Penuntut_Umum_ANTON_WAHYUDI__S_H___MHTerdakwa_MOKHAMAD_ROKIM_Bin__alm__MASDUQI.txt\n",
            "INFO:text_validation:case_2024_TK1_Putusan_PN_SURABAYA_Nomor_111_Pid_Sus-TPK_2023_PN_Sby_Tanggal_30_Januari_2024__Penuntut_Umum_ANTON_WAHYUDI__S_H___MHTerdakwa_MOKHAMAD_ROKIM_Bin__alm__MASDUQI.txt: PASS (Score: 100.0%)\n",
            "INFO:text_validation:Validating file: case_2024_TK1_Putusan_PN_SURABAYA_Nomor_33_Pid_Sus-TPK_2024_PN_Sby_Tanggal_20_September_2024__Penuntut_Umum_ARIO_WIBOWO__S_H___M_H_Terdakwa_DENI_KADARISMAN_ALIAS_DEDEN.txt\n",
            "INFO:text_validation:case_2024_TK1_Putusan_PN_SURABAYA_Nomor_33_Pid_Sus-TPK_2024_PN_Sby_Tanggal_20_September_2024__Penuntut_Umum_ARIO_WIBOWO__S_H___M_H_Terdakwa_DENI_KADARISMAN_ALIAS_DEDEN.txt: PASS (Score: 100.0%)\n",
            "INFO:text_validation:Validating file: case_2024_TK1_Putusan_PN_SURABAYA_Nomor_44_Pid_Sus-TPK_2024_PN_Sby_Tanggal_10_September_2024__Penuntut_Umum_HABI_BURROHIM_S_H___MHTerdakwa_Drs__AKHMAD_KHASANI__M_Si.txt\n"
          ]
        },
        {
          "output_type": "stream",
          "name": "stdout",
          "text": [
            "iv. VALIDASI\n",
            "==================================================\n",
            "1. Periksa keutuhan teks (minimal 80% isi putusan tersedia)\n",
            "2. Catat log file: /logs/ dan Google Drive/logs/\n",
            "==================================================\n",
            "Input 1 (cleaned): /data/raw\n",
            "Input 2 (gdrive): /content/drive/MyDrive/korupsi/CLEANED\n",
            "Validation output: /content/drive/MyDrive/korupsi/VALIDATION\n",
            "Logs 1 (local): /logs\n",
            "Logs 2 (gdrive): /content/drive/MyDrive/korupsi/logs\n",
            "iv. VALIDASI TEKS\n",
            "==================================================\n",
            "Tujuan: Periksa keutuhan teks (minimal 80% isi putusan)\n",
            "Threshold: 80% completeness score\n",
            "==================================================\n",
            "Using files from: /data/raw\n",
            "Found 114 files to validate\n",
            "============================================================\n",
            "[1/114] Validating: case_2024_TK1_Putusan_PN_SURABAYA_Nomor_126_Pid_Sus-TPK_2023_PN_Sby_Tanggal_20_Februari_2024__Penuntut_Umum_TARJONO_SHTerdakwa_YUDI_PURNOMO.txt\n",
            "PASS: case_2024_TK1_Putusan_PN_SURABAYA_Nomor_126_Pid_Sus-TPK_2023_PN_Sby_Tanggal_20_Februari_2024__Penuntut_Umum_TARJONO_SHTerdakwa_YUDI_PURNOMO.txt (Score: 100.0%)\n",
            "[2/114] Validating: case_2024_TK1_Putusan_PN_SURABAYA_Nomor_111_Pid_Sus-TPK_2023_PN_Sby_Tanggal_30_Januari_2024__Penuntut_Umum_ANTON_WAHYUDI__S_H___MHTerdakwa_MOKHAMAD_ROKIM_Bin__alm__MASDUQI.txt\n",
            "PASS: case_2024_TK1_Putusan_PN_SURABAYA_Nomor_111_Pid_Sus-TPK_2023_PN_Sby_Tanggal_30_Januari_2024__Penuntut_Umum_ANTON_WAHYUDI__S_H___MHTerdakwa_MOKHAMAD_ROKIM_Bin__alm__MASDUQI.txt (Score: 100.0%)\n",
            "[3/114] Validating: case_2024_TK1_Putusan_PN_SURABAYA_Nomor_33_Pid_Sus-TPK_2024_PN_Sby_Tanggal_20_September_2024__Penuntut_Umum_ARIO_WIBOWO__S_H___M_H_Terdakwa_DENI_KADARISMAN_ALIAS_DEDEN.txt\n",
            "PASS: case_2024_TK1_Putusan_PN_SURABAYA_Nomor_33_Pid_Sus-TPK_2024_PN_Sby_Tanggal_20_September_2024__Penuntut_Umum_ARIO_WIBOWO__S_H___M_H_Terdakwa_DENI_KADARISMAN_ALIAS_DEDEN.txt (Score: 100.0%)\n",
            "[4/114] Validating: case_2024_TK1_Putusan_PN_SURABAYA_Nomor_44_Pid_Sus-TPK_2024_PN_Sby_Tanggal_10_September_2024__Penuntut_Umum_HABI_BURROHIM_S_H___MHTerdakwa_Drs__AKHMAD_KHASANI__M_Si.txt\n"
          ]
        },
        {
          "output_type": "stream",
          "name": "stderr",
          "text": [
            "INFO:text_validation:case_2024_TK1_Putusan_PN_SURABAYA_Nomor_44_Pid_Sus-TPK_2024_PN_Sby_Tanggal_10_September_2024__Penuntut_Umum_HABI_BURROHIM_S_H___MHTerdakwa_Drs__AKHMAD_KHASANI__M_Si.txt: PASS (Score: 100.0%)\n",
            "INFO:text_validation:Validating file: case_2024_TK1_Putusan_PN_SURABAYA_Nomor_94_Pid_Sus-TPK_2023_PN_Sby_Tanggal_16_Januari_2024__Penuntut_Umum_GARUDA_CAKTI_VIRA_TAMA__SH_Terdakwa_NGAIDI_BIN_SAHLAN.txt\n",
            "INFO:text_validation:case_2024_TK1_Putusan_PN_SURABAYA_Nomor_94_Pid_Sus-TPK_2023_PN_Sby_Tanggal_16_Januari_2024__Penuntut_Umum_GARUDA_CAKTI_VIRA_TAMA__SH_Terdakwa_NGAIDI_BIN_SAHLAN.txt: PASS (Score: 100.0%)\n",
            "INFO:text_validation:Validating file: case_2024_TK1_Putusan_PN_SURABAYA_Nomor_111_Pid_Sus-TPK_2024_PN_Sby_Tanggal_24_Desember_2024__Penuntut_Umum_Moch__Taufiq_Ismail__S_HTerdakwa_ANININGSIH_BINTI_RIYADI.txt\n",
            "INFO:text_validation:case_2024_TK1_Putusan_PN_SURABAYA_Nomor_111_Pid_Sus-TPK_2024_PN_Sby_Tanggal_24_Desember_2024__Penuntut_Umum_Moch__Taufiq_Ismail__S_HTerdakwa_ANININGSIH_BINTI_RIYADI.txt: PASS (Score: 100.0%)\n",
            "INFO:text_validation:Validating file: case_2024_TK1_Putusan_PN_SURABAYA_Nomor_117_Pid_Sus-TPK_2024_PN_Sby_Tanggal_24_Desember_2024__Penuntut_Umum_DIAN_PRANATA_DEPARI__S_H__M_HTerdakwa_FAISOL__S_Pd__BIN_SUNARKI.txt\n",
            "INFO:text_validation:case_2024_TK1_Putusan_PN_SURABAYA_Nomor_117_Pid_Sus-TPK_2024_PN_Sby_Tanggal_24_Desember_2024__Penuntut_Umum_DIAN_PRANATA_DEPARI__S_H__M_HTerdakwa_FAISOL__S_Pd__BIN_SUNARKI.txt: PASS (Score: 86.7%)\n",
            "INFO:text_validation:Validating file: case_2024_TK1_Putusan_PN_SURABAYA_Nomor_96_Pid_Sus-TPK_2023_PN_Sby_Tanggal_2_Februari_2024__Penuntut_Umum_SUHERMAN__S_H_Terdakwa_TJITRO_WIRJO_HERMANTO.txt\n",
            "INFO:text_validation:case_2024_TK1_Putusan_PN_SURABAYA_Nomor_96_Pid_Sus-TPK_2023_PN_Sby_Tanggal_2_Februari_2024__Penuntut_Umum_SUHERMAN__S_H_Terdakwa_TJITRO_WIRJO_HERMANTO.txt: PASS (Score: 100.0%)\n",
            "INFO:text_validation:Validating file: case_2024_TK1_Putusan_PN_SURABAYA_Nomor_97_Pid_Sus-TPK_2023_PN_Sby_Tanggal_1_Februari_2024__Penuntut_Umum_RENDY_BAHAR_PUTRA__S_H_Terdakwa_SUTIKNO_bin_MUDAYAT.txt\n",
            "INFO:text_validation:case_2024_TK1_Putusan_PN_SURABAYA_Nomor_97_Pid_Sus-TPK_2023_PN_Sby_Tanggal_1_Februari_2024__Penuntut_Umum_RENDY_BAHAR_PUTRA__S_H_Terdakwa_SUTIKNO_bin_MUDAYAT.txt: PASS (Score: 100.0%)\n",
            "INFO:text_validation:Validating file: case_2024_TK1_Putusan_PN_SURABAYA_Nomor_26_Pid_Sus-TPK_2024_PN_Sby_Tanggal_25_Juli_2024__Penuntut_Umum_I_PUTU_KISNU_GUPTA__S_H_Terdakwa_Samsul_Hadi.txt\n",
            "INFO:text_validation:case_2024_TK1_Putusan_PN_SURABAYA_Nomor_26_Pid_Sus-TPK_2024_PN_Sby_Tanggal_25_Juli_2024__Penuntut_Umum_I_PUTU_KISNU_GUPTA__S_H_Terdakwa_Samsul_Hadi.txt: PASS (Score: 86.7%)\n",
            "INFO:text_validation:Validating file: case_2024_TK1_Putusan_PN_SURABAYA_Nomor_130_Pid_Sus-TPK_2023_PN_Sby_Tanggal_15_Maret_2024__Penuntut_Umum_COK_GEDE_PUTRA_GAUTAMA_SHTerdakwa_Wahyudi_Sofyan_S_sos_bin__alm__Adi_Sukoso.txt\n"
          ]
        },
        {
          "output_type": "stream",
          "name": "stdout",
          "text": [
            "PASS: case_2024_TK1_Putusan_PN_SURABAYA_Nomor_44_Pid_Sus-TPK_2024_PN_Sby_Tanggal_10_September_2024__Penuntut_Umum_HABI_BURROHIM_S_H___MHTerdakwa_Drs__AKHMAD_KHASANI__M_Si.txt (Score: 100.0%)\n",
            "[5/114] Validating: case_2024_TK1_Putusan_PN_SURABAYA_Nomor_94_Pid_Sus-TPK_2023_PN_Sby_Tanggal_16_Januari_2024__Penuntut_Umum_GARUDA_CAKTI_VIRA_TAMA__SH_Terdakwa_NGAIDI_BIN_SAHLAN.txt\n",
            "PASS: case_2024_TK1_Putusan_PN_SURABAYA_Nomor_94_Pid_Sus-TPK_2023_PN_Sby_Tanggal_16_Januari_2024__Penuntut_Umum_GARUDA_CAKTI_VIRA_TAMA__SH_Terdakwa_NGAIDI_BIN_SAHLAN.txt (Score: 100.0%)\n",
            "[6/114] Validating: case_2024_TK1_Putusan_PN_SURABAYA_Nomor_111_Pid_Sus-TPK_2024_PN_Sby_Tanggal_24_Desember_2024__Penuntut_Umum_Moch__Taufiq_Ismail__S_HTerdakwa_ANININGSIH_BINTI_RIYADI.txt\n",
            "PASS: case_2024_TK1_Putusan_PN_SURABAYA_Nomor_111_Pid_Sus-TPK_2024_PN_Sby_Tanggal_24_Desember_2024__Penuntut_Umum_Moch__Taufiq_Ismail__S_HTerdakwa_ANININGSIH_BINTI_RIYADI.txt (Score: 100.0%)\n",
            "[7/114] Validating: case_2024_TK1_Putusan_PN_SURABAYA_Nomor_117_Pid_Sus-TPK_2024_PN_Sby_Tanggal_24_Desember_2024__Penuntut_Umum_DIAN_PRANATA_DEPARI__S_H__M_HTerdakwa_FAISOL__S_Pd__BIN_SUNARKI.txt\n",
            "PASS: case_2024_TK1_Putusan_PN_SURABAYA_Nomor_117_Pid_Sus-TPK_2024_PN_Sby_Tanggal_24_Desember_2024__Penuntut_Umum_DIAN_PRANATA_DEPARI__S_H__M_HTerdakwa_FAISOL__S_Pd__BIN_SUNARKI.txt (Score: 86.7%)\n",
            "[8/114] Validating: case_2024_TK1_Putusan_PN_SURABAYA_Nomor_96_Pid_Sus-TPK_2023_PN_Sby_Tanggal_2_Februari_2024__Penuntut_Umum_SUHERMAN__S_H_Terdakwa_TJITRO_WIRJO_HERMANTO.txt\n",
            "PASS: case_2024_TK1_Putusan_PN_SURABAYA_Nomor_96_Pid_Sus-TPK_2023_PN_Sby_Tanggal_2_Februari_2024__Penuntut_Umum_SUHERMAN__S_H_Terdakwa_TJITRO_WIRJO_HERMANTO.txt (Score: 100.0%)\n",
            "[9/114] Validating: case_2024_TK1_Putusan_PN_SURABAYA_Nomor_97_Pid_Sus-TPK_2023_PN_Sby_Tanggal_1_Februari_2024__Penuntut_Umum_RENDY_BAHAR_PUTRA__S_H_Terdakwa_SUTIKNO_bin_MUDAYAT.txt\n",
            "PASS: case_2024_TK1_Putusan_PN_SURABAYA_Nomor_97_Pid_Sus-TPK_2023_PN_Sby_Tanggal_1_Februari_2024__Penuntut_Umum_RENDY_BAHAR_PUTRA__S_H_Terdakwa_SUTIKNO_bin_MUDAYAT.txt (Score: 100.0%)\n",
            "[10/114] Validating: case_2024_TK1_Putusan_PN_SURABAYA_Nomor_26_Pid_Sus-TPK_2024_PN_Sby_Tanggal_25_Juli_2024__Penuntut_Umum_I_PUTU_KISNU_GUPTA__S_H_Terdakwa_Samsul_Hadi.txt\n",
            "PASS: case_2024_TK1_Putusan_PN_SURABAYA_Nomor_26_Pid_Sus-TPK_2024_PN_Sby_Tanggal_25_Juli_2024__Penuntut_Umum_I_PUTU_KISNU_GUPTA__S_H_Terdakwa_Samsul_Hadi.txt (Score: 86.7%)\n",
            "[11/114] Validating: case_2024_TK1_Putusan_PN_SURABAYA_Nomor_130_Pid_Sus-TPK_2023_PN_Sby_Tanggal_15_Maret_2024__Penuntut_Umum_COK_GEDE_PUTRA_GAUTAMA_SHTerdakwa_Wahyudi_Sofyan_S_sos_bin__alm__Adi_Sukoso.txt\n"
          ]
        },
        {
          "output_type": "stream",
          "name": "stderr",
          "text": [
            "INFO:text_validation:case_2024_TK1_Putusan_PN_SURABAYA_Nomor_130_Pid_Sus-TPK_2023_PN_Sby_Tanggal_15_Maret_2024__Penuntut_Umum_COK_GEDE_PUTRA_GAUTAMA_SHTerdakwa_Wahyudi_Sofyan_S_sos_bin__alm__Adi_Sukoso.txt: PASS (Score: 86.7%)\n",
            "INFO:text_validation:Validating file: case_2024_TK1_Putusan_PN_SURABAYA_Nomor_98_Pid_Sus-TPK_2023_PN_Sby_Tanggal_1_Februari_2024__Penuntut_Umum_RENDY_BAHAR_PUTRA__S_H_Terdakwa_RINCANA_YULIADI_Bin_PAIDI.txt\n",
            "INFO:text_validation:case_2024_TK1_Putusan_PN_SURABAYA_Nomor_98_Pid_Sus-TPK_2023_PN_Sby_Tanggal_1_Februari_2024__Penuntut_Umum_RENDY_BAHAR_PUTRA__S_H_Terdakwa_RINCANA_YULIADI_Bin_PAIDI.txt: PASS (Score: 100.0%)\n",
            "INFO:text_validation:Validating file: case_2024_TK1_Putusan_PN_SURABAYA_Nomor_103_Pid_Sus-TPK_2024_PN_Sby_Tanggal_23_Desember_2024__Penuntut_Umum_DIAN_PRANATA_DEPARI__S_H__M_HTerdakwa_H__Munandar__SP___M_M_Bin_Alm__Adjib.txt\n",
            "INFO:text_validation:case_2024_TK1_Putusan_PN_SURABAYA_Nomor_103_Pid_Sus-TPK_2024_PN_Sby_Tanggal_23_Desember_2024__Penuntut_Umum_DIAN_PRANATA_DEPARI__S_H__M_HTerdakwa_H__Munandar__SP___M_M_Bin_Alm__Adjib.txt: PASS (Score: 100.0%)\n",
            "INFO:text_validation:Validating file: case_2025_TK1_Putusan_PN_JAKARTA_UTARA_Nomor_462_Pdt_P_2025_PN_Jkt_Utr_Tanggal_11_Juni_2025__Pemohon_AMINAH.txt\n",
            "INFO:text_validation:case_2025_TK1_Putusan_PN_JAKARTA_UTARA_Nomor_462_Pdt_P_2025_PN_Jkt_Utr_Tanggal_11_Juni_2025__Pemohon_AMINAH.txt: FAIL (Score: 74.7%)\n",
            "WARNING:text_validation:case_2025_TK1_Putusan_PN_JAKARTA_UTARA_Nomor_462_Pdt_P_2025_PN_Jkt_Utr_Tanggal_11_Juni_2025__Pemohon_AMINAH.txt: Below 80% threshold - may be incomplete\n",
            "INFO:text_validation:Validating file: case_2024_TK1_Putusan_PN_SURABAYA_Nomor_107_Pid_Sus-TPK_2023_PN_Sby_Tanggal_23_Februari_2024__Penuntut_Umum_SLAMET_PUJIONO__SHTerdakwa_H__AKHMAD_ZAINAL__S_Sos_.txt\n",
            "INFO:text_validation:case_2024_TK1_Putusan_PN_SURABAYA_Nomor_107_Pid_Sus-TPK_2023_PN_Sby_Tanggal_23_Februari_2024__Penuntut_Umum_SLAMET_PUJIONO__SHTerdakwa_H__AKHMAD_ZAINAL__S_Sos_.txt: PASS (Score: 100.0%)\n",
            "INFO:text_validation:Validating file: case_2024_TK1_Putusan_PN_SURABAYA_Nomor_38_Pid_Sus-TPK_2024_PN_Sby_Tanggal_2_Oktober_2024__Penuntut_Umum_ALIFIN_NURAHMANA_WANDA__S_HTerdakwa_Dra__MALAHATUL_FARDAH__M_M_.txt\n",
            "INFO:text_validation:case_2024_TK1_Putusan_PN_SURABAYA_Nomor_38_Pid_Sus-TPK_2024_PN_Sby_Tanggal_2_Oktober_2024__Penuntut_Umum_ALIFIN_NURAHMANA_WANDA__S_HTerdakwa_Dra__MALAHATUL_FARDAH__M_M_.txt: PASS (Score: 100.0%)\n",
            "INFO:text_validation:Validating file: case_2024_TK1_Putusan_PN_SURABAYA_Nomor_28_Pid_Sus-TPK_2024_PN_Sby_Tanggal_6_Agustus_2024__Penuntut_Umum_Silfana_Chairini__S_H___M_HTerdakwa_Diah_Aryanti.txt\n",
            "INFO:text_validation:case_2024_TK1_Putusan_PN_SURABAYA_Nomor_28_Pid_Sus-TPK_2024_PN_Sby_Tanggal_6_Agustus_2024__Penuntut_Umum_Silfana_Chairini__S_H___M_HTerdakwa_Diah_Aryanti.txt: PASS (Score: 100.0%)\n",
            "INFO:text_validation:Validating file: case_2024_TK1_Putusan_PN_SURABAYA_Nomor_104_Pid_Sus-TPK_2024_PN_Sby_Tanggal_23_Desember_2024__Penuntut_Umum_DIAN_PRANATA_DEPARI__S_H__M_HTerdakwa_Edy_Suyitno_Bin_Kuswanto.txt\n"
          ]
        },
        {
          "output_type": "stream",
          "name": "stdout",
          "text": [
            "PASS: case_2024_TK1_Putusan_PN_SURABAYA_Nomor_130_Pid_Sus-TPK_2023_PN_Sby_Tanggal_15_Maret_2024__Penuntut_Umum_COK_GEDE_PUTRA_GAUTAMA_SHTerdakwa_Wahyudi_Sofyan_S_sos_bin__alm__Adi_Sukoso.txt (Score: 86.7%)\n",
            "[12/114] Validating: case_2024_TK1_Putusan_PN_SURABAYA_Nomor_98_Pid_Sus-TPK_2023_PN_Sby_Tanggal_1_Februari_2024__Penuntut_Umum_RENDY_BAHAR_PUTRA__S_H_Terdakwa_RINCANA_YULIADI_Bin_PAIDI.txt\n",
            "PASS: case_2024_TK1_Putusan_PN_SURABAYA_Nomor_98_Pid_Sus-TPK_2023_PN_Sby_Tanggal_1_Februari_2024__Penuntut_Umum_RENDY_BAHAR_PUTRA__S_H_Terdakwa_RINCANA_YULIADI_Bin_PAIDI.txt (Score: 100.0%)\n",
            "[13/114] Validating: case_2024_TK1_Putusan_PN_SURABAYA_Nomor_103_Pid_Sus-TPK_2024_PN_Sby_Tanggal_23_Desember_2024__Penuntut_Umum_DIAN_PRANATA_DEPARI__S_H__M_HTerdakwa_H__Munandar__SP___M_M_Bin_Alm__Adjib.txt\n",
            "PASS: case_2024_TK1_Putusan_PN_SURABAYA_Nomor_103_Pid_Sus-TPK_2024_PN_Sby_Tanggal_23_Desember_2024__Penuntut_Umum_DIAN_PRANATA_DEPARI__S_H__M_HTerdakwa_H__Munandar__SP___M_M_Bin_Alm__Adjib.txt (Score: 100.0%)\n",
            "[14/114] Validating: case_2025_TK1_Putusan_PN_JAKARTA_UTARA_Nomor_462_Pdt_P_2025_PN_Jkt_Utr_Tanggal_11_Juni_2025__Pemohon_AMINAH.txt\n",
            "FAIL: case_2025_TK1_Putusan_PN_JAKARTA_UTARA_Nomor_462_Pdt_P_2025_PN_Jkt_Utr_Tanggal_11_Juni_2025__Pemohon_AMINAH.txt (Score: 74.7%)\n",
            "[15/114] Validating: case_2024_TK1_Putusan_PN_SURABAYA_Nomor_107_Pid_Sus-TPK_2023_PN_Sby_Tanggal_23_Februari_2024__Penuntut_Umum_SLAMET_PUJIONO__SHTerdakwa_H__AKHMAD_ZAINAL__S_Sos_.txt\n",
            "PASS: case_2024_TK1_Putusan_PN_SURABAYA_Nomor_107_Pid_Sus-TPK_2023_PN_Sby_Tanggal_23_Februari_2024__Penuntut_Umum_SLAMET_PUJIONO__SHTerdakwa_H__AKHMAD_ZAINAL__S_Sos_.txt (Score: 100.0%)\n",
            "[16/114] Validating: case_2024_TK1_Putusan_PN_SURABAYA_Nomor_38_Pid_Sus-TPK_2024_PN_Sby_Tanggal_2_Oktober_2024__Penuntut_Umum_ALIFIN_NURAHMANA_WANDA__S_HTerdakwa_Dra__MALAHATUL_FARDAH__M_M_.txt\n",
            "PASS: case_2024_TK1_Putusan_PN_SURABAYA_Nomor_38_Pid_Sus-TPK_2024_PN_Sby_Tanggal_2_Oktober_2024__Penuntut_Umum_ALIFIN_NURAHMANA_WANDA__S_HTerdakwa_Dra__MALAHATUL_FARDAH__M_M_.txt (Score: 100.0%)\n",
            "[17/114] Validating: case_2024_TK1_Putusan_PN_SURABAYA_Nomor_28_Pid_Sus-TPK_2024_PN_Sby_Tanggal_6_Agustus_2024__Penuntut_Umum_Silfana_Chairini__S_H___M_HTerdakwa_Diah_Aryanti.txt\n",
            "PASS: case_2024_TK1_Putusan_PN_SURABAYA_Nomor_28_Pid_Sus-TPK_2024_PN_Sby_Tanggal_6_Agustus_2024__Penuntut_Umum_Silfana_Chairini__S_H___M_HTerdakwa_Diah_Aryanti.txt (Score: 100.0%)\n",
            "[18/114] Validating: case_2024_TK1_Putusan_PN_SURABAYA_Nomor_104_Pid_Sus-TPK_2024_PN_Sby_Tanggal_23_Desember_2024__Penuntut_Umum_DIAN_PRANATA_DEPARI__S_H__M_HTerdakwa_Edy_Suyitno_Bin_Kuswanto.txt\n"
          ]
        },
        {
          "output_type": "stream",
          "name": "stderr",
          "text": [
            "INFO:text_validation:case_2024_TK1_Putusan_PN_SURABAYA_Nomor_104_Pid_Sus-TPK_2024_PN_Sby_Tanggal_23_Desember_2024__Penuntut_Umum_DIAN_PRANATA_DEPARI__S_H__M_HTerdakwa_Edy_Suyitno_Bin_Kuswanto.txt: PASS (Score: 100.0%)\n",
            "INFO:text_validation:Validating file: case_2024_TK1_Putusan_PN_SURABAYA_Nomor_146_Pid_Sus-TPK_2023_PN_Sby_Tanggal_2_April_2024__Penuntut_Umum_ANDRI_TRI_WIBOWO__SH_M_HumTerdakwa_KAREN_AGUNG_WIBOWO.txt\n",
            "INFO:text_validation:case_2024_TK1_Putusan_PN_SURABAYA_Nomor_146_Pid_Sus-TPK_2023_PN_Sby_Tanggal_2_April_2024__Penuntut_Umum_ANDRI_TRI_WIBOWO__SH_M_HumTerdakwa_KAREN_AGUNG_WIBOWO.txt: PASS (Score: 86.7%)\n",
            "INFO:text_validation:Validating file: case_2024_TK1_Putusan_PN_SURABAYA_Nomor_145_Pid_Sus-TPK_2023_PN_Sby_Tanggal_2_April_2024__Penuntut_Umum_ANDRI_TRI_WIBOWO__SH_M_HumTerdakwa_MOCHAMAD_IFAN.txt\n",
            "INFO:text_validation:case_2024_TK1_Putusan_PN_SURABAYA_Nomor_145_Pid_Sus-TPK_2023_PN_Sby_Tanggal_2_April_2024__Penuntut_Umum_ANDRI_TRI_WIBOWO__SH_M_HumTerdakwa_MOCHAMAD_IFAN.txt: PASS (Score: 86.7%)\n",
            "INFO:text_validation:Validating file: case_2024_TK1_Putusan_PN_SURABAYA_Nomor_46_Pid_Sus-TPK_2024_PN_Sby_Tanggal_20_September_2024__Penuntut_Umum_MUHAMMAD_FAKHRY__S_H___M_HTerdakwa_FARID_BIN_MOH__FUDOLI.txt\n",
            "INFO:text_validation:case_2024_TK1_Putusan_PN_SURABAYA_Nomor_46_Pid_Sus-TPK_2024_PN_Sby_Tanggal_20_September_2024__Penuntut_Umum_MUHAMMAD_FAKHRY__S_H___M_HTerdakwa_FARID_BIN_MOH__FUDOLI.txt: PASS (Score: 100.0%)\n",
            "INFO:text_validation:Validating file: case_2024_TK1_Putusan_PN_SURABAYA_Nomor_7_Pid_Sus-TPK_2024_PN_Sby_Tanggal_22_April_2024__Penuntut_Umum_Sandy_Septi_Murhanta_HidayatTerdakwa_ALEXANDER_KRISTIAN_DILIYANTO_SILAEN.txt\n",
            "INFO:text_validation:case_2024_TK1_Putusan_PN_SURABAYA_Nomor_7_Pid_Sus-TPK_2024_PN_Sby_Tanggal_22_April_2024__Penuntut_Umum_Sandy_Septi_Murhanta_HidayatTerdakwa_ALEXANDER_KRISTIAN_DILIYANTO_SILAEN.txt: PASS (Score: 100.0%)\n",
            "INFO:text_validation:Validating file: case_2024_TK1_Putusan_PN_SURABAYA_Nomor_147_Pid_Sus-TPK_2023_PN_Sby_Tanggal_2_April_2024__Penuntut_Umum_ANDRI_TRI_WIBOWO__SH_M_HumTerdakwa_SANUSI.txt\n",
            "INFO:text_validation:case_2024_TK1_Putusan_PN_SURABAYA_Nomor_147_Pid_Sus-TPK_2023_PN_Sby_Tanggal_2_April_2024__Penuntut_Umum_ANDRI_TRI_WIBOWO__SH_M_HumTerdakwa_SANUSI.txt: PASS (Score: 86.7%)\n",
            "INFO:text_validation:Validating file: case_2024_TK1_Putusan_PN_SURABAYA_Nomor_119_Pid_Sus-TPK_2023_PN_Sby_Tanggal_5_Maret_2024__Penuntut_Umum_NUR_RACHMANSYAH__S_H__M_H_Terdakwa_Drs__Wonggo_Prayitno__MM_.txt\n"
          ]
        },
        {
          "output_type": "stream",
          "name": "stdout",
          "text": [
            "PASS: case_2024_TK1_Putusan_PN_SURABAYA_Nomor_104_Pid_Sus-TPK_2024_PN_Sby_Tanggal_23_Desember_2024__Penuntut_Umum_DIAN_PRANATA_DEPARI__S_H__M_HTerdakwa_Edy_Suyitno_Bin_Kuswanto.txt (Score: 100.0%)\n",
            "[19/114] Validating: case_2024_TK1_Putusan_PN_SURABAYA_Nomor_146_Pid_Sus-TPK_2023_PN_Sby_Tanggal_2_April_2024__Penuntut_Umum_ANDRI_TRI_WIBOWO__SH_M_HumTerdakwa_KAREN_AGUNG_WIBOWO.txt\n",
            "PASS: case_2024_TK1_Putusan_PN_SURABAYA_Nomor_146_Pid_Sus-TPK_2023_PN_Sby_Tanggal_2_April_2024__Penuntut_Umum_ANDRI_TRI_WIBOWO__SH_M_HumTerdakwa_KAREN_AGUNG_WIBOWO.txt (Score: 86.7%)\n",
            "[20/114] Validating: case_2024_TK1_Putusan_PN_SURABAYA_Nomor_145_Pid_Sus-TPK_2023_PN_Sby_Tanggal_2_April_2024__Penuntut_Umum_ANDRI_TRI_WIBOWO__SH_M_HumTerdakwa_MOCHAMAD_IFAN.txt\n",
            "PASS: case_2024_TK1_Putusan_PN_SURABAYA_Nomor_145_Pid_Sus-TPK_2023_PN_Sby_Tanggal_2_April_2024__Penuntut_Umum_ANDRI_TRI_WIBOWO__SH_M_HumTerdakwa_MOCHAMAD_IFAN.txt (Score: 86.7%)\n",
            "[21/114] Validating: case_2024_TK1_Putusan_PN_SURABAYA_Nomor_46_Pid_Sus-TPK_2024_PN_Sby_Tanggal_20_September_2024__Penuntut_Umum_MUHAMMAD_FAKHRY__S_H___M_HTerdakwa_FARID_BIN_MOH__FUDOLI.txt\n",
            "PASS: case_2024_TK1_Putusan_PN_SURABAYA_Nomor_46_Pid_Sus-TPK_2024_PN_Sby_Tanggal_20_September_2024__Penuntut_Umum_MUHAMMAD_FAKHRY__S_H___M_HTerdakwa_FARID_BIN_MOH__FUDOLI.txt (Score: 100.0%)\n",
            "[22/114] Validating: case_2024_TK1_Putusan_PN_SURABAYA_Nomor_7_Pid_Sus-TPK_2024_PN_Sby_Tanggal_22_April_2024__Penuntut_Umum_Sandy_Septi_Murhanta_HidayatTerdakwa_ALEXANDER_KRISTIAN_DILIYANTO_SILAEN.txt\n",
            "PASS: case_2024_TK1_Putusan_PN_SURABAYA_Nomor_7_Pid_Sus-TPK_2024_PN_Sby_Tanggal_22_April_2024__Penuntut_Umum_Sandy_Septi_Murhanta_HidayatTerdakwa_ALEXANDER_KRISTIAN_DILIYANTO_SILAEN.txt (Score: 100.0%)\n",
            "[23/114] Validating: case_2024_TK1_Putusan_PN_SURABAYA_Nomor_147_Pid_Sus-TPK_2023_PN_Sby_Tanggal_2_April_2024__Penuntut_Umum_ANDRI_TRI_WIBOWO__SH_M_HumTerdakwa_SANUSI.txt\n",
            "PASS: case_2024_TK1_Putusan_PN_SURABAYA_Nomor_147_Pid_Sus-TPK_2023_PN_Sby_Tanggal_2_April_2024__Penuntut_Umum_ANDRI_TRI_WIBOWO__SH_M_HumTerdakwa_SANUSI.txt (Score: 86.7%)\n",
            "[24/114] Validating: case_2024_TK1_Putusan_PN_SURABAYA_Nomor_119_Pid_Sus-TPK_2023_PN_Sby_Tanggal_5_Maret_2024__Penuntut_Umum_NUR_RACHMANSYAH__S_H__M_H_Terdakwa_Drs__Wonggo_Prayitno__MM_.txt\n"
          ]
        },
        {
          "output_type": "stream",
          "name": "stderr",
          "text": [
            "INFO:text_validation:case_2024_TK1_Putusan_PN_SURABAYA_Nomor_119_Pid_Sus-TPK_2023_PN_Sby_Tanggal_5_Maret_2024__Penuntut_Umum_NUR_RACHMANSYAH__S_H__M_H_Terdakwa_Drs__Wonggo_Prayitno__MM_.txt: PASS (Score: 100.0%)\n",
            "INFO:text_validation:Validating file: case_2024_TK1_Putusan_PN_SURABAYA_Nomor_59_Pid_Sus-TPK_2024_PN_Sby_Tanggal_3_Oktober_2024__Penuntut_Umum_I_PUTU_KISNU_GUPTA__S_H_Terdakwa_ISTAFUDIN__S_H.txt\n",
            "INFO:text_validation:case_2024_TK1_Putusan_PN_SURABAYA_Nomor_59_Pid_Sus-TPK_2024_PN_Sby_Tanggal_3_Oktober_2024__Penuntut_Umum_I_PUTU_KISNU_GUPTA__S_H_Terdakwa_ISTAFUDIN__S_H.txt: PASS (Score: 100.0%)\n",
            "INFO:text_validation:Validating file: case_2024_TK1_Putusan_PN_SURABAYA_Nomor_29_Pid_Sus-TPK_2024_PN_Sby_Tanggal_29_Juli_2024__Penuntut_Umum_MUHAMMAD_NIZAR__S_H___M_HTerdakwa_Ir__DONNY_ANANTO_NILANTOKO__MP.txt\n",
            "INFO:text_validation:case_2024_TK1_Putusan_PN_SURABAYA_Nomor_29_Pid_Sus-TPK_2024_PN_Sby_Tanggal_29_Juli_2024__Penuntut_Umum_MUHAMMAD_NIZAR__S_H___M_HTerdakwa_Ir__DONNY_ANANTO_NILANTOKO__MP.txt: PASS (Score: 100.0%)\n",
            "INFO:text_validation:Validating file: case_2024_TK1_Putusan_PN_SURABAYA_Nomor_120_Pid_Sus-TPK_2023_PN_Sby_Tanggal_5_Maret_2024__Penuntut_Umum_NUR_RACHMANSYAH__S_H__M_H_Terdakwa_ARYA_LELANA_BIN_IMAM_SOEPARDI.txt\n"
          ]
        },
        {
          "output_type": "stream",
          "name": "stdout",
          "text": [
            "PASS: case_2024_TK1_Putusan_PN_SURABAYA_Nomor_119_Pid_Sus-TPK_2023_PN_Sby_Tanggal_5_Maret_2024__Penuntut_Umum_NUR_RACHMANSYAH__S_H__M_H_Terdakwa_Drs__Wonggo_Prayitno__MM_.txt (Score: 100.0%)\n",
            "[25/114] Validating: case_2024_TK1_Putusan_PN_SURABAYA_Nomor_59_Pid_Sus-TPK_2024_PN_Sby_Tanggal_3_Oktober_2024__Penuntut_Umum_I_PUTU_KISNU_GUPTA__S_H_Terdakwa_ISTAFUDIN__S_H.txt\n",
            "PASS: case_2024_TK1_Putusan_PN_SURABAYA_Nomor_59_Pid_Sus-TPK_2024_PN_Sby_Tanggal_3_Oktober_2024__Penuntut_Umum_I_PUTU_KISNU_GUPTA__S_H_Terdakwa_ISTAFUDIN__S_H.txt (Score: 100.0%)\n",
            "[26/114] Validating: case_2024_TK1_Putusan_PN_SURABAYA_Nomor_29_Pid_Sus-TPK_2024_PN_Sby_Tanggal_29_Juli_2024__Penuntut_Umum_MUHAMMAD_NIZAR__S_H___M_HTerdakwa_Ir__DONNY_ANANTO_NILANTOKO__MP.txt\n",
            "PASS: case_2024_TK1_Putusan_PN_SURABAYA_Nomor_29_Pid_Sus-TPK_2024_PN_Sby_Tanggal_29_Juli_2024__Penuntut_Umum_MUHAMMAD_NIZAR__S_H___M_HTerdakwa_Ir__DONNY_ANANTO_NILANTOKO__MP.txt (Score: 100.0%)\n",
            "[27/114] Validating: case_2024_TK1_Putusan_PN_SURABAYA_Nomor_120_Pid_Sus-TPK_2023_PN_Sby_Tanggal_5_Maret_2024__Penuntut_Umum_NUR_RACHMANSYAH__S_H__M_H_Terdakwa_ARYA_LELANA_BIN_IMAM_SOEPARDI.txt\n"
          ]
        },
        {
          "output_type": "stream",
          "name": "stderr",
          "text": [
            "INFO:text_validation:case_2024_TK1_Putusan_PN_SURABAYA_Nomor_120_Pid_Sus-TPK_2023_PN_Sby_Tanggal_5_Maret_2024__Penuntut_Umum_NUR_RACHMANSYAH__S_H__M_H_Terdakwa_ARYA_LELANA_BIN_IMAM_SOEPARDI.txt: PASS (Score: 100.0%)\n",
            "INFO:text_validation:Validating file: case_2024_TK1_Putusan_PN_SURABAYA_Nomor_81_Pid_Sus-TPK_2024_PN_Sby_Tanggal_9_Desember_2024__Penuntut_Umum_ANTON_WAHYUDI__S_H___MHTerdakwa_Ir__HENDRO_BUDI_SUSATYO.txt\n",
            "INFO:text_validation:case_2024_TK1_Putusan_PN_SURABAYA_Nomor_81_Pid_Sus-TPK_2024_PN_Sby_Tanggal_9_Desember_2024__Penuntut_Umum_ANTON_WAHYUDI__S_H___MHTerdakwa_Ir__HENDRO_BUDI_SUSATYO.txt: PASS (Score: 100.0%)\n",
            "INFO:text_validation:Validating file: case_2024_TK1_Putusan_PN_SURABAYA_Nomor_67_Pid_Sus-TPK_2024_PN_Sby_Tanggal_6_Desember_2024__Penuntut_Umum__SLAMET_PUJIONO__SH_Terdakwa__Ir__EDWIN_FITRIANTO__MM_.txt\n",
            "INFO:text_validation:case_2024_TK1_Putusan_PN_SURABAYA_Nomor_67_Pid_Sus-TPK_2024_PN_Sby_Tanggal_6_Desember_2024__Penuntut_Umum__SLAMET_PUJIONO__SH_Terdakwa__Ir__EDWIN_FITRIANTO__MM_.txt: PASS (Score: 100.0%)\n",
            "INFO:text_validation:Validating file: case_2024_TK1_Putusan_PN_SURABAYA_Nomor_74_Pid_Sus-TPK_2024_PN_Sby_Tanggal_16_Desember_2024__Penuntut_Umum_ADITIA_SULAEMAN__S_HTerdakwa_SAKRI_BIN_WADI.txt\n",
            "INFO:text_validation:case_2024_TK1_Putusan_PN_SURABAYA_Nomor_74_Pid_Sus-TPK_2024_PN_Sby_Tanggal_16_Desember_2024__Penuntut_Umum_ADITIA_SULAEMAN__S_HTerdakwa_SAKRI_BIN_WADI.txt: PASS (Score: 100.0%)\n",
            "INFO:text_validation:Validating file: case_2024_TK1_Putusan_PN_SURABAYA_Nomor_132_Pid_Sus-TPK_2023_PN_Sby_Tanggal_26_Maret_2024__Penuntut_Umum_JOHN_FRANKY_YANAFIA_ARIANDI__S_H___M_H_Terdakwa_SYA_RONY_ALIEM.txt\n"
          ]
        },
        {
          "output_type": "stream",
          "name": "stdout",
          "text": [
            "PASS: case_2024_TK1_Putusan_PN_SURABAYA_Nomor_120_Pid_Sus-TPK_2023_PN_Sby_Tanggal_5_Maret_2024__Penuntut_Umum_NUR_RACHMANSYAH__S_H__M_H_Terdakwa_ARYA_LELANA_BIN_IMAM_SOEPARDI.txt (Score: 100.0%)\n",
            "[28/114] Validating: case_2024_TK1_Putusan_PN_SURABAYA_Nomor_81_Pid_Sus-TPK_2024_PN_Sby_Tanggal_9_Desember_2024__Penuntut_Umum_ANTON_WAHYUDI__S_H___MHTerdakwa_Ir__HENDRO_BUDI_SUSATYO.txt\n",
            "PASS: case_2024_TK1_Putusan_PN_SURABAYA_Nomor_81_Pid_Sus-TPK_2024_PN_Sby_Tanggal_9_Desember_2024__Penuntut_Umum_ANTON_WAHYUDI__S_H___MHTerdakwa_Ir__HENDRO_BUDI_SUSATYO.txt (Score: 100.0%)\n",
            "[29/114] Validating: case_2024_TK1_Putusan_PN_SURABAYA_Nomor_67_Pid_Sus-TPK_2024_PN_Sby_Tanggal_6_Desember_2024__Penuntut_Umum__SLAMET_PUJIONO__SH_Terdakwa__Ir__EDWIN_FITRIANTO__MM_.txt\n",
            "PASS: case_2024_TK1_Putusan_PN_SURABAYA_Nomor_67_Pid_Sus-TPK_2024_PN_Sby_Tanggal_6_Desember_2024__Penuntut_Umum__SLAMET_PUJIONO__SH_Terdakwa__Ir__EDWIN_FITRIANTO__MM_.txt (Score: 100.0%)\n",
            "[30/114] Validating: case_2024_TK1_Putusan_PN_SURABAYA_Nomor_74_Pid_Sus-TPK_2024_PN_Sby_Tanggal_16_Desember_2024__Penuntut_Umum_ADITIA_SULAEMAN__S_HTerdakwa_SAKRI_BIN_WADI.txt\n",
            "PASS: case_2024_TK1_Putusan_PN_SURABAYA_Nomor_74_Pid_Sus-TPK_2024_PN_Sby_Tanggal_16_Desember_2024__Penuntut_Umum_ADITIA_SULAEMAN__S_HTerdakwa_SAKRI_BIN_WADI.txt (Score: 100.0%)\n",
            "[31/114] Validating: case_2024_TK1_Putusan_PN_SURABAYA_Nomor_132_Pid_Sus-TPK_2023_PN_Sby_Tanggal_26_Maret_2024__Penuntut_Umum_JOHN_FRANKY_YANAFIA_ARIANDI__S_H___M_H_Terdakwa_SYA_RONY_ALIEM.txt\n"
          ]
        },
        {
          "output_type": "stream",
          "name": "stderr",
          "text": [
            "INFO:text_validation:case_2024_TK1_Putusan_PN_SURABAYA_Nomor_132_Pid_Sus-TPK_2023_PN_Sby_Tanggal_26_Maret_2024__Penuntut_Umum_JOHN_FRANKY_YANAFIA_ARIANDI__S_H___M_H_Terdakwa_SYA_RONY_ALIEM.txt: PASS (Score: 100.0%)\n",
            "INFO:text_validation:Validating file: case_2024_TK1_Putusan_PN_SURABAYA_Nomor_78_Pid_Sus-TPK_2024_PN_Sby_Tanggal_16_Desember_2024__Penuntut_Umum_Nur_Ngali_SH_MHTerdakwa_ADRI_YANTO__SE.txt\n",
            "INFO:text_validation:case_2024_TK1_Putusan_PN_SURABAYA_Nomor_78_Pid_Sus-TPK_2024_PN_Sby_Tanggal_16_Desember_2024__Penuntut_Umum_Nur_Ngali_SH_MHTerdakwa_ADRI_YANTO__SE.txt: PASS (Score: 100.0%)\n",
            "INFO:text_validation:Validating file: case_2024_TK1_Putusan_PN_SURABAYA_Nomor_148_Pid_Sus-TPK_2023_PN_Sby_Tanggal_16_April_2024__Penuntut_Umum_ANTON_WAHYUDI__S_H___MHTerdakwa_BAGUS_CAHYO_KURNIAWAN__S_P.txt\n",
            "INFO:text_validation:case_2024_TK1_Putusan_PN_SURABAYA_Nomor_148_Pid_Sus-TPK_2023_PN_Sby_Tanggal_16_April_2024__Penuntut_Umum_ANTON_WAHYUDI__S_H___MHTerdakwa_BAGUS_CAHYO_KURNIAWAN__S_P.txt: PASS (Score: 86.7%)\n",
            "INFO:text_validation:Validating file: case_2024_TK1_Putusan_PN_SURABAYA_Nomor_64_Pid_Sus-TPK_2024_PN_Sby_Tanggal_16_Oktober_2024__Penuntut_Umum_DIAN_PRANATA_DEPARI__S_H__M_HTerdakwa_Unang_Rahardjo_S_H__Bin_Suharyono.txt\n",
            "INFO:text_validation:case_2024_TK1_Putusan_PN_SURABAYA_Nomor_64_Pid_Sus-TPK_2024_PN_Sby_Tanggal_16_Oktober_2024__Penuntut_Umum_DIAN_PRANATA_DEPARI__S_H__M_HTerdakwa_Unang_Rahardjo_S_H__Bin_Suharyono.txt: PASS (Score: 100.0%)\n",
            "INFO:text_validation:Validating file: case_2024_TK1_Putusan_PN_SURABAYA_Nomor_144_Pid_Sus-TPK_2023_PN_Sby_Tanggal_16_April_2024__Penuntut_Umum_ETY_BOEDI_HARTININGSIH__SHTerdakwa_1_ANDI_WIBOWO_KUSUMO_Bin_MARGONO2_WAHYUDI_Bin_PURWADI.txt\n",
            "INFO:text_validation:case_2024_TK1_Putusan_PN_SURABAYA_Nomor_144_Pid_Sus-TPK_2023_PN_Sby_Tanggal_16_April_2024__Penuntut_Umum_ETY_BOEDI_HARTININGSIH__SHTerdakwa_1_ANDI_WIBOWO_KUSUMO_Bin_MARGONO2_WAHYUDI_Bin_PURWADI.txt: PASS (Score: 100.0%)\n",
            "INFO:text_validation:Validating file: case_2024_TK1_Putusan_PN_SURABAYA_Nomor_13_Pid_Sus-TPK_2024_PN_Sby_Tanggal_2_Mei_2024__Penuntut_Umum_Muslimin__S_H___M_H_Terdakwa_SUTOYO__S_M_.txt\n"
          ]
        },
        {
          "output_type": "stream",
          "name": "stdout",
          "text": [
            "PASS: case_2024_TK1_Putusan_PN_SURABAYA_Nomor_132_Pid_Sus-TPK_2023_PN_Sby_Tanggal_26_Maret_2024__Penuntut_Umum_JOHN_FRANKY_YANAFIA_ARIANDI__S_H___M_H_Terdakwa_SYA_RONY_ALIEM.txt (Score: 100.0%)\n",
            "[32/114] Validating: case_2024_TK1_Putusan_PN_SURABAYA_Nomor_78_Pid_Sus-TPK_2024_PN_Sby_Tanggal_16_Desember_2024__Penuntut_Umum_Nur_Ngali_SH_MHTerdakwa_ADRI_YANTO__SE.txt\n",
            "PASS: case_2024_TK1_Putusan_PN_SURABAYA_Nomor_78_Pid_Sus-TPK_2024_PN_Sby_Tanggal_16_Desember_2024__Penuntut_Umum_Nur_Ngali_SH_MHTerdakwa_ADRI_YANTO__SE.txt (Score: 100.0%)\n",
            "[33/114] Validating: case_2024_TK1_Putusan_PN_SURABAYA_Nomor_148_Pid_Sus-TPK_2023_PN_Sby_Tanggal_16_April_2024__Penuntut_Umum_ANTON_WAHYUDI__S_H___MHTerdakwa_BAGUS_CAHYO_KURNIAWAN__S_P.txt\n",
            "PASS: case_2024_TK1_Putusan_PN_SURABAYA_Nomor_148_Pid_Sus-TPK_2023_PN_Sby_Tanggal_16_April_2024__Penuntut_Umum_ANTON_WAHYUDI__S_H___MHTerdakwa_BAGUS_CAHYO_KURNIAWAN__S_P.txt (Score: 86.7%)\n",
            "[34/114] Validating: case_2024_TK1_Putusan_PN_SURABAYA_Nomor_64_Pid_Sus-TPK_2024_PN_Sby_Tanggal_16_Oktober_2024__Penuntut_Umum_DIAN_PRANATA_DEPARI__S_H__M_HTerdakwa_Unang_Rahardjo_S_H__Bin_Suharyono.txt\n",
            "PASS: case_2024_TK1_Putusan_PN_SURABAYA_Nomor_64_Pid_Sus-TPK_2024_PN_Sby_Tanggal_16_Oktober_2024__Penuntut_Umum_DIAN_PRANATA_DEPARI__S_H__M_HTerdakwa_Unang_Rahardjo_S_H__Bin_Suharyono.txt (Score: 100.0%)\n",
            "[35/114] Validating: case_2024_TK1_Putusan_PN_SURABAYA_Nomor_144_Pid_Sus-TPK_2023_PN_Sby_Tanggal_16_April_2024__Penuntut_Umum_ETY_BOEDI_HARTININGSIH__SHTerdakwa_1_ANDI_WIBOWO_KUSUMO_Bin_MARGONO2_WAHYUDI_Bin_PURWADI.txt\n",
            "PASS: case_2024_TK1_Putusan_PN_SURABAYA_Nomor_144_Pid_Sus-TPK_2023_PN_Sby_Tanggal_16_April_2024__Penuntut_Umum_ETY_BOEDI_HARTININGSIH__SHTerdakwa_1_ANDI_WIBOWO_KUSUMO_Bin_MARGONO2_WAHYUDI_Bin_PURWADI.txt (Score: 100.0%)\n",
            "[36/114] Validating: case_2024_TK1_Putusan_PN_SURABAYA_Nomor_13_Pid_Sus-TPK_2024_PN_Sby_Tanggal_2_Mei_2024__Penuntut_Umum_Muslimin__S_H___M_H_Terdakwa_SUTOYO__S_M_.txt\n"
          ]
        },
        {
          "output_type": "stream",
          "name": "stderr",
          "text": [
            "INFO:text_validation:case_2024_TK1_Putusan_PN_SURABAYA_Nomor_13_Pid_Sus-TPK_2024_PN_Sby_Tanggal_2_Mei_2024__Penuntut_Umum_Muslimin__S_H___M_H_Terdakwa_SUTOYO__S_M_.txt: PASS (Score: 100.0%)\n",
            "INFO:text_validation:Validating file: case_2024_TK1_Putusan_PN_SURABAYA_Nomor_125_Pid_Sus-TPK_2023_PN_Sby_Tanggal_15_Maret_2024__Penuntut_Umum_YUSUFI_FITROHANSYAH__S_H_Terdakwa_JOKO_PURNOMO_BIN_Alm__SUDARMO.txt\n",
            "INFO:text_validation:case_2024_TK1_Putusan_PN_SURABAYA_Nomor_125_Pid_Sus-TPK_2023_PN_Sby_Tanggal_15_Maret_2024__Penuntut_Umum_YUSUFI_FITROHANSYAH__S_H_Terdakwa_JOKO_PURNOMO_BIN_Alm__SUDARMO.txt: PASS (Score: 100.0%)\n",
            "INFO:text_validation:Validating file: case_2024_TK1_Putusan_PN_SURABAYA_Nomor_143_Pid_Sus-TPK_2023_PN_Sby_Tanggal_5_Maret_2024__Penuntut_Umum_NUR_RACHMANSYAH__S_H__M_H_Terdakwa_LIAUW_INGGARWATI.txt\n",
            "INFO:text_validation:case_2024_TK1_Putusan_PN_SURABAYA_Nomor_143_Pid_Sus-TPK_2023_PN_Sby_Tanggal_5_Maret_2024__Penuntut_Umum_NUR_RACHMANSYAH__S_H__M_H_Terdakwa_LIAUW_INGGARWATI.txt: PASS (Score: 86.7%)\n",
            "INFO:text_validation:Validating file: case_2024_TK1_Putusan_PN_SURABAYA_Nomor_141_Pid_Sus-TPK_2023_PN_Sby_Tanggal_25_April_2024__Penuntut_Umum_ANIK_PARTINI__SH_Terdakwa_Drs__ZUL_KORNEN_AHMAD.txt\n",
            "INFO:text_validation:case_2024_TK1_Putusan_PN_SURABAYA_Nomor_141_Pid_Sus-TPK_2023_PN_Sby_Tanggal_25_April_2024__Penuntut_Umum_ANIK_PARTINI__SH_Terdakwa_Drs__ZUL_KORNEN_AHMAD.txt: PASS (Score: 100.0%)\n",
            "INFO:text_validation:Validating file: case_2024_TK1_Putusan_PN_SURABAYA_Nomor_19_Pid_Sus-TPK_2024_PN_Sby_Tanggal_10_Juli_2024__Penuntut_Umum_Nur_Ngali_SH_MHTerdakwa_AGUSTIN_WULANDARI.txt\n",
            "INFO:text_validation:case_2024_TK1_Putusan_PN_SURABAYA_Nomor_19_Pid_Sus-TPK_2024_PN_Sby_Tanggal_10_Juli_2024__Penuntut_Umum_Nur_Ngali_SH_MHTerdakwa_AGUSTIN_WULANDARI.txt: PASS (Score: 100.0%)\n",
            "INFO:text_validation:Validating file: case_2024_TK1_Putusan_PN_SURABAYA_Nomor_2_Pid_Sus-TPK_2024_PN_Sby_Tanggal_6_Maret_2024__Penuntut_Umum_GARUDA_CAKTI_VIRA_TAMA__SH_Terdakwa_KAMDI_BIN_SUGITO_PONIJAN.txt\n",
            "INFO:text_validation:case_2024_TK1_Putusan_PN_SURABAYA_Nomor_2_Pid_Sus-TPK_2024_PN_Sby_Tanggal_6_Maret_2024__Penuntut_Umum_GARUDA_CAKTI_VIRA_TAMA__SH_Terdakwa_KAMDI_BIN_SUGITO_PONIJAN.txt: PASS (Score: 100.0%)\n",
            "INFO:text_validation:Validating file: case_2024_TK1_Putusan_PN_SURABAYA_Nomor_124_Pid_Sus-TPK_2023_PN_Sby_Tanggal_23_Februari_2024__Penuntut_Umum_NUR_RACHMANSYAH__S_H___M_H_Terdakwa_CHRISTOPHER_O_DEWABRATA.txt\n"
          ]
        },
        {
          "output_type": "stream",
          "name": "stdout",
          "text": [
            "PASS: case_2024_TK1_Putusan_PN_SURABAYA_Nomor_13_Pid_Sus-TPK_2024_PN_Sby_Tanggal_2_Mei_2024__Penuntut_Umum_Muslimin__S_H___M_H_Terdakwa_SUTOYO__S_M_.txt (Score: 100.0%)\n",
            "[37/114] Validating: case_2024_TK1_Putusan_PN_SURABAYA_Nomor_125_Pid_Sus-TPK_2023_PN_Sby_Tanggal_15_Maret_2024__Penuntut_Umum_YUSUFI_FITROHANSYAH__S_H_Terdakwa_JOKO_PURNOMO_BIN_Alm__SUDARMO.txt\n",
            "PASS: case_2024_TK1_Putusan_PN_SURABAYA_Nomor_125_Pid_Sus-TPK_2023_PN_Sby_Tanggal_15_Maret_2024__Penuntut_Umum_YUSUFI_FITROHANSYAH__S_H_Terdakwa_JOKO_PURNOMO_BIN_Alm__SUDARMO.txt (Score: 100.0%)\n",
            "[38/114] Validating: case_2024_TK1_Putusan_PN_SURABAYA_Nomor_143_Pid_Sus-TPK_2023_PN_Sby_Tanggal_5_Maret_2024__Penuntut_Umum_NUR_RACHMANSYAH__S_H__M_H_Terdakwa_LIAUW_INGGARWATI.txt\n",
            "PASS: case_2024_TK1_Putusan_PN_SURABAYA_Nomor_143_Pid_Sus-TPK_2023_PN_Sby_Tanggal_5_Maret_2024__Penuntut_Umum_NUR_RACHMANSYAH__S_H__M_H_Terdakwa_LIAUW_INGGARWATI.txt (Score: 86.7%)\n",
            "[39/114] Validating: case_2024_TK1_Putusan_PN_SURABAYA_Nomor_141_Pid_Sus-TPK_2023_PN_Sby_Tanggal_25_April_2024__Penuntut_Umum_ANIK_PARTINI__SH_Terdakwa_Drs__ZUL_KORNEN_AHMAD.txt\n",
            "PASS: case_2024_TK1_Putusan_PN_SURABAYA_Nomor_141_Pid_Sus-TPK_2023_PN_Sby_Tanggal_25_April_2024__Penuntut_Umum_ANIK_PARTINI__SH_Terdakwa_Drs__ZUL_KORNEN_AHMAD.txt (Score: 100.0%)\n",
            "[40/114] Validating: case_2024_TK1_Putusan_PN_SURABAYA_Nomor_19_Pid_Sus-TPK_2024_PN_Sby_Tanggal_10_Juli_2024__Penuntut_Umum_Nur_Ngali_SH_MHTerdakwa_AGUSTIN_WULANDARI.txt\n",
            "PASS: case_2024_TK1_Putusan_PN_SURABAYA_Nomor_19_Pid_Sus-TPK_2024_PN_Sby_Tanggal_10_Juli_2024__Penuntut_Umum_Nur_Ngali_SH_MHTerdakwa_AGUSTIN_WULANDARI.txt (Score: 100.0%)\n",
            "[41/114] Validating: case_2024_TK1_Putusan_PN_SURABAYA_Nomor_2_Pid_Sus-TPK_2024_PN_Sby_Tanggal_6_Maret_2024__Penuntut_Umum_GARUDA_CAKTI_VIRA_TAMA__SH_Terdakwa_KAMDI_BIN_SUGITO_PONIJAN.txt\n",
            "PASS: case_2024_TK1_Putusan_PN_SURABAYA_Nomor_2_Pid_Sus-TPK_2024_PN_Sby_Tanggal_6_Maret_2024__Penuntut_Umum_GARUDA_CAKTI_VIRA_TAMA__SH_Terdakwa_KAMDI_BIN_SUGITO_PONIJAN.txt (Score: 100.0%)\n",
            "[42/114] Validating: case_2024_TK1_Putusan_PN_SURABAYA_Nomor_124_Pid_Sus-TPK_2023_PN_Sby_Tanggal_23_Februari_2024__Penuntut_Umum_NUR_RACHMANSYAH__S_H___M_H_Terdakwa_CHRISTOPHER_O_DEWABRATA.txt\n"
          ]
        },
        {
          "output_type": "stream",
          "name": "stderr",
          "text": [
            "INFO:text_validation:case_2024_TK1_Putusan_PN_SURABAYA_Nomor_124_Pid_Sus-TPK_2023_PN_Sby_Tanggal_23_Februari_2024__Penuntut_Umum_NUR_RACHMANSYAH__S_H___M_H_Terdakwa_CHRISTOPHER_O_DEWABRATA.txt: PASS (Score: 100.0%)\n",
            "INFO:text_validation:Validating file: case_2024_TK1_Putusan_PN_SURABAYA_Nomor_45_Pid_Sus-TPK_2024_PN_Sby_Tanggal_9_Oktober_2024__Penuntut_Umum_ARIF_USMAN__SH__MHTerdakwa_SISKA_WATI.txt\n",
            "INFO:text_validation:case_2024_TK1_Putusan_PN_SURABAYA_Nomor_45_Pid_Sus-TPK_2024_PN_Sby_Tanggal_9_Oktober_2024__Penuntut_Umum_ARIF_USMAN__SH__MHTerdakwa_SISKA_WATI.txt: PASS (Score: 100.0%)\n",
            "INFO:text_validation:Validating file: case_2024_TK1_Putusan_PN_SURABAYA_Nomor_66_Pid_Sus-TPK_2024_PN_Sby_Tanggal_25_Nopember_2024__Penuntut_Umum_GEO_DWI_NOVRIAN__SHTerdakwa_IKHWAN_AROFIDANA__SE_bin_H__HASAN_ANWAR_alm.txt\n",
            "INFO:text_validation:case_2024_TK1_Putusan_PN_SURABAYA_Nomor_66_Pid_Sus-TPK_2024_PN_Sby_Tanggal_25_Nopember_2024__Penuntut_Umum_GEO_DWI_NOVRIAN__SHTerdakwa_IKHWAN_AROFIDANA__SE_bin_H__HASAN_ANWAR_alm.txt: PASS (Score: 100.0%)\n",
            "INFO:text_validation:Validating file: case_2024_TK1_Putusan_PN_SURABAYA_Nomor_1_Pid_Sus-TPK_2024_PN_Sby_Tanggal_17_Mei_2024__Penuntut_Umum_Adisti_Pratama_Ferevaldy__S_HTerdakwa_H__HARI_BIN_AMIN.txt\n",
            "INFO:text_validation:case_2024_TK1_Putusan_PN_SURABAYA_Nomor_1_Pid_Sus-TPK_2024_PN_Sby_Tanggal_17_Mei_2024__Penuntut_Umum_Adisti_Pratama_Ferevaldy__S_HTerdakwa_H__HARI_BIN_AMIN.txt: PASS (Score: 100.0%)\n",
            "INFO:text_validation:Validating file: case_2024_TK1_Putusan_PN_SURABAYA_Nomor_68_Pid_Sus-TPK_2024_PN_Sby_Tanggal_6_Desember_2024__Penuntut_Umum_SLAMET_PUJIONO__SHTerdakwa_SUBEKI_bin_KASTUBI.txt\n"
          ]
        },
        {
          "output_type": "stream",
          "name": "stdout",
          "text": [
            "PASS: case_2024_TK1_Putusan_PN_SURABAYA_Nomor_124_Pid_Sus-TPK_2023_PN_Sby_Tanggal_23_Februari_2024__Penuntut_Umum_NUR_RACHMANSYAH__S_H___M_H_Terdakwa_CHRISTOPHER_O_DEWABRATA.txt (Score: 100.0%)\n",
            "[43/114] Validating: case_2024_TK1_Putusan_PN_SURABAYA_Nomor_45_Pid_Sus-TPK_2024_PN_Sby_Tanggal_9_Oktober_2024__Penuntut_Umum_ARIF_USMAN__SH__MHTerdakwa_SISKA_WATI.txt\n",
            "PASS: case_2024_TK1_Putusan_PN_SURABAYA_Nomor_45_Pid_Sus-TPK_2024_PN_Sby_Tanggal_9_Oktober_2024__Penuntut_Umum_ARIF_USMAN__SH__MHTerdakwa_SISKA_WATI.txt (Score: 100.0%)\n",
            "[44/114] Validating: case_2024_TK1_Putusan_PN_SURABAYA_Nomor_66_Pid_Sus-TPK_2024_PN_Sby_Tanggal_25_Nopember_2024__Penuntut_Umum_GEO_DWI_NOVRIAN__SHTerdakwa_IKHWAN_AROFIDANA__SE_bin_H__HASAN_ANWAR_alm.txt\n",
            "PASS: case_2024_TK1_Putusan_PN_SURABAYA_Nomor_66_Pid_Sus-TPK_2024_PN_Sby_Tanggal_25_Nopember_2024__Penuntut_Umum_GEO_DWI_NOVRIAN__SHTerdakwa_IKHWAN_AROFIDANA__SE_bin_H__HASAN_ANWAR_alm.txt (Score: 100.0%)\n",
            "[45/114] Validating: case_2024_TK1_Putusan_PN_SURABAYA_Nomor_1_Pid_Sus-TPK_2024_PN_Sby_Tanggal_17_Mei_2024__Penuntut_Umum_Adisti_Pratama_Ferevaldy__S_HTerdakwa_H__HARI_BIN_AMIN.txt\n",
            "PASS: case_2024_TK1_Putusan_PN_SURABAYA_Nomor_1_Pid_Sus-TPK_2024_PN_Sby_Tanggal_17_Mei_2024__Penuntut_Umum_Adisti_Pratama_Ferevaldy__S_HTerdakwa_H__HARI_BIN_AMIN.txt (Score: 100.0%)\n",
            "[46/114] Validating: case_2024_TK1_Putusan_PN_SURABAYA_Nomor_68_Pid_Sus-TPK_2024_PN_Sby_Tanggal_6_Desember_2024__Penuntut_Umum_SLAMET_PUJIONO__SHTerdakwa_SUBEKI_bin_KASTUBI.txt\n"
          ]
        },
        {
          "output_type": "stream",
          "name": "stderr",
          "text": [
            "INFO:text_validation:case_2024_TK1_Putusan_PN_SURABAYA_Nomor_68_Pid_Sus-TPK_2024_PN_Sby_Tanggal_6_Desember_2024__Penuntut_Umum_SLAMET_PUJIONO__SHTerdakwa_SUBEKI_bin_KASTUBI.txt: PASS (Score: 100.0%)\n",
            "INFO:text_validation:Validating file: case_2024_TK1_Putusan_PN_SURABAYA_Nomor_65_Pid_Sus-TPK_2024_PN_Sby_Tanggal_19_Nopember_2024__Penuntut_Umum_Moch__Taufiq_Ismail__S_HTerdakwa_MUSTAQIM__S_T__BIN_MUSLIMIN_HAG_ALM.txt\n",
            "INFO:text_validation:case_2024_TK1_Putusan_PN_SURABAYA_Nomor_65_Pid_Sus-TPK_2024_PN_Sby_Tanggal_19_Nopember_2024__Penuntut_Umum_Moch__Taufiq_Ismail__S_HTerdakwa_MUSTAQIM__S_T__BIN_MUSLIMIN_HAG_ALM.txt: PASS (Score: 100.0%)\n",
            "INFO:text_validation:Validating file: case_2024_TK1_Putusan_PN_SURABAYA_Nomor_122_Pid_Sus-TPK_2023_PN_Sby_Tanggal_19_Maret_2024__Penuntut_Umum_SETYO_ADHI_WICAKSONO__SH_MH_Terdakwa_PANTJA_PRASTAWAN_HERU_KRISMANTO.txt\n",
            "INFO:text_validation:case_2024_TK1_Putusan_PN_SURABAYA_Nomor_122_Pid_Sus-TPK_2023_PN_Sby_Tanggal_19_Maret_2024__Penuntut_Umum_SETYO_ADHI_WICAKSONO__SH_MH_Terdakwa_PANTJA_PRASTAWAN_HERU_KRISMANTO.txt: PASS (Score: 100.0%)\n",
            "INFO:text_validation:Validating file: case_2024_TK1_Putusan_PN_SURABAYA_Nomor_55_Pid_Sus-TPK_2024_PN_Sby_Tanggal_18_Oktober_2024__Penuntut_Umum_Martina_Peristyanti__S_H___MBATerdakwa_Soemarno_Bin_Pakis.txt\n"
          ]
        },
        {
          "output_type": "stream",
          "name": "stdout",
          "text": [
            "PASS: case_2024_TK1_Putusan_PN_SURABAYA_Nomor_68_Pid_Sus-TPK_2024_PN_Sby_Tanggal_6_Desember_2024__Penuntut_Umum_SLAMET_PUJIONO__SHTerdakwa_SUBEKI_bin_KASTUBI.txt (Score: 100.0%)\n",
            "[47/114] Validating: case_2024_TK1_Putusan_PN_SURABAYA_Nomor_65_Pid_Sus-TPK_2024_PN_Sby_Tanggal_19_Nopember_2024__Penuntut_Umum_Moch__Taufiq_Ismail__S_HTerdakwa_MUSTAQIM__S_T__BIN_MUSLIMIN_HAG_ALM.txt\n",
            "PASS: case_2024_TK1_Putusan_PN_SURABAYA_Nomor_65_Pid_Sus-TPK_2024_PN_Sby_Tanggal_19_Nopember_2024__Penuntut_Umum_Moch__Taufiq_Ismail__S_HTerdakwa_MUSTAQIM__S_T__BIN_MUSLIMIN_HAG_ALM.txt (Score: 100.0%)\n",
            "[48/114] Validating: case_2024_TK1_Putusan_PN_SURABAYA_Nomor_122_Pid_Sus-TPK_2023_PN_Sby_Tanggal_19_Maret_2024__Penuntut_Umum_SETYO_ADHI_WICAKSONO__SH_MH_Terdakwa_PANTJA_PRASTAWAN_HERU_KRISMANTO.txt\n",
            "PASS: case_2024_TK1_Putusan_PN_SURABAYA_Nomor_122_Pid_Sus-TPK_2023_PN_Sby_Tanggal_19_Maret_2024__Penuntut_Umum_SETYO_ADHI_WICAKSONO__SH_MH_Terdakwa_PANTJA_PRASTAWAN_HERU_KRISMANTO.txt (Score: 100.0%)\n",
            "[49/114] Validating: case_2024_TK1_Putusan_PN_SURABAYA_Nomor_55_Pid_Sus-TPK_2024_PN_Sby_Tanggal_18_Oktober_2024__Penuntut_Umum_Martina_Peristyanti__S_H___MBATerdakwa_Soemarno_Bin_Pakis.txt\n"
          ]
        },
        {
          "output_type": "stream",
          "name": "stderr",
          "text": [
            "INFO:text_validation:case_2024_TK1_Putusan_PN_SURABAYA_Nomor_55_Pid_Sus-TPK_2024_PN_Sby_Tanggal_18_Oktober_2024__Penuntut_Umum_Martina_Peristyanti__S_H___MBATerdakwa_Soemarno_Bin_Pakis.txt: PASS (Score: 100.0%)\n",
            "INFO:text_validation:Validating file: case_2024_TK1_Putusan_PN_SURABAYA_Nomor_82_Pid_Sus-TPK_2024_PN_Sby_Tanggal_9_Desember_2024__Penuntut_Umum_ANTON_WAHYUDI__S_H___MHTerdakwa_FARID_RIZA_MAULANA.txt\n",
            "INFO:text_validation:case_2024_TK1_Putusan_PN_SURABAYA_Nomor_82_Pid_Sus-TPK_2024_PN_Sby_Tanggal_9_Desember_2024__Penuntut_Umum_ANTON_WAHYUDI__S_H___MHTerdakwa_FARID_RIZA_MAULANA.txt: PASS (Score: 100.0%)\n",
            "INFO:text_validation:Validating file: case_2024_TK1_Putusan_PN_SURABAYA_Nomor_121_Pid_Sus-TPK_2023_PN_Sby_Tanggal_19_Maret_2024__Penuntut_Umum_SETYO_ADHI_WICAKSONO__SH_MH_Terdakwa_RIKA_SURTIKA.txt\n",
            "INFO:text_validation:case_2024_TK1_Putusan_PN_SURABAYA_Nomor_121_Pid_Sus-TPK_2023_PN_Sby_Tanggal_19_Maret_2024__Penuntut_Umum_SETYO_ADHI_WICAKSONO__SH_MH_Terdakwa_RIKA_SURTIKA.txt: PASS (Score: 100.0%)\n",
            "INFO:text_validation:Validating file: case_2024_TK1_Putusan_PN_SURABAYA_Nomor_131_Pid_Sus-TPK_2023_PN_Sby_Tanggal_5_April_2024__Penuntut_Umum_Moch__Taufiq_Ismail__S_HTerdakwa_Drs__HERI_EKO_WAHYUDI_ARIEPRADIPTO_anak_dari_EDUARDUS_RUSDRUJITO.txt\n"
          ]
        },
        {
          "output_type": "stream",
          "name": "stdout",
          "text": [
            "PASS: case_2024_TK1_Putusan_PN_SURABAYA_Nomor_55_Pid_Sus-TPK_2024_PN_Sby_Tanggal_18_Oktober_2024__Penuntut_Umum_Martina_Peristyanti__S_H___MBATerdakwa_Soemarno_Bin_Pakis.txt (Score: 100.0%)\n",
            "[50/114] Validating: case_2024_TK1_Putusan_PN_SURABAYA_Nomor_82_Pid_Sus-TPK_2024_PN_Sby_Tanggal_9_Desember_2024__Penuntut_Umum_ANTON_WAHYUDI__S_H___MHTerdakwa_FARID_RIZA_MAULANA.txt\n",
            "PASS: case_2024_TK1_Putusan_PN_SURABAYA_Nomor_82_Pid_Sus-TPK_2024_PN_Sby_Tanggal_9_Desember_2024__Penuntut_Umum_ANTON_WAHYUDI__S_H___MHTerdakwa_FARID_RIZA_MAULANA.txt (Score: 100.0%)\n",
            "[51/114] Validating: case_2024_TK1_Putusan_PN_SURABAYA_Nomor_121_Pid_Sus-TPK_2023_PN_Sby_Tanggal_19_Maret_2024__Penuntut_Umum_SETYO_ADHI_WICAKSONO__SH_MH_Terdakwa_RIKA_SURTIKA.txt\n",
            "PASS: case_2024_TK1_Putusan_PN_SURABAYA_Nomor_121_Pid_Sus-TPK_2023_PN_Sby_Tanggal_19_Maret_2024__Penuntut_Umum_SETYO_ADHI_WICAKSONO__SH_MH_Terdakwa_RIKA_SURTIKA.txt (Score: 100.0%)\n",
            "[52/114] Validating: case_2024_TK1_Putusan_PN_SURABAYA_Nomor_131_Pid_Sus-TPK_2023_PN_Sby_Tanggal_5_April_2024__Penuntut_Umum_Moch__Taufiq_Ismail__S_HTerdakwa_Drs__HERI_EKO_WAHYUDI_ARIEPRADIPTO_anak_dari_EDUARDUS_RUSDRUJITO.txt\n"
          ]
        },
        {
          "output_type": "stream",
          "name": "stderr",
          "text": [
            "INFO:text_validation:case_2024_TK1_Putusan_PN_SURABAYA_Nomor_131_Pid_Sus-TPK_2023_PN_Sby_Tanggal_5_April_2024__Penuntut_Umum_Moch__Taufiq_Ismail__S_HTerdakwa_Drs__HERI_EKO_WAHYUDI_ARIEPRADIPTO_anak_dari_EDUARDUS_RUSDRUJITO.txt: PASS (Score: 100.0%)\n",
            "INFO:text_validation:Validating file: case_2024_TK1_Putusan_PN_SURABAYA_Nomor_49_Pid_Sus-TPK_2024_PN_Sby_Tanggal_5_September_2024__Penuntut_Umum_GIGIH_BENAH_RENDRA__SH___MHTerdakwa_JAELANI_Bin__Alm__JARKASI.txt\n",
            "INFO:text_validation:case_2024_TK1_Putusan_PN_SURABAYA_Nomor_49_Pid_Sus-TPK_2024_PN_Sby_Tanggal_5_September_2024__Penuntut_Umum_GIGIH_BENAH_RENDRA__SH___MHTerdakwa_JAELANI_Bin__Alm__JARKASI.txt: PASS (Score: 100.0%)\n",
            "INFO:text_validation:Validating file: case_2024_TK1_Putusan_PN_SURABAYA_Nomor_104_Pid_Sus-TPK_2023_PN_Sby_Tanggal_19_Februari_2024__Penuntut_Umum_Nur_Ngali_SH_MHTerdakwa_ABDUL_MALIK_MUJIONO.txt\n",
            "INFO:text_validation:case_2024_TK1_Putusan_PN_SURABAYA_Nomor_104_Pid_Sus-TPK_2023_PN_Sby_Tanggal_19_Februari_2024__Penuntut_Umum_Nur_Ngali_SH_MHTerdakwa_ABDUL_MALIK_MUJIONO.txt: PASS (Score: 100.0%)\n",
            "INFO:text_validation:Validating file: case_2024_TK1_Putusan_PN_SURABAYA_Nomor_50_Pid_Sus-TPK_2024_PN_Sby_Tanggal_5_September_2024__Penuntut_Umum_GIGIH_BENAH_RENDRA__SH___MHTerdakwa_QOMARUDDIN_Bin__Alm__QORIB.txt\n",
            "INFO:text_validation:case_2024_TK1_Putusan_PN_SURABAYA_Nomor_50_Pid_Sus-TPK_2024_PN_Sby_Tanggal_5_September_2024__Penuntut_Umum_GIGIH_BENAH_RENDRA__SH___MHTerdakwa_QOMARUDDIN_Bin__Alm__QORIB.txt: PASS (Score: 100.0%)\n",
            "INFO:text_validation:Validating file: case_2024_TK1_Putusan_PN_SURABAYA_Nomor_102_Pid_Sus-TPK_2023_PN_Sby_Tanggal_19_Februari_2024__Penuntut_Umum_Nur_Ngali_SH_MHTerdakwa_YEMI_SETIAWAN.txt\n",
            "INFO:text_validation:case_2024_TK1_Putusan_PN_SURABAYA_Nomor_102_Pid_Sus-TPK_2023_PN_Sby_Tanggal_19_Februari_2024__Penuntut_Umum_Nur_Ngali_SH_MHTerdakwa_YEMI_SETIAWAN.txt: PASS (Score: 100.0%)\n",
            "INFO:text_validation:Validating file: case_2024_TK1_Putusan_PN_SURABAYA_Nomor_51_Pid_Sus-TPK_2024_PN_Sby_Tanggal_20_September_2024__Penuntut_Umum_MUHAMMAD_NIZAR__S_H___M_HTerdakwa_ACH__KHOZAINI_Bin_SUTO.txt\n",
            "INFO:text_validation:case_2024_TK1_Putusan_PN_SURABAYA_Nomor_51_Pid_Sus-TPK_2024_PN_Sby_Tanggal_20_September_2024__Penuntut_Umum_MUHAMMAD_NIZAR__S_H___M_HTerdakwa_ACH__KHOZAINI_Bin_SUTO.txt: PASS (Score: 100.0%)\n",
            "INFO:text_validation:Validating file: case_2024_TK1_Putusan_PN_SURABAYA_Nomor_118_Pid_Sus-TPK_2023_PN_Sby_Tanggal_12_Februari_2024__Penuntut_Umum_TRI_SATRIO_WAHYU_MURTHI__SH__MHTerdakwa_AKH_AMIN_Bin_MOH__SYAFI_I.txt\n",
            "INFO:text_validation:case_2024_TK1_Putusan_PN_SURABAYA_Nomor_118_Pid_Sus-TPK_2023_PN_Sby_Tanggal_12_Februari_2024__Penuntut_Umum_TRI_SATRIO_WAHYU_MURTHI__SH__MHTerdakwa_AKH_AMIN_Bin_MOH__SYAFI_I.txt: PASS (Score: 100.0%)\n",
            "INFO:text_validation:Validating file: case_2024_TK1_Putusan_PN_SURABAYA_Nomor_110_Pid_Sus-TPK_2023_PN_Sby_Tanggal_30_Januari_2024__Penuntut_Umum_ANTON_WAHYUDI__S_H___MHTerdakwa_MARIJAN_Bin__alm__MOHAMAD_SULAEMAN.txt\n"
          ]
        },
        {
          "output_type": "stream",
          "name": "stdout",
          "text": [
            "PASS: case_2024_TK1_Putusan_PN_SURABAYA_Nomor_131_Pid_Sus-TPK_2023_PN_Sby_Tanggal_5_April_2024__Penuntut_Umum_Moch__Taufiq_Ismail__S_HTerdakwa_Drs__HERI_EKO_WAHYUDI_ARIEPRADIPTO_anak_dari_EDUARDUS_RUSDRUJITO.txt (Score: 100.0%)\n",
            "[53/114] Validating: case_2024_TK1_Putusan_PN_SURABAYA_Nomor_49_Pid_Sus-TPK_2024_PN_Sby_Tanggal_5_September_2024__Penuntut_Umum_GIGIH_BENAH_RENDRA__SH___MHTerdakwa_JAELANI_Bin__Alm__JARKASI.txt\n",
            "PASS: case_2024_TK1_Putusan_PN_SURABAYA_Nomor_49_Pid_Sus-TPK_2024_PN_Sby_Tanggal_5_September_2024__Penuntut_Umum_GIGIH_BENAH_RENDRA__SH___MHTerdakwa_JAELANI_Bin__Alm__JARKASI.txt (Score: 100.0%)\n",
            "[54/114] Validating: case_2024_TK1_Putusan_PN_SURABAYA_Nomor_104_Pid_Sus-TPK_2023_PN_Sby_Tanggal_19_Februari_2024__Penuntut_Umum_Nur_Ngali_SH_MHTerdakwa_ABDUL_MALIK_MUJIONO.txt\n",
            "PASS: case_2024_TK1_Putusan_PN_SURABAYA_Nomor_104_Pid_Sus-TPK_2023_PN_Sby_Tanggal_19_Februari_2024__Penuntut_Umum_Nur_Ngali_SH_MHTerdakwa_ABDUL_MALIK_MUJIONO.txt (Score: 100.0%)\n",
            "[55/114] Validating: case_2024_TK1_Putusan_PN_SURABAYA_Nomor_50_Pid_Sus-TPK_2024_PN_Sby_Tanggal_5_September_2024__Penuntut_Umum_GIGIH_BENAH_RENDRA__SH___MHTerdakwa_QOMARUDDIN_Bin__Alm__QORIB.txt\n",
            "PASS: case_2024_TK1_Putusan_PN_SURABAYA_Nomor_50_Pid_Sus-TPK_2024_PN_Sby_Tanggal_5_September_2024__Penuntut_Umum_GIGIH_BENAH_RENDRA__SH___MHTerdakwa_QOMARUDDIN_Bin__Alm__QORIB.txt (Score: 100.0%)\n",
            "[56/114] Validating: case_2024_TK1_Putusan_PN_SURABAYA_Nomor_102_Pid_Sus-TPK_2023_PN_Sby_Tanggal_19_Februari_2024__Penuntut_Umum_Nur_Ngali_SH_MHTerdakwa_YEMI_SETIAWAN.txt\n",
            "PASS: case_2024_TK1_Putusan_PN_SURABAYA_Nomor_102_Pid_Sus-TPK_2023_PN_Sby_Tanggal_19_Februari_2024__Penuntut_Umum_Nur_Ngali_SH_MHTerdakwa_YEMI_SETIAWAN.txt (Score: 100.0%)\n",
            "[57/114] Validating: case_2024_TK1_Putusan_PN_SURABAYA_Nomor_51_Pid_Sus-TPK_2024_PN_Sby_Tanggal_20_September_2024__Penuntut_Umum_MUHAMMAD_NIZAR__S_H___M_HTerdakwa_ACH__KHOZAINI_Bin_SUTO.txt\n",
            "PASS: case_2024_TK1_Putusan_PN_SURABAYA_Nomor_51_Pid_Sus-TPK_2024_PN_Sby_Tanggal_20_September_2024__Penuntut_Umum_MUHAMMAD_NIZAR__S_H___M_HTerdakwa_ACH__KHOZAINI_Bin_SUTO.txt (Score: 100.0%)\n",
            "[58/114] Validating: case_2024_TK1_Putusan_PN_SURABAYA_Nomor_118_Pid_Sus-TPK_2023_PN_Sby_Tanggal_12_Februari_2024__Penuntut_Umum_TRI_SATRIO_WAHYU_MURTHI__SH__MHTerdakwa_AKH_AMIN_Bin_MOH__SYAFI_I.txt\n",
            "PASS: case_2024_TK1_Putusan_PN_SURABAYA_Nomor_118_Pid_Sus-TPK_2023_PN_Sby_Tanggal_12_Februari_2024__Penuntut_Umum_TRI_SATRIO_WAHYU_MURTHI__SH__MHTerdakwa_AKH_AMIN_Bin_MOH__SYAFI_I.txt (Score: 100.0%)\n",
            "[59/114] Validating: case_2024_TK1_Putusan_PN_SURABAYA_Nomor_110_Pid_Sus-TPK_2023_PN_Sby_Tanggal_30_Januari_2024__Penuntut_Umum_ANTON_WAHYUDI__S_H___MHTerdakwa_MARIJAN_Bin__alm__MOHAMAD_SULAEMAN.txt\n"
          ]
        },
        {
          "output_type": "stream",
          "name": "stderr",
          "text": [
            "INFO:text_validation:case_2024_TK1_Putusan_PN_SURABAYA_Nomor_110_Pid_Sus-TPK_2023_PN_Sby_Tanggal_30_Januari_2024__Penuntut_Umum_ANTON_WAHYUDI__S_H___MHTerdakwa_MARIJAN_Bin__alm__MOHAMAD_SULAEMAN.txt: PASS (Score: 100.0%)\n",
            "INFO:text_validation:Validating file: case_2024_TK1_Putusan_PN_SURABAYA_Nomor_40_Pid_Sus-TPK_2024_PN_Sby_Tanggal_13_September_2024__Penuntut_Umum_DIAN_PRANATA_DEPARI__S_H__M_HTerdakwa_SAMSUL_ARIFIN_BIN_UWI.txt\n",
            "INFO:text_validation:case_2024_TK1_Putusan_PN_SURABAYA_Nomor_40_Pid_Sus-TPK_2024_PN_Sby_Tanggal_13_September_2024__Penuntut_Umum_DIAN_PRANATA_DEPARI__S_H__M_HTerdakwa_SAMSUL_ARIFIN_BIN_UWI.txt: PASS (Score: 100.0%)\n",
            "INFO:text_validation:Validating file: case_2024_TK1_Putusan_PN_SURABAYA_Nomor_105_Pid_Sus-TPK_2024_PN_Sby_Tanggal_23_Desember_2024__Penuntut_Umum_DIAN_PRANATA_DEPARI__S_H__M_HTerdakwa_Rian_Mahendra_Bin_Achmad_Wardoyo_Alm.txt\n",
            "INFO:text_validation:case_2024_TK1_Putusan_PN_SURABAYA_Nomor_105_Pid_Sus-TPK_2024_PN_Sby_Tanggal_23_Desember_2024__Penuntut_Umum_DIAN_PRANATA_DEPARI__S_H__M_HTerdakwa_Rian_Mahendra_Bin_Achmad_Wardoyo_Alm.txt: PASS (Score: 100.0%)\n",
            "INFO:text_validation:Validating file: case_2024_TK1_Putusan_PN_SURABAYA_Nomor_48_Pid_Sus-TPK_2024_PN_Sby_Tanggal_22_Oktober_2024__Penuntut_Umum_DINAR_H_C_H_WOLEKA__SHTerdakwa_1_HADI_SUYANTO__S_E2_SUWARNO__S_Sos.txt\n",
            "INFO:text_validation:case_2024_TK1_Putusan_PN_SURABAYA_Nomor_48_Pid_Sus-TPK_2024_PN_Sby_Tanggal_22_Oktober_2024__Penuntut_Umum_DINAR_H_C_H_WOLEKA__SHTerdakwa_1_HADI_SUYANTO__S_E2_SUWARNO__S_Sos.txt: PASS (Score: 100.0%)\n",
            "INFO:text_validation:Validating file: case_2024_TK1_Putusan_PN_SURABAYA_Nomor_71_Pid_Sus-TPK_2024_PN_Sby_Tanggal_10_Desember_2024__Penuntut_Umum_I_PUTU_KISNU_GUPTA__S_H_Terdakwa_ULIS_DEWI_PURWANTI__S_Pd_.txt\n",
            "INFO:text_validation:case_2024_TK1_Putusan_PN_SURABAYA_Nomor_71_Pid_Sus-TPK_2024_PN_Sby_Tanggal_10_Desember_2024__Penuntut_Umum_I_PUTU_KISNU_GUPTA__S_H_Terdakwa_ULIS_DEWI_PURWANTI__S_Pd_.txt: PASS (Score: 100.0%)\n",
            "INFO:text_validation:Validating file: case_2024_TK1_Putusan_PN_SURABAYA_Nomor_41_Pid_Sus-TPK_2024_PN_Sby_Tanggal_1_Oktober_2024__Penuntut_Umum_1_SAMSUL_HADI__SH1_SAMSUL_HADI__SH_Terdakwa_AGUS_DARMANTO_Bin_Alm_MUJITO.txt\n",
            "INFO:text_validation:case_2024_TK1_Putusan_PN_SURABAYA_Nomor_41_Pid_Sus-TPK_2024_PN_Sby_Tanggal_1_Oktober_2024__Penuntut_Umum_1_SAMSUL_HADI__SH1_SAMSUL_HADI__SH_Terdakwa_AGUS_DARMANTO_Bin_Alm_MUJITO.txt: PASS (Score: 100.0%)\n",
            "INFO:text_validation:Validating file: case_2024_TK1_Putusan_PN_SURABAYA_Nomor_110_Pid_Sus-TPK_2024_PN_Sby_Tanggal_23_Desember_2024__Penuntut_Umum_Gilang_GemilangTerdakwa_AHMAD_MUHDLOR.txt\n"
          ]
        },
        {
          "output_type": "stream",
          "name": "stdout",
          "text": [
            "PASS: case_2024_TK1_Putusan_PN_SURABAYA_Nomor_110_Pid_Sus-TPK_2023_PN_Sby_Tanggal_30_Januari_2024__Penuntut_Umum_ANTON_WAHYUDI__S_H___MHTerdakwa_MARIJAN_Bin__alm__MOHAMAD_SULAEMAN.txt (Score: 100.0%)\n",
            "[60/114] Validating: case_2024_TK1_Putusan_PN_SURABAYA_Nomor_40_Pid_Sus-TPK_2024_PN_Sby_Tanggal_13_September_2024__Penuntut_Umum_DIAN_PRANATA_DEPARI__S_H__M_HTerdakwa_SAMSUL_ARIFIN_BIN_UWI.txt\n",
            "PASS: case_2024_TK1_Putusan_PN_SURABAYA_Nomor_40_Pid_Sus-TPK_2024_PN_Sby_Tanggal_13_September_2024__Penuntut_Umum_DIAN_PRANATA_DEPARI__S_H__M_HTerdakwa_SAMSUL_ARIFIN_BIN_UWI.txt (Score: 100.0%)\n",
            "[61/114] Validating: case_2024_TK1_Putusan_PN_SURABAYA_Nomor_105_Pid_Sus-TPK_2024_PN_Sby_Tanggal_23_Desember_2024__Penuntut_Umum_DIAN_PRANATA_DEPARI__S_H__M_HTerdakwa_Rian_Mahendra_Bin_Achmad_Wardoyo_Alm.txt\n",
            "PASS: case_2024_TK1_Putusan_PN_SURABAYA_Nomor_105_Pid_Sus-TPK_2024_PN_Sby_Tanggal_23_Desember_2024__Penuntut_Umum_DIAN_PRANATA_DEPARI__S_H__M_HTerdakwa_Rian_Mahendra_Bin_Achmad_Wardoyo_Alm.txt (Score: 100.0%)\n",
            "[62/114] Validating: case_2024_TK1_Putusan_PN_SURABAYA_Nomor_48_Pid_Sus-TPK_2024_PN_Sby_Tanggal_22_Oktober_2024__Penuntut_Umum_DINAR_H_C_H_WOLEKA__SHTerdakwa_1_HADI_SUYANTO__S_E2_SUWARNO__S_Sos.txt\n",
            "PASS: case_2024_TK1_Putusan_PN_SURABAYA_Nomor_48_Pid_Sus-TPK_2024_PN_Sby_Tanggal_22_Oktober_2024__Penuntut_Umum_DINAR_H_C_H_WOLEKA__SHTerdakwa_1_HADI_SUYANTO__S_E2_SUWARNO__S_Sos.txt (Score: 100.0%)\n",
            "[63/114] Validating: case_2024_TK1_Putusan_PN_SURABAYA_Nomor_71_Pid_Sus-TPK_2024_PN_Sby_Tanggal_10_Desember_2024__Penuntut_Umum_I_PUTU_KISNU_GUPTA__S_H_Terdakwa_ULIS_DEWI_PURWANTI__S_Pd_.txt\n",
            "PASS: case_2024_TK1_Putusan_PN_SURABAYA_Nomor_71_Pid_Sus-TPK_2024_PN_Sby_Tanggal_10_Desember_2024__Penuntut_Umum_I_PUTU_KISNU_GUPTA__S_H_Terdakwa_ULIS_DEWI_PURWANTI__S_Pd_.txt (Score: 100.0%)\n",
            "[64/114] Validating: case_2024_TK1_Putusan_PN_SURABAYA_Nomor_41_Pid_Sus-TPK_2024_PN_Sby_Tanggal_1_Oktober_2024__Penuntut_Umum_1_SAMSUL_HADI__SH1_SAMSUL_HADI__SH_Terdakwa_AGUS_DARMANTO_Bin_Alm_MUJITO.txt\n",
            "PASS: case_2024_TK1_Putusan_PN_SURABAYA_Nomor_41_Pid_Sus-TPK_2024_PN_Sby_Tanggal_1_Oktober_2024__Penuntut_Umum_1_SAMSUL_HADI__SH1_SAMSUL_HADI__SH_Terdakwa_AGUS_DARMANTO_Bin_Alm_MUJITO.txt (Score: 100.0%)\n",
            "[65/114] Validating: case_2024_TK1_Putusan_PN_SURABAYA_Nomor_110_Pid_Sus-TPK_2024_PN_Sby_Tanggal_23_Desember_2024__Penuntut_Umum_Gilang_GemilangTerdakwa_AHMAD_MUHDLOR.txt\n"
          ]
        },
        {
          "output_type": "stream",
          "name": "stderr",
          "text": [
            "INFO:text_validation:case_2024_TK1_Putusan_PN_SURABAYA_Nomor_110_Pid_Sus-TPK_2024_PN_Sby_Tanggal_23_Desember_2024__Penuntut_Umum_Gilang_GemilangTerdakwa_AHMAD_MUHDLOR.txt: PASS (Score: 100.0%)\n",
            "INFO:text_validation:Validating file: case_2024_TK1_Putusan_PN_SURABAYA_Nomor_60_Pid_Sus-TPK_2024_PN_Sby_Tanggal_18_Oktober_2024__Penuntut_Umum_Martina_Peristyanti__S_H___MBATerdakwa_Drs__Wonggo_Prayitno__MM_.txt\n",
            "INFO:text_validation:case_2024_TK1_Putusan_PN_SURABAYA_Nomor_60_Pid_Sus-TPK_2024_PN_Sby_Tanggal_18_Oktober_2024__Penuntut_Umum_Martina_Peristyanti__S_H___MBATerdakwa_Drs__Wonggo_Prayitno__MM_.txt: PASS (Score: 100.0%)\n",
            "INFO:text_validation:Validating file: case_2024_TK1_Putusan_PN_SURABAYA_Nomor_75_Pid_Sus-TPK_2024_PN_Sby_Tanggal_16_Desember_2024__Penuntut_Umum_ADITIA_SULAEMAN__S_HTerdakwa_MOHAMMAD_SYAIFUDIN__S_Sos_.txt\n",
            "INFO:text_validation:case_2024_TK1_Putusan_PN_SURABAYA_Nomor_75_Pid_Sus-TPK_2024_PN_Sby_Tanggal_16_Desember_2024__Penuntut_Umum_ADITIA_SULAEMAN__S_HTerdakwa_MOHAMMAD_SYAIFUDIN__S_Sos_.txt: PASS (Score: 100.0%)\n",
            "INFO:text_validation:Validating file: case_2024_TK1_Putusan_PN_SURABAYA_Nomor_101_Pid_Sus-TPK_2023_PN_Sby_Tanggal_19_Februari_2024__Penuntut_Umum_Nur_Ngali_SH_MHTerdakwa_EDDY_SUSANTO.txt\n",
            "INFO:text_validation:case_2024_TK1_Putusan_PN_SURABAYA_Nomor_101_Pid_Sus-TPK_2023_PN_Sby_Tanggal_19_Februari_2024__Penuntut_Umum_Nur_Ngali_SH_MHTerdakwa_EDDY_SUSANTO.txt: PASS (Score: 100.0%)\n",
            "INFO:text_validation:Validating file: case_2024_TK1_Putusan_PN_SURABAYA_Nomor_36_Pid_Sus-TPK_2024_PN_Sby_Tanggal_22_Agustus_2024__Penuntut_Umum_SAMSUL_HADI__SH_Terdakwa_EVI_SULISTIA_WATININGSIH.txt\n",
            "INFO:text_validation:case_2024_TK1_Putusan_PN_SURABAYA_Nomor_36_Pid_Sus-TPK_2024_PN_Sby_Tanggal_22_Agustus_2024__Penuntut_Umum_SAMSUL_HADI__SH_Terdakwa_EVI_SULISTIA_WATININGSIH.txt: PASS (Score: 100.0%)\n",
            "INFO:text_validation:Validating file: case_2024_TK1_Putusan_PN_SURABAYA_Nomor_86_Pid_Sus-TPK_2024_PN_Sby_Tanggal_31_Desember_2024__Penuntut_Umum_Martina_Peristyanti__S_H___MBATerdakwa_SUJARWO_Bin_JIMIN.txt\n",
            "INFO:text_validation:case_2024_TK1_Putusan_PN_SURABAYA_Nomor_86_Pid_Sus-TPK_2024_PN_Sby_Tanggal_31_Desember_2024__Penuntut_Umum_Martina_Peristyanti__S_H___MBATerdakwa_SUJARWO_Bin_JIMIN.txt: PASS (Score: 100.0%)\n",
            "INFO:text_validation:Validating file: case_2024_TK1_Putusan_PN_SURABAYA_Nomor_47_Pid_Sus-TPK_2024_PN_Sby_Tanggal_20_September_2024__Penuntut_Umum_MUHAMMAD_FAKHRY__S_H___M_HTerdakwa_SITI_AMINA_binti_H__JONI.txt\n"
          ]
        },
        {
          "output_type": "stream",
          "name": "stdout",
          "text": [
            "PASS: case_2024_TK1_Putusan_PN_SURABAYA_Nomor_110_Pid_Sus-TPK_2024_PN_Sby_Tanggal_23_Desember_2024__Penuntut_Umum_Gilang_GemilangTerdakwa_AHMAD_MUHDLOR.txt (Score: 100.0%)\n",
            "[66/114] Validating: case_2024_TK1_Putusan_PN_SURABAYA_Nomor_60_Pid_Sus-TPK_2024_PN_Sby_Tanggal_18_Oktober_2024__Penuntut_Umum_Martina_Peristyanti__S_H___MBATerdakwa_Drs__Wonggo_Prayitno__MM_.txt\n",
            "PASS: case_2024_TK1_Putusan_PN_SURABAYA_Nomor_60_Pid_Sus-TPK_2024_PN_Sby_Tanggal_18_Oktober_2024__Penuntut_Umum_Martina_Peristyanti__S_H___MBATerdakwa_Drs__Wonggo_Prayitno__MM_.txt (Score: 100.0%)\n",
            "[67/114] Validating: case_2024_TK1_Putusan_PN_SURABAYA_Nomor_75_Pid_Sus-TPK_2024_PN_Sby_Tanggal_16_Desember_2024__Penuntut_Umum_ADITIA_SULAEMAN__S_HTerdakwa_MOHAMMAD_SYAIFUDIN__S_Sos_.txt\n",
            "PASS: case_2024_TK1_Putusan_PN_SURABAYA_Nomor_75_Pid_Sus-TPK_2024_PN_Sby_Tanggal_16_Desember_2024__Penuntut_Umum_ADITIA_SULAEMAN__S_HTerdakwa_MOHAMMAD_SYAIFUDIN__S_Sos_.txt (Score: 100.0%)\n",
            "[68/114] Validating: case_2024_TK1_Putusan_PN_SURABAYA_Nomor_101_Pid_Sus-TPK_2023_PN_Sby_Tanggal_19_Februari_2024__Penuntut_Umum_Nur_Ngali_SH_MHTerdakwa_EDDY_SUSANTO.txt\n",
            "PASS: case_2024_TK1_Putusan_PN_SURABAYA_Nomor_101_Pid_Sus-TPK_2023_PN_Sby_Tanggal_19_Februari_2024__Penuntut_Umum_Nur_Ngali_SH_MHTerdakwa_EDDY_SUSANTO.txt (Score: 100.0%)\n",
            "[69/114] Validating: case_2024_TK1_Putusan_PN_SURABAYA_Nomor_36_Pid_Sus-TPK_2024_PN_Sby_Tanggal_22_Agustus_2024__Penuntut_Umum_SAMSUL_HADI__SH_Terdakwa_EVI_SULISTIA_WATININGSIH.txt\n",
            "PASS: case_2024_TK1_Putusan_PN_SURABAYA_Nomor_36_Pid_Sus-TPK_2024_PN_Sby_Tanggal_22_Agustus_2024__Penuntut_Umum_SAMSUL_HADI__SH_Terdakwa_EVI_SULISTIA_WATININGSIH.txt (Score: 100.0%)\n",
            "[70/114] Validating: case_2024_TK1_Putusan_PN_SURABAYA_Nomor_86_Pid_Sus-TPK_2024_PN_Sby_Tanggal_31_Desember_2024__Penuntut_Umum_Martina_Peristyanti__S_H___MBATerdakwa_SUJARWO_Bin_JIMIN.txt\n",
            "PASS: case_2024_TK1_Putusan_PN_SURABAYA_Nomor_86_Pid_Sus-TPK_2024_PN_Sby_Tanggal_31_Desember_2024__Penuntut_Umum_Martina_Peristyanti__S_H___MBATerdakwa_SUJARWO_Bin_JIMIN.txt (Score: 100.0%)\n",
            "[71/114] Validating: case_2024_TK1_Putusan_PN_SURABAYA_Nomor_47_Pid_Sus-TPK_2024_PN_Sby_Tanggal_20_September_2024__Penuntut_Umum_MUHAMMAD_FAKHRY__S_H___M_HTerdakwa_SITI_AMINA_binti_H__JONI.txt\n"
          ]
        },
        {
          "output_type": "stream",
          "name": "stderr",
          "text": [
            "INFO:text_validation:case_2024_TK1_Putusan_PN_SURABAYA_Nomor_47_Pid_Sus-TPK_2024_PN_Sby_Tanggal_20_September_2024__Penuntut_Umum_MUHAMMAD_FAKHRY__S_H___M_HTerdakwa_SITI_AMINA_binti_H__JONI.txt: PASS (Score: 100.0%)\n",
            "INFO:text_validation:Validating file: case_2024_TK1_Putusan_PN_SURABAYA_Nomor_61_Pid_Sus-TPK_2024_PN_Sby_Tanggal_18_Oktober_2024__Penuntut_Umum_Martina_Peristyanti__S_H___MBATerdakwa_Arya_Lelana_Bin_Imam_Soepardi.txt\n",
            "INFO:text_validation:case_2024_TK1_Putusan_PN_SURABAYA_Nomor_61_Pid_Sus-TPK_2024_PN_Sby_Tanggal_18_Oktober_2024__Penuntut_Umum_Martina_Peristyanti__S_H___MBATerdakwa_Arya_Lelana_Bin_Imam_Soepardi.txt: PASS (Score: 100.0%)\n",
            "INFO:text_validation:Validating file: case_2024_TK1_Putusan_PN_SURABAYA_Nomor_114_Pid_Sus-TPK_2023_PN_Sby_Tanggal_14_Maret_2024__Penuntut_Umum_UMU_LATHIEFAH__SHTerdakwa_Hj__NGATMISIH__SH__M__Hum__Binti__Alm__Wakiran.txt\n",
            "INFO:text_validation:case_2024_TK1_Putusan_PN_SURABAYA_Nomor_114_Pid_Sus-TPK_2023_PN_Sby_Tanggal_14_Maret_2024__Penuntut_Umum_UMU_LATHIEFAH__SHTerdakwa_Hj__NGATMISIH__SH__M__Hum__Binti__Alm__Wakiran.txt: PASS (Score: 100.0%)\n",
            "INFO:text_validation:Validating file: case_2024_TK1_Putusan_PN_SURABAYA_Nomor_43_Pid_Sus-TPK_2024_PN_Sby_Tanggal_18_Oktober_2024__Penuntut_Umum_SRI_HANI_SUSILO__S_HTerdakwa_ANDRY_SETYO_PURWANTORO.txt\n",
            "INFO:text_validation:case_2024_TK1_Putusan_PN_SURABAYA_Nomor_43_Pid_Sus-TPK_2024_PN_Sby_Tanggal_18_Oktober_2024__Penuntut_Umum_SRI_HANI_SUSILO__S_HTerdakwa_ANDRY_SETYO_PURWANTORO.txt: PASS (Score: 100.0%)\n",
            "INFO:text_validation:Validating file: case_2024_TK1_Putusan_PN_SURABAYA_Nomor_69_Pid_Sus-TPK_2024_PN_Sby_Tanggal_6_Desember_2024__Penuntut_Umum_SLAMET_PUJIONO__SHTerdakwa_TEGUH_LAKSONO.txt\n"
          ]
        },
        {
          "output_type": "stream",
          "name": "stdout",
          "text": [
            "PASS: case_2024_TK1_Putusan_PN_SURABAYA_Nomor_47_Pid_Sus-TPK_2024_PN_Sby_Tanggal_20_September_2024__Penuntut_Umum_MUHAMMAD_FAKHRY__S_H___M_HTerdakwa_SITI_AMINA_binti_H__JONI.txt (Score: 100.0%)\n",
            "[72/114] Validating: case_2024_TK1_Putusan_PN_SURABAYA_Nomor_61_Pid_Sus-TPK_2024_PN_Sby_Tanggal_18_Oktober_2024__Penuntut_Umum_Martina_Peristyanti__S_H___MBATerdakwa_Arya_Lelana_Bin_Imam_Soepardi.txt\n",
            "PASS: case_2024_TK1_Putusan_PN_SURABAYA_Nomor_61_Pid_Sus-TPK_2024_PN_Sby_Tanggal_18_Oktober_2024__Penuntut_Umum_Martina_Peristyanti__S_H___MBATerdakwa_Arya_Lelana_Bin_Imam_Soepardi.txt (Score: 100.0%)\n",
            "[73/114] Validating: case_2024_TK1_Putusan_PN_SURABAYA_Nomor_114_Pid_Sus-TPK_2023_PN_Sby_Tanggal_14_Maret_2024__Penuntut_Umum_UMU_LATHIEFAH__SHTerdakwa_Hj__NGATMISIH__SH__M__Hum__Binti__Alm__Wakiran.txt\n",
            "PASS: case_2024_TK1_Putusan_PN_SURABAYA_Nomor_114_Pid_Sus-TPK_2023_PN_Sby_Tanggal_14_Maret_2024__Penuntut_Umum_UMU_LATHIEFAH__SHTerdakwa_Hj__NGATMISIH__SH__M__Hum__Binti__Alm__Wakiran.txt (Score: 100.0%)\n",
            "[74/114] Validating: case_2024_TK1_Putusan_PN_SURABAYA_Nomor_43_Pid_Sus-TPK_2024_PN_Sby_Tanggal_18_Oktober_2024__Penuntut_Umum_SRI_HANI_SUSILO__S_HTerdakwa_ANDRY_SETYO_PURWANTORO.txt\n",
            "PASS: case_2024_TK1_Putusan_PN_SURABAYA_Nomor_43_Pid_Sus-TPK_2024_PN_Sby_Tanggal_18_Oktober_2024__Penuntut_Umum_SRI_HANI_SUSILO__S_HTerdakwa_ANDRY_SETYO_PURWANTORO.txt (Score: 100.0%)\n",
            "[75/114] Validating: case_2024_TK1_Putusan_PN_SURABAYA_Nomor_69_Pid_Sus-TPK_2024_PN_Sby_Tanggal_6_Desember_2024__Penuntut_Umum_SLAMET_PUJIONO__SHTerdakwa_TEGUH_LAKSONO.txt\n"
          ]
        },
        {
          "output_type": "stream",
          "name": "stderr",
          "text": [
            "INFO:text_validation:case_2024_TK1_Putusan_PN_SURABAYA_Nomor_69_Pid_Sus-TPK_2024_PN_Sby_Tanggal_6_Desember_2024__Penuntut_Umum_SLAMET_PUJIONO__SHTerdakwa_TEGUH_LAKSONO.txt: PASS (Score: 100.0%)\n",
            "INFO:text_validation:Validating file: case_2024_TK1_Putusan_PN_SURABAYA_Nomor_18_Pid_Sus-TPK_2024_PN_Sby_Tanggal_10_Juli_2024__Penuntut_Umum_Nur_Ngali_SH_MHTerdakwa_AMBYAH.txt\n",
            "INFO:text_validation:case_2024_TK1_Putusan_PN_SURABAYA_Nomor_18_Pid_Sus-TPK_2024_PN_Sby_Tanggal_10_Juli_2024__Penuntut_Umum_Nur_Ngali_SH_MHTerdakwa_AMBYAH.txt: PASS (Score: 100.0%)\n",
            "INFO:text_validation:Validating file: case_2024_TK1_Putusan_PN_SURABAYA_Nomor_72_Pid_Sus-TPK_2024_PN_Sby_Tanggal_16_Desember_2024__Penuntut_Umum_ADITIA_SULAEMAN__S_HTerdakwa_WASITO_BIN_WIJI.txt\n",
            "INFO:text_validation:case_2024_TK1_Putusan_PN_SURABAYA_Nomor_72_Pid_Sus-TPK_2024_PN_Sby_Tanggal_16_Desember_2024__Penuntut_Umum_ADITIA_SULAEMAN__S_HTerdakwa_WASITO_BIN_WIJI.txt: PASS (Score: 100.0%)\n",
            "INFO:text_validation:Validating file: case_2024_TK1_Putusan_PN_SURABAYA_Nomor_139_Pid_Sus-TPK_2023_PN_Sby_Tanggal_2_Februari_2024__Penuntut_Umum_NARENDRA_PUTRA_SWARDHANA__S_H_M_H_Terdakwa_BAGUS_PRIYO_SEMBODO_Bin_SUYANTO.txt\n",
            "INFO:text_validation:case_2024_TK1_Putusan_PN_SURABAYA_Nomor_139_Pid_Sus-TPK_2023_PN_Sby_Tanggal_2_Februari_2024__Penuntut_Umum_NARENDRA_PUTRA_SWARDHANA__S_H_M_H_Terdakwa_BAGUS_PRIYO_SEMBODO_Bin_SUYANTO.txt: PASS (Score: 100.0%)\n",
            "INFO:text_validation:Validating file: case_2025_TK1_Putusan_PN_JAKARTA_UTARA_Nomor_440_Pdt_P_2025_PN_Jkt_Utr_Tanggal_11_Juni_2025__Pemohon_MAYMUNAH.txt\n",
            "INFO:text_validation:case_2025_TK1_Putusan_PN_JAKARTA_UTARA_Nomor_440_Pdt_P_2025_PN_Jkt_Utr_Tanggal_11_Juni_2025__Pemohon_MAYMUNAH.txt: FAIL (Score: 74.7%)\n",
            "WARNING:text_validation:case_2025_TK1_Putusan_PN_JAKARTA_UTARA_Nomor_440_Pdt_P_2025_PN_Jkt_Utr_Tanggal_11_Juni_2025__Pemohon_MAYMUNAH.txt: Below 80% threshold - may be incomplete\n",
            "INFO:text_validation:Validating file: case_2024_TK1_Putusan_PN_SURABAYA_Nomor_52_Pid_Sus-TPK_2024_PN_Sby_Tanggal_19_September_2024__Penuntut_Umum_FERRY_HARY_ARDIANTO__S_H_Terdakwa_AKHMAT.txt\n",
            "INFO:text_validation:case_2024_TK1_Putusan_PN_SURABAYA_Nomor_52_Pid_Sus-TPK_2024_PN_Sby_Tanggal_19_September_2024__Penuntut_Umum_FERRY_HARY_ARDIANTO__S_H_Terdakwa_AKHMAT.txt: PASS (Score: 100.0%)\n",
            "INFO:text_validation:Validating file: case_2024_TK1_Putusan_PN_SURABAYA_Nomor_103_Pid_Sus-TPK_2023_PN_Sby_Tanggal_19_Februari_2024__Penuntut_Umum_Nur_Ngali_SH_MHTerdakwa_CATUR_ANDRIANTO.txt\n",
            "INFO:text_validation:case_2024_TK1_Putusan_PN_SURABAYA_Nomor_103_Pid_Sus-TPK_2023_PN_Sby_Tanggal_19_Februari_2024__Penuntut_Umum_Nur_Ngali_SH_MHTerdakwa_CATUR_ANDRIANTO.txt: PASS (Score: 100.0%)\n",
            "INFO:text_validation:Validating file: case_2024_TK1_Putusan_PN_SURABAYA_Nomor_140_Pid_Sus-TPK_2023_PN_Sby_Tanggal_25_April_2024__Penuntut_Umum_ANIK_PARTINI__SH_Terdakwa_HERI_PURNOMO__S_Pd_.txt\n",
            "INFO:text_validation:case_2024_TK1_Putusan_PN_SURABAYA_Nomor_140_Pid_Sus-TPK_2023_PN_Sby_Tanggal_25_April_2024__Penuntut_Umum_ANIK_PARTINI__SH_Terdakwa_HERI_PURNOMO__S_Pd_.txt: PASS (Score: 100.0%)\n",
            "INFO:text_validation:Validating file: case_2024_TK1_Putusan_PN_SURABAYA_Nomor_37_Pid_Sus-TPK_2024_PN_Sby_Tanggal_2_Oktober_2024__Penuntut_Umum_ALIFIN_NURAHMANA_WANDA__S_HTerdakwa_RYAN_FIBRIANTO.txt\n"
          ]
        },
        {
          "output_type": "stream",
          "name": "stdout",
          "text": [
            "PASS: case_2024_TK1_Putusan_PN_SURABAYA_Nomor_69_Pid_Sus-TPK_2024_PN_Sby_Tanggal_6_Desember_2024__Penuntut_Umum_SLAMET_PUJIONO__SHTerdakwa_TEGUH_LAKSONO.txt (Score: 100.0%)\n",
            "[76/114] Validating: case_2024_TK1_Putusan_PN_SURABAYA_Nomor_18_Pid_Sus-TPK_2024_PN_Sby_Tanggal_10_Juli_2024__Penuntut_Umum_Nur_Ngali_SH_MHTerdakwa_AMBYAH.txt\n",
            "PASS: case_2024_TK1_Putusan_PN_SURABAYA_Nomor_18_Pid_Sus-TPK_2024_PN_Sby_Tanggal_10_Juli_2024__Penuntut_Umum_Nur_Ngali_SH_MHTerdakwa_AMBYAH.txt (Score: 100.0%)\n",
            "[77/114] Validating: case_2024_TK1_Putusan_PN_SURABAYA_Nomor_72_Pid_Sus-TPK_2024_PN_Sby_Tanggal_16_Desember_2024__Penuntut_Umum_ADITIA_SULAEMAN__S_HTerdakwa_WASITO_BIN_WIJI.txt\n",
            "PASS: case_2024_TK1_Putusan_PN_SURABAYA_Nomor_72_Pid_Sus-TPK_2024_PN_Sby_Tanggal_16_Desember_2024__Penuntut_Umum_ADITIA_SULAEMAN__S_HTerdakwa_WASITO_BIN_WIJI.txt (Score: 100.0%)\n",
            "[78/114] Validating: case_2024_TK1_Putusan_PN_SURABAYA_Nomor_139_Pid_Sus-TPK_2023_PN_Sby_Tanggal_2_Februari_2024__Penuntut_Umum_NARENDRA_PUTRA_SWARDHANA__S_H_M_H_Terdakwa_BAGUS_PRIYO_SEMBODO_Bin_SUYANTO.txt\n",
            "PASS: case_2024_TK1_Putusan_PN_SURABAYA_Nomor_139_Pid_Sus-TPK_2023_PN_Sby_Tanggal_2_Februari_2024__Penuntut_Umum_NARENDRA_PUTRA_SWARDHANA__S_H_M_H_Terdakwa_BAGUS_PRIYO_SEMBODO_Bin_SUYANTO.txt (Score: 100.0%)\n",
            "[79/114] Validating: case_2025_TK1_Putusan_PN_JAKARTA_UTARA_Nomor_440_Pdt_P_2025_PN_Jkt_Utr_Tanggal_11_Juni_2025__Pemohon_MAYMUNAH.txt\n",
            "FAIL: case_2025_TK1_Putusan_PN_JAKARTA_UTARA_Nomor_440_Pdt_P_2025_PN_Jkt_Utr_Tanggal_11_Juni_2025__Pemohon_MAYMUNAH.txt (Score: 74.7%)\n",
            "[80/114] Validating: case_2024_TK1_Putusan_PN_SURABAYA_Nomor_52_Pid_Sus-TPK_2024_PN_Sby_Tanggal_19_September_2024__Penuntut_Umum_FERRY_HARY_ARDIANTO__S_H_Terdakwa_AKHMAT.txt\n",
            "PASS: case_2024_TK1_Putusan_PN_SURABAYA_Nomor_52_Pid_Sus-TPK_2024_PN_Sby_Tanggal_19_September_2024__Penuntut_Umum_FERRY_HARY_ARDIANTO__S_H_Terdakwa_AKHMAT.txt (Score: 100.0%)\n",
            "[81/114] Validating: case_2024_TK1_Putusan_PN_SURABAYA_Nomor_103_Pid_Sus-TPK_2023_PN_Sby_Tanggal_19_Februari_2024__Penuntut_Umum_Nur_Ngali_SH_MHTerdakwa_CATUR_ANDRIANTO.txt\n",
            "PASS: case_2024_TK1_Putusan_PN_SURABAYA_Nomor_103_Pid_Sus-TPK_2023_PN_Sby_Tanggal_19_Februari_2024__Penuntut_Umum_Nur_Ngali_SH_MHTerdakwa_CATUR_ANDRIANTO.txt (Score: 100.0%)\n",
            "[82/114] Validating: case_2024_TK1_Putusan_PN_SURABAYA_Nomor_140_Pid_Sus-TPK_2023_PN_Sby_Tanggal_25_April_2024__Penuntut_Umum_ANIK_PARTINI__SH_Terdakwa_HERI_PURNOMO__S_Pd_.txt\n",
            "PASS: case_2024_TK1_Putusan_PN_SURABAYA_Nomor_140_Pid_Sus-TPK_2023_PN_Sby_Tanggal_25_April_2024__Penuntut_Umum_ANIK_PARTINI__SH_Terdakwa_HERI_PURNOMO__S_Pd_.txt (Score: 100.0%)\n",
            "[83/114] Validating: case_2024_TK1_Putusan_PN_SURABAYA_Nomor_37_Pid_Sus-TPK_2024_PN_Sby_Tanggal_2_Oktober_2024__Penuntut_Umum_ALIFIN_NURAHMANA_WANDA__S_HTerdakwa_RYAN_FIBRIANTO.txt\n"
          ]
        },
        {
          "output_type": "stream",
          "name": "stderr",
          "text": [
            "INFO:text_validation:case_2024_TK1_Putusan_PN_SURABAYA_Nomor_37_Pid_Sus-TPK_2024_PN_Sby_Tanggal_2_Oktober_2024__Penuntut_Umum_ALIFIN_NURAHMANA_WANDA__S_HTerdakwa_RYAN_FIBRIANTO.txt: PASS (Score: 100.0%)\n",
            "INFO:text_validation:Validating file: case_2024_TK1_Putusan_PN_SURABAYA_Nomor_32_Pid_Sus-TPK_2024_PN_Sby_Tanggal_6_September_2024__Penuntut_Umum_ANDHIKA_NUGRAHA_TRIPUTRA__SE__SH__MHTerdakwa_DEDDY_BUDIAWAN.txt\n",
            "INFO:text_validation:case_2024_TK1_Putusan_PN_SURABAYA_Nomor_32_Pid_Sus-TPK_2024_PN_Sby_Tanggal_6_September_2024__Penuntut_Umum_ANDHIKA_NUGRAHA_TRIPUTRA__SE__SH__MHTerdakwa_DEDDY_BUDIAWAN.txt: PASS (Score: 100.0%)\n",
            "INFO:text_validation:Validating file: case_2024_TK1_Putusan_PN_SURABAYA_Nomor_30_Pid_Sus-TPK_2024_PN_Sby_Tanggal_29_Juli_2024__Penuntut_Umum_MUHAMMAD_NIZAR__S_H___M_HTerdakwa_1_M__ZURKONI2_WAKINI__S_T_.txt\n",
            "INFO:text_validation:case_2024_TK1_Putusan_PN_SURABAYA_Nomor_30_Pid_Sus-TPK_2024_PN_Sby_Tanggal_29_Juli_2024__Penuntut_Umum_MUHAMMAD_NIZAR__S_H___M_HTerdakwa_1_M__ZURKONI2_WAKINI__S_T_.txt: PASS (Score: 100.0%)\n",
            "INFO:text_validation:Validating file: case_2024_TK1_Putusan_PN_SURABAYA_Nomor_76_Pid_Sus-TPK_2024_PN_Sby_Tanggal_16_Desember_2024__Penuntut_Umum_Nur_Ngali_SH_MHTerdakwa_SUGIANTO_SE_Msi_Ak_CA.txt\n",
            "INFO:text_validation:case_2024_TK1_Putusan_PN_SURABAYA_Nomor_76_Pid_Sus-TPK_2024_PN_Sby_Tanggal_16_Desember_2024__Penuntut_Umum_Nur_Ngali_SH_MHTerdakwa_SUGIANTO_SE_Msi_Ak_CA.txt: PASS (Score: 100.0%)\n",
            "INFO:text_validation:Validating file: case_2024_TK1_Putusan_PN_SURABAYA_Nomor_83_Pid_Sus-TPK_2024_PN_Sby_Tanggal_18_Desember_2024__Penuntut_Umum_TARJONO_SHTerdakwa_1_SUHARTO__SE2_IRMAWATI_FAUZIAH.txt\n"
          ]
        },
        {
          "output_type": "stream",
          "name": "stdout",
          "text": [
            "PASS: case_2024_TK1_Putusan_PN_SURABAYA_Nomor_37_Pid_Sus-TPK_2024_PN_Sby_Tanggal_2_Oktober_2024__Penuntut_Umum_ALIFIN_NURAHMANA_WANDA__S_HTerdakwa_RYAN_FIBRIANTO.txt (Score: 100.0%)\n",
            "[84/114] Validating: case_2024_TK1_Putusan_PN_SURABAYA_Nomor_32_Pid_Sus-TPK_2024_PN_Sby_Tanggal_6_September_2024__Penuntut_Umum_ANDHIKA_NUGRAHA_TRIPUTRA__SE__SH__MHTerdakwa_DEDDY_BUDIAWAN.txt\n",
            "PASS: case_2024_TK1_Putusan_PN_SURABAYA_Nomor_32_Pid_Sus-TPK_2024_PN_Sby_Tanggal_6_September_2024__Penuntut_Umum_ANDHIKA_NUGRAHA_TRIPUTRA__SE__SH__MHTerdakwa_DEDDY_BUDIAWAN.txt (Score: 100.0%)\n",
            "[85/114] Validating: case_2024_TK1_Putusan_PN_SURABAYA_Nomor_30_Pid_Sus-TPK_2024_PN_Sby_Tanggal_29_Juli_2024__Penuntut_Umum_MUHAMMAD_NIZAR__S_H___M_HTerdakwa_1_M__ZURKONI2_WAKINI__S_T_.txt\n",
            "PASS: case_2024_TK1_Putusan_PN_SURABAYA_Nomor_30_Pid_Sus-TPK_2024_PN_Sby_Tanggal_29_Juli_2024__Penuntut_Umum_MUHAMMAD_NIZAR__S_H___M_HTerdakwa_1_M__ZURKONI2_WAKINI__S_T_.txt (Score: 100.0%)\n",
            "[86/114] Validating: case_2024_TK1_Putusan_PN_SURABAYA_Nomor_76_Pid_Sus-TPK_2024_PN_Sby_Tanggal_16_Desember_2024__Penuntut_Umum_Nur_Ngali_SH_MHTerdakwa_SUGIANTO_SE_Msi_Ak_CA.txt\n",
            "PASS: case_2024_TK1_Putusan_PN_SURABAYA_Nomor_76_Pid_Sus-TPK_2024_PN_Sby_Tanggal_16_Desember_2024__Penuntut_Umum_Nur_Ngali_SH_MHTerdakwa_SUGIANTO_SE_Msi_Ak_CA.txt (Score: 100.0%)\n",
            "[87/114] Validating: case_2024_TK1_Putusan_PN_SURABAYA_Nomor_83_Pid_Sus-TPK_2024_PN_Sby_Tanggal_18_Desember_2024__Penuntut_Umum_TARJONO_SHTerdakwa_1_SUHARTO__SE2_IRMAWATI_FAUZIAH.txt\n"
          ]
        },
        {
          "output_type": "stream",
          "name": "stderr",
          "text": [
            "INFO:text_validation:case_2024_TK1_Putusan_PN_SURABAYA_Nomor_83_Pid_Sus-TPK_2024_PN_Sby_Tanggal_18_Desember_2024__Penuntut_Umum_TARJONO_SHTerdakwa_1_SUHARTO__SE2_IRMAWATI_FAUZIAH.txt: PASS (Score: 100.0%)\n",
            "INFO:text_validation:Validating file: case_2024_TK1_Putusan_PN_SURABAYA_Nomor_25_Pid_Sus-TPK_2024_PN_Sby_Tanggal_25_Juli_2024__Penuntut_Umum_I_PUTU_KISNU_GUPTA__S_H_Terdakwa_JURIYAH__S_E.txt\n",
            "INFO:text_validation:case_2024_TK1_Putusan_PN_SURABAYA_Nomor_25_Pid_Sus-TPK_2024_PN_Sby_Tanggal_25_Juli_2024__Penuntut_Umum_I_PUTU_KISNU_GUPTA__S_H_Terdakwa_JURIYAH__S_E.txt: PASS (Score: 86.7%)\n",
            "INFO:text_validation:Validating file: case_2024_TK1_Putusan_PN_SURABAYA_Nomor_58_Pid_Sus-TPK_2024_PN_Sby_Tanggal_18_Oktober_2024__Penuntut_Umum_I_PUTU_KISNU_GUPTA__S_H_Terdakwa_DWI_FITRIANINGSARI__A_Md.txt\n",
            "INFO:text_validation:case_2024_TK1_Putusan_PN_SURABAYA_Nomor_58_Pid_Sus-TPK_2024_PN_Sby_Tanggal_18_Oktober_2024__Penuntut_Umum_I_PUTU_KISNU_GUPTA__S_H_Terdakwa_DWI_FITRIANINGSARI__A_Md.txt: PASS (Score: 100.0%)\n",
            "INFO:text_validation:Validating file: case_2024_TK1_Putusan_PN_SURABAYA_Nomor_113_Pid_Sus-TPK_2023_PN_Sby_Tanggal_5_Maret_2024__Penuntut_Umum_NUR_RACHMANSYAH__S_H___M_H_Terdakwa_SUMITRO_SITORUS__SE_.txt\n",
            "INFO:text_validation:case_2024_TK1_Putusan_PN_SURABAYA_Nomor_113_Pid_Sus-TPK_2023_PN_Sby_Tanggal_5_Maret_2024__Penuntut_Umum_NUR_RACHMANSYAH__S_H___M_H_Terdakwa_SUMITRO_SITORUS__SE_.txt: PASS (Score: 100.0%)\n",
            "INFO:text_validation:Validating file: case_2024_TK1_Putusan_PN_SURABAYA_Nomor_4_Pid_Sus-TPK_2024_PN_Sby_Tanggal_2_Mei_2024__Penuntut_Umum_AGUNG_SIH_WARASTINI___SHTerdakwa_Ratemi.txt\n",
            "INFO:text_validation:case_2024_TK1_Putusan_PN_SURABAYA_Nomor_4_Pid_Sus-TPK_2024_PN_Sby_Tanggal_2_Mei_2024__Penuntut_Umum_AGUNG_SIH_WARASTINI___SHTerdakwa_Ratemi.txt: PASS (Score: 100.0%)\n",
            "INFO:text_validation:Validating file: case_2024_TK1_Putusan_PN_SURABAYA_Nomor_34_Pid_Sus-TPK_2024_PN_Sby_Tanggal_20_September_2024__Penuntut_Umum_ARIO_WIBOWO__S_H___M_H_Terdakwa_HENY_WULANDARI__S_T_.txt\n",
            "INFO:text_validation:case_2024_TK1_Putusan_PN_SURABAYA_Nomor_34_Pid_Sus-TPK_2024_PN_Sby_Tanggal_20_September_2024__Penuntut_Umum_ARIO_WIBOWO__S_H___M_H_Terdakwa_HENY_WULANDARI__S_T_.txt: PASS (Score: 100.0%)\n",
            "INFO:text_validation:Validating file: case_2024_TK1_Putusan_PN_SURABAYA_Nomor_85_Pid_Sus-TPK_2024_PN_Sby_Tanggal_31_Desember_2024__Penuntut_Umum_Martina_Peristyanti__S_H___MBATerdakwa_MEGA_YUNAN_RAKHMANA.txt\n"
          ]
        },
        {
          "output_type": "stream",
          "name": "stdout",
          "text": [
            "PASS: case_2024_TK1_Putusan_PN_SURABAYA_Nomor_83_Pid_Sus-TPK_2024_PN_Sby_Tanggal_18_Desember_2024__Penuntut_Umum_TARJONO_SHTerdakwa_1_SUHARTO__SE2_IRMAWATI_FAUZIAH.txt (Score: 100.0%)\n",
            "[88/114] Validating: case_2024_TK1_Putusan_PN_SURABAYA_Nomor_25_Pid_Sus-TPK_2024_PN_Sby_Tanggal_25_Juli_2024__Penuntut_Umum_I_PUTU_KISNU_GUPTA__S_H_Terdakwa_JURIYAH__S_E.txt\n",
            "PASS: case_2024_TK1_Putusan_PN_SURABAYA_Nomor_25_Pid_Sus-TPK_2024_PN_Sby_Tanggal_25_Juli_2024__Penuntut_Umum_I_PUTU_KISNU_GUPTA__S_H_Terdakwa_JURIYAH__S_E.txt (Score: 86.7%)\n",
            "[89/114] Validating: case_2024_TK1_Putusan_PN_SURABAYA_Nomor_58_Pid_Sus-TPK_2024_PN_Sby_Tanggal_18_Oktober_2024__Penuntut_Umum_I_PUTU_KISNU_GUPTA__S_H_Terdakwa_DWI_FITRIANINGSARI__A_Md.txt\n",
            "PASS: case_2024_TK1_Putusan_PN_SURABAYA_Nomor_58_Pid_Sus-TPK_2024_PN_Sby_Tanggal_18_Oktober_2024__Penuntut_Umum_I_PUTU_KISNU_GUPTA__S_H_Terdakwa_DWI_FITRIANINGSARI__A_Md.txt (Score: 100.0%)\n",
            "[90/114] Validating: case_2024_TK1_Putusan_PN_SURABAYA_Nomor_113_Pid_Sus-TPK_2023_PN_Sby_Tanggal_5_Maret_2024__Penuntut_Umum_NUR_RACHMANSYAH__S_H___M_H_Terdakwa_SUMITRO_SITORUS__SE_.txt\n",
            "PASS: case_2024_TK1_Putusan_PN_SURABAYA_Nomor_113_Pid_Sus-TPK_2023_PN_Sby_Tanggal_5_Maret_2024__Penuntut_Umum_NUR_RACHMANSYAH__S_H___M_H_Terdakwa_SUMITRO_SITORUS__SE_.txt (Score: 100.0%)\n",
            "[91/114] Validating: case_2024_TK1_Putusan_PN_SURABAYA_Nomor_4_Pid_Sus-TPK_2024_PN_Sby_Tanggal_2_Mei_2024__Penuntut_Umum_AGUNG_SIH_WARASTINI___SHTerdakwa_Ratemi.txt\n",
            "PASS: case_2024_TK1_Putusan_PN_SURABAYA_Nomor_4_Pid_Sus-TPK_2024_PN_Sby_Tanggal_2_Mei_2024__Penuntut_Umum_AGUNG_SIH_WARASTINI___SHTerdakwa_Ratemi.txt (Score: 100.0%)\n",
            "[92/114] Validating: case_2024_TK1_Putusan_PN_SURABAYA_Nomor_34_Pid_Sus-TPK_2024_PN_Sby_Tanggal_20_September_2024__Penuntut_Umum_ARIO_WIBOWO__S_H___M_H_Terdakwa_HENY_WULANDARI__S_T_.txt\n",
            "PASS: case_2024_TK1_Putusan_PN_SURABAYA_Nomor_34_Pid_Sus-TPK_2024_PN_Sby_Tanggal_20_September_2024__Penuntut_Umum_ARIO_WIBOWO__S_H___M_H_Terdakwa_HENY_WULANDARI__S_T_.txt (Score: 100.0%)\n",
            "[93/114] Validating: case_2024_TK1_Putusan_PN_SURABAYA_Nomor_85_Pid_Sus-TPK_2024_PN_Sby_Tanggal_31_Desember_2024__Penuntut_Umum_Martina_Peristyanti__S_H___MBATerdakwa_MEGA_YUNAN_RAKHMANA.txt\n"
          ]
        },
        {
          "output_type": "stream",
          "name": "stderr",
          "text": [
            "INFO:text_validation:case_2024_TK1_Putusan_PN_SURABAYA_Nomor_85_Pid_Sus-TPK_2024_PN_Sby_Tanggal_31_Desember_2024__Penuntut_Umum_Martina_Peristyanti__S_H___MBATerdakwa_MEGA_YUNAN_RAKHMANA.txt: PASS (Score: 100.0%)\n",
            "INFO:text_validation:Validating file: case_2025_TK1_Putusan_PN_JAKARTA_UTARA_Nomor_451_Pdt_P_2025_PN_Jkt_Utr_Tanggal_11_Juni_2025__Pemohon_RICE_DAMAYANTI.txt\n",
            "INFO:text_validation:case_2025_TK1_Putusan_PN_JAKARTA_UTARA_Nomor_451_Pdt_P_2025_PN_Jkt_Utr_Tanggal_11_Juni_2025__Pemohon_RICE_DAMAYANTI.txt: FAIL (Score: 74.7%)\n",
            "WARNING:text_validation:case_2025_TK1_Putusan_PN_JAKARTA_UTARA_Nomor_451_Pdt_P_2025_PN_Jkt_Utr_Tanggal_11_Juni_2025__Pemohon_RICE_DAMAYANTI.txt: Below 80% threshold - may be incomplete\n",
            "INFO:text_validation:Validating file: case_2024_TK1_Putusan_PN_SURABAYA_Nomor_142_Pid_Sus-TPK_2023_PN_Sby_Tanggal_5_Maret_2024__Penuntut_Umum_NUR_RACHMANSYAH__S_H___M_H_Terdakwa_LIEM_SUSILOWATI.txt\n",
            "INFO:text_validation:case_2024_TK1_Putusan_PN_SURABAYA_Nomor_142_Pid_Sus-TPK_2023_PN_Sby_Tanggal_5_Maret_2024__Penuntut_Umum_NUR_RACHMANSYAH__S_H___M_H_Terdakwa_LIEM_SUSILOWATI.txt: PASS (Score: 86.7%)\n",
            "INFO:text_validation:Validating file: case_2024_TK1_Putusan_PN_SURABAYA_Nomor_87_Pid_Sus-TPK_2024_PN_Sby_Tanggal_6_Desember_2024__Penuntut_Umum_GIGIH_BENAH_RENDRA__SH___MHTerdakwa_RIBUT_GESTARINI_BINTI_ALM_SOEMADI.txt\n",
            "INFO:text_validation:case_2024_TK1_Putusan_PN_SURABAYA_Nomor_87_Pid_Sus-TPK_2024_PN_Sby_Tanggal_6_Desember_2024__Penuntut_Umum_GIGIH_BENAH_RENDRA__SH___MHTerdakwa_RIBUT_GESTARINI_BINTI_ALM_SOEMADI.txt: PASS (Score: 100.0%)\n",
            "INFO:text_validation:Validating file: case_2024_TK1_Putusan_PN_SURABAYA_Nomor_24_Pid_Sus-TPK_2024_PN_Sby_Tanggal_25_Juli_2024__Penuntut_Umum_I_PUTU_KISNU_GUPTA__S_H_Terdakwa_SLAMET_SETIAWAN__S_H___M_M_.txt\n",
            "INFO:text_validation:case_2024_TK1_Putusan_PN_SURABAYA_Nomor_24_Pid_Sus-TPK_2024_PN_Sby_Tanggal_25_Juli_2024__Penuntut_Umum_I_PUTU_KISNU_GUPTA__S_H_Terdakwa_SLAMET_SETIAWAN__S_H___M_M_.txt: PASS (Score: 86.7%)\n",
            "INFO:text_validation:Validating file: case_2024_TK1_Putusan_PN_SURABAYA_Nomor_138_Pid_Sus-TPK_2023_PN_Sby_Tanggal_17_April_2024__Penuntut_Umum_PUTU_EKA_WISNIATI__S_H_Terdakwa_HENRY_KUSNOHARDJO.txt\n",
            "INFO:text_validation:case_2024_TK1_Putusan_PN_SURABAYA_Nomor_138_Pid_Sus-TPK_2023_PN_Sby_Tanggal_17_April_2024__Penuntut_Umum_PUTU_EKA_WISNIATI__S_H_Terdakwa_HENRY_KUSNOHARDJO.txt: PASS (Score: 100.0%)\n",
            "INFO:text_validation:Validating file: case_2024_TK1_Putusan_PN_SURABAYA_Nomor_93_Pid_Sus-TPK_2023_PN_Sby_Tanggal_16_Januari_2024__Penuntut_Umum_GARUDA_CAKTI_VIRA_TAMA__SH_Terdakwa_MOH__TAUFIQUR_ROHMAN.txt\n"
          ]
        },
        {
          "output_type": "stream",
          "name": "stdout",
          "text": [
            "PASS: case_2024_TK1_Putusan_PN_SURABAYA_Nomor_85_Pid_Sus-TPK_2024_PN_Sby_Tanggal_31_Desember_2024__Penuntut_Umum_Martina_Peristyanti__S_H___MBATerdakwa_MEGA_YUNAN_RAKHMANA.txt (Score: 100.0%)\n",
            "[94/114] Validating: case_2025_TK1_Putusan_PN_JAKARTA_UTARA_Nomor_451_Pdt_P_2025_PN_Jkt_Utr_Tanggal_11_Juni_2025__Pemohon_RICE_DAMAYANTI.txt\n",
            "FAIL: case_2025_TK1_Putusan_PN_JAKARTA_UTARA_Nomor_451_Pdt_P_2025_PN_Jkt_Utr_Tanggal_11_Juni_2025__Pemohon_RICE_DAMAYANTI.txt (Score: 74.7%)\n",
            "[95/114] Validating: case_2024_TK1_Putusan_PN_SURABAYA_Nomor_142_Pid_Sus-TPK_2023_PN_Sby_Tanggal_5_Maret_2024__Penuntut_Umum_NUR_RACHMANSYAH__S_H___M_H_Terdakwa_LIEM_SUSILOWATI.txt\n",
            "PASS: case_2024_TK1_Putusan_PN_SURABAYA_Nomor_142_Pid_Sus-TPK_2023_PN_Sby_Tanggal_5_Maret_2024__Penuntut_Umum_NUR_RACHMANSYAH__S_H___M_H_Terdakwa_LIEM_SUSILOWATI.txt (Score: 86.7%)\n",
            "[96/114] Validating: case_2024_TK1_Putusan_PN_SURABAYA_Nomor_87_Pid_Sus-TPK_2024_PN_Sby_Tanggal_6_Desember_2024__Penuntut_Umum_GIGIH_BENAH_RENDRA__SH___MHTerdakwa_RIBUT_GESTARINI_BINTI_ALM_SOEMADI.txt\n",
            "PASS: case_2024_TK1_Putusan_PN_SURABAYA_Nomor_87_Pid_Sus-TPK_2024_PN_Sby_Tanggal_6_Desember_2024__Penuntut_Umum_GIGIH_BENAH_RENDRA__SH___MHTerdakwa_RIBUT_GESTARINI_BINTI_ALM_SOEMADI.txt (Score: 100.0%)\n",
            "[97/114] Validating: case_2024_TK1_Putusan_PN_SURABAYA_Nomor_24_Pid_Sus-TPK_2024_PN_Sby_Tanggal_25_Juli_2024__Penuntut_Umum_I_PUTU_KISNU_GUPTA__S_H_Terdakwa_SLAMET_SETIAWAN__S_H___M_M_.txt\n",
            "PASS: case_2024_TK1_Putusan_PN_SURABAYA_Nomor_24_Pid_Sus-TPK_2024_PN_Sby_Tanggal_25_Juli_2024__Penuntut_Umum_I_PUTU_KISNU_GUPTA__S_H_Terdakwa_SLAMET_SETIAWAN__S_H___M_M_.txt (Score: 86.7%)\n",
            "[98/114] Validating: case_2024_TK1_Putusan_PN_SURABAYA_Nomor_138_Pid_Sus-TPK_2023_PN_Sby_Tanggal_17_April_2024__Penuntut_Umum_PUTU_EKA_WISNIATI__S_H_Terdakwa_HENRY_KUSNOHARDJO.txt\n",
            "PASS: case_2024_TK1_Putusan_PN_SURABAYA_Nomor_138_Pid_Sus-TPK_2023_PN_Sby_Tanggal_17_April_2024__Penuntut_Umum_PUTU_EKA_WISNIATI__S_H_Terdakwa_HENRY_KUSNOHARDJO.txt (Score: 100.0%)\n",
            "[99/114] Validating: case_2024_TK1_Putusan_PN_SURABAYA_Nomor_93_Pid_Sus-TPK_2023_PN_Sby_Tanggal_16_Januari_2024__Penuntut_Umum_GARUDA_CAKTI_VIRA_TAMA__SH_Terdakwa_MOH__TAUFIQUR_ROHMAN.txt\n"
          ]
        },
        {
          "output_type": "stream",
          "name": "stderr",
          "text": [
            "INFO:text_validation:case_2024_TK1_Putusan_PN_SURABAYA_Nomor_93_Pid_Sus-TPK_2023_PN_Sby_Tanggal_16_Januari_2024__Penuntut_Umum_GARUDA_CAKTI_VIRA_TAMA__SH_Terdakwa_MOH__TAUFIQUR_ROHMAN.txt: PASS (Score: 100.0%)\n",
            "INFO:text_validation:Validating file: case_2024_TK1_Putusan_PN_SURABAYA_Nomor_62_Pid_Sus-TPK_2024_PN_Sby_Tanggal_9_Oktober_2024__Penuntut_Umum_ARIF_USMAN__SH__MHTerdakwa_ARI_SURYONO.txt\n",
            "INFO:text_validation:case_2024_TK1_Putusan_PN_SURABAYA_Nomor_62_Pid_Sus-TPK_2024_PN_Sby_Tanggal_9_Oktober_2024__Penuntut_Umum_ARIF_USMAN__SH__MHTerdakwa_ARI_SURYONO.txt: PASS (Score: 100.0%)\n",
            "INFO:text_validation:Validating file: case_2024_TK1_Putusan_PN_SURABAYA_Nomor_105_Pid_Sus-TPK_2023_PN_Sby_Tanggal_2_Februari_2024__Penuntut_Umum_DIMAS_RANGGA_AHIMSA__S_H_Terdakwa_AKHMAD_MAKRUS.txt\n",
            "INFO:text_validation:case_2024_TK1_Putusan_PN_SURABAYA_Nomor_105_Pid_Sus-TPK_2023_PN_Sby_Tanggal_2_Februari_2024__Penuntut_Umum_DIMAS_RANGGA_AHIMSA__S_H_Terdakwa_AKHMAD_MAKRUS.txt: PASS (Score: 100.0%)\n",
            "INFO:text_validation:Validating file: case_2024_TK1_Putusan_PN_SURABAYA_Nomor_134_Pid_Sus-TPK_2023_PN_Sby_Tanggal_27_Februari_2024__Penuntut_Umum_AGUS_KURNIAWAN__SH___MHTerdakwa_CATUR_SETYA_YUANA__SE.txt\n",
            "INFO:text_validation:case_2024_TK1_Putusan_PN_SURABAYA_Nomor_134_Pid_Sus-TPK_2023_PN_Sby_Tanggal_27_Februari_2024__Penuntut_Umum_AGUS_KURNIAWAN__SH___MHTerdakwa_CATUR_SETYA_YUANA__SE.txt: PASS (Score: 100.0%)\n",
            "INFO:text_validation:Validating file: case_2024_TK1_Putusan_PN_SURABAYA_Nomor_80_Pid_Sus-TPK_2024_PN_Sby_Tanggal_9_Desember_2024__Penuntut_Umum_ANTON_WAHYUDI__S_H___MHTerdakwa_RUDI_YUSWANTO.txt\n",
            "INFO:text_validation:case_2024_TK1_Putusan_PN_SURABAYA_Nomor_80_Pid_Sus-TPK_2024_PN_Sby_Tanggal_9_Desember_2024__Penuntut_Umum_ANTON_WAHYUDI__S_H___MHTerdakwa_RUDI_YUSWANTO.txt: PASS (Score: 100.0%)\n",
            "INFO:text_validation:Validating file: case_2024_TK1_Putusan_PN_SURABAYA_Nomor_56_Pid_Sus-TPK_2024_PN_Sby_Tanggal_18_Oktober_2024__Penuntut_Umum_YAN_ASWARI__S_H___M_HTerdakwa_BAMBANG_PARIKENAN.txt\n",
            "INFO:text_validation:case_2024_TK1_Putusan_PN_SURABAYA_Nomor_56_Pid_Sus-TPK_2024_PN_Sby_Tanggal_18_Oktober_2024__Penuntut_Umum_YAN_ASWARI__S_H___M_HTerdakwa_BAMBANG_PARIKENAN.txt: PASS (Score: 100.0%)\n",
            "INFO:text_validation:Validating file: case_2024_TK1_Putusan_PN_SURABAYA_Nomor_137_Pid_Sus-TPK_2023_PN_Sby_Tanggal_17_April_2024__Penuntut_Umum_PUTU_EKA_WISNIATI__S_H_Terdakwa_BRAM_KUSNOHARDJO.txt\n"
          ]
        },
        {
          "output_type": "stream",
          "name": "stdout",
          "text": [
            "PASS: case_2024_TK1_Putusan_PN_SURABAYA_Nomor_93_Pid_Sus-TPK_2023_PN_Sby_Tanggal_16_Januari_2024__Penuntut_Umum_GARUDA_CAKTI_VIRA_TAMA__SH_Terdakwa_MOH__TAUFIQUR_ROHMAN.txt (Score: 100.0%)\n",
            "[100/114] Validating: case_2024_TK1_Putusan_PN_SURABAYA_Nomor_62_Pid_Sus-TPK_2024_PN_Sby_Tanggal_9_Oktober_2024__Penuntut_Umum_ARIF_USMAN__SH__MHTerdakwa_ARI_SURYONO.txt\n",
            "PASS: case_2024_TK1_Putusan_PN_SURABAYA_Nomor_62_Pid_Sus-TPK_2024_PN_Sby_Tanggal_9_Oktober_2024__Penuntut_Umum_ARIF_USMAN__SH__MHTerdakwa_ARI_SURYONO.txt (Score: 100.0%)\n",
            "[101/114] Validating: case_2024_TK1_Putusan_PN_SURABAYA_Nomor_105_Pid_Sus-TPK_2023_PN_Sby_Tanggal_2_Februari_2024__Penuntut_Umum_DIMAS_RANGGA_AHIMSA__S_H_Terdakwa_AKHMAD_MAKRUS.txt\n",
            "PASS: case_2024_TK1_Putusan_PN_SURABAYA_Nomor_105_Pid_Sus-TPK_2023_PN_Sby_Tanggal_2_Februari_2024__Penuntut_Umum_DIMAS_RANGGA_AHIMSA__S_H_Terdakwa_AKHMAD_MAKRUS.txt (Score: 100.0%)\n",
            "[102/114] Validating: case_2024_TK1_Putusan_PN_SURABAYA_Nomor_134_Pid_Sus-TPK_2023_PN_Sby_Tanggal_27_Februari_2024__Penuntut_Umum_AGUS_KURNIAWAN__SH___MHTerdakwa_CATUR_SETYA_YUANA__SE.txt\n",
            "PASS: case_2024_TK1_Putusan_PN_SURABAYA_Nomor_134_Pid_Sus-TPK_2023_PN_Sby_Tanggal_27_Februari_2024__Penuntut_Umum_AGUS_KURNIAWAN__SH___MHTerdakwa_CATUR_SETYA_YUANA__SE.txt (Score: 100.0%)\n",
            "[103/114] Validating: case_2024_TK1_Putusan_PN_SURABAYA_Nomor_80_Pid_Sus-TPK_2024_PN_Sby_Tanggal_9_Desember_2024__Penuntut_Umum_ANTON_WAHYUDI__S_H___MHTerdakwa_RUDI_YUSWANTO.txt\n",
            "PASS: case_2024_TK1_Putusan_PN_SURABAYA_Nomor_80_Pid_Sus-TPK_2024_PN_Sby_Tanggal_9_Desember_2024__Penuntut_Umum_ANTON_WAHYUDI__S_H___MHTerdakwa_RUDI_YUSWANTO.txt (Score: 100.0%)\n",
            "[104/114] Validating: case_2024_TK1_Putusan_PN_SURABAYA_Nomor_56_Pid_Sus-TPK_2024_PN_Sby_Tanggal_18_Oktober_2024__Penuntut_Umum_YAN_ASWARI__S_H___M_HTerdakwa_BAMBANG_PARIKENAN.txt\n",
            "PASS: case_2024_TK1_Putusan_PN_SURABAYA_Nomor_56_Pid_Sus-TPK_2024_PN_Sby_Tanggal_18_Oktober_2024__Penuntut_Umum_YAN_ASWARI__S_H___M_HTerdakwa_BAMBANG_PARIKENAN.txt (Score: 100.0%)\n",
            "[105/114] Validating: case_2024_TK1_Putusan_PN_SURABAYA_Nomor_137_Pid_Sus-TPK_2023_PN_Sby_Tanggal_17_April_2024__Penuntut_Umum_PUTU_EKA_WISNIATI__S_H_Terdakwa_BRAM_KUSNOHARDJO.txt\n"
          ]
        },
        {
          "output_type": "stream",
          "name": "stderr",
          "text": [
            "INFO:text_validation:case_2024_TK1_Putusan_PN_SURABAYA_Nomor_137_Pid_Sus-TPK_2023_PN_Sby_Tanggal_17_April_2024__Penuntut_Umum_PUTU_EKA_WISNIATI__S_H_Terdakwa_BRAM_KUSNOHARDJO.txt: PASS (Score: 100.0%)\n",
            "INFO:text_validation:Validating file: case_2024_TK1_Putusan_PN_SURABAYA_Nomor_149_Pid_Sus-TPK_2023_PN_Sby_Tanggal_16_April_2024__Penuntut_Umum_ANTON_WAHYUDI__S_H___MHTerdakwa_YAYUK_SUSILOWATI.txt\n",
            "INFO:text_validation:case_2024_TK1_Putusan_PN_SURABAYA_Nomor_149_Pid_Sus-TPK_2023_PN_Sby_Tanggal_16_April_2024__Penuntut_Umum_ANTON_WAHYUDI__S_H___MHTerdakwa_YAYUK_SUSILOWATI.txt: PASS (Score: 86.7%)\n",
            "INFO:text_validation:Validating file: case_2024_TK1_Putusan_PN_SURABAYA_Nomor_94_Pid_Sus-TPK_2024_PN_Sby_Tanggal_14_Nopember_2024__Penuntut_Umum_ANDHIKA_NUGRAHA_TRIPUTRA__SE__SH__MHTerdakwa_SUDIYANTO_bin_BROTO_alm.txt\n",
            "INFO:text_validation:case_2024_TK1_Putusan_PN_SURABAYA_Nomor_94_Pid_Sus-TPK_2024_PN_Sby_Tanggal_14_Nopember_2024__Penuntut_Umum_ANDHIKA_NUGRAHA_TRIPUTRA__SE__SH__MHTerdakwa_SUDIYANTO_bin_BROTO_alm.txt: PASS (Score: 100.0%)\n",
            "INFO:text_validation:Validating file: case_2024_TK1_Putusan_PN_SURABAYA_Nomor_5_Pid_Sus-TPK_2024_PN_Sby_Tanggal_2_Mei_2024__Penuntut_Umum_ALIFIN_NURAHMANA_WANDA__S_HTerdakwa_HARTO_NOERCAHYO__S_E_.txt\n",
            "INFO:text_validation:case_2024_TK1_Putusan_PN_SURABAYA_Nomor_5_Pid_Sus-TPK_2024_PN_Sby_Tanggal_2_Mei_2024__Penuntut_Umum_ALIFIN_NURAHMANA_WANDA__S_HTerdakwa_HARTO_NOERCAHYO__S_E_.txt: PASS (Score: 100.0%)\n",
            "INFO:text_validation:Validating file: case_2024_TK1_Putusan_PN_SURABAYA_Nomor_70_Pid_Sus-TPK_2024_PN_Sby_Tanggal_10_Desember_2024__Penuntut_Umum_I_PUTU_KISNU_GUPTA__S_H_Terdakwa_MUHAMMAD_ANAS__S_T.txt\n",
            "INFO:text_validation:case_2024_TK1_Putusan_PN_SURABAYA_Nomor_70_Pid_Sus-TPK_2024_PN_Sby_Tanggal_10_Desember_2024__Penuntut_Umum_I_PUTU_KISNU_GUPTA__S_H_Terdakwa_MUHAMMAD_ANAS__S_T.txt: PASS (Score: 100.0%)\n",
            "INFO:text_validation:Validating file: case_2024_TK1_Putusan_PN_SURABAYA_Nomor_27_Pid_Sus-TPK_2024_PN_Sby_Tanggal_6_Agustus_2024__Penuntut_Umum_Silfana_Chairini__S_H___M_HTerdakwa_Angga_Dwi_Prastya.txt\n",
            "INFO:text_validation:case_2024_TK1_Putusan_PN_SURABAYA_Nomor_27_Pid_Sus-TPK_2024_PN_Sby_Tanggal_6_Agustus_2024__Penuntut_Umum_Silfana_Chairini__S_H___M_HTerdakwa_Angga_Dwi_Prastya.txt: PASS (Score: 94.0%)\n",
            "INFO:text_validation:Validating file: case_2024_TK1_Putusan_PN_SURABAYA_Nomor_84_Pid_Sus-TPK_2024_PN_Sby_Tanggal_18_Desember_2024__Penuntut_Umum_TARJONO_SHTerdakwa_1_M__HERI_PURNIAWAN2_IRMAWATI_FAUZIAH.txt\n",
            "INFO:text_validation:case_2024_TK1_Putusan_PN_SURABAYA_Nomor_84_Pid_Sus-TPK_2024_PN_Sby_Tanggal_18_Desember_2024__Penuntut_Umum_TARJONO_SHTerdakwa_1_M__HERI_PURNIAWAN2_IRMAWATI_FAUZIAH.txt: PASS (Score: 100.0%)\n",
            "INFO:text_validation:Validating file: case_2024_TK1_Putusan_PN_SURABAYA_Nomor_135_Pid_Sus-TPK_2023_PN_Sby_Tanggal_8_Maret_2024__Penuntut_Umum_AGUS_KURNIAWAN__SH___MHTerdakwa_BAMBANG_RISDIANTO.txt\n"
          ]
        },
        {
          "output_type": "stream",
          "name": "stdout",
          "text": [
            "PASS: case_2024_TK1_Putusan_PN_SURABAYA_Nomor_137_Pid_Sus-TPK_2023_PN_Sby_Tanggal_17_April_2024__Penuntut_Umum_PUTU_EKA_WISNIATI__S_H_Terdakwa_BRAM_KUSNOHARDJO.txt (Score: 100.0%)\n",
            "[106/114] Validating: case_2024_TK1_Putusan_PN_SURABAYA_Nomor_149_Pid_Sus-TPK_2023_PN_Sby_Tanggal_16_April_2024__Penuntut_Umum_ANTON_WAHYUDI__S_H___MHTerdakwa_YAYUK_SUSILOWATI.txt\n",
            "PASS: case_2024_TK1_Putusan_PN_SURABAYA_Nomor_149_Pid_Sus-TPK_2023_PN_Sby_Tanggal_16_April_2024__Penuntut_Umum_ANTON_WAHYUDI__S_H___MHTerdakwa_YAYUK_SUSILOWATI.txt (Score: 86.7%)\n",
            "[107/114] Validating: case_2024_TK1_Putusan_PN_SURABAYA_Nomor_94_Pid_Sus-TPK_2024_PN_Sby_Tanggal_14_Nopember_2024__Penuntut_Umum_ANDHIKA_NUGRAHA_TRIPUTRA__SE__SH__MHTerdakwa_SUDIYANTO_bin_BROTO_alm.txt\n",
            "PASS: case_2024_TK1_Putusan_PN_SURABAYA_Nomor_94_Pid_Sus-TPK_2024_PN_Sby_Tanggal_14_Nopember_2024__Penuntut_Umum_ANDHIKA_NUGRAHA_TRIPUTRA__SE__SH__MHTerdakwa_SUDIYANTO_bin_BROTO_alm.txt (Score: 100.0%)\n",
            "[108/114] Validating: case_2024_TK1_Putusan_PN_SURABAYA_Nomor_5_Pid_Sus-TPK_2024_PN_Sby_Tanggal_2_Mei_2024__Penuntut_Umum_ALIFIN_NURAHMANA_WANDA__S_HTerdakwa_HARTO_NOERCAHYO__S_E_.txt\n",
            "PASS: case_2024_TK1_Putusan_PN_SURABAYA_Nomor_5_Pid_Sus-TPK_2024_PN_Sby_Tanggal_2_Mei_2024__Penuntut_Umum_ALIFIN_NURAHMANA_WANDA__S_HTerdakwa_HARTO_NOERCAHYO__S_E_.txt (Score: 100.0%)\n",
            "[109/114] Validating: case_2024_TK1_Putusan_PN_SURABAYA_Nomor_70_Pid_Sus-TPK_2024_PN_Sby_Tanggal_10_Desember_2024__Penuntut_Umum_I_PUTU_KISNU_GUPTA__S_H_Terdakwa_MUHAMMAD_ANAS__S_T.txt\n",
            "PASS: case_2024_TK1_Putusan_PN_SURABAYA_Nomor_70_Pid_Sus-TPK_2024_PN_Sby_Tanggal_10_Desember_2024__Penuntut_Umum_I_PUTU_KISNU_GUPTA__S_H_Terdakwa_MUHAMMAD_ANAS__S_T.txt (Score: 100.0%)\n",
            "[110/114] Validating: case_2024_TK1_Putusan_PN_SURABAYA_Nomor_27_Pid_Sus-TPK_2024_PN_Sby_Tanggal_6_Agustus_2024__Penuntut_Umum_Silfana_Chairini__S_H___M_HTerdakwa_Angga_Dwi_Prastya.txt\n",
            "PASS: case_2024_TK1_Putusan_PN_SURABAYA_Nomor_27_Pid_Sus-TPK_2024_PN_Sby_Tanggal_6_Agustus_2024__Penuntut_Umum_Silfana_Chairini__S_H___M_HTerdakwa_Angga_Dwi_Prastya.txt (Score: 94.0%)\n",
            "[111/114] Validating: case_2024_TK1_Putusan_PN_SURABAYA_Nomor_84_Pid_Sus-TPK_2024_PN_Sby_Tanggal_18_Desember_2024__Penuntut_Umum_TARJONO_SHTerdakwa_1_M__HERI_PURNIAWAN2_IRMAWATI_FAUZIAH.txt\n",
            "PASS: case_2024_TK1_Putusan_PN_SURABAYA_Nomor_84_Pid_Sus-TPK_2024_PN_Sby_Tanggal_18_Desember_2024__Penuntut_Umum_TARJONO_SHTerdakwa_1_M__HERI_PURNIAWAN2_IRMAWATI_FAUZIAH.txt (Score: 100.0%)\n",
            "[112/114] Validating: case_2024_TK1_Putusan_PN_SURABAYA_Nomor_135_Pid_Sus-TPK_2023_PN_Sby_Tanggal_8_Maret_2024__Penuntut_Umum_AGUS_KURNIAWAN__SH___MHTerdakwa_BAMBANG_RISDIANTO.txt\n"
          ]
        },
        {
          "output_type": "stream",
          "name": "stderr",
          "text": [
            "INFO:text_validation:case_2024_TK1_Putusan_PN_SURABAYA_Nomor_135_Pid_Sus-TPK_2023_PN_Sby_Tanggal_8_Maret_2024__Penuntut_Umum_AGUS_KURNIAWAN__SH___MHTerdakwa_BAMBANG_RISDIANTO.txt: PASS (Score: 100.0%)\n",
            "INFO:text_validation:Validating file: case_2024_TK1_Putusan_PN_SURABAYA_Nomor_63_Pid_Sus-TPK_2024_PN_Sby_Tanggal_1_Oktober_2024__Penuntut_Umum_ANDHIKA_NUGRAHA_TRIPUTRA__SE__SH__MHTerdakwa_TRAWI.txt\n",
            "INFO:text_validation:case_2024_TK1_Putusan_PN_SURABAYA_Nomor_63_Pid_Sus-TPK_2024_PN_Sby_Tanggal_1_Oktober_2024__Penuntut_Umum_ANDHIKA_NUGRAHA_TRIPUTRA__SE__SH__MHTerdakwa_TRAWI.txt: PASS (Score: 86.7%)\n",
            "INFO:text_validation:Validating file: case_2024_TK1_Putusan_PN_SURABAYA_Nomor_73_Pid_Sus-TPK_2024_PN_Sby_Tanggal_16_Desember_2024__Penuntut_Umum_ADITIA_SULAEMAN__S_HTerdakwa_SUPRIYANTO_Bin_YUSUF_Als__PRI.txt\n",
            "INFO:text_validation:case_2024_TK1_Putusan_PN_SURABAYA_Nomor_73_Pid_Sus-TPK_2024_PN_Sby_Tanggal_16_Desember_2024__Penuntut_Umum_ADITIA_SULAEMAN__S_HTerdakwa_SUPRIYANTO_Bin_YUSUF_Als__PRI.txt: PASS (Score: 100.0%)\n",
            "INFO:text_validation:Validation complete: 111/114 files passed (97.4%)\n",
            "INFO:text_validation:Average completeness score: 97.8%\n",
            "WARNING:text_validation:3 files failed validation (below 80% threshold)\n"
          ]
        },
        {
          "output_type": "stream",
          "name": "stdout",
          "text": [
            "PASS: case_2024_TK1_Putusan_PN_SURABAYA_Nomor_135_Pid_Sus-TPK_2023_PN_Sby_Tanggal_8_Maret_2024__Penuntut_Umum_AGUS_KURNIAWAN__SH___MHTerdakwa_BAMBANG_RISDIANTO.txt (Score: 100.0%)\n",
            "[113/114] Validating: case_2024_TK1_Putusan_PN_SURABAYA_Nomor_63_Pid_Sus-TPK_2024_PN_Sby_Tanggal_1_Oktober_2024__Penuntut_Umum_ANDHIKA_NUGRAHA_TRIPUTRA__SE__SH__MHTerdakwa_TRAWI.txt\n",
            "PASS: case_2024_TK1_Putusan_PN_SURABAYA_Nomor_63_Pid_Sus-TPK_2024_PN_Sby_Tanggal_1_Oktober_2024__Penuntut_Umum_ANDHIKA_NUGRAHA_TRIPUTRA__SE__SH__MHTerdakwa_TRAWI.txt (Score: 86.7%)\n",
            "[114/114] Validating: case_2024_TK1_Putusan_PN_SURABAYA_Nomor_73_Pid_Sus-TPK_2024_PN_Sby_Tanggal_16_Desember_2024__Penuntut_Umum_ADITIA_SULAEMAN__S_HTerdakwa_SUPRIYANTO_Bin_YUSUF_Als__PRI.txt\n",
            "PASS: case_2024_TK1_Putusan_PN_SURABAYA_Nomor_73_Pid_Sus-TPK_2024_PN_Sby_Tanggal_16_Desember_2024__Penuntut_Umum_ADITIA_SULAEMAN__S_HTerdakwa_SUPRIYANTO_Bin_YUSUF_Als__PRI.txt (Score: 100.0%)\n",
            "\n",
            "============================================================\n",
            "VALIDATION SUMMARY:\n",
            "============================================================\n",
            "Total files: 114\n",
            "Passed (≥80%): 111\n",
            "Failed (<80%): 3\n",
            "Pass rate: 97.4%\n",
            "Average score: 97.8%\n",
            "Score range: 74.7% - 100.0%\n",
            "\n",
            "FAILED FILES (3):\n",
            "----------------------------------------\n",
            "  case_2025_TK1_Putusan_PN_JAKARTA_UTARA_Nomor_462_Pdt_P_2025_PN_Jkt_Utr_Tanggal_11_Juni_2025__Pemohon_AMINAH.txt: 74.7%\n",
            "    Issues: 1 missing essential sections\n",
            "  case_2025_TK1_Putusan_PN_JAKARTA_UTARA_Nomor_440_Pdt_P_2025_PN_Jkt_Utr_Tanggal_11_Juni_2025__Pemohon_MAYMUNAH.txt: 74.7%\n",
            "    Issues: 1 missing essential sections\n",
            "  case_2025_TK1_Putusan_PN_JAKARTA_UTARA_Nomor_451_Pdt_P_2025_PN_Jkt_Utr_Tanggal_11_Juni_2025__Pemohon_RICE_DAMAYANTI.txt: 74.7%\n",
            "    Issues: 1 missing essential sections\n",
            "\n",
            "REPORTS GENERATED:\n",
            "  Detailed CSV: /content/drive/MyDrive/korupsi/VALIDATION/validation_report.csv\n",
            "  Summary TXT (validation): /content/drive/MyDrive/korupsi/VALIDATION/validation_summary.txt\n",
            "  Summary TXT (gdrive): /content/drive/MyDrive/korupsi/logs/validation_summary.txt\n",
            "  Validation log (local): /logs/validation.log\n",
            "  Validation log (gdrive): /content/drive/MyDrive/korupsi/logs/validation.log\n",
            "\n",
            "VALIDATION PROCESS COMPLETE!\n",
            "Check validation reports in: /content/drive/MyDrive/korupsi/VALIDATION\n",
            "Check validation logs: /logs/validation.log\n",
            "Check validation logs: /content/drive/MyDrive/korupsi/logs/validation.log\n"
          ]
        }
      ]
    }
  ]
}
